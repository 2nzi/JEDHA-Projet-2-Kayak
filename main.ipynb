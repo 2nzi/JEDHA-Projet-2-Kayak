{
 "cells": [
  {
   "cell_type": "code",
   "execution_count": 3,
   "metadata": {},
   "outputs": [
    {
     "ename": "ModuleNotFoundError",
     "evalue": "No module named 'Path'",
     "output_type": "error",
     "traceback": [
      "\u001b[1;31m---------------------------------------------------------------------------\u001b[0m",
      "\u001b[1;31mModuleNotFoundError\u001b[0m                       Traceback (most recent call last)",
      "Cell \u001b[1;32mIn[3], line 5\u001b[0m\n\u001b[0;32m      3\u001b[0m \u001b[38;5;28;01mimport\u001b[39;00m \u001b[38;5;21;01mos\u001b[39;00m\n\u001b[0;32m      4\u001b[0m \u001b[38;5;28;01mfrom\u001b[39;00m \u001b[38;5;21;01mconfig\u001b[39;00m \u001b[38;5;28;01mimport\u001b[39;00m project_path\n\u001b[1;32m----> 5\u001b[0m \u001b[38;5;28;01mimport\u001b[39;00m \u001b[38;5;21;01mPath\u001b[39;00m\n",
      "\u001b[1;31mModuleNotFoundError\u001b[0m: No module named 'Path'"
     ]
    }
   ],
   "source": [
    "import pandas as pd\n",
    "import plotly.express as px\n",
    "import os\n",
    "from config import *\n",
    "import from pathlib import Path\n"
   ]
  },
  {
   "cell_type": "code",
   "execution_count": 2,
   "metadata": {},
   "outputs": [
    {
     "ename": "NameError",
     "evalue": "name 'Path' is not defined",
     "output_type": "error",
     "traceback": [
      "\u001b[1;31m---------------------------------------------------------------------------\u001b[0m",
      "\u001b[1;31mNameError\u001b[0m                                 Traceback (most recent call last)",
      "Cell \u001b[1;32mIn[2], line 1\u001b[0m\n\u001b[1;32m----> 1\u001b[0m local_project_path \u001b[38;5;241m=\u001b[39m project_path(\u001b[43mPath\u001b[49m(\u001b[38;5;124m'\u001b[39m\u001b[38;5;124mconfig.yaml\u001b[39m\u001b[38;5;124m'\u001b[39m))\n\u001b[0;32m      2\u001b[0m path \u001b[38;5;241m=\u001b[39m local_project_path\u001b[38;5;241m+\u001b[39m\u001b[38;5;124m'\u001b[39m\u001b[38;5;124mcities_weather_datas.csv\u001b[39m\u001b[38;5;124m'\u001b[39m\n\u001b[0;32m      4\u001b[0m target_cities_datas \u001b[38;5;241m=\u001b[39m pd\u001b[38;5;241m.\u001b[39mread_csv(path)\n",
      "\u001b[1;31mNameError\u001b[0m: name 'Path' is not defined"
     ]
    }
   ],
   "source": [
    "local_project_path = project_path(Path('config.yaml'))\n",
    "path = local_project_path+'cities_weather_datas.csv'\n",
    "\n",
    "target_cities_datas = pd.read_csv(path)\n",
    "# target_cities_datas"
   ]
  },
  {
   "cell_type": "code",
   "execution_count": 25,
   "metadata": {},
   "outputs": [
    {
     "ename": "FileNotFoundError",
     "evalue": "[Errno 2] No such file or directory: 'config.yaml'",
     "output_type": "error",
     "traceback": [
      "\u001b[1;31m---------------------------------------------------------------------------\u001b[0m",
      "\u001b[1;31mFileNotFoundError\u001b[0m                         Traceback (most recent call last)",
      "Cell \u001b[1;32mIn[25], line 1\u001b[0m\n\u001b[1;32m----> 1\u001b[0m path \u001b[38;5;241m=\u001b[39m \u001b[43msave_data_path\u001b[49m\u001b[43m(\u001b[49m\u001b[43mPath\u001b[49m\u001b[43m(\u001b[49m\u001b[38;5;124;43m'\u001b[39;49m\u001b[38;5;124;43mconfig.yaml\u001b[39;49m\u001b[38;5;124;43m'\u001b[39;49m\u001b[43m)\u001b[49m\u001b[43m)\u001b[49m\n\u001b[0;32m      3\u001b[0m df \u001b[38;5;241m=\u001b[39m pd\u001b[38;5;241m.\u001b[39mread_json(\u001b[38;5;124m'\u001b[39m\u001b[38;5;124mhotel.json\u001b[39m\u001b[38;5;124m'\u001b[39m)\n\u001b[0;32m      4\u001b[0m \u001b[38;5;66;03m# display(df['city'].drop_duplicates())\u001b[39;00m\n",
      "File \u001b[1;32mc:\\Users\\antoi\\Documents\\Work&Learn\\JEDHA\\M03-DataCollection_Managment\\JEDHA-Projet-2-Kayak\\config.py:31\u001b[0m, in \u001b[0;36msave_data_path\u001b[1;34m(path)\u001b[0m\n\u001b[0;32m     20\u001b[0m \u001b[38;5;28;01mdef\u001b[39;00m \u001b[38;5;21msave_data_path\u001b[39m(path: Path) \u001b[38;5;241m-\u001b[39m\u001b[38;5;241m>\u001b[39m \u001b[38;5;28mstr\u001b[39m:\n\u001b[0;32m     21\u001b[0m \u001b[38;5;250m    \u001b[39m\u001b[38;5;124;03m\"\"\"\u001b[39;00m\n\u001b[0;32m     22\u001b[0m \u001b[38;5;124;03m    Load a YAML file from the given path and return the default save path.\u001b[39;00m\n\u001b[0;32m     23\u001b[0m \n\u001b[1;32m   (...)\u001b[0m\n\u001b[0;32m     28\u001b[0m \u001b[38;5;124;03m        str: The default save path.\u001b[39;00m\n\u001b[0;32m     29\u001b[0m \u001b[38;5;124;03m    \"\"\"\u001b[39;00m\n\u001b[1;32m---> 31\u001b[0m     \u001b[38;5;28;01mwith\u001b[39;00m \u001b[43mpath\u001b[49m\u001b[38;5;241;43m.\u001b[39;49m\u001b[43mopen\u001b[49m\u001b[43m(\u001b[49m\u001b[38;5;124;43m\"\u001b[39;49m\u001b[38;5;124;43mr\u001b[39;49m\u001b[38;5;124;43m\"\u001b[39;49m\u001b[43m)\u001b[49m \u001b[38;5;28;01mas\u001b[39;00m f:\n\u001b[0;32m     32\u001b[0m         config \u001b[38;5;241m=\u001b[39m yaml\u001b[38;5;241m.\u001b[39msafe_load(f)\n\u001b[0;32m     34\u001b[0m     \u001b[38;5;28;01mreturn\u001b[39;00m config[\u001b[38;5;124m'\u001b[39m\u001b[38;5;124mpath\u001b[39m\u001b[38;5;124m'\u001b[39m][\u001b[38;5;124m'\u001b[39m\u001b[38;5;124msave_data_path\u001b[39m\u001b[38;5;124m'\u001b[39m]\n",
      "File \u001b[1;32mc:\\Users\\antoi\\AppData\\Local\\Programs\\Python\\Python38\\lib\\pathlib.py:1222\u001b[0m, in \u001b[0;36mPath.open\u001b[1;34m(self, mode, buffering, encoding, errors, newline)\u001b[0m\n\u001b[0;32m   1220\u001b[0m \u001b[38;5;28;01mif\u001b[39;00m \u001b[38;5;28mself\u001b[39m\u001b[38;5;241m.\u001b[39m_closed:\n\u001b[0;32m   1221\u001b[0m     \u001b[38;5;28mself\u001b[39m\u001b[38;5;241m.\u001b[39m_raise_closed()\n\u001b[1;32m-> 1222\u001b[0m \u001b[38;5;28;01mreturn\u001b[39;00m \u001b[43mio\u001b[49m\u001b[38;5;241;43m.\u001b[39;49m\u001b[43mopen\u001b[49m\u001b[43m(\u001b[49m\u001b[38;5;28;43mself\u001b[39;49m\u001b[43m,\u001b[49m\u001b[43m \u001b[49m\u001b[43mmode\u001b[49m\u001b[43m,\u001b[49m\u001b[43m \u001b[49m\u001b[43mbuffering\u001b[49m\u001b[43m,\u001b[49m\u001b[43m \u001b[49m\u001b[43mencoding\u001b[49m\u001b[43m,\u001b[49m\u001b[43m \u001b[49m\u001b[43merrors\u001b[49m\u001b[43m,\u001b[49m\u001b[43m \u001b[49m\u001b[43mnewline\u001b[49m\u001b[43m,\u001b[49m\n\u001b[0;32m   1223\u001b[0m \u001b[43m               \u001b[49m\u001b[43mopener\u001b[49m\u001b[38;5;241;43m=\u001b[39;49m\u001b[38;5;28;43mself\u001b[39;49m\u001b[38;5;241;43m.\u001b[39;49m\u001b[43m_opener\u001b[49m\u001b[43m)\u001b[49m\n",
      "File \u001b[1;32mc:\\Users\\antoi\\AppData\\Local\\Programs\\Python\\Python38\\lib\\pathlib.py:1078\u001b[0m, in \u001b[0;36mPath._opener\u001b[1;34m(self, name, flags, mode)\u001b[0m\n\u001b[0;32m   1076\u001b[0m \u001b[38;5;28;01mdef\u001b[39;00m \u001b[38;5;21m_opener\u001b[39m(\u001b[38;5;28mself\u001b[39m, name, flags, mode\u001b[38;5;241m=\u001b[39m\u001b[38;5;241m0o666\u001b[39m):\n\u001b[0;32m   1077\u001b[0m     \u001b[38;5;66;03m# A stub for the opener argument to built-in open()\u001b[39;00m\n\u001b[1;32m-> 1078\u001b[0m     \u001b[38;5;28;01mreturn\u001b[39;00m \u001b[38;5;28;43mself\u001b[39;49m\u001b[38;5;241;43m.\u001b[39;49m\u001b[43m_accessor\u001b[49m\u001b[38;5;241;43m.\u001b[39;49m\u001b[43mopen\u001b[49m\u001b[43m(\u001b[49m\u001b[38;5;28;43mself\u001b[39;49m\u001b[43m,\u001b[49m\u001b[43m \u001b[49m\u001b[43mflags\u001b[49m\u001b[43m,\u001b[49m\u001b[43m \u001b[49m\u001b[43mmode\u001b[49m\u001b[43m)\u001b[49m\n",
      "\u001b[1;31mFileNotFoundError\u001b[0m: [Errno 2] No such file or directory: 'config.yaml'"
     ]
    }
   ],
   "source": [
    "path = save_data_path(Path('config.yaml'))\n",
    "\n",
    "df = pd.read_json('hotel.json')\n",
    "# display(df['city'].drop_duplicates())\n",
    "display(df.head(20))\n"
   ]
  },
  {
   "cell_type": "code",
   "execution_count": null,
   "metadata": {},
   "outputs": [],
   "source": [
    "# df_merge = pd.merge(df, target_cities_datas, left_on='city', right_on='city_target', how='inner').drop(columns='city_target')\n",
    "df = pd.merge(df, target_cities_datas, left_on='city', right_on='city_target', how='inner')"
   ]
  },
  {
   "cell_type": "code",
   "execution_count": null,
   "metadata": {},
   "outputs": [],
   "source": [
    "fig = px.scatter_mapbox(df,\n",
    "                        lat='lat',\n",
    "                        lon='lon',\n",
    "                        color='review_score',\n",
    "                        center=dict(lat=46.2, lon=2.2),\n",
    "                        zoom=4,\n",
    "                        color_continuous_scale=['white', 'yellow', 'red'],\n",
    "                        mapbox_style='open-street-map',\n",
    "                        hover_name='name',\n",
    "                        hover_data=['city'],\n",
    "                        # hover_data=['city', 'description'],\n",
    "                        height=600)\n",
    "\n",
    "fig.show()"
   ]
  },
  {
   "cell_type": "code",
   "execution_count": null,
   "metadata": {},
   "outputs": [],
   "source": [
    "import plotly.graph_objects as go\n",
    "\n",
    "custom_colorscale = [\n",
    "    [0, 'yellow'],\n",
    "    [0.33, 'orange'],\n",
    "    [1, 'red']\n",
    "]\n",
    "\n",
    "trace = go.Scattermapbox(\n",
    "    lat=df['lat'],\n",
    "    lon=df['lon'],\n",
    "    mode='markers',\n",
    "    marker=dict(\n",
    "        size=10,\n",
    "        color=df['review_score'],\n",
    "        colorscale=custom_colorscale,\n",
    "        cmin=df['review_score'].min(),\n",
    "        cmax=df['review_score'].max(),\n",
    "        colorbar=dict(title='Review Score')\n",
    "    ),\n",
    "    hoverinfo='text',\n",
    "    text=df['name'] + '<br>' + df['city']+ df['description'],\n",
    ")\n",
    "\n",
    "layout = go.Layout(\n",
    "    title='Map',\n",
    "    mapbox=dict(\n",
    "        style='carto-positron',\n",
    "        center=dict(lat=46.2, lon=2.2),\n",
    "        zoom=4\n",
    "    ),\n",
    "    height=600\n",
    ")\n",
    "\n",
    "fig = go.Figure(data=[trace], layout=layout)\n",
    "\n",
    "fig.show()"
   ]
  },
  {
   "cell_type": "code",
   "execution_count": null,
   "metadata": {},
   "outputs": [],
   "source": [
    "import math\n",
    "\n",
    "def haversine(lat1, lon1, lat2, lon2):\n",
    "    lat1_rad = math.radians(lat1)\n",
    "    lon1_rad = math.radians(lon1)\n",
    "    lat2_rad = math.radians(lat2)\n",
    "    lon2_rad = math.radians(lon2)\n",
    "    R = 6371.0\n",
    "    dlat = lat2_rad - lat1_rad\n",
    "    dlon = lon2_rad - lon1_rad\n",
    "    a = math.sin(dlat / 2)**2 + math.cos(lat1_rad) * math.cos(lat2_rad) * math.sin(dlon / 2)**2\n",
    "    c = 2 * math.atan2(math.sqrt(a), math.sqrt(1 - a))\n",
    "    distance = R * c\n",
    "    \n",
    "    return round(distance,2)"
   ]
  },
  {
   "cell_type": "code",
   "execution_count": null,
   "metadata": {},
   "outputs": [],
   "source": [
    "df['distance'] = df['distance'] = df.apply(lambda row: haversine(row['lat'], row['lon'], row['lat_target'], row['lon_target']), axis=1)"
   ]
  },
  {
   "cell_type": "code",
   "execution_count": null,
   "metadata": {},
   "outputs": [],
   "source": [
    "df.sort_values('distance')\n",
    "df.sort_values('review_score').head()"
   ]
  },
  {
   "cell_type": "code",
   "execution_count": null,
   "metadata": {},
   "outputs": [],
   "source": [
    "df.columns"
   ]
  },
  {
   "cell_type": "code",
   "execution_count": null,
   "metadata": {},
   "outputs": [],
   "source": [
    "import pandas as pd\n",
    "import plotly.graph_objs as go\n",
    "import textwrap\n",
    "df_unique =df[['city_target','lon_target','lat_target','city_target_weather_score']].drop_duplicates()\n",
    "\n",
    "city_df = pd.DataFrame({\n",
    "    'City': df_unique['city_target'],\n",
    "    'Latitude': df_unique['lat_target'],\n",
    "    'Longitude': df_unique['lon_target'],\n",
    "    'Rate': df_unique['city_target_weather_score']\n",
    "})\n",
    "\n",
    "hotel_df = pd.DataFrame({\n",
    "    'Hotel': df['name'],\n",
    "    'City': df['city'],\n",
    "    'Latitude': df['lat'],\n",
    "    'Longitude': df['lon'],\n",
    "    'Rating' : df['review_score'],\n",
    "    'Desc' : df['description'],\n",
    "    'Distance' : df['distance']\n",
    "\n",
    "})\n",
    "\n",
    "hotel_df['Wrapped_Desc'] = ['<br>'.join(textwrap.wrap(x, width=80)) for x in hotel_df['Desc']]\n"
   ]
  },
  {
   "cell_type": "code",
   "execution_count": null,
   "metadata": {},
   "outputs": [],
   "source": [
    "top5_cities = df[['city','city_target_weather_score']].drop_duplicates().sort_values('city_target_weather_score',ascending=False).head()['city'].tolist()\n",
    "top5_cities"
   ]
  },
  {
   "cell_type": "code",
   "execution_count": null,
   "metadata": {},
   "outputs": [],
   "source": [
    "import pandas as pd\n",
    "import plotly.graph_objs as go\n",
    "\n",
    "\n",
    "color_scale = [\n",
    "    (0, 5, 'rgb(169,169,169)'),  \n",
    "    (5, 7, 'rgb(255,255,0)'),    \n",
    "    (7, 8, 'rgb(255,165,0)'),    \n",
    "    (8, 9, 'rgb(255,0,0)'),      \n",
    "    (9, 10, 'rgb(128,0,128)')    \n",
    "]\n",
    "\n",
    "fig = go.Figure()\n",
    "\n",
    "for _, row in hotel_df.iterrows():\n",
    "    rating = row['Rating']\n",
    "    color = None\n",
    "    for lower, upper, col in color_scale:\n",
    "        if lower <= rating <= upper:\n",
    "            color = col\n",
    "            break\n",
    "    hover_text = f\"Hotel: {row['Hotel']}<br>Rating: {rating}<br>Description:<br><br>{row['Wrapped_Desc']}\"\n",
    "    # hover_text = f\"Hotel: {row['Hotel']}<br>Rating: {rating}<br>Distance from (city):{row['Distance']}\"\n",
    "\n",
    "    fig.add_trace(go.Scattergeo(\n",
    "        lon=[row['Longitude']],\n",
    "        lat=[row['Latitude']],\n",
    "        mode='markers',\n",
    "        marker=dict(size=17, symbol='circle', color=color, line=dict(color='black', width=1)),\n",
    "        # name=row['Hotel'],\n",
    "        name='',\n",
    "        visible=False,\n",
    "        # hoverinfo='text',\n",
    "        # text=hover_text,\n",
    "        hovertemplate=hover_text,\n",
    "        # hovertemplate=hover_text\n",
    "        hoverlabel=dict(\n",
    "            bgcolor=\"skyblue\",  \n",
    "            bordercolor=\"black\",\n",
    "            font=dict(size=12), \n",
    "            align='left',  \n",
    "    )\n",
    "    ))\n",
    "\n",
    "for _, row in city_df.iterrows():\n",
    "    city_name = row['City']\n",
    "    if city_name in top5_cities:\n",
    "        color = 'gold'\n",
    "    else:\n",
    "        color = 'blue'\n",
    "\n",
    "\n",
    "    fig.add_trace(go.Scattergeo(\n",
    "        lon=[row['Longitude']],\n",
    "        lat=[row['Latitude']],\n",
    "        mode='markers',\n",
    "        marker=dict(size=17, symbol='circle', color=color, line=dict(color='black', width=2)),\n",
    "        name='',\n",
    "        visible=True,\n",
    "        hovertemplate=city_name\n",
    "    ))\n",
    "\n",
    "legend_annotations = [\n",
    "    dict(\n",
    "        x=0,\n",
    "        y=0.8,\n",
    "        xref='paper',\n",
    "        yref='paper',\n",
    "        xanchor='left',\n",
    "        yanchor='middle',\n",
    "        width=90,\n",
    "        height=50,\n",
    "        text='Top 5',\n",
    "        bgcolor='gold',\n",
    "        font=dict(color='white'),\n",
    "        showarrow=False\n",
    "    ),\n",
    "    dict(\n",
    "        x=0,\n",
    "        y=0.8 - 0.14,\n",
    "        xref='paper',\n",
    "        yref='paper',\n",
    "        xanchor='left',\n",
    "        yanchor='middle',\n",
    "        width=90,\n",
    "        height=50,\n",
    "        text='Other',\n",
    "        bgcolor='blue',\n",
    "        font=dict(color='white'),\n",
    "        showarrow=False\n",
    "    )\n",
    "]\n",
    "\n",
    "legend_annotations += [\n",
    "    dict(\n",
    "        x=0.9,\n",
    "        y=0.8 - i * 0.14,\n",
    "        xref='paper',\n",
    "        yref='paper',\n",
    "        xanchor='left',\n",
    "        yanchor='middle',\n",
    "        width=90,\n",
    "        height=50,\n",
    "        text=f'{lower}-{upper}',\n",
    "        bgcolor=color,\n",
    "        font=dict(color='white'),\n",
    "        showarrow=False\n",
    "    ) for i, (lower, upper, color) in enumerate(color_scale)\n",
    "]\n",
    "\n",
    "# Update layout with legend annotations\n",
    "fig.update_layout(\n",
    "    title='Hotels in Cities',\n",
    "    showlegend=False,\n",
    "    geo=dict(\n",
    "        scope='europe',\n",
    "        center=dict(lat=46, lon=2),  \n",
    "        lonaxis_range=[-5, 10], \n",
    "        lataxis_range=[42, 52]\n",
    "    ),\n",
    "    height=600,\n",
    "    width=800,\n",
    "    title_x=0.5,\n",
    "    annotations=legend_annotations\n",
    ")\n",
    "\n",
    "# Add buttons for toggling between hotels and cities\n",
    "fig.update_layout(\n",
    "    updatemenus=[\n",
    "        dict(\n",
    "            type='buttons',\n",
    "            buttons=[\n",
    "                dict(label='Cities', method='update',\n",
    "                     args=[{'visible': [False] * len(hotel_df) + [True] * len(city_df)}])\n",
    "            ],\n",
    "            x=0.1,  \n",
    "            y=1,  \n",
    "        ),\n",
    "        dict(\n",
    "            type='buttons',\n",
    "            buttons=[\n",
    "                dict(label='Hotels', method='update',\n",
    "                     args=[{'visible': [True] * len(hotel_df) + [False] * len(city_df)}])\n",
    "                    #  args=[{'visible': [True] * len(hotel_df) + [True] * len(city_df)}])\n",
    "            ],\n",
    "            x=1, \n",
    "            y=1, \n",
    "        )\n",
    "    ]\n",
    ")\n",
    "\n",
    "fig.show()"
   ]
  },
  {
   "cell_type": "code",
   "execution_count": null,
   "metadata": {},
   "outputs": [],
   "source": [
    "local_project_path = r'C:\\Users\\antoi\\\\Documents\\\\Work&Learn\\\\JEDHA\\\\M03-DataCollection_Managment\\\\JEDHA-Projet-2-Kayak\\\\'\n",
    "path = local_project_path+'Data_Enriched_Weather_Hotel_French_Cities.csv'\n",
    "df.to_csv(path,index=False)"
   ]
  },
  {
   "cell_type": "markdown",
   "metadata": {},
   "source": [
    "Idea: make a weather temp background map\n",
    "\n",
    "Idea: make a wind map direction"
   ]
  }
 ],
 "metadata": {
  "kernelspec": {
   "display_name": "base",
   "language": "python",
   "name": "python3"
  },
  "language_info": {
   "codemirror_mode": {
    "name": "ipython",
    "version": 3
   },
   "file_extension": ".py",
   "mimetype": "text/x-python",
   "name": "python",
   "nbconvert_exporter": "python",
   "pygments_lexer": "ipython3",
   "version": "3.8.10"
  }
 },
 "nbformat": 4,
 "nbformat_minor": 2
}
