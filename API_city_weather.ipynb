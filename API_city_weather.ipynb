{
 "cells": [
  {
   "cell_type": "markdown",
   "metadata": {},
   "source": [
    "# City and Weather API's"
   ]
  },
  {
   "cell_type": "markdown",
   "metadata": {},
   "source": [
    "## City API"
   ]
  },
  {
   "cell_type": "code",
   "execution_count": 71,
   "metadata": {},
   "outputs": [
    {
     "name": "stdout",
     "output_type": "stream",
     "text": [
      "C:\\Users\\antoi\\\\Documents\\\\Work&Learn\\\\JEDHA\\\\M03-DataCollection_Managment\\\\JEDHA-Projet-2-Kayak\\my_booking\\my_booking\n"
     ]
    }
   ],
   "source": [
    "import pandas as pd\n",
    "import os\n",
    "local_project_path = r'C:\\Users\\antoi\\\\Documents\\\\Work&Learn\\\\JEDHA\\\\M03-DataCollection_Managment\\\\JEDHA-Projet-2-Kayak'\n",
    "path = local_project_path+'\\\\my_booking\\\\my_booking'\n",
    "print(path)\n",
    "os.chdir(path)\n",
    "chemin_fichier_csv = \"./city.csv\"\n",
    "df = pd.read_csv(chemin_fichier_csv, header=None, names=['city','nan'])\n",
    "cities = df['city'].str.replace(' ', '-').tolist()\n",
    "\n",
    "# list(cities)"
   ]
  },
  {
   "cell_type": "code",
   "execution_count": 72,
   "metadata": {},
   "outputs": [],
   "source": [
    "import requests\n",
    "\n",
    "api_url = 'https://nominatim.openstreetmap.org/search'\n",
    "\n",
    "enriched_cities = []\n",
    "\n",
    "for city in cities:\n",
    "\n",
    "    payload = {\n",
    "        'city' : city,\n",
    "        'limit' : 1,\n",
    "        'country' : 'france',\n",
    "        'country-code' : 'fr',\n",
    "        'format' : 'json'\n",
    "        }\n",
    "    \n",
    "    r_city = requests.get(api_url, \n",
    "                          params=payload)\n",
    "\n",
    "    enriched_cities.append({'city': city,\n",
    "                            'lat' : float(r_city.json()[0]['lat']),\n",
    "                            'lon' : float(r_city.json()[0]['lon'])})\n",
    "    \n",
    "# display(enriched_cities)\n"
   ]
  },
  {
   "cell_type": "code",
   "execution_count": 73,
   "metadata": {},
   "outputs": [],
   "source": [
    "df = pd.DataFrame.from_dict(enriched_cities)"
   ]
  },
  {
   "cell_type": "code",
   "execution_count": 74,
   "metadata": {},
   "outputs": [
    {
     "data": {
      "application/vnd.plotly.v1+json": {
       "config": {
        "plotlyServerURL": "https://plot.ly"
       },
       "data": [
        {
         "hovertemplate": "<b>%{hovertext}</b><br><br>lat=%{lat}<br>lon=%{lon}<extra></extra>",
         "hovertext": [
          "Mont-Saint-Michel",
          "St-Malo",
          "Bayeux",
          "Le-Havre",
          "Rouen",
          "Paris",
          "Amiens",
          "Lille",
          "Strasbourg",
          "Chateau-du-Haut-Koenigsbourg",
          "Colmar",
          "Eguisheim",
          "Besancon",
          "Dijon",
          "Annecy",
          "Grenoble",
          "Lyon",
          "Gorges-du-Verdon",
          "Bormes-les-Mimosas",
          "Cassis",
          "Marseille",
          "Aix-en-Provence",
          "Avignon",
          "Uzes",
          "Nimes",
          "Aigues-Mortes",
          "Saintes-Maries-de-la-mer",
          "Collioure",
          "Carcassonne",
          "Ariege",
          "Toulouse",
          "Montauban",
          "Biarritz",
          "Bayonne",
          "La-Rochelle"
         ],
         "lat": [
          48.6359541,
          48.649518,
          49.2764624,
          49.4938975,
          49.4404591,
          48.8534951,
          49.8941708,
          50.6365654,
          48.584614,
          48.2495226,
          48.0777517,
          48.0447968,
          47.2380222,
          47.3215806,
          45.8992348,
          45.1875602,
          45.7578137,
          43.7496562,
          43.1506968,
          43.2140359,
          43.2961743,
          43.5298424,
          43.9492493,
          44.0121279,
          43.8374249,
          43.5661521,
          43.4515922,
          42.52505,
          43.2130358,
          42.8458016,
          43.6044622,
          44.0175835,
          43.4832523,
          43.4945144,
          46.1591126
         ],
         "legendgroup": "",
         "lon": [
          -1.511459954959514,
          -2.0260409,
          -0.7024738,
          0.1079732,
          1.0939658,
          2.3483915,
          2.2956951,
          3.0635282,
          7.7507127,
          7.3454923,
          7.3579641,
          7.3079618,
          6.0243622,
          5.0414701,
          6.1288847,
          5.7357819,
          4.8320114,
          6.3285616,
          6.3419285,
          5.5396318,
          5.3699525,
          5.4474738,
          4.8059012,
          4.4196718,
          4.3600687,
          4.19154,
          4.4277202,
          3.0831554,
          2.3491069,
          1.6067586,
          1.4442469,
          1.3549991,
          -1.5592776,
          -1.4736657,
          -1.1520434
         ],
         "marker": {
          "color": "#636efa"
         },
         "mode": "markers",
         "name": "",
         "showlegend": false,
         "subplot": "mapbox",
         "type": "scattermapbox"
        }
       ],
       "layout": {
        "height": 600,
        "legend": {
         "tracegroupgap": 0
        },
        "mapbox": {
         "center": {
          "lat": 46.2,
          "lon": 2.2
         },
         "domain": {
          "x": [
           0,
           1
          ],
          "y": [
           0,
           1
          ]
         },
         "style": "carto-positron",
         "zoom": 4
        },
        "margin": {
         "t": 60
        },
        "template": {
         "data": {
          "bar": [
           {
            "error_x": {
             "color": "#2a3f5f"
            },
            "error_y": {
             "color": "#2a3f5f"
            },
            "marker": {
             "line": {
              "color": "#E5ECF6",
              "width": 0.5
             },
             "pattern": {
              "fillmode": "overlay",
              "size": 10,
              "solidity": 0.2
             }
            },
            "type": "bar"
           }
          ],
          "barpolar": [
           {
            "marker": {
             "line": {
              "color": "#E5ECF6",
              "width": 0.5
             },
             "pattern": {
              "fillmode": "overlay",
              "size": 10,
              "solidity": 0.2
             }
            },
            "type": "barpolar"
           }
          ],
          "carpet": [
           {
            "aaxis": {
             "endlinecolor": "#2a3f5f",
             "gridcolor": "white",
             "linecolor": "white",
             "minorgridcolor": "white",
             "startlinecolor": "#2a3f5f"
            },
            "baxis": {
             "endlinecolor": "#2a3f5f",
             "gridcolor": "white",
             "linecolor": "white",
             "minorgridcolor": "white",
             "startlinecolor": "#2a3f5f"
            },
            "type": "carpet"
           }
          ],
          "choropleth": [
           {
            "colorbar": {
             "outlinewidth": 0,
             "ticks": ""
            },
            "type": "choropleth"
           }
          ],
          "contour": [
           {
            "colorbar": {
             "outlinewidth": 0,
             "ticks": ""
            },
            "colorscale": [
             [
              0,
              "#0d0887"
             ],
             [
              0.1111111111111111,
              "#46039f"
             ],
             [
              0.2222222222222222,
              "#7201a8"
             ],
             [
              0.3333333333333333,
              "#9c179e"
             ],
             [
              0.4444444444444444,
              "#bd3786"
             ],
             [
              0.5555555555555556,
              "#d8576b"
             ],
             [
              0.6666666666666666,
              "#ed7953"
             ],
             [
              0.7777777777777778,
              "#fb9f3a"
             ],
             [
              0.8888888888888888,
              "#fdca26"
             ],
             [
              1,
              "#f0f921"
             ]
            ],
            "type": "contour"
           }
          ],
          "contourcarpet": [
           {
            "colorbar": {
             "outlinewidth": 0,
             "ticks": ""
            },
            "type": "contourcarpet"
           }
          ],
          "heatmap": [
           {
            "colorbar": {
             "outlinewidth": 0,
             "ticks": ""
            },
            "colorscale": [
             [
              0,
              "#0d0887"
             ],
             [
              0.1111111111111111,
              "#46039f"
             ],
             [
              0.2222222222222222,
              "#7201a8"
             ],
             [
              0.3333333333333333,
              "#9c179e"
             ],
             [
              0.4444444444444444,
              "#bd3786"
             ],
             [
              0.5555555555555556,
              "#d8576b"
             ],
             [
              0.6666666666666666,
              "#ed7953"
             ],
             [
              0.7777777777777778,
              "#fb9f3a"
             ],
             [
              0.8888888888888888,
              "#fdca26"
             ],
             [
              1,
              "#f0f921"
             ]
            ],
            "type": "heatmap"
           }
          ],
          "heatmapgl": [
           {
            "colorbar": {
             "outlinewidth": 0,
             "ticks": ""
            },
            "colorscale": [
             [
              0,
              "#0d0887"
             ],
             [
              0.1111111111111111,
              "#46039f"
             ],
             [
              0.2222222222222222,
              "#7201a8"
             ],
             [
              0.3333333333333333,
              "#9c179e"
             ],
             [
              0.4444444444444444,
              "#bd3786"
             ],
             [
              0.5555555555555556,
              "#d8576b"
             ],
             [
              0.6666666666666666,
              "#ed7953"
             ],
             [
              0.7777777777777778,
              "#fb9f3a"
             ],
             [
              0.8888888888888888,
              "#fdca26"
             ],
             [
              1,
              "#f0f921"
             ]
            ],
            "type": "heatmapgl"
           }
          ],
          "histogram": [
           {
            "marker": {
             "pattern": {
              "fillmode": "overlay",
              "size": 10,
              "solidity": 0.2
             }
            },
            "type": "histogram"
           }
          ],
          "histogram2d": [
           {
            "colorbar": {
             "outlinewidth": 0,
             "ticks": ""
            },
            "colorscale": [
             [
              0,
              "#0d0887"
             ],
             [
              0.1111111111111111,
              "#46039f"
             ],
             [
              0.2222222222222222,
              "#7201a8"
             ],
             [
              0.3333333333333333,
              "#9c179e"
             ],
             [
              0.4444444444444444,
              "#bd3786"
             ],
             [
              0.5555555555555556,
              "#d8576b"
             ],
             [
              0.6666666666666666,
              "#ed7953"
             ],
             [
              0.7777777777777778,
              "#fb9f3a"
             ],
             [
              0.8888888888888888,
              "#fdca26"
             ],
             [
              1,
              "#f0f921"
             ]
            ],
            "type": "histogram2d"
           }
          ],
          "histogram2dcontour": [
           {
            "colorbar": {
             "outlinewidth": 0,
             "ticks": ""
            },
            "colorscale": [
             [
              0,
              "#0d0887"
             ],
             [
              0.1111111111111111,
              "#46039f"
             ],
             [
              0.2222222222222222,
              "#7201a8"
             ],
             [
              0.3333333333333333,
              "#9c179e"
             ],
             [
              0.4444444444444444,
              "#bd3786"
             ],
             [
              0.5555555555555556,
              "#d8576b"
             ],
             [
              0.6666666666666666,
              "#ed7953"
             ],
             [
              0.7777777777777778,
              "#fb9f3a"
             ],
             [
              0.8888888888888888,
              "#fdca26"
             ],
             [
              1,
              "#f0f921"
             ]
            ],
            "type": "histogram2dcontour"
           }
          ],
          "mesh3d": [
           {
            "colorbar": {
             "outlinewidth": 0,
             "ticks": ""
            },
            "type": "mesh3d"
           }
          ],
          "parcoords": [
           {
            "line": {
             "colorbar": {
              "outlinewidth": 0,
              "ticks": ""
             }
            },
            "type": "parcoords"
           }
          ],
          "pie": [
           {
            "automargin": true,
            "type": "pie"
           }
          ],
          "scatter": [
           {
            "fillpattern": {
             "fillmode": "overlay",
             "size": 10,
             "solidity": 0.2
            },
            "type": "scatter"
           }
          ],
          "scatter3d": [
           {
            "line": {
             "colorbar": {
              "outlinewidth": 0,
              "ticks": ""
             }
            },
            "marker": {
             "colorbar": {
              "outlinewidth": 0,
              "ticks": ""
             }
            },
            "type": "scatter3d"
           }
          ],
          "scattercarpet": [
           {
            "marker": {
             "colorbar": {
              "outlinewidth": 0,
              "ticks": ""
             }
            },
            "type": "scattercarpet"
           }
          ],
          "scattergeo": [
           {
            "marker": {
             "colorbar": {
              "outlinewidth": 0,
              "ticks": ""
             }
            },
            "type": "scattergeo"
           }
          ],
          "scattergl": [
           {
            "marker": {
             "colorbar": {
              "outlinewidth": 0,
              "ticks": ""
             }
            },
            "type": "scattergl"
           }
          ],
          "scattermapbox": [
           {
            "marker": {
             "colorbar": {
              "outlinewidth": 0,
              "ticks": ""
             }
            },
            "type": "scattermapbox"
           }
          ],
          "scatterpolar": [
           {
            "marker": {
             "colorbar": {
              "outlinewidth": 0,
              "ticks": ""
             }
            },
            "type": "scatterpolar"
           }
          ],
          "scatterpolargl": [
           {
            "marker": {
             "colorbar": {
              "outlinewidth": 0,
              "ticks": ""
             }
            },
            "type": "scatterpolargl"
           }
          ],
          "scatterternary": [
           {
            "marker": {
             "colorbar": {
              "outlinewidth": 0,
              "ticks": ""
             }
            },
            "type": "scatterternary"
           }
          ],
          "surface": [
           {
            "colorbar": {
             "outlinewidth": 0,
             "ticks": ""
            },
            "colorscale": [
             [
              0,
              "#0d0887"
             ],
             [
              0.1111111111111111,
              "#46039f"
             ],
             [
              0.2222222222222222,
              "#7201a8"
             ],
             [
              0.3333333333333333,
              "#9c179e"
             ],
             [
              0.4444444444444444,
              "#bd3786"
             ],
             [
              0.5555555555555556,
              "#d8576b"
             ],
             [
              0.6666666666666666,
              "#ed7953"
             ],
             [
              0.7777777777777778,
              "#fb9f3a"
             ],
             [
              0.8888888888888888,
              "#fdca26"
             ],
             [
              1,
              "#f0f921"
             ]
            ],
            "type": "surface"
           }
          ],
          "table": [
           {
            "cells": {
             "fill": {
              "color": "#EBF0F8"
             },
             "line": {
              "color": "white"
             }
            },
            "header": {
             "fill": {
              "color": "#C8D4E3"
             },
             "line": {
              "color": "white"
             }
            },
            "type": "table"
           }
          ]
         },
         "layout": {
          "annotationdefaults": {
           "arrowcolor": "#2a3f5f",
           "arrowhead": 0,
           "arrowwidth": 1
          },
          "autotypenumbers": "strict",
          "coloraxis": {
           "colorbar": {
            "outlinewidth": 0,
            "ticks": ""
           }
          },
          "colorscale": {
           "diverging": [
            [
             0,
             "#8e0152"
            ],
            [
             0.1,
             "#c51b7d"
            ],
            [
             0.2,
             "#de77ae"
            ],
            [
             0.3,
             "#f1b6da"
            ],
            [
             0.4,
             "#fde0ef"
            ],
            [
             0.5,
             "#f7f7f7"
            ],
            [
             0.6,
             "#e6f5d0"
            ],
            [
             0.7,
             "#b8e186"
            ],
            [
             0.8,
             "#7fbc41"
            ],
            [
             0.9,
             "#4d9221"
            ],
            [
             1,
             "#276419"
            ]
           ],
           "sequential": [
            [
             0,
             "#0d0887"
            ],
            [
             0.1111111111111111,
             "#46039f"
            ],
            [
             0.2222222222222222,
             "#7201a8"
            ],
            [
             0.3333333333333333,
             "#9c179e"
            ],
            [
             0.4444444444444444,
             "#bd3786"
            ],
            [
             0.5555555555555556,
             "#d8576b"
            ],
            [
             0.6666666666666666,
             "#ed7953"
            ],
            [
             0.7777777777777778,
             "#fb9f3a"
            ],
            [
             0.8888888888888888,
             "#fdca26"
            ],
            [
             1,
             "#f0f921"
            ]
           ],
           "sequentialminus": [
            [
             0,
             "#0d0887"
            ],
            [
             0.1111111111111111,
             "#46039f"
            ],
            [
             0.2222222222222222,
             "#7201a8"
            ],
            [
             0.3333333333333333,
             "#9c179e"
            ],
            [
             0.4444444444444444,
             "#bd3786"
            ],
            [
             0.5555555555555556,
             "#d8576b"
            ],
            [
             0.6666666666666666,
             "#ed7953"
            ],
            [
             0.7777777777777778,
             "#fb9f3a"
            ],
            [
             0.8888888888888888,
             "#fdca26"
            ],
            [
             1,
             "#f0f921"
            ]
           ]
          },
          "colorway": [
           "#636efa",
           "#EF553B",
           "#00cc96",
           "#ab63fa",
           "#FFA15A",
           "#19d3f3",
           "#FF6692",
           "#B6E880",
           "#FF97FF",
           "#FECB52"
          ],
          "font": {
           "color": "#2a3f5f"
          },
          "geo": {
           "bgcolor": "white",
           "lakecolor": "white",
           "landcolor": "#E5ECF6",
           "showlakes": true,
           "showland": true,
           "subunitcolor": "white"
          },
          "hoverlabel": {
           "align": "left"
          },
          "hovermode": "closest",
          "mapbox": {
           "style": "light"
          },
          "paper_bgcolor": "white",
          "plot_bgcolor": "#E5ECF6",
          "polar": {
           "angularaxis": {
            "gridcolor": "white",
            "linecolor": "white",
            "ticks": ""
           },
           "bgcolor": "#E5ECF6",
           "radialaxis": {
            "gridcolor": "white",
            "linecolor": "white",
            "ticks": ""
           }
          },
          "scene": {
           "xaxis": {
            "backgroundcolor": "#E5ECF6",
            "gridcolor": "white",
            "gridwidth": 2,
            "linecolor": "white",
            "showbackground": true,
            "ticks": "",
            "zerolinecolor": "white"
           },
           "yaxis": {
            "backgroundcolor": "#E5ECF6",
            "gridcolor": "white",
            "gridwidth": 2,
            "linecolor": "white",
            "showbackground": true,
            "ticks": "",
            "zerolinecolor": "white"
           },
           "zaxis": {
            "backgroundcolor": "#E5ECF6",
            "gridcolor": "white",
            "gridwidth": 2,
            "linecolor": "white",
            "showbackground": true,
            "ticks": "",
            "zerolinecolor": "white"
           }
          },
          "shapedefaults": {
           "line": {
            "color": "#2a3f5f"
           }
          },
          "ternary": {
           "aaxis": {
            "gridcolor": "white",
            "linecolor": "white",
            "ticks": ""
           },
           "baxis": {
            "gridcolor": "white",
            "linecolor": "white",
            "ticks": ""
           },
           "bgcolor": "#E5ECF6",
           "caxis": {
            "gridcolor": "white",
            "linecolor": "white",
            "ticks": ""
           }
          },
          "title": {
           "x": 0.05
          },
          "xaxis": {
           "automargin": true,
           "gridcolor": "white",
           "linecolor": "white",
           "ticks": "",
           "title": {
            "standoff": 15
           },
           "zerolinecolor": "white",
           "zerolinewidth": 2
          },
          "yaxis": {
           "automargin": true,
           "gridcolor": "white",
           "linecolor": "white",
           "ticks": "",
           "title": {
            "standoff": 15
           },
           "zerolinecolor": "white",
           "zerolinewidth": 2
          }
         }
        }
       }
      }
     },
     "metadata": {},
     "output_type": "display_data"
    }
   ],
   "source": [
    "import pandas as pd\n",
    "import plotly.express as px\n",
    "fig = px.scatter_mapbox(df,\n",
    "                        lat='lat',\n",
    "                        lon='lon',\n",
    "                        center=dict(lat=46.2, lon=2.2),\n",
    "                        zoom=4,\n",
    "                        mapbox_style='carto-positron',\n",
    "                        hover_name='city',\n",
    "                        height=600)\n",
    "\n",
    "fig.show()"
   ]
  },
  {
   "cell_type": "markdown",
   "metadata": {},
   "source": [
    "## Weather API"
   ]
  },
  {
   "cell_type": "code",
   "execution_count": 75,
   "metadata": {},
   "outputs": [],
   "source": [
    "os.chdir('../../')\n",
    "\n",
    "with open(\"API_key.txt\", \"r\") as file:\n",
    "    API_key = str(file.readline())\n",
    "\n",
    "exclude = 'current,minutely,hourly,alerts'\n",
    "weather_cities = []\n",
    "\n",
    "for city in enriched_cities:\n",
    "    lat = city['lat']\n",
    "    lon = city['lon']\n",
    "    url = f'https://api.openweathermap.org/data/2.5/forecast?lat={lat}&lon={lon}&exclude={exclude}&appid={API_key}&units=metric'\n",
    "    weather_raw = requests.get(url).json()\n",
    "    weather_cities.append(weather_raw)\n",
    "\n",
    "# display(weather_cities)"
   ]
  },
  {
   "cell_type": "code",
   "execution_count": 76,
   "metadata": {},
   "outputs": [
    {
     "data": {
      "text/html": [
       "<div>\n",
       "<style scoped>\n",
       "    .dataframe tbody tr th:only-of-type {\n",
       "        vertical-align: middle;\n",
       "    }\n",
       "\n",
       "    .dataframe tbody tr th {\n",
       "        vertical-align: top;\n",
       "    }\n",
       "\n",
       "    .dataframe thead th {\n",
       "        text-align: right;\n",
       "    }\n",
       "</style>\n",
       "<table border=\"1\" class=\"dataframe\">\n",
       "  <thead>\n",
       "    <tr style=\"text-align: right;\">\n",
       "      <th></th>\n",
       "      <th>cod</th>\n",
       "      <th>message</th>\n",
       "      <th>cnt</th>\n",
       "      <th>list</th>\n",
       "      <th>city.id</th>\n",
       "      <th>city.name</th>\n",
       "      <th>city.coord.lat</th>\n",
       "      <th>city.coord.lon</th>\n",
       "      <th>city.country</th>\n",
       "      <th>city.population</th>\n",
       "      <th>city.timezone</th>\n",
       "      <th>city.sunrise</th>\n",
       "      <th>city.sunset</th>\n",
       "    </tr>\n",
       "  </thead>\n",
       "  <tbody>\n",
       "    <tr>\n",
       "      <th>0</th>\n",
       "      <td>200</td>\n",
       "      <td>0</td>\n",
       "      <td>40</td>\n",
       "      <td>[{'dt': 1711994400, 'main': {'temp': 12.08, 'f...</td>\n",
       "      <td>6435453</td>\n",
       "      <td>Huisnes-sur-Mer</td>\n",
       "      <td>48.6360</td>\n",
       "      <td>-1.5115</td>\n",
       "      <td>FR</td>\n",
       "      <td>0</td>\n",
       "      <td>7200</td>\n",
       "      <td>1711950186</td>\n",
       "      <td>1711996572</td>\n",
       "    </tr>\n",
       "    <tr>\n",
       "      <th>1</th>\n",
       "      <td>200</td>\n",
       "      <td>0</td>\n",
       "      <td>40</td>\n",
       "      <td>[{'dt': 1711994400, 'main': {'temp': 12.02, 'f...</td>\n",
       "      <td>2978640</td>\n",
       "      <td>St-Malo</td>\n",
       "      <td>48.6495</td>\n",
       "      <td>-2.0260</td>\n",
       "      <td>FR</td>\n",
       "      <td>50676</td>\n",
       "      <td>7200</td>\n",
       "      <td>1711950308</td>\n",
       "      <td>1711996696</td>\n",
       "    </tr>\n",
       "    <tr>\n",
       "      <th>2</th>\n",
       "      <td>200</td>\n",
       "      <td>0</td>\n",
       "      <td>40</td>\n",
       "      <td>[{'dt': 1711994400, 'main': {'temp': 11.97, 'f...</td>\n",
       "      <td>3034483</td>\n",
       "      <td>Bayeux</td>\n",
       "      <td>49.2765</td>\n",
       "      <td>-0.7025</td>\n",
       "      <td>FR</td>\n",
       "      <td>15963</td>\n",
       "      <td>7200</td>\n",
       "      <td>1711949958</td>\n",
       "      <td>1711996411</td>\n",
       "    </tr>\n",
       "    <tr>\n",
       "      <th>3</th>\n",
       "      <td>200</td>\n",
       "      <td>0</td>\n",
       "      <td>40</td>\n",
       "      <td>[{'dt': 1711994400, 'main': {'temp': 11.14, 'f...</td>\n",
       "      <td>3003796</td>\n",
       "      <td>Le Havre</td>\n",
       "      <td>49.4939</td>\n",
       "      <td>0.1080</td>\n",
       "      <td>FR</td>\n",
       "      <td>185972</td>\n",
       "      <td>7200</td>\n",
       "      <td>1711949752</td>\n",
       "      <td>1711996228</td>\n",
       "    </tr>\n",
       "    <tr>\n",
       "      <th>4</th>\n",
       "      <td>200</td>\n",
       "      <td>0</td>\n",
       "      <td>40</td>\n",
       "      <td>[{'dt': 1711994400, 'main': {'temp': 12.99, 'f...</td>\n",
       "      <td>2982652</td>\n",
       "      <td>Rouen</td>\n",
       "      <td>49.4405</td>\n",
       "      <td>1.0940</td>\n",
       "      <td>FR</td>\n",
       "      <td>112787</td>\n",
       "      <td>7200</td>\n",
       "      <td>1711949519</td>\n",
       "      <td>1711995988</td>\n",
       "    </tr>\n",
       "  </tbody>\n",
       "</table>\n",
       "</div>"
      ],
      "text/plain": [
       "   cod  message  cnt                                               list  \\\n",
       "0  200        0   40  [{'dt': 1711994400, 'main': {'temp': 12.08, 'f...   \n",
       "1  200        0   40  [{'dt': 1711994400, 'main': {'temp': 12.02, 'f...   \n",
       "2  200        0   40  [{'dt': 1711994400, 'main': {'temp': 11.97, 'f...   \n",
       "3  200        0   40  [{'dt': 1711994400, 'main': {'temp': 11.14, 'f...   \n",
       "4  200        0   40  [{'dt': 1711994400, 'main': {'temp': 12.99, 'f...   \n",
       "\n",
       "   city.id        city.name  city.coord.lat  city.coord.lon city.country  \\\n",
       "0  6435453  Huisnes-sur-Mer         48.6360         -1.5115           FR   \n",
       "1  2978640          St-Malo         48.6495         -2.0260           FR   \n",
       "2  3034483           Bayeux         49.2765         -0.7025           FR   \n",
       "3  3003796         Le Havre         49.4939          0.1080           FR   \n",
       "4  2982652            Rouen         49.4405          1.0940           FR   \n",
       "\n",
       "   city.population  city.timezone  city.sunrise  city.sunset  \n",
       "0                0           7200    1711950186   1711996572  \n",
       "1            50676           7200    1711950308   1711996696  \n",
       "2            15963           7200    1711949958   1711996411  \n",
       "3           185972           7200    1711949752   1711996228  \n",
       "4           112787           7200    1711949519   1711995988  "
      ]
     },
     "execution_count": 76,
     "metadata": {},
     "output_type": "execute_result"
    }
   ],
   "source": [
    "pd.json_normalize(weather_cities).head()"
   ]
  },
  {
   "cell_type": "code",
   "execution_count": 87,
   "metadata": {},
   "outputs": [],
   "source": [
    "# pd.json_normalize(weather_cities)['city.name']\n",
    "# pd.json_normalize(weather_cities)['list']\n",
    "# pd.json_normalize(pd.json_normalize(weather_cities)['list'][34])\n",
    "# pd.json_normalize(pd.json_normalize(weather_cities)['list'][34])['weather'][0]"
   ]
  },
  {
   "cell_type": "code",
   "execution_count": 90,
   "metadata": {},
   "outputs": [
    {
     "data": {
      "text/html": [
       "<div>\n",
       "<style scoped>\n",
       "    .dataframe tbody tr th:only-of-type {\n",
       "        vertical-align: middle;\n",
       "    }\n",
       "\n",
       "    .dataframe tbody tr th {\n",
       "        vertical-align: top;\n",
       "    }\n",
       "\n",
       "    .dataframe thead th {\n",
       "        text-align: right;\n",
       "    }\n",
       "</style>\n",
       "<table border=\"1\" class=\"dataframe\">\n",
       "  <thead>\n",
       "    <tr style=\"text-align: right;\">\n",
       "      <th></th>\n",
       "      <th>dt</th>\n",
       "      <th>weather</th>\n",
       "      <th>visibility</th>\n",
       "      <th>pop</th>\n",
       "      <th>dt_txt</th>\n",
       "      <th>main.temp</th>\n",
       "      <th>main.feels_like</th>\n",
       "      <th>main.temp_min</th>\n",
       "      <th>main.temp_max</th>\n",
       "      <th>main.pressure</th>\n",
       "      <th>...</th>\n",
       "      <th>main.temp_kf</th>\n",
       "      <th>clouds.all</th>\n",
       "      <th>wind.speed</th>\n",
       "      <th>wind.deg</th>\n",
       "      <th>wind.gust</th>\n",
       "      <th>rain.3h</th>\n",
       "      <th>sys.pod</th>\n",
       "      <th>city</th>\n",
       "      <th>lat</th>\n",
       "      <th>lon</th>\n",
       "    </tr>\n",
       "  </thead>\n",
       "  <tbody>\n",
       "    <tr>\n",
       "      <th>0</th>\n",
       "      <td>1711994400</td>\n",
       "      <td>[{'id': 500, 'main': 'Rain', 'description': 'l...</td>\n",
       "      <td>10000.0</td>\n",
       "      <td>1.0</td>\n",
       "      <td>2024-04-01 18:00:00</td>\n",
       "      <td>12.08</td>\n",
       "      <td>11.43</td>\n",
       "      <td>10.33</td>\n",
       "      <td>12.08</td>\n",
       "      <td>997</td>\n",
       "      <td>...</td>\n",
       "      <td>1.75</td>\n",
       "      <td>52</td>\n",
       "      <td>8.23</td>\n",
       "      <td>224</td>\n",
       "      <td>13.42</td>\n",
       "      <td>1.81</td>\n",
       "      <td>d</td>\n",
       "      <td>Huisnes-sur-Mer</td>\n",
       "      <td>48.636</td>\n",
       "      <td>-1.5115</td>\n",
       "    </tr>\n",
       "    <tr>\n",
       "      <th>1</th>\n",
       "      <td>1712005200</td>\n",
       "      <td>[{'id': 803, 'main': 'Clouds', 'description': ...</td>\n",
       "      <td>10000.0</td>\n",
       "      <td>0.0</td>\n",
       "      <td>2024-04-01 21:00:00</td>\n",
       "      <td>9.94</td>\n",
       "      <td>6.52</td>\n",
       "      <td>8.44</td>\n",
       "      <td>9.94</td>\n",
       "      <td>1000</td>\n",
       "      <td>...</td>\n",
       "      <td>1.50</td>\n",
       "      <td>77</td>\n",
       "      <td>8.28</td>\n",
       "      <td>219</td>\n",
       "      <td>13.90</td>\n",
       "      <td>NaN</td>\n",
       "      <td>n</td>\n",
       "      <td>Huisnes-sur-Mer</td>\n",
       "      <td>48.636</td>\n",
       "      <td>-1.5115</td>\n",
       "    </tr>\n",
       "    <tr>\n",
       "      <th>2</th>\n",
       "      <td>1712016000</td>\n",
       "      <td>[{'id': 804, 'main': 'Clouds', 'description': ...</td>\n",
       "      <td>10000.0</td>\n",
       "      <td>0.0</td>\n",
       "      <td>2024-04-02 00:00:00</td>\n",
       "      <td>9.61</td>\n",
       "      <td>5.98</td>\n",
       "      <td>9.61</td>\n",
       "      <td>9.61</td>\n",
       "      <td>1004</td>\n",
       "      <td>...</td>\n",
       "      <td>0.00</td>\n",
       "      <td>95</td>\n",
       "      <td>8.73</td>\n",
       "      <td>232</td>\n",
       "      <td>13.52</td>\n",
       "      <td>NaN</td>\n",
       "      <td>n</td>\n",
       "      <td>Huisnes-sur-Mer</td>\n",
       "      <td>48.636</td>\n",
       "      <td>-1.5115</td>\n",
       "    </tr>\n",
       "  </tbody>\n",
       "</table>\n",
       "<p>3 rows × 23 columns</p>\n",
       "</div>"
      ],
      "text/plain": [
       "           dt                                            weather  visibility  \\\n",
       "0  1711994400  [{'id': 500, 'main': 'Rain', 'description': 'l...     10000.0   \n",
       "1  1712005200  [{'id': 803, 'main': 'Clouds', 'description': ...     10000.0   \n",
       "2  1712016000  [{'id': 804, 'main': 'Clouds', 'description': ...     10000.0   \n",
       "\n",
       "   pop              dt_txt  main.temp  main.feels_like  main.temp_min  \\\n",
       "0  1.0 2024-04-01 18:00:00      12.08            11.43          10.33   \n",
       "1  0.0 2024-04-01 21:00:00       9.94             6.52           8.44   \n",
       "2  0.0 2024-04-02 00:00:00       9.61             5.98           9.61   \n",
       "\n",
       "   main.temp_max  main.pressure  ...  main.temp_kf  clouds.all  wind.speed  \\\n",
       "0          12.08            997  ...          1.75          52        8.23   \n",
       "1           9.94           1000  ...          1.50          77        8.28   \n",
       "2           9.61           1004  ...          0.00          95        8.73   \n",
       "\n",
       "   wind.deg  wind.gust  rain.3h  sys.pod             city     lat     lon  \n",
       "0       224      13.42     1.81        d  Huisnes-sur-Mer  48.636 -1.5115  \n",
       "1       219      13.90      NaN        n  Huisnes-sur-Mer  48.636 -1.5115  \n",
       "2       232      13.52      NaN        n  Huisnes-sur-Mer  48.636 -1.5115  \n",
       "\n",
       "[3 rows x 23 columns]"
      ]
     },
     "metadata": {},
     "output_type": "display_data"
    }
   ],
   "source": [
    "weather_datas = pd.DataFrame()\n",
    "\n",
    "for id, city in enumerate(pd.json_normalize(weather_cities)['city.name']):\n",
    "\n",
    "    df3 = pd.json_normalize(pd.json_normalize(weather_cities)['list'][id])\n",
    "    df3['city'] = city\n",
    "    df3['lat'] = pd.json_normalize(weather_cities)[\"city.coord.lat\"][id]\n",
    "    df3['lon'] = pd.json_normalize(weather_cities)[\"city.coord.lon\"][id]\n",
    "    \n",
    "    weather_datas = pd.concat([weather_datas, df3])\n",
    "\n",
    "weather_datas['dt_txt'] = pd.to_datetime(weather_datas['dt_txt']) \n",
    "display(weather_datas.head(3))"
   ]
  },
  {
   "cell_type": "code",
   "execution_count": 91,
   "metadata": {},
   "outputs": [],
   "source": [
    "col_drop = ['dt', 'weather', 'visibility', 'main.temp', 'main.temp_min', 'main.temp_max', 'main.pressure','main.sea_level',\n",
    "            'main.grnd_level', 'main.humidity', 'main.temp_kf', 'clouds.all', 'wind.deg', 'wind.gust', 'rain.3h']\n",
    "\n",
    "weather_datas.drop(columns=col_drop, inplace=True)\n"
   ]
  },
  {
   "cell_type": "code",
   "execution_count": 94,
   "metadata": {},
   "outputs": [],
   "source": [
    "weather_during_day = weather_datas[weather_datas['sys.pod']=='d'].drop(columns='sys.pod')"
   ]
  },
  {
   "cell_type": "code",
   "execution_count": 95,
   "metadata": {},
   "outputs": [],
   "source": [
    "weather_day_mean = weather_during_day.groupby('city').mean().reset_index()"
   ]
  },
  {
   "cell_type": "code",
   "execution_count": 100,
   "metadata": {},
   "outputs": [
    {
     "data": {
      "text/html": [
       "<div>\n",
       "<style scoped>\n",
       "    .dataframe tbody tr th:only-of-type {\n",
       "        vertical-align: middle;\n",
       "    }\n",
       "\n",
       "    .dataframe tbody tr th {\n",
       "        vertical-align: top;\n",
       "    }\n",
       "\n",
       "    .dataframe thead th {\n",
       "        text-align: right;\n",
       "    }\n",
       "</style>\n",
       "<table border=\"1\" class=\"dataframe\">\n",
       "  <thead>\n",
       "    <tr style=\"text-align: right;\">\n",
       "      <th></th>\n",
       "      <th>city</th>\n",
       "      <th>pop</th>\n",
       "    </tr>\n",
       "  </thead>\n",
       "  <tbody>\n",
       "    <tr>\n",
       "      <th>1</th>\n",
       "      <td>Aix-en-Provence</td>\n",
       "      <td>0.0132</td>\n",
       "    </tr>\n",
       "    <tr>\n",
       "      <th>6</th>\n",
       "      <td>Bauduen</td>\n",
       "      <td>0.0144</td>\n",
       "    </tr>\n",
       "    <tr>\n",
       "      <th>13</th>\n",
       "      <td>Collioure</td>\n",
       "      <td>0.0144</td>\n",
       "    </tr>\n",
       "    <tr>\n",
       "      <th>0</th>\n",
       "      <td>Aigues-Mortes</td>\n",
       "      <td>0.0160</td>\n",
       "    </tr>\n",
       "    <tr>\n",
       "      <th>29</th>\n",
       "      <td>Saintes-Maries-de-la-Mer</td>\n",
       "      <td>0.0160</td>\n",
       "    </tr>\n",
       "  </tbody>\n",
       "</table>\n",
       "</div>"
      ],
      "text/plain": [
       "                        city     pop\n",
       "1            Aix-en-Provence  0.0132\n",
       "6                    Bauduen  0.0144\n",
       "13                 Collioure  0.0144\n",
       "0              Aigues-Mortes  0.0160\n",
       "29  Saintes-Maries-de-la-Mer  0.0160"
      ]
     },
     "metadata": {},
     "output_type": "display_data"
    },
    {
     "data": {
      "text/html": [
       "<div>\n",
       "<style scoped>\n",
       "    .dataframe tbody tr th:only-of-type {\n",
       "        vertical-align: middle;\n",
       "    }\n",
       "\n",
       "    .dataframe tbody tr th {\n",
       "        vertical-align: top;\n",
       "    }\n",
       "\n",
       "    .dataframe thead th {\n",
       "        text-align: right;\n",
       "    }\n",
       "</style>\n",
       "<table border=\"1\" class=\"dataframe\">\n",
       "  <thead>\n",
       "    <tr style=\"text-align: right;\">\n",
       "      <th></th>\n",
       "      <th>city</th>\n",
       "      <th>main.feels_like</th>\n",
       "    </tr>\n",
       "  </thead>\n",
       "  <tbody>\n",
       "    <tr>\n",
       "      <th>13</th>\n",
       "      <td>Collioure</td>\n",
       "      <td>16.0088</td>\n",
       "    </tr>\n",
       "    <tr>\n",
       "      <th>21</th>\n",
       "      <td>Le Limpou</td>\n",
       "      <td>16.0080</td>\n",
       "    </tr>\n",
       "    <tr>\n",
       "      <th>31</th>\n",
       "      <td>Tarascon-sur-Ariège</td>\n",
       "      <td>15.6304</td>\n",
       "    </tr>\n",
       "    <tr>\n",
       "      <th>9</th>\n",
       "      <td>Biarritz</td>\n",
       "      <td>15.4736</td>\n",
       "    </tr>\n",
       "    <tr>\n",
       "      <th>5</th>\n",
       "      <td>Avignon</td>\n",
       "      <td>15.2968</td>\n",
       "    </tr>\n",
       "  </tbody>\n",
       "</table>\n",
       "</div>"
      ],
      "text/plain": [
       "                   city  main.feels_like\n",
       "13            Collioure          16.0088\n",
       "21            Le Limpou          16.0080\n",
       "31  Tarascon-sur-Ariège          15.6304\n",
       "9              Biarritz          15.4736\n",
       "5               Avignon          15.2968"
      ]
     },
     "metadata": {},
     "output_type": "display_data"
    },
    {
     "data": {
      "text/html": [
       "<div>\n",
       "<style scoped>\n",
       "    .dataframe tbody tr th:only-of-type {\n",
       "        vertical-align: middle;\n",
       "    }\n",
       "\n",
       "    .dataframe tbody tr th {\n",
       "        vertical-align: top;\n",
       "    }\n",
       "\n",
       "    .dataframe thead th {\n",
       "        text-align: right;\n",
       "    }\n",
       "</style>\n",
       "<table border=\"1\" class=\"dataframe\">\n",
       "  <thead>\n",
       "    <tr style=\"text-align: right;\">\n",
       "      <th></th>\n",
       "      <th>city</th>\n",
       "      <th>wind.speed</th>\n",
       "    </tr>\n",
       "  </thead>\n",
       "  <tbody>\n",
       "    <tr>\n",
       "      <th>16</th>\n",
       "      <td>Grenoble</td>\n",
       "      <td>2.0704</td>\n",
       "    </tr>\n",
       "    <tr>\n",
       "      <th>3</th>\n",
       "      <td>Annecy</td>\n",
       "      <td>2.2432</td>\n",
       "    </tr>\n",
       "    <tr>\n",
       "      <th>31</th>\n",
       "      <td>Tarascon-sur-Ariège</td>\n",
       "      <td>2.3172</td>\n",
       "    </tr>\n",
       "    <tr>\n",
       "      <th>6</th>\n",
       "      <td>Bauduen</td>\n",
       "      <td>3.2356</td>\n",
       "    </tr>\n",
       "    <tr>\n",
       "      <th>21</th>\n",
       "      <td>Le Limpou</td>\n",
       "      <td>3.3172</td>\n",
       "    </tr>\n",
       "  </tbody>\n",
       "</table>\n",
       "</div>"
      ],
      "text/plain": [
       "                   city  wind.speed\n",
       "16             Grenoble      2.0704\n",
       "3                Annecy      2.2432\n",
       "31  Tarascon-sur-Ariège      2.3172\n",
       "6               Bauduen      3.2356\n",
       "21            Le Limpou      3.3172"
      ]
     },
     "metadata": {},
     "output_type": "display_data"
    }
   ],
   "source": [
    "display(weather_day_mean[['city','pop']].sort_values('pop').head())\n",
    "display(weather_day_mean[['city','main.feels_like']].sort_values('main.feels_like',ascending=False).head())\n",
    "display(weather_day_mean[['city','wind.speed']].sort_values('wind.speed').head())"
   ]
  },
  {
   "cell_type": "markdown",
   "metadata": {},
   "source": [
    "Create a SCORE to select the city"
   ]
  },
  {
   "cell_type": "code",
   "execution_count": 101,
   "metadata": {},
   "outputs": [
    {
     "data": {
      "text/html": [
       "<div>\n",
       "<style scoped>\n",
       "    .dataframe tbody tr th:only-of-type {\n",
       "        vertical-align: middle;\n",
       "    }\n",
       "\n",
       "    .dataframe tbody tr th {\n",
       "        vertical-align: top;\n",
       "    }\n",
       "\n",
       "    .dataframe thead th {\n",
       "        text-align: right;\n",
       "    }\n",
       "</style>\n",
       "<table border=\"1\" class=\"dataframe\">\n",
       "  <thead>\n",
       "    <tr style=\"text-align: right;\">\n",
       "      <th></th>\n",
       "      <th>city</th>\n",
       "      <th>pop</th>\n",
       "      <th>dt_txt</th>\n",
       "      <th>main.feels_like</th>\n",
       "      <th>wind.speed</th>\n",
       "      <th>lat</th>\n",
       "      <th>lon</th>\n",
       "      <th>score</th>\n",
       "      <th>rate</th>\n",
       "    </tr>\n",
       "  </thead>\n",
       "  <tbody>\n",
       "    <tr>\n",
       "      <th>21</th>\n",
       "      <td>Le Limpou</td>\n",
       "      <td>0.0840</td>\n",
       "      <td>2024-04-04 07:12:00</td>\n",
       "      <td>16.0080</td>\n",
       "      <td>3.3172</td>\n",
       "      <td>43.4945</td>\n",
       "      <td>-1.4737</td>\n",
       "      <td>7.63868</td>\n",
       "      <td>10.000000</td>\n",
       "    </tr>\n",
       "    <tr>\n",
       "      <th>13</th>\n",
       "      <td>Collioure</td>\n",
       "      <td>0.0144</td>\n",
       "      <td>2024-04-04 07:12:00</td>\n",
       "      <td>16.0088</td>\n",
       "      <td>4.0016</td>\n",
       "      <td>42.5251</td>\n",
       "      <td>3.0832</td>\n",
       "      <td>7.59848</td>\n",
       "      <td>9.885189</td>\n",
       "    </tr>\n",
       "    <tr>\n",
       "      <th>31</th>\n",
       "      <td>Tarascon-sur-Ariège</td>\n",
       "      <td>0.0560</td>\n",
       "      <td>2024-04-04 07:12:00</td>\n",
       "      <td>15.6304</td>\n",
       "      <td>2.3172</td>\n",
       "      <td>42.8458</td>\n",
       "      <td>1.6068</td>\n",
       "      <td>7.56108</td>\n",
       "      <td>9.778374</td>\n",
       "    </tr>\n",
       "    <tr>\n",
       "      <th>9</th>\n",
       "      <td>Biarritz</td>\n",
       "      <td>0.0820</td>\n",
       "      <td>2024-04-04 07:12:00</td>\n",
       "      <td>15.4736</td>\n",
       "      <td>3.7620</td>\n",
       "      <td>43.4833</td>\n",
       "      <td>-1.5593</td>\n",
       "      <td>7.32780</td>\n",
       "      <td>9.112127</td>\n",
       "    </tr>\n",
       "    <tr>\n",
       "      <th>5</th>\n",
       "      <td>Avignon</td>\n",
       "      <td>0.0296</td>\n",
       "      <td>2024-04-04 07:12:00</td>\n",
       "      <td>15.2968</td>\n",
       "      <td>3.4832</td>\n",
       "      <td>43.9492</td>\n",
       "      <td>4.8059</td>\n",
       "      <td>7.28824</td>\n",
       "      <td>8.999143</td>\n",
       "    </tr>\n",
       "  </tbody>\n",
       "</table>\n",
       "</div>"
      ],
      "text/plain": [
       "                   city     pop              dt_txt  main.feels_like  \\\n",
       "21            Le Limpou  0.0840 2024-04-04 07:12:00          16.0080   \n",
       "13            Collioure  0.0144 2024-04-04 07:12:00          16.0088   \n",
       "31  Tarascon-sur-Ariège  0.0560 2024-04-04 07:12:00          15.6304   \n",
       "9              Biarritz  0.0820 2024-04-04 07:12:00          15.4736   \n",
       "5               Avignon  0.0296 2024-04-04 07:12:00          15.2968   \n",
       "\n",
       "    wind.speed      lat     lon    score       rate  \n",
       "21      3.3172  43.4945 -1.4737  7.63868  10.000000  \n",
       "13      4.0016  42.5251  3.0832  7.59848   9.885189  \n",
       "31      2.3172  42.8458  1.6068  7.56108   9.778374  \n",
       "9       3.7620  43.4833 -1.5593  7.32780   9.112127  \n",
       "5       3.4832  43.9492  4.8059  7.28824   8.999143  "
      ]
     },
     "metadata": {},
     "output_type": "display_data"
    }
   ],
   "source": [
    "weights = {'pop': -0.4, 'main.feels_like': 0.5, 'wind.speed': -0.1}\n",
    "\n",
    "weather_day_mean['score'] = (weather_day_mean['pop'] * weights['pop'] +\n",
    "                             weather_day_mean['main.feels_like'] * weights['main.feels_like'] +\n",
    "                             weather_day_mean['wind.speed'] * weights['wind.speed'])\n",
    "\n",
    "min_score = weather_day_mean['score'].min()\n",
    "max_score = weather_day_mean['score'].max()\n",
    "weather_day_mean['rate'] = 10 * (weather_day_mean['score'] - min_score) / (max_score - min_score)\n",
    "\n",
    "display(weather_day_mean.sort_values('rate',ascending=False).head())"
   ]
  },
  {
   "cell_type": "code",
   "execution_count": 155,
   "metadata": {},
   "outputs": [
    {
     "data": {
      "application/vnd.plotly.v1+json": {
       "config": {
        "plotlyServerURL": "https://plot.ly"
       },
       "data": [
        {
         "customdata": [
          [
           13.8648,
           0.016,
           5.2276,
           6.471582795453248
          ],
          [
           14.9888,
           0.0132,
           3.6016000000000004,
           8.54423944707831
          ],
          [
           12.035599999999999,
           0.4204,
           6.952000000000001,
           2.9050094248015066
          ],
          [
           12.0572,
           0.3428,
           2.2432,
           4.369337979094078
          ],
          [
           11.719166666666666,
           0.3416666666666666,
           4.992916666666667,
           3.102601816416292
          ],
          [
           15.296800000000001,
           0.0296,
           3.4832,
           8.999143199862912
          ],
          [
           8.9332,
           0.0144,
           3.2356,
           0
          ],
          [
           10.776,
           0.5164,
           8.0292,
           0.688981550237049
          ],
          [
           12.0536,
           0.3444,
           4.4916,
           3.720226195236191
          ],
          [
           15.473600000000001,
           0.08199999999999999,
           3.762,
           9.112126577940256
          ],
          [
           13.449200000000001,
           0.0732,
           5.2516,
           5.8059062089449975
          ],
          [
           14.7048,
           0.04,
           5.7172,
           7.503855600616898
          ],
          [
           14.138,
           0.08,
           5.2604,
           6.779231164676986
          ],
          [
           16.008799999999997,
           0.0144,
           4.0016,
           9.8851887816302
          ],
          [
           12.344000000000001,
           0.19760000000000003,
           4.162,
           4.396755583480896
          ],
          [
           11.9252,
           0.2284,
           4.1216,
           3.775061404009826
          ],
          [
           14.572000000000001,
           0.2108,
           2.0704,
           8.160621465699435
          ],
          [
           11.3976,
           0.6016,
           7.550800000000001,
           1.61592505854801
          ],
          [
           12.9904,
           0.1588,
           8.6712,
           4.076312332209975
          ],
          [
           10.9912,
           0.3272,
           6.5864,
           1.624493059918888
          ],
          [
           10.696800000000001,
           0.5568,
           8.4452,
           0.41092134574741845
          ],
          [
           16.008,
           0.084,
           3.3172,
           10
          ],
          [
           11.7448,
           0.4612,
           6.5855999999999995,
           2.547780887644944
          ],
          [
           15.0264,
           0.054799999999999995,
           5.2408,
           8.082252813160453
          ],
          [
           14.488800000000001,
           0.1832,
           4.9776,
           7.243045638887305
          ],
          [
           14.863600000000002,
           0.04279999999999999,
           3.8056,
           8.273376363740221
          ],
          [
           13.9992,
           0.4428,
           5.402,
           6.1261209801793575
          ],
          [
           12.136,
           0.6112,
           6.6284,
           2.9228308676529378
          ],
          [
           9.3988,
           0.21719999999999998,
           3.5388,
           0.3466042154566748
          ],
          [
           13.920399999999999,
           0.016,
           6.0064,
           6.328554292568684
          ],
          [
           11.4904,
           0.49520000000000003,
           8.3384,
           1.645056263209001
          ],
          [
           15.6304,
           0.055999999999999994,
           2.3172,
           9.778374364539898
          ],
          [
           14.7472,
           0.0724,
           5.7028,
           7.531501685040269
          ],
          [
           14.1568,
           0.10439999999999999,
           3.4471999999999996,
           7.296053007368483
          ],
          [
           13.7044,
           0.3116,
           4.8027999999999995,
           6.026160964185754
          ]
         ],
         "hovertemplate": "<b>%{hovertext}</b><br><br>rate=%{marker.color}<br>lat=%{lat}<br>lon=%{lon}<br>main.feels_like=%{customdata[0]}<br>pop=%{customdata[1]}<br>wind.speed=%{customdata[2]}<extra></extra>",
         "hovertext": [
          "Aigues-Mortes",
          "Aix-en-Provence",
          "Amiens",
          "Annecy",
          "Arrondissement de Strasbourg",
          "Avignon",
          "Bauduen",
          "Bayeux",
          "Besançon",
          "Biarritz",
          "Bormes-les-Mimosas",
          "Carcassonne",
          "Cassis",
          "Collioure",
          "Colmar",
          "Eguisheim",
          "Grenoble",
          "Huisnes-sur-Mer",
          "La Rochelle",
          "Larrey",
          "Le Havre",
          "Le Limpou",
          "Lille",
          "Marseille",
          "Montauban",
          "Nîmes",
          "Paris",
          "Rouen",
          "Saint-Hippolyte",
          "Saintes-Maries-de-la-Mer",
          "St-Malo",
          "Tarascon-sur-Ariège",
          "Toulouse",
          "Uzès",
          "Vieux Lyon"
         ],
         "lat": [
          43.5662,
          43.5298,
          49.8942,
          45.8992,
          48.5846,
          43.9492,
          43.74969999999999,
          49.2765,
          47.238,
          43.4833,
          43.1507,
          43.213,
          43.214,
          42.5251,
          48.0778,
          48.0448,
          45.1876,
          48.636,
          46.159099999999995,
          47.3216,
          49.4939,
          43.494499999999995,
          50.6366,
          43.2962,
          44.0176,
          43.837399999999995,
          48.8535,
          49.4405,
          48.2495,
          43.4516,
          48.64950000000001,
          42.8458,
          43.6045,
          44.012100000000004,
          45.7578
         ],
         "legendgroup": "",
         "lon": [
          4.1915,
          5.4475,
          2.2957,
          6.1289,
          7.750699999999999,
          4.8059,
          6.3286,
          -0.7025,
          6.024400000000001,
          -1.5592999999999997,
          6.341899999999999,
          2.3491,
          5.5396,
          3.0831999999999997,
          7.358,
          7.308,
          5.7358,
          -1.5115,
          -1.152,
          5.0415,
          0.10800000000000001,
          -1.4737,
          3.0634999999999994,
          5.37,
          1.355,
          4.3601,
          2.3484,
          1.094,
          7.3455,
          4.4277,
          -2.026,
          1.6068,
          1.4442,
          4.4197,
          4.832
         ],
         "marker": {
          "color": [
           6.471582795453248,
           8.54423944707831,
           2.9050094248015066,
           4.369337979094078,
           3.102601816416292,
           8.999143199862912,
           0,
           0.688981550237049,
           3.720226195236191,
           9.112126577940256,
           5.8059062089449975,
           7.503855600616898,
           6.779231164676986,
           9.8851887816302,
           4.396755583480896,
           3.775061404009826,
           8.160621465699435,
           1.61592505854801,
           4.076312332209975,
           1.624493059918888,
           0.41092134574741845,
           10,
           2.547780887644944,
           8.082252813160453,
           7.243045638887305,
           8.273376363740221,
           6.1261209801793575,
           2.9228308676529378,
           0.3466042154566748,
           6.328554292568684,
           1.645056263209001,
           9.778374364539898,
           7.531501685040269,
           7.296053007368483,
           6.026160964185754
          ],
          "coloraxis": "coloraxis",
          "size": [
           6.471582795453248,
           8.54423944707831,
           2.9050094248015066,
           4.369337979094078,
           3.102601816416292,
           8.999143199862912,
           0,
           0.688981550237049,
           3.720226195236191,
           9.112126577940256,
           5.8059062089449975,
           7.503855600616898,
           6.779231164676986,
           9.8851887816302,
           4.396755583480896,
           3.775061404009826,
           8.160621465699435,
           1.61592505854801,
           4.076312332209975,
           1.624493059918888,
           0.41092134574741845,
           10,
           2.547780887644944,
           8.082252813160453,
           7.243045638887305,
           8.273376363740221,
           6.1261209801793575,
           2.9228308676529378,
           0.3466042154566748,
           6.328554292568684,
           1.645056263209001,
           9.778374364539898,
           7.531501685040269,
           7.296053007368483,
           6.026160964185754
          ],
          "sizemode": "area",
          "sizeref": 0.025
         },
         "mode": "markers",
         "name": "",
         "showlegend": false,
         "subplot": "mapbox",
         "type": "scattermapbox"
        }
       ],
       "layout": {
        "coloraxis": {
         "colorbar": {
          "title": {
           "text": "rate"
          }
         },
         "colorscale": [
          [
           0,
           "white"
          ],
          [
           0.25,
           "yellow"
          ],
          [
           0.5,
           "orange"
          ],
          [
           0.75,
           "red"
          ],
          [
           1,
           "purple"
          ]
         ]
        },
        "height": 600,
        "legend": {
         "itemsizing": "constant",
         "tracegroupgap": 0
        },
        "mapbox": {
         "center": {
          "lat": 47,
          "lon": 2.2
         },
         "domain": {
          "x": [
           0,
           1
          ],
          "y": [
           0,
           1
          ]
         },
         "style": "carto-positron",
         "zoom": 4.5
        },
        "margin": {
         "t": 60
        },
        "template": {
         "data": {
          "bar": [
           {
            "error_x": {
             "color": "#2a3f5f"
            },
            "error_y": {
             "color": "#2a3f5f"
            },
            "marker": {
             "line": {
              "color": "#E5ECF6",
              "width": 0.5
             },
             "pattern": {
              "fillmode": "overlay",
              "size": 10,
              "solidity": 0.2
             }
            },
            "type": "bar"
           }
          ],
          "barpolar": [
           {
            "marker": {
             "line": {
              "color": "#E5ECF6",
              "width": 0.5
             },
             "pattern": {
              "fillmode": "overlay",
              "size": 10,
              "solidity": 0.2
             }
            },
            "type": "barpolar"
           }
          ],
          "carpet": [
           {
            "aaxis": {
             "endlinecolor": "#2a3f5f",
             "gridcolor": "white",
             "linecolor": "white",
             "minorgridcolor": "white",
             "startlinecolor": "#2a3f5f"
            },
            "baxis": {
             "endlinecolor": "#2a3f5f",
             "gridcolor": "white",
             "linecolor": "white",
             "minorgridcolor": "white",
             "startlinecolor": "#2a3f5f"
            },
            "type": "carpet"
           }
          ],
          "choropleth": [
           {
            "colorbar": {
             "outlinewidth": 0,
             "ticks": ""
            },
            "type": "choropleth"
           }
          ],
          "contour": [
           {
            "colorbar": {
             "outlinewidth": 0,
             "ticks": ""
            },
            "colorscale": [
             [
              0,
              "#0d0887"
             ],
             [
              0.1111111111111111,
              "#46039f"
             ],
             [
              0.2222222222222222,
              "#7201a8"
             ],
             [
              0.3333333333333333,
              "#9c179e"
             ],
             [
              0.4444444444444444,
              "#bd3786"
             ],
             [
              0.5555555555555556,
              "#d8576b"
             ],
             [
              0.6666666666666666,
              "#ed7953"
             ],
             [
              0.7777777777777778,
              "#fb9f3a"
             ],
             [
              0.8888888888888888,
              "#fdca26"
             ],
             [
              1,
              "#f0f921"
             ]
            ],
            "type": "contour"
           }
          ],
          "contourcarpet": [
           {
            "colorbar": {
             "outlinewidth": 0,
             "ticks": ""
            },
            "type": "contourcarpet"
           }
          ],
          "heatmap": [
           {
            "colorbar": {
             "outlinewidth": 0,
             "ticks": ""
            },
            "colorscale": [
             [
              0,
              "#0d0887"
             ],
             [
              0.1111111111111111,
              "#46039f"
             ],
             [
              0.2222222222222222,
              "#7201a8"
             ],
             [
              0.3333333333333333,
              "#9c179e"
             ],
             [
              0.4444444444444444,
              "#bd3786"
             ],
             [
              0.5555555555555556,
              "#d8576b"
             ],
             [
              0.6666666666666666,
              "#ed7953"
             ],
             [
              0.7777777777777778,
              "#fb9f3a"
             ],
             [
              0.8888888888888888,
              "#fdca26"
             ],
             [
              1,
              "#f0f921"
             ]
            ],
            "type": "heatmap"
           }
          ],
          "heatmapgl": [
           {
            "colorbar": {
             "outlinewidth": 0,
             "ticks": ""
            },
            "colorscale": [
             [
              0,
              "#0d0887"
             ],
             [
              0.1111111111111111,
              "#46039f"
             ],
             [
              0.2222222222222222,
              "#7201a8"
             ],
             [
              0.3333333333333333,
              "#9c179e"
             ],
             [
              0.4444444444444444,
              "#bd3786"
             ],
             [
              0.5555555555555556,
              "#d8576b"
             ],
             [
              0.6666666666666666,
              "#ed7953"
             ],
             [
              0.7777777777777778,
              "#fb9f3a"
             ],
             [
              0.8888888888888888,
              "#fdca26"
             ],
             [
              1,
              "#f0f921"
             ]
            ],
            "type": "heatmapgl"
           }
          ],
          "histogram": [
           {
            "marker": {
             "pattern": {
              "fillmode": "overlay",
              "size": 10,
              "solidity": 0.2
             }
            },
            "type": "histogram"
           }
          ],
          "histogram2d": [
           {
            "colorbar": {
             "outlinewidth": 0,
             "ticks": ""
            },
            "colorscale": [
             [
              0,
              "#0d0887"
             ],
             [
              0.1111111111111111,
              "#46039f"
             ],
             [
              0.2222222222222222,
              "#7201a8"
             ],
             [
              0.3333333333333333,
              "#9c179e"
             ],
             [
              0.4444444444444444,
              "#bd3786"
             ],
             [
              0.5555555555555556,
              "#d8576b"
             ],
             [
              0.6666666666666666,
              "#ed7953"
             ],
             [
              0.7777777777777778,
              "#fb9f3a"
             ],
             [
              0.8888888888888888,
              "#fdca26"
             ],
             [
              1,
              "#f0f921"
             ]
            ],
            "type": "histogram2d"
           }
          ],
          "histogram2dcontour": [
           {
            "colorbar": {
             "outlinewidth": 0,
             "ticks": ""
            },
            "colorscale": [
             [
              0,
              "#0d0887"
             ],
             [
              0.1111111111111111,
              "#46039f"
             ],
             [
              0.2222222222222222,
              "#7201a8"
             ],
             [
              0.3333333333333333,
              "#9c179e"
             ],
             [
              0.4444444444444444,
              "#bd3786"
             ],
             [
              0.5555555555555556,
              "#d8576b"
             ],
             [
              0.6666666666666666,
              "#ed7953"
             ],
             [
              0.7777777777777778,
              "#fb9f3a"
             ],
             [
              0.8888888888888888,
              "#fdca26"
             ],
             [
              1,
              "#f0f921"
             ]
            ],
            "type": "histogram2dcontour"
           }
          ],
          "mesh3d": [
           {
            "colorbar": {
             "outlinewidth": 0,
             "ticks": ""
            },
            "type": "mesh3d"
           }
          ],
          "parcoords": [
           {
            "line": {
             "colorbar": {
              "outlinewidth": 0,
              "ticks": ""
             }
            },
            "type": "parcoords"
           }
          ],
          "pie": [
           {
            "automargin": true,
            "type": "pie"
           }
          ],
          "scatter": [
           {
            "fillpattern": {
             "fillmode": "overlay",
             "size": 10,
             "solidity": 0.2
            },
            "type": "scatter"
           }
          ],
          "scatter3d": [
           {
            "line": {
             "colorbar": {
              "outlinewidth": 0,
              "ticks": ""
             }
            },
            "marker": {
             "colorbar": {
              "outlinewidth": 0,
              "ticks": ""
             }
            },
            "type": "scatter3d"
           }
          ],
          "scattercarpet": [
           {
            "marker": {
             "colorbar": {
              "outlinewidth": 0,
              "ticks": ""
             }
            },
            "type": "scattercarpet"
           }
          ],
          "scattergeo": [
           {
            "marker": {
             "colorbar": {
              "outlinewidth": 0,
              "ticks": ""
             }
            },
            "type": "scattergeo"
           }
          ],
          "scattergl": [
           {
            "marker": {
             "colorbar": {
              "outlinewidth": 0,
              "ticks": ""
             }
            },
            "type": "scattergl"
           }
          ],
          "scattermapbox": [
           {
            "marker": {
             "colorbar": {
              "outlinewidth": 0,
              "ticks": ""
             }
            },
            "type": "scattermapbox"
           }
          ],
          "scatterpolar": [
           {
            "marker": {
             "colorbar": {
              "outlinewidth": 0,
              "ticks": ""
             }
            },
            "type": "scatterpolar"
           }
          ],
          "scatterpolargl": [
           {
            "marker": {
             "colorbar": {
              "outlinewidth": 0,
              "ticks": ""
             }
            },
            "type": "scatterpolargl"
           }
          ],
          "scatterternary": [
           {
            "marker": {
             "colorbar": {
              "outlinewidth": 0,
              "ticks": ""
             }
            },
            "type": "scatterternary"
           }
          ],
          "surface": [
           {
            "colorbar": {
             "outlinewidth": 0,
             "ticks": ""
            },
            "colorscale": [
             [
              0,
              "#0d0887"
             ],
             [
              0.1111111111111111,
              "#46039f"
             ],
             [
              0.2222222222222222,
              "#7201a8"
             ],
             [
              0.3333333333333333,
              "#9c179e"
             ],
             [
              0.4444444444444444,
              "#bd3786"
             ],
             [
              0.5555555555555556,
              "#d8576b"
             ],
             [
              0.6666666666666666,
              "#ed7953"
             ],
             [
              0.7777777777777778,
              "#fb9f3a"
             ],
             [
              0.8888888888888888,
              "#fdca26"
             ],
             [
              1,
              "#f0f921"
             ]
            ],
            "type": "surface"
           }
          ],
          "table": [
           {
            "cells": {
             "fill": {
              "color": "#EBF0F8"
             },
             "line": {
              "color": "white"
             }
            },
            "header": {
             "fill": {
              "color": "#C8D4E3"
             },
             "line": {
              "color": "white"
             }
            },
            "type": "table"
           }
          ]
         },
         "layout": {
          "annotationdefaults": {
           "arrowcolor": "#2a3f5f",
           "arrowhead": 0,
           "arrowwidth": 1
          },
          "autotypenumbers": "strict",
          "coloraxis": {
           "colorbar": {
            "outlinewidth": 0,
            "ticks": ""
           }
          },
          "colorscale": {
           "diverging": [
            [
             0,
             "#8e0152"
            ],
            [
             0.1,
             "#c51b7d"
            ],
            [
             0.2,
             "#de77ae"
            ],
            [
             0.3,
             "#f1b6da"
            ],
            [
             0.4,
             "#fde0ef"
            ],
            [
             0.5,
             "#f7f7f7"
            ],
            [
             0.6,
             "#e6f5d0"
            ],
            [
             0.7,
             "#b8e186"
            ],
            [
             0.8,
             "#7fbc41"
            ],
            [
             0.9,
             "#4d9221"
            ],
            [
             1,
             "#276419"
            ]
           ],
           "sequential": [
            [
             0,
             "#0d0887"
            ],
            [
             0.1111111111111111,
             "#46039f"
            ],
            [
             0.2222222222222222,
             "#7201a8"
            ],
            [
             0.3333333333333333,
             "#9c179e"
            ],
            [
             0.4444444444444444,
             "#bd3786"
            ],
            [
             0.5555555555555556,
             "#d8576b"
            ],
            [
             0.6666666666666666,
             "#ed7953"
            ],
            [
             0.7777777777777778,
             "#fb9f3a"
            ],
            [
             0.8888888888888888,
             "#fdca26"
            ],
            [
             1,
             "#f0f921"
            ]
           ],
           "sequentialminus": [
            [
             0,
             "#0d0887"
            ],
            [
             0.1111111111111111,
             "#46039f"
            ],
            [
             0.2222222222222222,
             "#7201a8"
            ],
            [
             0.3333333333333333,
             "#9c179e"
            ],
            [
             0.4444444444444444,
             "#bd3786"
            ],
            [
             0.5555555555555556,
             "#d8576b"
            ],
            [
             0.6666666666666666,
             "#ed7953"
            ],
            [
             0.7777777777777778,
             "#fb9f3a"
            ],
            [
             0.8888888888888888,
             "#fdca26"
            ],
            [
             1,
             "#f0f921"
            ]
           ]
          },
          "colorway": [
           "#636efa",
           "#EF553B",
           "#00cc96",
           "#ab63fa",
           "#FFA15A",
           "#19d3f3",
           "#FF6692",
           "#B6E880",
           "#FF97FF",
           "#FECB52"
          ],
          "font": {
           "color": "#2a3f5f"
          },
          "geo": {
           "bgcolor": "white",
           "lakecolor": "white",
           "landcolor": "#E5ECF6",
           "showlakes": true,
           "showland": true,
           "subunitcolor": "white"
          },
          "hoverlabel": {
           "align": "left"
          },
          "hovermode": "closest",
          "mapbox": {
           "style": "light"
          },
          "paper_bgcolor": "white",
          "plot_bgcolor": "#E5ECF6",
          "polar": {
           "angularaxis": {
            "gridcolor": "white",
            "linecolor": "white",
            "ticks": ""
           },
           "bgcolor": "#E5ECF6",
           "radialaxis": {
            "gridcolor": "white",
            "linecolor": "white",
            "ticks": ""
           }
          },
          "scene": {
           "xaxis": {
            "backgroundcolor": "#E5ECF6",
            "gridcolor": "white",
            "gridwidth": 2,
            "linecolor": "white",
            "showbackground": true,
            "ticks": "",
            "zerolinecolor": "white"
           },
           "yaxis": {
            "backgroundcolor": "#E5ECF6",
            "gridcolor": "white",
            "gridwidth": 2,
            "linecolor": "white",
            "showbackground": true,
            "ticks": "",
            "zerolinecolor": "white"
           },
           "zaxis": {
            "backgroundcolor": "#E5ECF6",
            "gridcolor": "white",
            "gridwidth": 2,
            "linecolor": "white",
            "showbackground": true,
            "ticks": "",
            "zerolinecolor": "white"
           }
          },
          "shapedefaults": {
           "line": {
            "color": "#2a3f5f"
           }
          },
          "ternary": {
           "aaxis": {
            "gridcolor": "white",
            "linecolor": "white",
            "ticks": ""
           },
           "baxis": {
            "gridcolor": "white",
            "linecolor": "white",
            "ticks": ""
           },
           "bgcolor": "#E5ECF6",
           "caxis": {
            "gridcolor": "white",
            "linecolor": "white",
            "ticks": ""
           }
          },
          "title": {
           "x": 0.05
          },
          "xaxis": {
           "automargin": true,
           "gridcolor": "white",
           "linecolor": "white",
           "ticks": "",
           "title": {
            "standoff": 15
           },
           "zerolinecolor": "white",
           "zerolinewidth": 2
          },
          "yaxis": {
           "automargin": true,
           "gridcolor": "white",
           "linecolor": "white",
           "ticks": "",
           "title": {
            "standoff": 15
           },
           "zerolinecolor": "white",
           "zerolinewidth": 2
          }
         }
        },
        "width": 1066.6666666666667
       }
      }
     },
     "metadata": {},
     "output_type": "display_data"
    }
   ],
   "source": [
    "fig = px.scatter_mapbox(weather_day_mean,\n",
    "                        lat='lat',\n",
    "                        lon='lon',\n",
    "                        color='rate',\n",
    "                        size='rate',\n",
    "                        center=dict(lat=47, lon=2.2),\n",
    "                        zoom=4.5,\n",
    "                        color_continuous_scale=['white', 'yellow','orange', 'red','purple'],\n",
    "                        mapbox_style='carto-positron',\n",
    "                        hover_name='city',\n",
    "                        hover_data=['main.feels_like', \"pop\", \"wind.speed\", \"rate\"],\n",
    "                        height=600,\n",
    "                        width=600*16/9)\n",
    "\n",
    "fig.show()"
   ]
  },
  {
   "cell_type": "code",
   "execution_count": 154,
   "metadata": {},
   "outputs": [
    {
     "data": {
      "text/plain": [
       "21              Le Limpou\n",
       "13              Collioure\n",
       "31    Tarascon-sur-Ariège\n",
       "9                Biarritz\n",
       "5                 Avignon\n",
       "Name: city, dtype: object"
      ]
     },
     "execution_count": 154,
     "metadata": {},
     "output_type": "execute_result"
    }
   ],
   "source": [
    "top5_cities = weather_day_mean.sort_values('rate',ascending=False).head()\n",
    "top5_cities['city']"
   ]
  },
  {
   "cell_type": "code",
   "execution_count": 150,
   "metadata": {},
   "outputs": [
    {
     "data": {
      "application/vnd.plotly.v1+json": {
       "config": {
        "plotlyServerURL": "https://plot.ly"
       },
       "data": [
        {
         "customdata": [
          [
           16.008,
           0.084,
           3.3172,
           10
          ],
          [
           16.008799999999997,
           0.0144,
           4.0016,
           9.8851887816302
          ],
          [
           15.6304,
           0.055999999999999994,
           2.3172,
           9.778374364539898
          ],
          [
           15.473600000000001,
           0.08199999999999999,
           3.762,
           9.112126577940256
          ],
          [
           15.296800000000001,
           0.0296,
           3.4832,
           8.999143199862912
          ]
         ],
         "hovertemplate": "<b>%{hovertext}</b><br><br>rate=%{marker.color}<br>city=%{text}<br>lat=%{lat}<br>lon=%{lon}<br>main.feels_like=%{customdata[0]}<br>pop=%{customdata[1]}<br>wind.speed=%{customdata[2]}<extra></extra>",
         "hovertext": [
          "Le Limpou",
          "Collioure",
          "Tarascon-sur-Ariège",
          "Biarritz",
          "Avignon"
         ],
         "lat": [
          43.494499999999995,
          42.5251,
          42.8458,
          43.4833,
          43.9492
         ],
         "legendgroup": "",
         "lon": [
          -1.4737,
          3.0831999999999997,
          1.6068,
          -1.5592999999999997,
          4.8059
         ],
         "marker": {
          "color": [
           10,
           9.8851887816302,
           9.778374364539898,
           9.112126577940256,
           8.999143199862912
          ],
          "coloraxis": "coloraxis",
          "size": [
           10,
           9.8851887816302,
           9.778374364539898,
           9.112126577940256,
           8.999143199862912
          ],
          "sizemode": "area",
          "sizeref": 0.025
         },
         "mode": "markers+text",
         "name": "",
         "showlegend": false,
         "subplot": "mapbox",
         "text": [
          "Le Limpou",
          "Collioure",
          "Tarascon-sur-Ariège",
          "Biarritz",
          "Avignon"
         ],
         "type": "scattermapbox"
        }
       ],
       "layout": {
        "coloraxis": {
         "colorbar": {
          "title": {
           "text": "rate"
          }
         },
         "colorscale": [
          [
           0,
           "white"
          ],
          [
           0.25,
           "yellow"
          ],
          [
           0.5,
           "orange"
          ],
          [
           0.75,
           "red"
          ],
          [
           1,
           "purple"
          ]
         ]
        },
        "height": 600,
        "legend": {
         "itemsizing": "constant",
         "tracegroupgap": 0
        },
        "mapbox": {
         "center": {
          "lat": 43.25958,
          "lon": 1.29258
         },
         "domain": {
          "x": [
           0,
           1
          ],
          "y": [
           0,
           1
          ]
         },
         "style": "carto-positron",
         "zoom": 6
        },
        "margin": {
         "t": 60
        },
        "template": {
         "data": {
          "bar": [
           {
            "error_x": {
             "color": "#2a3f5f"
            },
            "error_y": {
             "color": "#2a3f5f"
            },
            "marker": {
             "line": {
              "color": "#E5ECF6",
              "width": 0.5
             },
             "pattern": {
              "fillmode": "overlay",
              "size": 10,
              "solidity": 0.2
             }
            },
            "type": "bar"
           }
          ],
          "barpolar": [
           {
            "marker": {
             "line": {
              "color": "#E5ECF6",
              "width": 0.5
             },
             "pattern": {
              "fillmode": "overlay",
              "size": 10,
              "solidity": 0.2
             }
            },
            "type": "barpolar"
           }
          ],
          "carpet": [
           {
            "aaxis": {
             "endlinecolor": "#2a3f5f",
             "gridcolor": "white",
             "linecolor": "white",
             "minorgridcolor": "white",
             "startlinecolor": "#2a3f5f"
            },
            "baxis": {
             "endlinecolor": "#2a3f5f",
             "gridcolor": "white",
             "linecolor": "white",
             "minorgridcolor": "white",
             "startlinecolor": "#2a3f5f"
            },
            "type": "carpet"
           }
          ],
          "choropleth": [
           {
            "colorbar": {
             "outlinewidth": 0,
             "ticks": ""
            },
            "type": "choropleth"
           }
          ],
          "contour": [
           {
            "colorbar": {
             "outlinewidth": 0,
             "ticks": ""
            },
            "colorscale": [
             [
              0,
              "#0d0887"
             ],
             [
              0.1111111111111111,
              "#46039f"
             ],
             [
              0.2222222222222222,
              "#7201a8"
             ],
             [
              0.3333333333333333,
              "#9c179e"
             ],
             [
              0.4444444444444444,
              "#bd3786"
             ],
             [
              0.5555555555555556,
              "#d8576b"
             ],
             [
              0.6666666666666666,
              "#ed7953"
             ],
             [
              0.7777777777777778,
              "#fb9f3a"
             ],
             [
              0.8888888888888888,
              "#fdca26"
             ],
             [
              1,
              "#f0f921"
             ]
            ],
            "type": "contour"
           }
          ],
          "contourcarpet": [
           {
            "colorbar": {
             "outlinewidth": 0,
             "ticks": ""
            },
            "type": "contourcarpet"
           }
          ],
          "heatmap": [
           {
            "colorbar": {
             "outlinewidth": 0,
             "ticks": ""
            },
            "colorscale": [
             [
              0,
              "#0d0887"
             ],
             [
              0.1111111111111111,
              "#46039f"
             ],
             [
              0.2222222222222222,
              "#7201a8"
             ],
             [
              0.3333333333333333,
              "#9c179e"
             ],
             [
              0.4444444444444444,
              "#bd3786"
             ],
             [
              0.5555555555555556,
              "#d8576b"
             ],
             [
              0.6666666666666666,
              "#ed7953"
             ],
             [
              0.7777777777777778,
              "#fb9f3a"
             ],
             [
              0.8888888888888888,
              "#fdca26"
             ],
             [
              1,
              "#f0f921"
             ]
            ],
            "type": "heatmap"
           }
          ],
          "heatmapgl": [
           {
            "colorbar": {
             "outlinewidth": 0,
             "ticks": ""
            },
            "colorscale": [
             [
              0,
              "#0d0887"
             ],
             [
              0.1111111111111111,
              "#46039f"
             ],
             [
              0.2222222222222222,
              "#7201a8"
             ],
             [
              0.3333333333333333,
              "#9c179e"
             ],
             [
              0.4444444444444444,
              "#bd3786"
             ],
             [
              0.5555555555555556,
              "#d8576b"
             ],
             [
              0.6666666666666666,
              "#ed7953"
             ],
             [
              0.7777777777777778,
              "#fb9f3a"
             ],
             [
              0.8888888888888888,
              "#fdca26"
             ],
             [
              1,
              "#f0f921"
             ]
            ],
            "type": "heatmapgl"
           }
          ],
          "histogram": [
           {
            "marker": {
             "pattern": {
              "fillmode": "overlay",
              "size": 10,
              "solidity": 0.2
             }
            },
            "type": "histogram"
           }
          ],
          "histogram2d": [
           {
            "colorbar": {
             "outlinewidth": 0,
             "ticks": ""
            },
            "colorscale": [
             [
              0,
              "#0d0887"
             ],
             [
              0.1111111111111111,
              "#46039f"
             ],
             [
              0.2222222222222222,
              "#7201a8"
             ],
             [
              0.3333333333333333,
              "#9c179e"
             ],
             [
              0.4444444444444444,
              "#bd3786"
             ],
             [
              0.5555555555555556,
              "#d8576b"
             ],
             [
              0.6666666666666666,
              "#ed7953"
             ],
             [
              0.7777777777777778,
              "#fb9f3a"
             ],
             [
              0.8888888888888888,
              "#fdca26"
             ],
             [
              1,
              "#f0f921"
             ]
            ],
            "type": "histogram2d"
           }
          ],
          "histogram2dcontour": [
           {
            "colorbar": {
             "outlinewidth": 0,
             "ticks": ""
            },
            "colorscale": [
             [
              0,
              "#0d0887"
             ],
             [
              0.1111111111111111,
              "#46039f"
             ],
             [
              0.2222222222222222,
              "#7201a8"
             ],
             [
              0.3333333333333333,
              "#9c179e"
             ],
             [
              0.4444444444444444,
              "#bd3786"
             ],
             [
              0.5555555555555556,
              "#d8576b"
             ],
             [
              0.6666666666666666,
              "#ed7953"
             ],
             [
              0.7777777777777778,
              "#fb9f3a"
             ],
             [
              0.8888888888888888,
              "#fdca26"
             ],
             [
              1,
              "#f0f921"
             ]
            ],
            "type": "histogram2dcontour"
           }
          ],
          "mesh3d": [
           {
            "colorbar": {
             "outlinewidth": 0,
             "ticks": ""
            },
            "type": "mesh3d"
           }
          ],
          "parcoords": [
           {
            "line": {
             "colorbar": {
              "outlinewidth": 0,
              "ticks": ""
             }
            },
            "type": "parcoords"
           }
          ],
          "pie": [
           {
            "automargin": true,
            "type": "pie"
           }
          ],
          "scatter": [
           {
            "fillpattern": {
             "fillmode": "overlay",
             "size": 10,
             "solidity": 0.2
            },
            "type": "scatter"
           }
          ],
          "scatter3d": [
           {
            "line": {
             "colorbar": {
              "outlinewidth": 0,
              "ticks": ""
             }
            },
            "marker": {
             "colorbar": {
              "outlinewidth": 0,
              "ticks": ""
             }
            },
            "type": "scatter3d"
           }
          ],
          "scattercarpet": [
           {
            "marker": {
             "colorbar": {
              "outlinewidth": 0,
              "ticks": ""
             }
            },
            "type": "scattercarpet"
           }
          ],
          "scattergeo": [
           {
            "marker": {
             "colorbar": {
              "outlinewidth": 0,
              "ticks": ""
             }
            },
            "type": "scattergeo"
           }
          ],
          "scattergl": [
           {
            "marker": {
             "colorbar": {
              "outlinewidth": 0,
              "ticks": ""
             }
            },
            "type": "scattergl"
           }
          ],
          "scattermapbox": [
           {
            "marker": {
             "colorbar": {
              "outlinewidth": 0,
              "ticks": ""
             }
            },
            "type": "scattermapbox"
           }
          ],
          "scatterpolar": [
           {
            "marker": {
             "colorbar": {
              "outlinewidth": 0,
              "ticks": ""
             }
            },
            "type": "scatterpolar"
           }
          ],
          "scatterpolargl": [
           {
            "marker": {
             "colorbar": {
              "outlinewidth": 0,
              "ticks": ""
             }
            },
            "type": "scatterpolargl"
           }
          ],
          "scatterternary": [
           {
            "marker": {
             "colorbar": {
              "outlinewidth": 0,
              "ticks": ""
             }
            },
            "type": "scatterternary"
           }
          ],
          "surface": [
           {
            "colorbar": {
             "outlinewidth": 0,
             "ticks": ""
            },
            "colorscale": [
             [
              0,
              "#0d0887"
             ],
             [
              0.1111111111111111,
              "#46039f"
             ],
             [
              0.2222222222222222,
              "#7201a8"
             ],
             [
              0.3333333333333333,
              "#9c179e"
             ],
             [
              0.4444444444444444,
              "#bd3786"
             ],
             [
              0.5555555555555556,
              "#d8576b"
             ],
             [
              0.6666666666666666,
              "#ed7953"
             ],
             [
              0.7777777777777778,
              "#fb9f3a"
             ],
             [
              0.8888888888888888,
              "#fdca26"
             ],
             [
              1,
              "#f0f921"
             ]
            ],
            "type": "surface"
           }
          ],
          "table": [
           {
            "cells": {
             "fill": {
              "color": "#EBF0F8"
             },
             "line": {
              "color": "white"
             }
            },
            "header": {
             "fill": {
              "color": "#C8D4E3"
             },
             "line": {
              "color": "white"
             }
            },
            "type": "table"
           }
          ]
         },
         "layout": {
          "annotationdefaults": {
           "arrowcolor": "#2a3f5f",
           "arrowhead": 0,
           "arrowwidth": 1
          },
          "autotypenumbers": "strict",
          "coloraxis": {
           "colorbar": {
            "outlinewidth": 0,
            "ticks": ""
           }
          },
          "colorscale": {
           "diverging": [
            [
             0,
             "#8e0152"
            ],
            [
             0.1,
             "#c51b7d"
            ],
            [
             0.2,
             "#de77ae"
            ],
            [
             0.3,
             "#f1b6da"
            ],
            [
             0.4,
             "#fde0ef"
            ],
            [
             0.5,
             "#f7f7f7"
            ],
            [
             0.6,
             "#e6f5d0"
            ],
            [
             0.7,
             "#b8e186"
            ],
            [
             0.8,
             "#7fbc41"
            ],
            [
             0.9,
             "#4d9221"
            ],
            [
             1,
             "#276419"
            ]
           ],
           "sequential": [
            [
             0,
             "#0d0887"
            ],
            [
             0.1111111111111111,
             "#46039f"
            ],
            [
             0.2222222222222222,
             "#7201a8"
            ],
            [
             0.3333333333333333,
             "#9c179e"
            ],
            [
             0.4444444444444444,
             "#bd3786"
            ],
            [
             0.5555555555555556,
             "#d8576b"
            ],
            [
             0.6666666666666666,
             "#ed7953"
            ],
            [
             0.7777777777777778,
             "#fb9f3a"
            ],
            [
             0.8888888888888888,
             "#fdca26"
            ],
            [
             1,
             "#f0f921"
            ]
           ],
           "sequentialminus": [
            [
             0,
             "#0d0887"
            ],
            [
             0.1111111111111111,
             "#46039f"
            ],
            [
             0.2222222222222222,
             "#7201a8"
            ],
            [
             0.3333333333333333,
             "#9c179e"
            ],
            [
             0.4444444444444444,
             "#bd3786"
            ],
            [
             0.5555555555555556,
             "#d8576b"
            ],
            [
             0.6666666666666666,
             "#ed7953"
            ],
            [
             0.7777777777777778,
             "#fb9f3a"
            ],
            [
             0.8888888888888888,
             "#fdca26"
            ],
            [
             1,
             "#f0f921"
            ]
           ]
          },
          "colorway": [
           "#636efa",
           "#EF553B",
           "#00cc96",
           "#ab63fa",
           "#FFA15A",
           "#19d3f3",
           "#FF6692",
           "#B6E880",
           "#FF97FF",
           "#FECB52"
          ],
          "font": {
           "color": "#2a3f5f"
          },
          "geo": {
           "bgcolor": "white",
           "lakecolor": "white",
           "landcolor": "#E5ECF6",
           "showlakes": true,
           "showland": true,
           "subunitcolor": "white"
          },
          "hoverlabel": {
           "align": "left"
          },
          "hovermode": "closest",
          "mapbox": {
           "style": "light"
          },
          "paper_bgcolor": "white",
          "plot_bgcolor": "#E5ECF6",
          "polar": {
           "angularaxis": {
            "gridcolor": "white",
            "linecolor": "white",
            "ticks": ""
           },
           "bgcolor": "#E5ECF6",
           "radialaxis": {
            "gridcolor": "white",
            "linecolor": "white",
            "ticks": ""
           }
          },
          "scene": {
           "xaxis": {
            "backgroundcolor": "#E5ECF6",
            "gridcolor": "white",
            "gridwidth": 2,
            "linecolor": "white",
            "showbackground": true,
            "ticks": "",
            "zerolinecolor": "white"
           },
           "yaxis": {
            "backgroundcolor": "#E5ECF6",
            "gridcolor": "white",
            "gridwidth": 2,
            "linecolor": "white",
            "showbackground": true,
            "ticks": "",
            "zerolinecolor": "white"
           },
           "zaxis": {
            "backgroundcolor": "#E5ECF6",
            "gridcolor": "white",
            "gridwidth": 2,
            "linecolor": "white",
            "showbackground": true,
            "ticks": "",
            "zerolinecolor": "white"
           }
          },
          "shapedefaults": {
           "line": {
            "color": "#2a3f5f"
           }
          },
          "ternary": {
           "aaxis": {
            "gridcolor": "white",
            "linecolor": "white",
            "ticks": ""
           },
           "baxis": {
            "gridcolor": "white",
            "linecolor": "white",
            "ticks": ""
           },
           "bgcolor": "#E5ECF6",
           "caxis": {
            "gridcolor": "white",
            "linecolor": "white",
            "ticks": ""
           }
          },
          "title": {
           "x": 0.05
          },
          "xaxis": {
           "automargin": true,
           "gridcolor": "white",
           "linecolor": "white",
           "ticks": "",
           "title": {
            "standoff": 15
           },
           "zerolinecolor": "white",
           "zerolinewidth": 2
          },
          "yaxis": {
           "automargin": true,
           "gridcolor": "white",
           "linecolor": "white",
           "ticks": "",
           "title": {
            "standoff": 15
           },
           "zerolinecolor": "white",
           "zerolinewidth": 2
          }
         }
        },
        "width": 1066.6666666666667
       }
      }
     },
     "metadata": {},
     "output_type": "display_data"
    }
   ],
   "source": [
    "\n",
    "fig = px.scatter_mapbox(top5_cities,\n",
    "                        lat='lat',\n",
    "                        lon='lon',\n",
    "                        color='rate',\n",
    "                        size='rate',\n",
    "                        center=dict(lat=top5_cities['lat'].mean(), lon=top5_cities['lon'].mean()),\n",
    "                        zoom=6,\n",
    "                        color_continuous_scale=['white', 'yellow','orange', 'red','purple'],\n",
    "                        mapbox_style='carto-positron',\n",
    "                        text='city',\n",
    "                        hover_name='city',\n",
    "                        hover_data=['main.feels_like', \"pop\", \"wind.speed\", \"rate\"],\n",
    "                        height=600,\n",
    "                        width=600*16/9)\n",
    "\n",
    "\n",
    "fig.show()"
   ]
  },
  {
   "cell_type": "code",
   "execution_count": null,
   "metadata": {},
   "outputs": [],
   "source": []
  }
 ],
 "metadata": {
  "kernelspec": {
   "display_name": "env",
   "language": "python",
   "name": "python3"
  },
  "language_info": {
   "codemirror_mode": {
    "name": "ipython",
    "version": 3
   },
   "file_extension": ".py",
   "mimetype": "text/x-python",
   "name": "python",
   "nbconvert_exporter": "python",
   "pygments_lexer": "ipython3",
   "version": "3.8.10"
  }
 },
 "nbformat": 4,
 "nbformat_minor": 2
}
