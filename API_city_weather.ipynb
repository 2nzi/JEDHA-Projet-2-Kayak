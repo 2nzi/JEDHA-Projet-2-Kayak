{
 "cells": [
  {
   "cell_type": "markdown",
   "metadata": {},
   "source": [
    "# City and Weather API's"
   ]
  },
  {
   "cell_type": "markdown",
   "metadata": {},
   "source": [
    "## City API"
   ]
  },
  {
   "cell_type": "code",
   "execution_count": 1,
   "metadata": {},
   "outputs": [],
   "source": [
    "import pandas as pd\n",
    "import os\n",
    "local_project_path = r'C:\\Users\\antoi\\\\Documents\\\\Work&Learn\\\\JEDHA\\\\M03-DataCollection_Managment\\\\JEDHA-Projet-2-Kayak\\\\'\n",
    "path = local_project_path+'datas'\n",
    "\n",
    "chemin_fichier_csv = path+\"./city.csv\"\n",
    "df = pd.read_csv(chemin_fichier_csv, header=None, names=['city','nan'])\n",
    "cities = df['city'].str.replace(' ', '-').tolist()\n",
    "\n",
    "# list(cities)"
   ]
  },
  {
   "cell_type": "code",
   "execution_count": 2,
   "metadata": {},
   "outputs": [],
   "source": [
    "import requests\n",
    "\n",
    "api_url = 'https://nominatim.openstreetmap.org/search'\n",
    "\n",
    "enriched_cities = []\n",
    "\n",
    "for city in cities:\n",
    "\n",
    "    payload = {\n",
    "        'city' : city,\n",
    "        'limit' : 1,\n",
    "        'country' : 'france',\n",
    "        'country-code' : 'fr',\n",
    "        'format' : 'json'\n",
    "        }\n",
    "    \n",
    "    r_city = requests.get(api_url, \n",
    "                          params=payload)\n",
    "\n",
    "    enriched_cities.append({'city': city,\n",
    "                            'lat' : float(r_city.json()[0]['lat']),\n",
    "                            'lon' : float(r_city.json()[0]['lon'])})\n",
    "    \n",
    "# display(enriched_cities)\n"
   ]
  },
  {
   "cell_type": "code",
   "execution_count": 3,
   "metadata": {},
   "outputs": [],
   "source": [
    "df = pd.DataFrame.from_dict(enriched_cities)"
   ]
  },
  {
   "cell_type": "code",
   "execution_count": 4,
   "metadata": {},
   "outputs": [
    {
     "data": {
      "application/vnd.plotly.v1+json": {
       "config": {
        "plotlyServerURL": "https://plot.ly"
       },
       "data": [
        {
         "hovertemplate": "<b>%{hovertext}</b><br><br>lat=%{lat}<br>lon=%{lon}<extra></extra>",
         "hovertext": [
          "Mont-Saint-Michel",
          "St-Malo",
          "Bayeux",
          "Le-Havre",
          "Rouen",
          "Paris",
          "Amiens",
          "Lille",
          "Strasbourg",
          "Chateau-du-Haut-Koenigsbourg",
          "Colmar",
          "Eguisheim",
          "Besancon",
          "Dijon",
          "Annecy",
          "Grenoble",
          "Lyon",
          "Gorges-du-Verdon",
          "Bormes-les-Mimosas",
          "Cassis",
          "Marseille",
          "Aix-en-Provence",
          "Avignon",
          "Uzes",
          "Nimes",
          "Aigues-Mortes",
          "Saintes-Maries-de-la-mer",
          "Collioure",
          "Carcassonne",
          "Ariege",
          "Toulouse",
          "Montauban",
          "Biarritz",
          "Bayonne",
          "La-Rochelle"
         ],
         "lat": [
          48.6359541,
          48.649518,
          49.2764624,
          49.4938975,
          49.4404591,
          48.8534951,
          49.8941708,
          50.6365654,
          48.584614,
          48.2495226,
          48.0777517,
          48.0447968,
          47.2380222,
          47.3215806,
          45.8992348,
          45.1875602,
          45.7578137,
          43.7496562,
          43.1506968,
          43.2140359,
          43.2961743,
          43.5298424,
          43.9492493,
          44.0121279,
          43.8374249,
          43.5661521,
          43.4515922,
          42.52505,
          43.2130358,
          42.8458016,
          43.6044622,
          44.0175835,
          43.4832523,
          43.4945144,
          46.1591126
         ],
         "legendgroup": "",
         "lon": [
          -1.511459954959514,
          -2.0260409,
          -0.7024738,
          0.1079732,
          1.0939658,
          2.3483915,
          2.2956951,
          3.0635282,
          7.7507127,
          7.3454923,
          7.3579641,
          7.3079618,
          6.0243622,
          5.0414701,
          6.1288847,
          5.7357819,
          4.8320114,
          6.3285616,
          6.3419285,
          5.5396318,
          5.3699525,
          5.4474738,
          4.8059012,
          4.4196718,
          4.3600687,
          4.19154,
          4.4277202,
          3.0831554,
          2.3491069,
          1.6067586,
          1.4442469,
          1.3549991,
          -1.5592776,
          -1.4736657,
          -1.1520434
         ],
         "marker": {
          "color": "#636efa"
         },
         "mode": "markers",
         "name": "",
         "showlegend": false,
         "subplot": "mapbox",
         "type": "scattermapbox"
        }
       ],
       "layout": {
        "height": 600,
        "legend": {
         "tracegroupgap": 0
        },
        "mapbox": {
         "center": {
          "lat": 46.2,
          "lon": 2.2
         },
         "domain": {
          "x": [
           0,
           1
          ],
          "y": [
           0,
           1
          ]
         },
         "style": "carto-positron",
         "zoom": 4
        },
        "margin": {
         "t": 60
        },
        "template": {
         "data": {
          "bar": [
           {
            "error_x": {
             "color": "#2a3f5f"
            },
            "error_y": {
             "color": "#2a3f5f"
            },
            "marker": {
             "line": {
              "color": "#E5ECF6",
              "width": 0.5
             },
             "pattern": {
              "fillmode": "overlay",
              "size": 10,
              "solidity": 0.2
             }
            },
            "type": "bar"
           }
          ],
          "barpolar": [
           {
            "marker": {
             "line": {
              "color": "#E5ECF6",
              "width": 0.5
             },
             "pattern": {
              "fillmode": "overlay",
              "size": 10,
              "solidity": 0.2
             }
            },
            "type": "barpolar"
           }
          ],
          "carpet": [
           {
            "aaxis": {
             "endlinecolor": "#2a3f5f",
             "gridcolor": "white",
             "linecolor": "white",
             "minorgridcolor": "white",
             "startlinecolor": "#2a3f5f"
            },
            "baxis": {
             "endlinecolor": "#2a3f5f",
             "gridcolor": "white",
             "linecolor": "white",
             "minorgridcolor": "white",
             "startlinecolor": "#2a3f5f"
            },
            "type": "carpet"
           }
          ],
          "choropleth": [
           {
            "colorbar": {
             "outlinewidth": 0,
             "ticks": ""
            },
            "type": "choropleth"
           }
          ],
          "contour": [
           {
            "colorbar": {
             "outlinewidth": 0,
             "ticks": ""
            },
            "colorscale": [
             [
              0,
              "#0d0887"
             ],
             [
              0.1111111111111111,
              "#46039f"
             ],
             [
              0.2222222222222222,
              "#7201a8"
             ],
             [
              0.3333333333333333,
              "#9c179e"
             ],
             [
              0.4444444444444444,
              "#bd3786"
             ],
             [
              0.5555555555555556,
              "#d8576b"
             ],
             [
              0.6666666666666666,
              "#ed7953"
             ],
             [
              0.7777777777777778,
              "#fb9f3a"
             ],
             [
              0.8888888888888888,
              "#fdca26"
             ],
             [
              1,
              "#f0f921"
             ]
            ],
            "type": "contour"
           }
          ],
          "contourcarpet": [
           {
            "colorbar": {
             "outlinewidth": 0,
             "ticks": ""
            },
            "type": "contourcarpet"
           }
          ],
          "heatmap": [
           {
            "colorbar": {
             "outlinewidth": 0,
             "ticks": ""
            },
            "colorscale": [
             [
              0,
              "#0d0887"
             ],
             [
              0.1111111111111111,
              "#46039f"
             ],
             [
              0.2222222222222222,
              "#7201a8"
             ],
             [
              0.3333333333333333,
              "#9c179e"
             ],
             [
              0.4444444444444444,
              "#bd3786"
             ],
             [
              0.5555555555555556,
              "#d8576b"
             ],
             [
              0.6666666666666666,
              "#ed7953"
             ],
             [
              0.7777777777777778,
              "#fb9f3a"
             ],
             [
              0.8888888888888888,
              "#fdca26"
             ],
             [
              1,
              "#f0f921"
             ]
            ],
            "type": "heatmap"
           }
          ],
          "heatmapgl": [
           {
            "colorbar": {
             "outlinewidth": 0,
             "ticks": ""
            },
            "colorscale": [
             [
              0,
              "#0d0887"
             ],
             [
              0.1111111111111111,
              "#46039f"
             ],
             [
              0.2222222222222222,
              "#7201a8"
             ],
             [
              0.3333333333333333,
              "#9c179e"
             ],
             [
              0.4444444444444444,
              "#bd3786"
             ],
             [
              0.5555555555555556,
              "#d8576b"
             ],
             [
              0.6666666666666666,
              "#ed7953"
             ],
             [
              0.7777777777777778,
              "#fb9f3a"
             ],
             [
              0.8888888888888888,
              "#fdca26"
             ],
             [
              1,
              "#f0f921"
             ]
            ],
            "type": "heatmapgl"
           }
          ],
          "histogram": [
           {
            "marker": {
             "pattern": {
              "fillmode": "overlay",
              "size": 10,
              "solidity": 0.2
             }
            },
            "type": "histogram"
           }
          ],
          "histogram2d": [
           {
            "colorbar": {
             "outlinewidth": 0,
             "ticks": ""
            },
            "colorscale": [
             [
              0,
              "#0d0887"
             ],
             [
              0.1111111111111111,
              "#46039f"
             ],
             [
              0.2222222222222222,
              "#7201a8"
             ],
             [
              0.3333333333333333,
              "#9c179e"
             ],
             [
              0.4444444444444444,
              "#bd3786"
             ],
             [
              0.5555555555555556,
              "#d8576b"
             ],
             [
              0.6666666666666666,
              "#ed7953"
             ],
             [
              0.7777777777777778,
              "#fb9f3a"
             ],
             [
              0.8888888888888888,
              "#fdca26"
             ],
             [
              1,
              "#f0f921"
             ]
            ],
            "type": "histogram2d"
           }
          ],
          "histogram2dcontour": [
           {
            "colorbar": {
             "outlinewidth": 0,
             "ticks": ""
            },
            "colorscale": [
             [
              0,
              "#0d0887"
             ],
             [
              0.1111111111111111,
              "#46039f"
             ],
             [
              0.2222222222222222,
              "#7201a8"
             ],
             [
              0.3333333333333333,
              "#9c179e"
             ],
             [
              0.4444444444444444,
              "#bd3786"
             ],
             [
              0.5555555555555556,
              "#d8576b"
             ],
             [
              0.6666666666666666,
              "#ed7953"
             ],
             [
              0.7777777777777778,
              "#fb9f3a"
             ],
             [
              0.8888888888888888,
              "#fdca26"
             ],
             [
              1,
              "#f0f921"
             ]
            ],
            "type": "histogram2dcontour"
           }
          ],
          "mesh3d": [
           {
            "colorbar": {
             "outlinewidth": 0,
             "ticks": ""
            },
            "type": "mesh3d"
           }
          ],
          "parcoords": [
           {
            "line": {
             "colorbar": {
              "outlinewidth": 0,
              "ticks": ""
             }
            },
            "type": "parcoords"
           }
          ],
          "pie": [
           {
            "automargin": true,
            "type": "pie"
           }
          ],
          "scatter": [
           {
            "fillpattern": {
             "fillmode": "overlay",
             "size": 10,
             "solidity": 0.2
            },
            "type": "scatter"
           }
          ],
          "scatter3d": [
           {
            "line": {
             "colorbar": {
              "outlinewidth": 0,
              "ticks": ""
             }
            },
            "marker": {
             "colorbar": {
              "outlinewidth": 0,
              "ticks": ""
             }
            },
            "type": "scatter3d"
           }
          ],
          "scattercarpet": [
           {
            "marker": {
             "colorbar": {
              "outlinewidth": 0,
              "ticks": ""
             }
            },
            "type": "scattercarpet"
           }
          ],
          "scattergeo": [
           {
            "marker": {
             "colorbar": {
              "outlinewidth": 0,
              "ticks": ""
             }
            },
            "type": "scattergeo"
           }
          ],
          "scattergl": [
           {
            "marker": {
             "colorbar": {
              "outlinewidth": 0,
              "ticks": ""
             }
            },
            "type": "scattergl"
           }
          ],
          "scattermapbox": [
           {
            "marker": {
             "colorbar": {
              "outlinewidth": 0,
              "ticks": ""
             }
            },
            "type": "scattermapbox"
           }
          ],
          "scatterpolar": [
           {
            "marker": {
             "colorbar": {
              "outlinewidth": 0,
              "ticks": ""
             }
            },
            "type": "scatterpolar"
           }
          ],
          "scatterpolargl": [
           {
            "marker": {
             "colorbar": {
              "outlinewidth": 0,
              "ticks": ""
             }
            },
            "type": "scatterpolargl"
           }
          ],
          "scatterternary": [
           {
            "marker": {
             "colorbar": {
              "outlinewidth": 0,
              "ticks": ""
             }
            },
            "type": "scatterternary"
           }
          ],
          "surface": [
           {
            "colorbar": {
             "outlinewidth": 0,
             "ticks": ""
            },
            "colorscale": [
             [
              0,
              "#0d0887"
             ],
             [
              0.1111111111111111,
              "#46039f"
             ],
             [
              0.2222222222222222,
              "#7201a8"
             ],
             [
              0.3333333333333333,
              "#9c179e"
             ],
             [
              0.4444444444444444,
              "#bd3786"
             ],
             [
              0.5555555555555556,
              "#d8576b"
             ],
             [
              0.6666666666666666,
              "#ed7953"
             ],
             [
              0.7777777777777778,
              "#fb9f3a"
             ],
             [
              0.8888888888888888,
              "#fdca26"
             ],
             [
              1,
              "#f0f921"
             ]
            ],
            "type": "surface"
           }
          ],
          "table": [
           {
            "cells": {
             "fill": {
              "color": "#EBF0F8"
             },
             "line": {
              "color": "white"
             }
            },
            "header": {
             "fill": {
              "color": "#C8D4E3"
             },
             "line": {
              "color": "white"
             }
            },
            "type": "table"
           }
          ]
         },
         "layout": {
          "annotationdefaults": {
           "arrowcolor": "#2a3f5f",
           "arrowhead": 0,
           "arrowwidth": 1
          },
          "autotypenumbers": "strict",
          "coloraxis": {
           "colorbar": {
            "outlinewidth": 0,
            "ticks": ""
           }
          },
          "colorscale": {
           "diverging": [
            [
             0,
             "#8e0152"
            ],
            [
             0.1,
             "#c51b7d"
            ],
            [
             0.2,
             "#de77ae"
            ],
            [
             0.3,
             "#f1b6da"
            ],
            [
             0.4,
             "#fde0ef"
            ],
            [
             0.5,
             "#f7f7f7"
            ],
            [
             0.6,
             "#e6f5d0"
            ],
            [
             0.7,
             "#b8e186"
            ],
            [
             0.8,
             "#7fbc41"
            ],
            [
             0.9,
             "#4d9221"
            ],
            [
             1,
             "#276419"
            ]
           ],
           "sequential": [
            [
             0,
             "#0d0887"
            ],
            [
             0.1111111111111111,
             "#46039f"
            ],
            [
             0.2222222222222222,
             "#7201a8"
            ],
            [
             0.3333333333333333,
             "#9c179e"
            ],
            [
             0.4444444444444444,
             "#bd3786"
            ],
            [
             0.5555555555555556,
             "#d8576b"
            ],
            [
             0.6666666666666666,
             "#ed7953"
            ],
            [
             0.7777777777777778,
             "#fb9f3a"
            ],
            [
             0.8888888888888888,
             "#fdca26"
            ],
            [
             1,
             "#f0f921"
            ]
           ],
           "sequentialminus": [
            [
             0,
             "#0d0887"
            ],
            [
             0.1111111111111111,
             "#46039f"
            ],
            [
             0.2222222222222222,
             "#7201a8"
            ],
            [
             0.3333333333333333,
             "#9c179e"
            ],
            [
             0.4444444444444444,
             "#bd3786"
            ],
            [
             0.5555555555555556,
             "#d8576b"
            ],
            [
             0.6666666666666666,
             "#ed7953"
            ],
            [
             0.7777777777777778,
             "#fb9f3a"
            ],
            [
             0.8888888888888888,
             "#fdca26"
            ],
            [
             1,
             "#f0f921"
            ]
           ]
          },
          "colorway": [
           "#636efa",
           "#EF553B",
           "#00cc96",
           "#ab63fa",
           "#FFA15A",
           "#19d3f3",
           "#FF6692",
           "#B6E880",
           "#FF97FF",
           "#FECB52"
          ],
          "font": {
           "color": "#2a3f5f"
          },
          "geo": {
           "bgcolor": "white",
           "lakecolor": "white",
           "landcolor": "#E5ECF6",
           "showlakes": true,
           "showland": true,
           "subunitcolor": "white"
          },
          "hoverlabel": {
           "align": "left"
          },
          "hovermode": "closest",
          "mapbox": {
           "style": "light"
          },
          "paper_bgcolor": "white",
          "plot_bgcolor": "#E5ECF6",
          "polar": {
           "angularaxis": {
            "gridcolor": "white",
            "linecolor": "white",
            "ticks": ""
           },
           "bgcolor": "#E5ECF6",
           "radialaxis": {
            "gridcolor": "white",
            "linecolor": "white",
            "ticks": ""
           }
          },
          "scene": {
           "xaxis": {
            "backgroundcolor": "#E5ECF6",
            "gridcolor": "white",
            "gridwidth": 2,
            "linecolor": "white",
            "showbackground": true,
            "ticks": "",
            "zerolinecolor": "white"
           },
           "yaxis": {
            "backgroundcolor": "#E5ECF6",
            "gridcolor": "white",
            "gridwidth": 2,
            "linecolor": "white",
            "showbackground": true,
            "ticks": "",
            "zerolinecolor": "white"
           },
           "zaxis": {
            "backgroundcolor": "#E5ECF6",
            "gridcolor": "white",
            "gridwidth": 2,
            "linecolor": "white",
            "showbackground": true,
            "ticks": "",
            "zerolinecolor": "white"
           }
          },
          "shapedefaults": {
           "line": {
            "color": "#2a3f5f"
           }
          },
          "ternary": {
           "aaxis": {
            "gridcolor": "white",
            "linecolor": "white",
            "ticks": ""
           },
           "baxis": {
            "gridcolor": "white",
            "linecolor": "white",
            "ticks": ""
           },
           "bgcolor": "#E5ECF6",
           "caxis": {
            "gridcolor": "white",
            "linecolor": "white",
            "ticks": ""
           }
          },
          "title": {
           "x": 0.05
          },
          "xaxis": {
           "automargin": true,
           "gridcolor": "white",
           "linecolor": "white",
           "ticks": "",
           "title": {
            "standoff": 15
           },
           "zerolinecolor": "white",
           "zerolinewidth": 2
          },
          "yaxis": {
           "automargin": true,
           "gridcolor": "white",
           "linecolor": "white",
           "ticks": "",
           "title": {
            "standoff": 15
           },
           "zerolinecolor": "white",
           "zerolinewidth": 2
          }
         }
        }
       }
      }
     },
     "metadata": {},
     "output_type": "display_data"
    }
   ],
   "source": [
    "import pandas as pd\n",
    "import plotly.express as px\n",
    "fig = px.scatter_mapbox(df,\n",
    "                        lat='lat',\n",
    "                        lon='lon',\n",
    "                        center=dict(lat=46.2, lon=2.2),\n",
    "                        zoom=4,\n",
    "                        mapbox_style='carto-positron',\n",
    "                        hover_name='city',\n",
    "                        height=600)\n",
    "\n",
    "fig.show()"
   ]
  },
  {
   "cell_type": "markdown",
   "metadata": {},
   "source": [
    "## Weather API"
   ]
  },
  {
   "cell_type": "code",
   "execution_count": 5,
   "metadata": {},
   "outputs": [
    {
     "name": "stdout",
     "output_type": "stream",
     "text": [
      "c:\\Users\\antoi\\Documents\\Work&Learn\\JEDHA\\M03-DataCollection_Managment\\JEDHA-Projet-2-Kayak\n"
     ]
    }
   ],
   "source": [
    "print(os.getcwd())\n"
   ]
  },
  {
   "cell_type": "code",
   "execution_count": 6,
   "metadata": {},
   "outputs": [],
   "source": [
    "\n",
    "with open(\"API_key.txt\", \"r\") as file:\n",
    "    API_key = str(file.readline())\n",
    "\n",
    "exclude = 'current,minutely,hourly,alerts'\n",
    "weather_cities = []\n",
    "\n",
    "for city in enriched_cities:\n",
    "    lat = city['lat']\n",
    "    lon = city['lon']\n",
    "    url = f'https://api.openweathermap.org/data/2.5/forecast?lat={lat}&lon={lon}&exclude={exclude}&appid={API_key}&units=metric'\n",
    "    weather_raw = requests.get(url).json()\n",
    "    weather_raw['city']['name'] = city['city']\n",
    "    weather_cities.append(weather_raw)\n",
    "\n",
    "# display(weather_cities)"
   ]
  },
  {
   "cell_type": "code",
   "execution_count": 7,
   "metadata": {},
   "outputs": [
    {
     "data": {
      "text/html": [
       "<div>\n",
       "<style scoped>\n",
       "    .dataframe tbody tr th:only-of-type {\n",
       "        vertical-align: middle;\n",
       "    }\n",
       "\n",
       "    .dataframe tbody tr th {\n",
       "        vertical-align: top;\n",
       "    }\n",
       "\n",
       "    .dataframe thead th {\n",
       "        text-align: right;\n",
       "    }\n",
       "</style>\n",
       "<table border=\"1\" class=\"dataframe\">\n",
       "  <thead>\n",
       "    <tr style=\"text-align: right;\">\n",
       "      <th></th>\n",
       "      <th>cod</th>\n",
       "      <th>message</th>\n",
       "      <th>cnt</th>\n",
       "      <th>list</th>\n",
       "      <th>city.id</th>\n",
       "      <th>city.name</th>\n",
       "      <th>city.coord.lat</th>\n",
       "      <th>city.coord.lon</th>\n",
       "      <th>city.country</th>\n",
       "      <th>city.population</th>\n",
       "      <th>city.timezone</th>\n",
       "      <th>city.sunrise</th>\n",
       "      <th>city.sunset</th>\n",
       "    </tr>\n",
       "  </thead>\n",
       "  <tbody>\n",
       "    <tr>\n",
       "      <th>0</th>\n",
       "      <td>200</td>\n",
       "      <td>0</td>\n",
       "      <td>40</td>\n",
       "      <td>[{'dt': 1712113200, 'main': {'temp': 11.04, 'f...</td>\n",
       "      <td>6435453</td>\n",
       "      <td>Mont-Saint-Michel</td>\n",
       "      <td>48.6360</td>\n",
       "      <td>-1.5115</td>\n",
       "      <td>FR</td>\n",
       "      <td>0</td>\n",
       "      <td>7200</td>\n",
       "      <td>1712122736</td>\n",
       "      <td>1712169548</td>\n",
       "    </tr>\n",
       "    <tr>\n",
       "      <th>1</th>\n",
       "      <td>200</td>\n",
       "      <td>0</td>\n",
       "      <td>40</td>\n",
       "      <td>[{'dt': 1712113200, 'main': {'temp': 11.12, 'f...</td>\n",
       "      <td>2978640</td>\n",
       "      <td>St-Malo</td>\n",
       "      <td>48.6495</td>\n",
       "      <td>-2.0260</td>\n",
       "      <td>FR</td>\n",
       "      <td>50676</td>\n",
       "      <td>7200</td>\n",
       "      <td>1712122859</td>\n",
       "      <td>1712169673</td>\n",
       "    </tr>\n",
       "    <tr>\n",
       "      <th>2</th>\n",
       "      <td>200</td>\n",
       "      <td>0</td>\n",
       "      <td>40</td>\n",
       "      <td>[{'dt': 1712113200, 'main': {'temp': 10.17, 'f...</td>\n",
       "      <td>6447202</td>\n",
       "      <td>Bayeux</td>\n",
       "      <td>49.2765</td>\n",
       "      <td>-0.7025</td>\n",
       "      <td>FR</td>\n",
       "      <td>13911</td>\n",
       "      <td>7200</td>\n",
       "      <td>1712122504</td>\n",
       "      <td>1712169392</td>\n",
       "    </tr>\n",
       "    <tr>\n",
       "      <th>3</th>\n",
       "      <td>200</td>\n",
       "      <td>0</td>\n",
       "      <td>40</td>\n",
       "      <td>[{'dt': 1712113200, 'main': {'temp': 10.42, 'f...</td>\n",
       "      <td>3003796</td>\n",
       "      <td>Le-Havre</td>\n",
       "      <td>49.4939</td>\n",
       "      <td>0.1080</td>\n",
       "      <td>FR</td>\n",
       "      <td>185972</td>\n",
       "      <td>7200</td>\n",
       "      <td>1712122296</td>\n",
       "      <td>1712169211</td>\n",
       "    </tr>\n",
       "    <tr>\n",
       "      <th>4</th>\n",
       "      <td>200</td>\n",
       "      <td>0</td>\n",
       "      <td>40</td>\n",
       "      <td>[{'dt': 1712113200, 'main': {'temp': 10.56, 'f...</td>\n",
       "      <td>2982652</td>\n",
       "      <td>Rouen</td>\n",
       "      <td>49.4405</td>\n",
       "      <td>1.0940</td>\n",
       "      <td>FR</td>\n",
       "      <td>112787</td>\n",
       "      <td>7200</td>\n",
       "      <td>1712122063</td>\n",
       "      <td>1712168971</td>\n",
       "    </tr>\n",
       "  </tbody>\n",
       "</table>\n",
       "</div>"
      ],
      "text/plain": [
       "   cod  message  cnt                                               list  \\\n",
       "0  200        0   40  [{'dt': 1712113200, 'main': {'temp': 11.04, 'f...   \n",
       "1  200        0   40  [{'dt': 1712113200, 'main': {'temp': 11.12, 'f...   \n",
       "2  200        0   40  [{'dt': 1712113200, 'main': {'temp': 10.17, 'f...   \n",
       "3  200        0   40  [{'dt': 1712113200, 'main': {'temp': 10.42, 'f...   \n",
       "4  200        0   40  [{'dt': 1712113200, 'main': {'temp': 10.56, 'f...   \n",
       "\n",
       "   city.id          city.name  city.coord.lat  city.coord.lon city.country  \\\n",
       "0  6435453  Mont-Saint-Michel         48.6360         -1.5115           FR   \n",
       "1  2978640            St-Malo         48.6495         -2.0260           FR   \n",
       "2  6447202             Bayeux         49.2765         -0.7025           FR   \n",
       "3  3003796           Le-Havre         49.4939          0.1080           FR   \n",
       "4  2982652              Rouen         49.4405          1.0940           FR   \n",
       "\n",
       "   city.population  city.timezone  city.sunrise  city.sunset  \n",
       "0                0           7200    1712122736   1712169548  \n",
       "1            50676           7200    1712122859   1712169673  \n",
       "2            13911           7200    1712122504   1712169392  \n",
       "3           185972           7200    1712122296   1712169211  \n",
       "4           112787           7200    1712122063   1712168971  "
      ]
     },
     "execution_count": 7,
     "metadata": {},
     "output_type": "execute_result"
    }
   ],
   "source": [
    "pd.json_normalize(weather_cities).head()"
   ]
  },
  {
   "cell_type": "code",
   "execution_count": 8,
   "metadata": {},
   "outputs": [
    {
     "data": {
      "text/plain": [
       "0                Mont-Saint-Michel\n",
       "1                          St-Malo\n",
       "2                           Bayeux\n",
       "3                         Le-Havre\n",
       "4                            Rouen\n",
       "5                            Paris\n",
       "6                           Amiens\n",
       "7                            Lille\n",
       "8                       Strasbourg\n",
       "9     Chateau-du-Haut-Koenigsbourg\n",
       "10                          Colmar\n",
       "11                       Eguisheim\n",
       "12                        Besancon\n",
       "13                           Dijon\n",
       "14                          Annecy\n",
       "15                        Grenoble\n",
       "16                            Lyon\n",
       "17                Gorges-du-Verdon\n",
       "18              Bormes-les-Mimosas\n",
       "19                          Cassis\n",
       "20                       Marseille\n",
       "21                 Aix-en-Provence\n",
       "22                         Avignon\n",
       "23                            Uzes\n",
       "24                           Nimes\n",
       "25                   Aigues-Mortes\n",
       "26        Saintes-Maries-de-la-mer\n",
       "27                       Collioure\n",
       "28                     Carcassonne\n",
       "29                          Ariege\n",
       "30                        Toulouse\n",
       "31                       Montauban\n",
       "32                        Biarritz\n",
       "33                         Bayonne\n",
       "34                     La-Rochelle\n",
       "Name: city.name, dtype: object"
      ]
     },
     "execution_count": 8,
     "metadata": {},
     "output_type": "execute_result"
    }
   ],
   "source": [
    "pd.json_normalize(weather_cities)['city.name']\n",
    "# pd.json_normalize(weather_cities)['list']\n",
    "# pd.json_normalize(pd.json_normalize(weather_cities)['list'][34])\n",
    "# pd.json_normalize(pd.json_normalize(weather_cities)['list'][34])['weather'][0]"
   ]
  },
  {
   "cell_type": "code",
   "execution_count": 9,
   "metadata": {},
   "outputs": [
    {
     "data": {
      "text/html": [
       "<div>\n",
       "<style scoped>\n",
       "    .dataframe tbody tr th:only-of-type {\n",
       "        vertical-align: middle;\n",
       "    }\n",
       "\n",
       "    .dataframe tbody tr th {\n",
       "        vertical-align: top;\n",
       "    }\n",
       "\n",
       "    .dataframe thead th {\n",
       "        text-align: right;\n",
       "    }\n",
       "</style>\n",
       "<table border=\"1\" class=\"dataframe\">\n",
       "  <thead>\n",
       "    <tr style=\"text-align: right;\">\n",
       "      <th></th>\n",
       "      <th>dt</th>\n",
       "      <th>weather</th>\n",
       "      <th>visibility</th>\n",
       "      <th>pop</th>\n",
       "      <th>dt_txt</th>\n",
       "      <th>main.temp</th>\n",
       "      <th>main.feels_like</th>\n",
       "      <th>main.temp_min</th>\n",
       "      <th>main.temp_max</th>\n",
       "      <th>main.pressure</th>\n",
       "      <th>...</th>\n",
       "      <th>main.temp_kf</th>\n",
       "      <th>clouds.all</th>\n",
       "      <th>wind.speed</th>\n",
       "      <th>wind.deg</th>\n",
       "      <th>wind.gust</th>\n",
       "      <th>sys.pod</th>\n",
       "      <th>rain.3h</th>\n",
       "      <th>city</th>\n",
       "      <th>lat</th>\n",
       "      <th>lon</th>\n",
       "    </tr>\n",
       "  </thead>\n",
       "  <tbody>\n",
       "    <tr>\n",
       "      <th>0</th>\n",
       "      <td>1712113200</td>\n",
       "      <td>[{'id': 804, 'main': 'Clouds', 'description': ...</td>\n",
       "      <td>10000</td>\n",
       "      <td>0.17</td>\n",
       "      <td>2024-04-03 03:00:00</td>\n",
       "      <td>11.04</td>\n",
       "      <td>10.65</td>\n",
       "      <td>10.56</td>\n",
       "      <td>11.04</td>\n",
       "      <td>1002</td>\n",
       "      <td>...</td>\n",
       "      <td>0.48</td>\n",
       "      <td>100</td>\n",
       "      <td>4.42</td>\n",
       "      <td>193</td>\n",
       "      <td>9.97</td>\n",
       "      <td>n</td>\n",
       "      <td>NaN</td>\n",
       "      <td>Mont-Saint-Michel</td>\n",
       "      <td>48.636</td>\n",
       "      <td>-1.5115</td>\n",
       "    </tr>\n",
       "    <tr>\n",
       "      <th>1</th>\n",
       "      <td>1712124000</td>\n",
       "      <td>[{'id': 500, 'main': 'Rain', 'description': 'l...</td>\n",
       "      <td>10000</td>\n",
       "      <td>0.20</td>\n",
       "      <td>2024-04-03 06:00:00</td>\n",
       "      <td>10.92</td>\n",
       "      <td>10.50</td>\n",
       "      <td>10.74</td>\n",
       "      <td>10.92</td>\n",
       "      <td>1003</td>\n",
       "      <td>...</td>\n",
       "      <td>0.18</td>\n",
       "      <td>99</td>\n",
       "      <td>5.78</td>\n",
       "      <td>217</td>\n",
       "      <td>11.35</td>\n",
       "      <td>d</td>\n",
       "      <td>0.13</td>\n",
       "      <td>Mont-Saint-Michel</td>\n",
       "      <td>48.636</td>\n",
       "      <td>-1.5115</td>\n",
       "    </tr>\n",
       "    <tr>\n",
       "      <th>2</th>\n",
       "      <td>1712134800</td>\n",
       "      <td>[{'id': 500, 'main': 'Rain', 'description': 'l...</td>\n",
       "      <td>10000</td>\n",
       "      <td>1.00</td>\n",
       "      <td>2024-04-03 09:00:00</td>\n",
       "      <td>10.15</td>\n",
       "      <td>9.65</td>\n",
       "      <td>10.15</td>\n",
       "      <td>10.15</td>\n",
       "      <td>1007</td>\n",
       "      <td>...</td>\n",
       "      <td>0.00</td>\n",
       "      <td>100</td>\n",
       "      <td>5.33</td>\n",
       "      <td>275</td>\n",
       "      <td>10.51</td>\n",
       "      <td>d</td>\n",
       "      <td>1.33</td>\n",
       "      <td>Mont-Saint-Michel</td>\n",
       "      <td>48.636</td>\n",
       "      <td>-1.5115</td>\n",
       "    </tr>\n",
       "  </tbody>\n",
       "</table>\n",
       "<p>3 rows × 23 columns</p>\n",
       "</div>"
      ],
      "text/plain": [
       "           dt                                            weather  visibility  \\\n",
       "0  1712113200  [{'id': 804, 'main': 'Clouds', 'description': ...       10000   \n",
       "1  1712124000  [{'id': 500, 'main': 'Rain', 'description': 'l...       10000   \n",
       "2  1712134800  [{'id': 500, 'main': 'Rain', 'description': 'l...       10000   \n",
       "\n",
       "    pop              dt_txt  main.temp  main.feels_like  main.temp_min  \\\n",
       "0  0.17 2024-04-03 03:00:00      11.04            10.65          10.56   \n",
       "1  0.20 2024-04-03 06:00:00      10.92            10.50          10.74   \n",
       "2  1.00 2024-04-03 09:00:00      10.15             9.65          10.15   \n",
       "\n",
       "   main.temp_max  main.pressure  ...  main.temp_kf  clouds.all  wind.speed  \\\n",
       "0          11.04           1002  ...          0.48         100        4.42   \n",
       "1          10.92           1003  ...          0.18          99        5.78   \n",
       "2          10.15           1007  ...          0.00         100        5.33   \n",
       "\n",
       "   wind.deg  wind.gust  sys.pod  rain.3h               city     lat     lon  \n",
       "0       193       9.97        n      NaN  Mont-Saint-Michel  48.636 -1.5115  \n",
       "1       217      11.35        d     0.13  Mont-Saint-Michel  48.636 -1.5115  \n",
       "2       275      10.51        d     1.33  Mont-Saint-Michel  48.636 -1.5115  \n",
       "\n",
       "[3 rows x 23 columns]"
      ]
     },
     "metadata": {},
     "output_type": "display_data"
    }
   ],
   "source": [
    "weather_datas = pd.DataFrame()\n",
    "\n",
    "for id, city in enumerate(pd.json_normalize(weather_cities)['city.name']):\n",
    "\n",
    "    df3 = pd.json_normalize(pd.json_normalize(weather_cities)['list'][id])\n",
    "    df3['city'] = city\n",
    "    df3['lat'] = pd.json_normalize(weather_cities)[\"city.coord.lat\"][id]\n",
    "    df3['lon'] = pd.json_normalize(weather_cities)[\"city.coord.lon\"][id]\n",
    "    \n",
    "    weather_datas = pd.concat([weather_datas, df3])\n",
    "\n",
    "weather_datas['dt_txt'] = pd.to_datetime(weather_datas['dt_txt']) \n",
    "display(weather_datas.head(3))"
   ]
  },
  {
   "cell_type": "code",
   "execution_count": 10,
   "metadata": {},
   "outputs": [],
   "source": [
    "col_drop = ['dt', 'weather', 'visibility', 'main.temp', 'main.temp_min', 'main.temp_max', 'main.pressure','main.sea_level',\n",
    "            'main.grnd_level', 'main.humidity', 'main.temp_kf', 'clouds.all', 'wind.deg', 'wind.gust', 'rain.3h']\n",
    "\n",
    "weather_datas.drop(columns=col_drop, inplace=True)\n"
   ]
  },
  {
   "cell_type": "code",
   "execution_count": 11,
   "metadata": {},
   "outputs": [],
   "source": [
    "weather_during_day = weather_datas[weather_datas['sys.pod']=='d'].drop(columns='sys.pod')"
   ]
  },
  {
   "cell_type": "code",
   "execution_count": 12,
   "metadata": {},
   "outputs": [],
   "source": [
    "weather_day_mean = weather_during_day.groupby('city').mean().reset_index()"
   ]
  },
  {
   "cell_type": "code",
   "execution_count": 13,
   "metadata": {},
   "outputs": [
    {
     "data": {
      "text/html": [
       "<div>\n",
       "<style scoped>\n",
       "    .dataframe tbody tr th:only-of-type {\n",
       "        vertical-align: middle;\n",
       "    }\n",
       "\n",
       "    .dataframe tbody tr th {\n",
       "        vertical-align: top;\n",
       "    }\n",
       "\n",
       "    .dataframe thead th {\n",
       "        text-align: right;\n",
       "    }\n",
       "</style>\n",
       "<table border=\"1\" class=\"dataframe\">\n",
       "  <thead>\n",
       "    <tr style=\"text-align: right;\">\n",
       "      <th></th>\n",
       "      <th>city</th>\n",
       "      <th>pop</th>\n",
       "    </tr>\n",
       "  </thead>\n",
       "  <tbody>\n",
       "    <tr>\n",
       "      <th>0</th>\n",
       "      <td>Aigues-Mortes</td>\n",
       "      <td>0.0</td>\n",
       "    </tr>\n",
       "    <tr>\n",
       "      <th>1</th>\n",
       "      <td>Aix-en-Provence</td>\n",
       "      <td>0.0</td>\n",
       "    </tr>\n",
       "    <tr>\n",
       "      <th>27</th>\n",
       "      <td>Nimes</td>\n",
       "      <td>0.0</td>\n",
       "    </tr>\n",
       "    <tr>\n",
       "      <th>24</th>\n",
       "      <td>Marseille</td>\n",
       "      <td>0.0</td>\n",
       "    </tr>\n",
       "    <tr>\n",
       "      <th>14</th>\n",
       "      <td>Collioure</td>\n",
       "      <td>0.0</td>\n",
       "    </tr>\n",
       "  </tbody>\n",
       "</table>\n",
       "</div>"
      ],
      "text/plain": [
       "               city  pop\n",
       "0     Aigues-Mortes  0.0\n",
       "1   Aix-en-Provence  0.0\n",
       "27            Nimes  0.0\n",
       "24        Marseille  0.0\n",
       "14        Collioure  0.0"
      ]
     },
     "metadata": {},
     "output_type": "display_data"
    },
    {
     "data": {
      "text/html": [
       "<div>\n",
       "<style scoped>\n",
       "    .dataframe tbody tr th:only-of-type {\n",
       "        vertical-align: middle;\n",
       "    }\n",
       "\n",
       "    .dataframe tbody tr th {\n",
       "        vertical-align: top;\n",
       "    }\n",
       "\n",
       "    .dataframe thead th {\n",
       "        text-align: right;\n",
       "    }\n",
       "</style>\n",
       "<table border=\"1\" class=\"dataframe\">\n",
       "  <thead>\n",
       "    <tr style=\"text-align: right;\">\n",
       "      <th></th>\n",
       "      <th>city</th>\n",
       "      <th>main.feels_like</th>\n",
       "    </tr>\n",
       "  </thead>\n",
       "  <tbody>\n",
       "    <tr>\n",
       "      <th>4</th>\n",
       "      <td>Ariege</td>\n",
       "      <td>18.1080</td>\n",
       "    </tr>\n",
       "    <tr>\n",
       "      <th>7</th>\n",
       "      <td>Bayonne</td>\n",
       "      <td>17.1804</td>\n",
       "    </tr>\n",
       "    <tr>\n",
       "      <th>19</th>\n",
       "      <td>Grenoble</td>\n",
       "      <td>17.0840</td>\n",
       "    </tr>\n",
       "    <tr>\n",
       "      <th>1</th>\n",
       "      <td>Aix-en-Provence</td>\n",
       "      <td>17.0644</td>\n",
       "    </tr>\n",
       "    <tr>\n",
       "      <th>14</th>\n",
       "      <td>Collioure</td>\n",
       "      <td>16.8684</td>\n",
       "    </tr>\n",
       "  </tbody>\n",
       "</table>\n",
       "</div>"
      ],
      "text/plain": [
       "               city  main.feels_like\n",
       "4            Ariege          18.1080\n",
       "7           Bayonne          17.1804\n",
       "19         Grenoble          17.0840\n",
       "1   Aix-en-Provence          17.0644\n",
       "14        Collioure          16.8684"
      ]
     },
     "metadata": {},
     "output_type": "display_data"
    },
    {
     "data": {
      "text/html": [
       "<div>\n",
       "<style scoped>\n",
       "    .dataframe tbody tr th:only-of-type {\n",
       "        vertical-align: middle;\n",
       "    }\n",
       "\n",
       "    .dataframe tbody tr th {\n",
       "        vertical-align: top;\n",
       "    }\n",
       "\n",
       "    .dataframe thead th {\n",
       "        text-align: right;\n",
       "    }\n",
       "</style>\n",
       "<table border=\"1\" class=\"dataframe\">\n",
       "  <thead>\n",
       "    <tr style=\"text-align: right;\">\n",
       "      <th></th>\n",
       "      <th>city</th>\n",
       "      <th>wind.speed</th>\n",
       "    </tr>\n",
       "  </thead>\n",
       "  <tbody>\n",
       "    <tr>\n",
       "      <th>3</th>\n",
       "      <td>Annecy</td>\n",
       "      <td>1.9740</td>\n",
       "    </tr>\n",
       "    <tr>\n",
       "      <th>19</th>\n",
       "      <td>Grenoble</td>\n",
       "      <td>2.0332</td>\n",
       "    </tr>\n",
       "    <tr>\n",
       "      <th>4</th>\n",
       "      <td>Ariege</td>\n",
       "      <td>2.4212</td>\n",
       "    </tr>\n",
       "    <tr>\n",
       "      <th>18</th>\n",
       "      <td>Gorges-du-Verdon</td>\n",
       "      <td>2.5856</td>\n",
       "    </tr>\n",
       "    <tr>\n",
       "      <th>1</th>\n",
       "      <td>Aix-en-Provence</td>\n",
       "      <td>2.8984</td>\n",
       "    </tr>\n",
       "  </tbody>\n",
       "</table>\n",
       "</div>"
      ],
      "text/plain": [
       "                city  wind.speed\n",
       "3             Annecy      1.9740\n",
       "19          Grenoble      2.0332\n",
       "4             Ariege      2.4212\n",
       "18  Gorges-du-Verdon      2.5856\n",
       "1    Aix-en-Provence      2.8984"
      ]
     },
     "metadata": {},
     "output_type": "display_data"
    }
   ],
   "source": [
    "display(weather_day_mean[['city','pop']].sort_values('pop').head())\n",
    "display(weather_day_mean[['city','main.feels_like']].sort_values('main.feels_like',ascending=False).head())\n",
    "display(weather_day_mean[['city','wind.speed']].sort_values('wind.speed').head())"
   ]
  },
  {
   "cell_type": "markdown",
   "metadata": {},
   "source": [
    "Create a SCORE to select the city"
   ]
  },
  {
   "cell_type": "code",
   "execution_count": 14,
   "metadata": {},
   "outputs": [
    {
     "data": {
      "text/html": [
       "<div>\n",
       "<style scoped>\n",
       "    .dataframe tbody tr th:only-of-type {\n",
       "        vertical-align: middle;\n",
       "    }\n",
       "\n",
       "    .dataframe tbody tr th {\n",
       "        vertical-align: top;\n",
       "    }\n",
       "\n",
       "    .dataframe thead th {\n",
       "        text-align: right;\n",
       "    }\n",
       "</style>\n",
       "<table border=\"1\" class=\"dataframe\">\n",
       "  <thead>\n",
       "    <tr style=\"text-align: right;\">\n",
       "      <th></th>\n",
       "      <th>city</th>\n",
       "      <th>pop</th>\n",
       "      <th>dt_txt</th>\n",
       "      <th>main.feels_like</th>\n",
       "      <th>wind.speed</th>\n",
       "      <th>lat</th>\n",
       "      <th>lon</th>\n",
       "      <th>score</th>\n",
       "    </tr>\n",
       "  </thead>\n",
       "  <tbody>\n",
       "    <tr>\n",
       "      <th>4</th>\n",
       "      <td>Ariege</td>\n",
       "      <td>0.016</td>\n",
       "      <td>2024-04-05 12:00:00</td>\n",
       "      <td>18.1080</td>\n",
       "      <td>2.4212</td>\n",
       "      <td>42.8458</td>\n",
       "      <td>1.6068</td>\n",
       "      <td>10.000000</td>\n",
       "    </tr>\n",
       "    <tr>\n",
       "      <th>19</th>\n",
       "      <td>Grenoble</td>\n",
       "      <td>0.126</td>\n",
       "      <td>2024-04-05 12:00:00</td>\n",
       "      <td>17.0840</td>\n",
       "      <td>2.0332</td>\n",
       "      <td>45.1876</td>\n",
       "      <td>5.7358</td>\n",
       "      <td>8.548545</td>\n",
       "    </tr>\n",
       "    <tr>\n",
       "      <th>1</th>\n",
       "      <td>Aix-en-Provence</td>\n",
       "      <td>0.000</td>\n",
       "      <td>2024-04-05 12:00:00</td>\n",
       "      <td>17.0644</td>\n",
       "      <td>2.8984</td>\n",
       "      <td>43.5298</td>\n",
       "      <td>5.4475</td>\n",
       "      <td>8.419676</td>\n",
       "    </tr>\n",
       "    <tr>\n",
       "      <th>7</th>\n",
       "      <td>Bayonne</td>\n",
       "      <td>0.080</td>\n",
       "      <td>2024-04-05 12:00:00</td>\n",
       "      <td>17.1804</td>\n",
       "      <td>3.2704</td>\n",
       "      <td>43.4945</td>\n",
       "      <td>-1.4737</td>\n",
       "      <td>8.388245</td>\n",
       "    </tr>\n",
       "    <tr>\n",
       "      <th>14</th>\n",
       "      <td>Collioure</td>\n",
       "      <td>0.000</td>\n",
       "      <td>2024-04-05 12:00:00</td>\n",
       "      <td>16.8684</td>\n",
       "      <td>3.3384</td>\n",
       "      <td>42.5251</td>\n",
       "      <td>3.0832</td>\n",
       "      <td>8.021171</td>\n",
       "    </tr>\n",
       "  </tbody>\n",
       "</table>\n",
       "</div>"
      ],
      "text/plain": [
       "               city    pop              dt_txt  main.feels_like  wind.speed  \\\n",
       "4            Ariege  0.016 2024-04-05 12:00:00          18.1080      2.4212   \n",
       "19         Grenoble  0.126 2024-04-05 12:00:00          17.0840      2.0332   \n",
       "1   Aix-en-Provence  0.000 2024-04-05 12:00:00          17.0644      2.8984   \n",
       "7           Bayonne  0.080 2024-04-05 12:00:00          17.1804      3.2704   \n",
       "14        Collioure  0.000 2024-04-05 12:00:00          16.8684      3.3384   \n",
       "\n",
       "        lat     lon      score  \n",
       "4   42.8458  1.6068  10.000000  \n",
       "19  45.1876  5.7358   8.548545  \n",
       "1   43.5298  5.4475   8.419676  \n",
       "7   43.4945 -1.4737   8.388245  \n",
       "14  42.5251  3.0832   8.021171  "
      ]
     },
     "metadata": {},
     "output_type": "display_data"
    }
   ],
   "source": [
    "weights = {'pop': -0.4, 'main.feels_like': 0.5, 'wind.speed': -0.1}\n",
    "\n",
    "weather_day_mean['score'] = (weather_day_mean['pop'] * weights['pop'] +\n",
    "                             weather_day_mean['main.feels_like'] * weights['main.feels_like'] +\n",
    "                             weather_day_mean['wind.speed'] * weights['wind.speed'])\n",
    "\n",
    "min_score = weather_day_mean['score'].min()\n",
    "max_score = weather_day_mean['score'].max()\n",
    "weather_day_mean['score'] = 10 * (weather_day_mean['score'] - min_score) / (max_score - min_score)\n",
    "\n",
    "display(weather_day_mean.sort_values('score',ascending=False).head())"
   ]
  },
  {
   "cell_type": "code",
   "execution_count": 15,
   "metadata": {},
   "outputs": [
    {
     "data": {
      "application/vnd.plotly.v1+json": {
       "config": {
        "plotlyServerURL": "https://plot.ly"
       },
       "data": [
        {
         "customdata": [
          [
           14.644400000000001,
           0,
           5.0004,
           4.434067105957364
          ],
          [
           17.0644,
           0,
           2.8984000000000005,
           8.419676032464103
          ],
          [
           13.718399999999999,
           0.2968,
           6.768400000000001,
           2.305378130507502
          ],
          [
           14.314400000000001,
           0.13,
           1.974,
           4.674404768586599
          ],
          [
           18.108,
           0.016,
           2.4212000000000002,
           10
          ],
          [
           16.462,
           0.0208,
           3.0987999999999998,
           7.494808212565809
          ],
          [
           12.8052,
           0.24,
           7.4548000000000005,
           0.8951202810861745
          ],
          [
           17.1804,
           0.08,
           3.2704000000000004,
           8.388244670700352
          ],
          [
           14.3244,
           0.21719999999999998,
           3.9024,
           4.0493696889417725
          ],
          [
           16.5572,
           0.08,
           3.4707999999999997,
           7.457539597903079
          ],
          [
           14.2828,
           0,
           4.0572,
           4.19137209119585
          ],
          [
           15.6568,
           0.018000000000000002,
           6.4508,
           5.427410392555255
          ],
          [
           15.329600000000001,
           0,
           4.716,
           5.475343219244975
          ],
          [
           11.451600000000001,
           0.2688,
           2.9208,
           0.2358474680915547
          ],
          [
           16.868399999999998,
           0,
           3.3383999999999996,
           8.021171267245146
          ],
          [
           14.599200000000002,
           0.256,
           3.3531999999999997,
           4.54553618535523
          ],
          [
           12.5952,
           0.326,
           6.03,
           0.9037639055712096
          ],
          [
           14.228399999999999,
           0.2704,
           3.2644,
           4.033990772650223
          ],
          [
           11.3068,
           0.016,
           2.5856,
           0.4105160356072425
          ],
          [
           17.084,
           0.126,
           2.0332,
           8.548544615695473
          ],
          [
           13.644400000000001,
           0.3072,
           6.8660000000000005,
           2.1624776893458897
          ],
          [
           12.2024,
           0.29760000000000003,
           7.4,
           0
          ],
          [
           13.763599999999999,
           0.3232,
           6.566,
           2.3959678053051627
          ],
          [
           15.752,
           0.2048,
           4.6259999999999994,
           5.863408282163824
          ],
          [
           16.035999999999998,
           0,
           4.7672,
           6.452185040916892
          ],
          [
           12.9712,
           0.4028,
           7.1332,
           1.035551115252065
          ],
          [
           16.2712,
           0.08439999999999999,
           5.0772,
           6.6004737155237265
          ],
          [
           15.779200000000001,
           0,
           3.6264,
           6.411997799804676
          ],
          [
           15.101600000000001,
           0.39759999999999995,
           4.8564,
           4.669690064322036
          ],
          [
           13.5032,
           0.266,
           6.199199999999999,
           2.197725716466666
          ],
          [
           14.749600000000001,
           0.008,
           5.716,
           4.371877911610521
          ],
          [
           12.4616,
           0.2968,
           7.8588,
           0.23584746809155718
          ],
          [
           13.56,
           0.2908,
           4.416399999999999,
           2.749907389737661
          ],
          [
           15.972000000000001,
           0.0644,
           6.505199999999999,
           5.802341636451398
          ],
          [
           15.281200000000002,
           0.016,
           3.1563999999999997,
           5.827149961272071
          ]
         ],
         "hovertemplate": "<b>%{hovertext}</b><br><br>score=%{marker.color}<br>lat=%{lat}<br>lon=%{lon}<br>main.feels_like=%{customdata[0]}<br>pop=%{customdata[1]}<br>wind.speed=%{customdata[2]}<extra></extra>",
         "hovertext": [
          "Aigues-Mortes",
          "Aix-en-Provence",
          "Amiens",
          "Annecy",
          "Ariege",
          "Avignon",
          "Bayeux",
          "Bayonne",
          "Besancon",
          "Biarritz",
          "Bormes-les-Mimosas",
          "Carcassonne",
          "Cassis",
          "Chateau-du-Haut-Koenigsbourg",
          "Collioure",
          "Colmar",
          "Dijon",
          "Eguisheim",
          "Gorges-du-Verdon",
          "Grenoble",
          "La-Rochelle",
          "Le-Havre",
          "Lille",
          "Lyon",
          "Marseille",
          "Mont-Saint-Michel",
          "Montauban",
          "Nimes",
          "Paris",
          "Rouen",
          "Saintes-Maries-de-la-mer",
          "St-Malo",
          "Strasbourg",
          "Toulouse",
          "Uzes"
         ],
         "lat": [
          43.5662,
          43.5298,
          49.8942,
          45.8992,
          42.8458,
          43.9492,
          49.2765,
          43.494499999999995,
          47.238,
          43.4833,
          43.1507,
          43.213,
          43.214,
          48.2495,
          42.5251,
          48.0778,
          47.3216,
          48.0448,
          43.74969999999999,
          45.1876,
          46.159099999999995,
          49.4939,
          50.6366,
          45.7578,
          43.2962,
          48.636,
          44.0176,
          43.837399999999995,
          48.8535,
          49.4405,
          43.4516,
          48.64950000000001,
          48.5846,
          43.6045,
          44.012100000000004
         ],
         "legendgroup": "",
         "lon": [
          4.1915,
          5.4475,
          2.2957,
          6.1289,
          1.6068,
          4.8059,
          -0.7025,
          -1.4737,
          6.024400000000001,
          -1.5592999999999997,
          6.341899999999999,
          2.3491,
          5.5396,
          7.3455,
          3.0831999999999997,
          7.358,
          5.0415,
          7.308,
          6.3286,
          5.7358,
          -1.152,
          0.10800000000000001,
          3.0634999999999994,
          4.832,
          5.37,
          -1.5115,
          1.355,
          4.3601,
          2.3484,
          1.094,
          4.4277,
          -2.026,
          7.7507,
          1.4442,
          4.4197
         ],
         "marker": {
          "color": [
           4.434067105957364,
           8.419676032464103,
           2.305378130507502,
           4.674404768586599,
           10,
           7.494808212565809,
           0.8951202810861745,
           8.388244670700352,
           4.0493696889417725,
           7.457539597903079,
           4.19137209119585,
           5.427410392555255,
           5.475343219244975,
           0.2358474680915547,
           8.021171267245146,
           4.54553618535523,
           0.9037639055712096,
           4.033990772650223,
           0.4105160356072425,
           8.548544615695473,
           2.1624776893458897,
           0,
           2.3959678053051627,
           5.863408282163824,
           6.452185040916892,
           1.035551115252065,
           6.6004737155237265,
           6.411997799804676,
           4.669690064322036,
           2.197725716466666,
           4.371877911610521,
           0.23584746809155718,
           2.749907389737661,
           5.802341636451398,
           5.827149961272071
          ],
          "coloraxis": "coloraxis",
          "size": [
           4.434067105957364,
           8.419676032464103,
           2.305378130507502,
           4.674404768586599,
           10,
           7.494808212565809,
           0.8951202810861745,
           8.388244670700352,
           4.0493696889417725,
           7.457539597903079,
           4.19137209119585,
           5.427410392555255,
           5.475343219244975,
           0.2358474680915547,
           8.021171267245146,
           4.54553618535523,
           0.9037639055712096,
           4.033990772650223,
           0.4105160356072425,
           8.548544615695473,
           2.1624776893458897,
           0,
           2.3959678053051627,
           5.863408282163824,
           6.452185040916892,
           1.035551115252065,
           6.6004737155237265,
           6.411997799804676,
           4.669690064322036,
           2.197725716466666,
           4.371877911610521,
           0.23584746809155718,
           2.749907389737661,
           5.802341636451398,
           5.827149961272071
          ],
          "sizemode": "area",
          "sizeref": 0.025
         },
         "mode": "markers",
         "name": "",
         "showlegend": false,
         "subplot": "mapbox",
         "type": "scattermapbox"
        }
       ],
       "layout": {
        "coloraxis": {
         "colorbar": {
          "title": {
           "text": "score"
          }
         },
         "colorscale": [
          [
           0,
           "white"
          ],
          [
           0.25,
           "yellow"
          ],
          [
           0.5,
           "orange"
          ],
          [
           0.75,
           "red"
          ],
          [
           1,
           "purple"
          ]
         ]
        },
        "height": 600,
        "legend": {
         "itemsizing": "constant",
         "tracegroupgap": 0
        },
        "mapbox": {
         "center": {
          "lat": 47,
          "lon": 2.2
         },
         "domain": {
          "x": [
           0,
           1
          ],
          "y": [
           0,
           1
          ]
         },
         "style": "carto-positron",
         "zoom": 4.5
        },
        "margin": {
         "t": 60
        },
        "template": {
         "data": {
          "bar": [
           {
            "error_x": {
             "color": "#2a3f5f"
            },
            "error_y": {
             "color": "#2a3f5f"
            },
            "marker": {
             "line": {
              "color": "#E5ECF6",
              "width": 0.5
             },
             "pattern": {
              "fillmode": "overlay",
              "size": 10,
              "solidity": 0.2
             }
            },
            "type": "bar"
           }
          ],
          "barpolar": [
           {
            "marker": {
             "line": {
              "color": "#E5ECF6",
              "width": 0.5
             },
             "pattern": {
              "fillmode": "overlay",
              "size": 10,
              "solidity": 0.2
             }
            },
            "type": "barpolar"
           }
          ],
          "carpet": [
           {
            "aaxis": {
             "endlinecolor": "#2a3f5f",
             "gridcolor": "white",
             "linecolor": "white",
             "minorgridcolor": "white",
             "startlinecolor": "#2a3f5f"
            },
            "baxis": {
             "endlinecolor": "#2a3f5f",
             "gridcolor": "white",
             "linecolor": "white",
             "minorgridcolor": "white",
             "startlinecolor": "#2a3f5f"
            },
            "type": "carpet"
           }
          ],
          "choropleth": [
           {
            "colorbar": {
             "outlinewidth": 0,
             "ticks": ""
            },
            "type": "choropleth"
           }
          ],
          "contour": [
           {
            "colorbar": {
             "outlinewidth": 0,
             "ticks": ""
            },
            "colorscale": [
             [
              0,
              "#0d0887"
             ],
             [
              0.1111111111111111,
              "#46039f"
             ],
             [
              0.2222222222222222,
              "#7201a8"
             ],
             [
              0.3333333333333333,
              "#9c179e"
             ],
             [
              0.4444444444444444,
              "#bd3786"
             ],
             [
              0.5555555555555556,
              "#d8576b"
             ],
             [
              0.6666666666666666,
              "#ed7953"
             ],
             [
              0.7777777777777778,
              "#fb9f3a"
             ],
             [
              0.8888888888888888,
              "#fdca26"
             ],
             [
              1,
              "#f0f921"
             ]
            ],
            "type": "contour"
           }
          ],
          "contourcarpet": [
           {
            "colorbar": {
             "outlinewidth": 0,
             "ticks": ""
            },
            "type": "contourcarpet"
           }
          ],
          "heatmap": [
           {
            "colorbar": {
             "outlinewidth": 0,
             "ticks": ""
            },
            "colorscale": [
             [
              0,
              "#0d0887"
             ],
             [
              0.1111111111111111,
              "#46039f"
             ],
             [
              0.2222222222222222,
              "#7201a8"
             ],
             [
              0.3333333333333333,
              "#9c179e"
             ],
             [
              0.4444444444444444,
              "#bd3786"
             ],
             [
              0.5555555555555556,
              "#d8576b"
             ],
             [
              0.6666666666666666,
              "#ed7953"
             ],
             [
              0.7777777777777778,
              "#fb9f3a"
             ],
             [
              0.8888888888888888,
              "#fdca26"
             ],
             [
              1,
              "#f0f921"
             ]
            ],
            "type": "heatmap"
           }
          ],
          "heatmapgl": [
           {
            "colorbar": {
             "outlinewidth": 0,
             "ticks": ""
            },
            "colorscale": [
             [
              0,
              "#0d0887"
             ],
             [
              0.1111111111111111,
              "#46039f"
             ],
             [
              0.2222222222222222,
              "#7201a8"
             ],
             [
              0.3333333333333333,
              "#9c179e"
             ],
             [
              0.4444444444444444,
              "#bd3786"
             ],
             [
              0.5555555555555556,
              "#d8576b"
             ],
             [
              0.6666666666666666,
              "#ed7953"
             ],
             [
              0.7777777777777778,
              "#fb9f3a"
             ],
             [
              0.8888888888888888,
              "#fdca26"
             ],
             [
              1,
              "#f0f921"
             ]
            ],
            "type": "heatmapgl"
           }
          ],
          "histogram": [
           {
            "marker": {
             "pattern": {
              "fillmode": "overlay",
              "size": 10,
              "solidity": 0.2
             }
            },
            "type": "histogram"
           }
          ],
          "histogram2d": [
           {
            "colorbar": {
             "outlinewidth": 0,
             "ticks": ""
            },
            "colorscale": [
             [
              0,
              "#0d0887"
             ],
             [
              0.1111111111111111,
              "#46039f"
             ],
             [
              0.2222222222222222,
              "#7201a8"
             ],
             [
              0.3333333333333333,
              "#9c179e"
             ],
             [
              0.4444444444444444,
              "#bd3786"
             ],
             [
              0.5555555555555556,
              "#d8576b"
             ],
             [
              0.6666666666666666,
              "#ed7953"
             ],
             [
              0.7777777777777778,
              "#fb9f3a"
             ],
             [
              0.8888888888888888,
              "#fdca26"
             ],
             [
              1,
              "#f0f921"
             ]
            ],
            "type": "histogram2d"
           }
          ],
          "histogram2dcontour": [
           {
            "colorbar": {
             "outlinewidth": 0,
             "ticks": ""
            },
            "colorscale": [
             [
              0,
              "#0d0887"
             ],
             [
              0.1111111111111111,
              "#46039f"
             ],
             [
              0.2222222222222222,
              "#7201a8"
             ],
             [
              0.3333333333333333,
              "#9c179e"
             ],
             [
              0.4444444444444444,
              "#bd3786"
             ],
             [
              0.5555555555555556,
              "#d8576b"
             ],
             [
              0.6666666666666666,
              "#ed7953"
             ],
             [
              0.7777777777777778,
              "#fb9f3a"
             ],
             [
              0.8888888888888888,
              "#fdca26"
             ],
             [
              1,
              "#f0f921"
             ]
            ],
            "type": "histogram2dcontour"
           }
          ],
          "mesh3d": [
           {
            "colorbar": {
             "outlinewidth": 0,
             "ticks": ""
            },
            "type": "mesh3d"
           }
          ],
          "parcoords": [
           {
            "line": {
             "colorbar": {
              "outlinewidth": 0,
              "ticks": ""
             }
            },
            "type": "parcoords"
           }
          ],
          "pie": [
           {
            "automargin": true,
            "type": "pie"
           }
          ],
          "scatter": [
           {
            "fillpattern": {
             "fillmode": "overlay",
             "size": 10,
             "solidity": 0.2
            },
            "type": "scatter"
           }
          ],
          "scatter3d": [
           {
            "line": {
             "colorbar": {
              "outlinewidth": 0,
              "ticks": ""
             }
            },
            "marker": {
             "colorbar": {
              "outlinewidth": 0,
              "ticks": ""
             }
            },
            "type": "scatter3d"
           }
          ],
          "scattercarpet": [
           {
            "marker": {
             "colorbar": {
              "outlinewidth": 0,
              "ticks": ""
             }
            },
            "type": "scattercarpet"
           }
          ],
          "scattergeo": [
           {
            "marker": {
             "colorbar": {
              "outlinewidth": 0,
              "ticks": ""
             }
            },
            "type": "scattergeo"
           }
          ],
          "scattergl": [
           {
            "marker": {
             "colorbar": {
              "outlinewidth": 0,
              "ticks": ""
             }
            },
            "type": "scattergl"
           }
          ],
          "scattermapbox": [
           {
            "marker": {
             "colorbar": {
              "outlinewidth": 0,
              "ticks": ""
             }
            },
            "type": "scattermapbox"
           }
          ],
          "scatterpolar": [
           {
            "marker": {
             "colorbar": {
              "outlinewidth": 0,
              "ticks": ""
             }
            },
            "type": "scatterpolar"
           }
          ],
          "scatterpolargl": [
           {
            "marker": {
             "colorbar": {
              "outlinewidth": 0,
              "ticks": ""
             }
            },
            "type": "scatterpolargl"
           }
          ],
          "scatterternary": [
           {
            "marker": {
             "colorbar": {
              "outlinewidth": 0,
              "ticks": ""
             }
            },
            "type": "scatterternary"
           }
          ],
          "surface": [
           {
            "colorbar": {
             "outlinewidth": 0,
             "ticks": ""
            },
            "colorscale": [
             [
              0,
              "#0d0887"
             ],
             [
              0.1111111111111111,
              "#46039f"
             ],
             [
              0.2222222222222222,
              "#7201a8"
             ],
             [
              0.3333333333333333,
              "#9c179e"
             ],
             [
              0.4444444444444444,
              "#bd3786"
             ],
             [
              0.5555555555555556,
              "#d8576b"
             ],
             [
              0.6666666666666666,
              "#ed7953"
             ],
             [
              0.7777777777777778,
              "#fb9f3a"
             ],
             [
              0.8888888888888888,
              "#fdca26"
             ],
             [
              1,
              "#f0f921"
             ]
            ],
            "type": "surface"
           }
          ],
          "table": [
           {
            "cells": {
             "fill": {
              "color": "#EBF0F8"
             },
             "line": {
              "color": "white"
             }
            },
            "header": {
             "fill": {
              "color": "#C8D4E3"
             },
             "line": {
              "color": "white"
             }
            },
            "type": "table"
           }
          ]
         },
         "layout": {
          "annotationdefaults": {
           "arrowcolor": "#2a3f5f",
           "arrowhead": 0,
           "arrowwidth": 1
          },
          "autotypenumbers": "strict",
          "coloraxis": {
           "colorbar": {
            "outlinewidth": 0,
            "ticks": ""
           }
          },
          "colorscale": {
           "diverging": [
            [
             0,
             "#8e0152"
            ],
            [
             0.1,
             "#c51b7d"
            ],
            [
             0.2,
             "#de77ae"
            ],
            [
             0.3,
             "#f1b6da"
            ],
            [
             0.4,
             "#fde0ef"
            ],
            [
             0.5,
             "#f7f7f7"
            ],
            [
             0.6,
             "#e6f5d0"
            ],
            [
             0.7,
             "#b8e186"
            ],
            [
             0.8,
             "#7fbc41"
            ],
            [
             0.9,
             "#4d9221"
            ],
            [
             1,
             "#276419"
            ]
           ],
           "sequential": [
            [
             0,
             "#0d0887"
            ],
            [
             0.1111111111111111,
             "#46039f"
            ],
            [
             0.2222222222222222,
             "#7201a8"
            ],
            [
             0.3333333333333333,
             "#9c179e"
            ],
            [
             0.4444444444444444,
             "#bd3786"
            ],
            [
             0.5555555555555556,
             "#d8576b"
            ],
            [
             0.6666666666666666,
             "#ed7953"
            ],
            [
             0.7777777777777778,
             "#fb9f3a"
            ],
            [
             0.8888888888888888,
             "#fdca26"
            ],
            [
             1,
             "#f0f921"
            ]
           ],
           "sequentialminus": [
            [
             0,
             "#0d0887"
            ],
            [
             0.1111111111111111,
             "#46039f"
            ],
            [
             0.2222222222222222,
             "#7201a8"
            ],
            [
             0.3333333333333333,
             "#9c179e"
            ],
            [
             0.4444444444444444,
             "#bd3786"
            ],
            [
             0.5555555555555556,
             "#d8576b"
            ],
            [
             0.6666666666666666,
             "#ed7953"
            ],
            [
             0.7777777777777778,
             "#fb9f3a"
            ],
            [
             0.8888888888888888,
             "#fdca26"
            ],
            [
             1,
             "#f0f921"
            ]
           ]
          },
          "colorway": [
           "#636efa",
           "#EF553B",
           "#00cc96",
           "#ab63fa",
           "#FFA15A",
           "#19d3f3",
           "#FF6692",
           "#B6E880",
           "#FF97FF",
           "#FECB52"
          ],
          "font": {
           "color": "#2a3f5f"
          },
          "geo": {
           "bgcolor": "white",
           "lakecolor": "white",
           "landcolor": "#E5ECF6",
           "showlakes": true,
           "showland": true,
           "subunitcolor": "white"
          },
          "hoverlabel": {
           "align": "left"
          },
          "hovermode": "closest",
          "mapbox": {
           "style": "light"
          },
          "paper_bgcolor": "white",
          "plot_bgcolor": "#E5ECF6",
          "polar": {
           "angularaxis": {
            "gridcolor": "white",
            "linecolor": "white",
            "ticks": ""
           },
           "bgcolor": "#E5ECF6",
           "radialaxis": {
            "gridcolor": "white",
            "linecolor": "white",
            "ticks": ""
           }
          },
          "scene": {
           "xaxis": {
            "backgroundcolor": "#E5ECF6",
            "gridcolor": "white",
            "gridwidth": 2,
            "linecolor": "white",
            "showbackground": true,
            "ticks": "",
            "zerolinecolor": "white"
           },
           "yaxis": {
            "backgroundcolor": "#E5ECF6",
            "gridcolor": "white",
            "gridwidth": 2,
            "linecolor": "white",
            "showbackground": true,
            "ticks": "",
            "zerolinecolor": "white"
           },
           "zaxis": {
            "backgroundcolor": "#E5ECF6",
            "gridcolor": "white",
            "gridwidth": 2,
            "linecolor": "white",
            "showbackground": true,
            "ticks": "",
            "zerolinecolor": "white"
           }
          },
          "shapedefaults": {
           "line": {
            "color": "#2a3f5f"
           }
          },
          "ternary": {
           "aaxis": {
            "gridcolor": "white",
            "linecolor": "white",
            "ticks": ""
           },
           "baxis": {
            "gridcolor": "white",
            "linecolor": "white",
            "ticks": ""
           },
           "bgcolor": "#E5ECF6",
           "caxis": {
            "gridcolor": "white",
            "linecolor": "white",
            "ticks": ""
           }
          },
          "title": {
           "x": 0.05
          },
          "xaxis": {
           "automargin": true,
           "gridcolor": "white",
           "linecolor": "white",
           "ticks": "",
           "title": {
            "standoff": 15
           },
           "zerolinecolor": "white",
           "zerolinewidth": 2
          },
          "yaxis": {
           "automargin": true,
           "gridcolor": "white",
           "linecolor": "white",
           "ticks": "",
           "title": {
            "standoff": 15
           },
           "zerolinecolor": "white",
           "zerolinewidth": 2
          }
         }
        },
        "width": 1066.6666666666667
       }
      }
     },
     "metadata": {},
     "output_type": "display_data"
    }
   ],
   "source": [
    "fig = px.scatter_mapbox(weather_day_mean,\n",
    "                        lat='lat',\n",
    "                        lon='lon',\n",
    "                        color='score',\n",
    "                        size='score',\n",
    "                        center=dict(lat=47, lon=2.2),\n",
    "                        zoom=4.5,\n",
    "                        color_continuous_scale=['white', 'yellow','orange', 'red','purple'],\n",
    "                        mapbox_style='carto-positron',\n",
    "                        hover_name='city',\n",
    "                        hover_data=['main.feels_like', \"pop\", \"wind.speed\", \"score\"],\n",
    "                        height=600,\n",
    "                        width=600*16/9)\n",
    "\n",
    "fig.show()"
   ]
  },
  {
   "cell_type": "code",
   "execution_count": 16,
   "metadata": {},
   "outputs": [
    {
     "data": {
      "text/html": [
       "<div>\n",
       "<style scoped>\n",
       "    .dataframe tbody tr th:only-of-type {\n",
       "        vertical-align: middle;\n",
       "    }\n",
       "\n",
       "    .dataframe tbody tr th {\n",
       "        vertical-align: top;\n",
       "    }\n",
       "\n",
       "    .dataframe thead th {\n",
       "        text-align: right;\n",
       "    }\n",
       "</style>\n",
       "<table border=\"1\" class=\"dataframe\">\n",
       "  <thead>\n",
       "    <tr style=\"text-align: right;\">\n",
       "      <th></th>\n",
       "      <th>city</th>\n",
       "      <th>pop</th>\n",
       "      <th>dt_txt</th>\n",
       "      <th>main.feels_like</th>\n",
       "      <th>wind.speed</th>\n",
       "      <th>lat</th>\n",
       "      <th>lon</th>\n",
       "      <th>score</th>\n",
       "    </tr>\n",
       "  </thead>\n",
       "  <tbody>\n",
       "    <tr>\n",
       "      <th>4</th>\n",
       "      <td>Ariege</td>\n",
       "      <td>0.016</td>\n",
       "      <td>2024-04-05 12:00:00</td>\n",
       "      <td>18.1080</td>\n",
       "      <td>2.4212</td>\n",
       "      <td>42.8458</td>\n",
       "      <td>1.6068</td>\n",
       "      <td>10.000000</td>\n",
       "    </tr>\n",
       "    <tr>\n",
       "      <th>19</th>\n",
       "      <td>Grenoble</td>\n",
       "      <td>0.126</td>\n",
       "      <td>2024-04-05 12:00:00</td>\n",
       "      <td>17.0840</td>\n",
       "      <td>2.0332</td>\n",
       "      <td>45.1876</td>\n",
       "      <td>5.7358</td>\n",
       "      <td>8.548545</td>\n",
       "    </tr>\n",
       "    <tr>\n",
       "      <th>1</th>\n",
       "      <td>Aix-en-Provence</td>\n",
       "      <td>0.000</td>\n",
       "      <td>2024-04-05 12:00:00</td>\n",
       "      <td>17.0644</td>\n",
       "      <td>2.8984</td>\n",
       "      <td>43.5298</td>\n",
       "      <td>5.4475</td>\n",
       "      <td>8.419676</td>\n",
       "    </tr>\n",
       "    <tr>\n",
       "      <th>7</th>\n",
       "      <td>Bayonne</td>\n",
       "      <td>0.080</td>\n",
       "      <td>2024-04-05 12:00:00</td>\n",
       "      <td>17.1804</td>\n",
       "      <td>3.2704</td>\n",
       "      <td>43.4945</td>\n",
       "      <td>-1.4737</td>\n",
       "      <td>8.388245</td>\n",
       "    </tr>\n",
       "    <tr>\n",
       "      <th>14</th>\n",
       "      <td>Collioure</td>\n",
       "      <td>0.000</td>\n",
       "      <td>2024-04-05 12:00:00</td>\n",
       "      <td>16.8684</td>\n",
       "      <td>3.3384</td>\n",
       "      <td>42.5251</td>\n",
       "      <td>3.0832</td>\n",
       "      <td>8.021171</td>\n",
       "    </tr>\n",
       "  </tbody>\n",
       "</table>\n",
       "</div>"
      ],
      "text/plain": [
       "               city    pop              dt_txt  main.feels_like  wind.speed  \\\n",
       "4            Ariege  0.016 2024-04-05 12:00:00          18.1080      2.4212   \n",
       "19         Grenoble  0.126 2024-04-05 12:00:00          17.0840      2.0332   \n",
       "1   Aix-en-Provence  0.000 2024-04-05 12:00:00          17.0644      2.8984   \n",
       "7           Bayonne  0.080 2024-04-05 12:00:00          17.1804      3.2704   \n",
       "14        Collioure  0.000 2024-04-05 12:00:00          16.8684      3.3384   \n",
       "\n",
       "        lat     lon      score  \n",
       "4   42.8458  1.6068  10.000000  \n",
       "19  45.1876  5.7358   8.548545  \n",
       "1   43.5298  5.4475   8.419676  \n",
       "7   43.4945 -1.4737   8.388245  \n",
       "14  42.5251  3.0832   8.021171  "
      ]
     },
     "execution_count": 16,
     "metadata": {},
     "output_type": "execute_result"
    }
   ],
   "source": [
    "top5_cities = weather_day_mean.sort_values('score',ascending=False).head()\n",
    "top5_cities"
   ]
  },
  {
   "cell_type": "code",
   "execution_count": 21,
   "metadata": {},
   "outputs": [
    {
     "data": {
      "application/vnd.plotly.v1+json": {
       "config": {
        "plotlyServerURL": "https://plot.ly"
       },
       "data": [
        {
         "customdata": [
          [
           18.108,
           0.016,
           2.4212000000000002,
           10
          ],
          [
           17.084,
           0.126,
           2.0332,
           8.548544615695473
          ],
          [
           17.0644,
           0,
           2.8984000000000005,
           8.419676032464103
          ],
          [
           17.1804,
           0.08,
           3.2704000000000004,
           8.388244670700352
          ],
          [
           16.868399999999998,
           0,
           3.3383999999999996,
           8.021171267245146
          ]
         ],
         "hovertemplate": "<b>%{hovertext}</b><br><br>score=%{marker.color}<br>city=%{text}<br>lat=%{lat}<br>lon=%{lon}<br>main.feels_like=%{customdata[0]}<br>pop=%{customdata[1]}<br>wind.speed=%{customdata[2]}<extra></extra>",
         "hovertext": [
          "Ariege",
          "Grenoble",
          "Aix-en-Provence",
          "Bayonne",
          "Collioure"
         ],
         "lat": [
          42.8458,
          45.1876,
          43.5298,
          43.494499999999995,
          42.5251
         ],
         "legendgroup": "",
         "lon": [
          1.6068,
          5.7358,
          5.4475,
          -1.4737,
          3.0831999999999997
         ],
         "marker": {
          "color": [
           10,
           8.548544615695473,
           8.419676032464103,
           8.388244670700352,
           8.021171267245146
          ],
          "coloraxis": "coloraxis",
          "size": [
           10,
           8.548544615695473,
           8.419676032464103,
           8.388244670700352,
           8.021171267245146
          ],
          "sizemode": "area",
          "sizeref": 0.025
         },
         "mode": "markers+text",
         "name": "",
         "showlegend": false,
         "subplot": "mapbox",
         "text": [
          "Ariege",
          "Grenoble",
          "Aix-en-Provence",
          "Bayonne",
          "Collioure"
         ],
         "type": "scattermapbox"
        }
       ],
       "layout": {
        "coloraxis": {
         "cmax": 10,
         "cmin": 0,
         "colorbar": {
          "title": {
           "text": "score"
          }
         },
         "colorscale": [
          [
           0,
           "white"
          ],
          [
           0.25,
           "yellow"
          ],
          [
           0.5,
           "orange"
          ],
          [
           0.75,
           "red"
          ],
          [
           1,
           "purple"
          ]
         ]
        },
        "height": 600,
        "legend": {
         "itemsizing": "constant",
         "tracegroupgap": 0
        },
        "mapbox": {
         "center": {
          "lat": 43.51656,
          "lon": 2.8799199999999994
         },
         "domain": {
          "x": [
           0,
           1
          ],
          "y": [
           0,
           1
          ]
         },
         "style": "carto-positron",
         "zoom": 6
        },
        "margin": {
         "t": 60
        },
        "template": {
         "data": {
          "bar": [
           {
            "error_x": {
             "color": "#2a3f5f"
            },
            "error_y": {
             "color": "#2a3f5f"
            },
            "marker": {
             "line": {
              "color": "#E5ECF6",
              "width": 0.5
             },
             "pattern": {
              "fillmode": "overlay",
              "size": 10,
              "solidity": 0.2
             }
            },
            "type": "bar"
           }
          ],
          "barpolar": [
           {
            "marker": {
             "line": {
              "color": "#E5ECF6",
              "width": 0.5
             },
             "pattern": {
              "fillmode": "overlay",
              "size": 10,
              "solidity": 0.2
             }
            },
            "type": "barpolar"
           }
          ],
          "carpet": [
           {
            "aaxis": {
             "endlinecolor": "#2a3f5f",
             "gridcolor": "white",
             "linecolor": "white",
             "minorgridcolor": "white",
             "startlinecolor": "#2a3f5f"
            },
            "baxis": {
             "endlinecolor": "#2a3f5f",
             "gridcolor": "white",
             "linecolor": "white",
             "minorgridcolor": "white",
             "startlinecolor": "#2a3f5f"
            },
            "type": "carpet"
           }
          ],
          "choropleth": [
           {
            "colorbar": {
             "outlinewidth": 0,
             "ticks": ""
            },
            "type": "choropleth"
           }
          ],
          "contour": [
           {
            "colorbar": {
             "outlinewidth": 0,
             "ticks": ""
            },
            "colorscale": [
             [
              0,
              "#0d0887"
             ],
             [
              0.1111111111111111,
              "#46039f"
             ],
             [
              0.2222222222222222,
              "#7201a8"
             ],
             [
              0.3333333333333333,
              "#9c179e"
             ],
             [
              0.4444444444444444,
              "#bd3786"
             ],
             [
              0.5555555555555556,
              "#d8576b"
             ],
             [
              0.6666666666666666,
              "#ed7953"
             ],
             [
              0.7777777777777778,
              "#fb9f3a"
             ],
             [
              0.8888888888888888,
              "#fdca26"
             ],
             [
              1,
              "#f0f921"
             ]
            ],
            "type": "contour"
           }
          ],
          "contourcarpet": [
           {
            "colorbar": {
             "outlinewidth": 0,
             "ticks": ""
            },
            "type": "contourcarpet"
           }
          ],
          "heatmap": [
           {
            "colorbar": {
             "outlinewidth": 0,
             "ticks": ""
            },
            "colorscale": [
             [
              0,
              "#0d0887"
             ],
             [
              0.1111111111111111,
              "#46039f"
             ],
             [
              0.2222222222222222,
              "#7201a8"
             ],
             [
              0.3333333333333333,
              "#9c179e"
             ],
             [
              0.4444444444444444,
              "#bd3786"
             ],
             [
              0.5555555555555556,
              "#d8576b"
             ],
             [
              0.6666666666666666,
              "#ed7953"
             ],
             [
              0.7777777777777778,
              "#fb9f3a"
             ],
             [
              0.8888888888888888,
              "#fdca26"
             ],
             [
              1,
              "#f0f921"
             ]
            ],
            "type": "heatmap"
           }
          ],
          "heatmapgl": [
           {
            "colorbar": {
             "outlinewidth": 0,
             "ticks": ""
            },
            "colorscale": [
             [
              0,
              "#0d0887"
             ],
             [
              0.1111111111111111,
              "#46039f"
             ],
             [
              0.2222222222222222,
              "#7201a8"
             ],
             [
              0.3333333333333333,
              "#9c179e"
             ],
             [
              0.4444444444444444,
              "#bd3786"
             ],
             [
              0.5555555555555556,
              "#d8576b"
             ],
             [
              0.6666666666666666,
              "#ed7953"
             ],
             [
              0.7777777777777778,
              "#fb9f3a"
             ],
             [
              0.8888888888888888,
              "#fdca26"
             ],
             [
              1,
              "#f0f921"
             ]
            ],
            "type": "heatmapgl"
           }
          ],
          "histogram": [
           {
            "marker": {
             "pattern": {
              "fillmode": "overlay",
              "size": 10,
              "solidity": 0.2
             }
            },
            "type": "histogram"
           }
          ],
          "histogram2d": [
           {
            "colorbar": {
             "outlinewidth": 0,
             "ticks": ""
            },
            "colorscale": [
             [
              0,
              "#0d0887"
             ],
             [
              0.1111111111111111,
              "#46039f"
             ],
             [
              0.2222222222222222,
              "#7201a8"
             ],
             [
              0.3333333333333333,
              "#9c179e"
             ],
             [
              0.4444444444444444,
              "#bd3786"
             ],
             [
              0.5555555555555556,
              "#d8576b"
             ],
             [
              0.6666666666666666,
              "#ed7953"
             ],
             [
              0.7777777777777778,
              "#fb9f3a"
             ],
             [
              0.8888888888888888,
              "#fdca26"
             ],
             [
              1,
              "#f0f921"
             ]
            ],
            "type": "histogram2d"
           }
          ],
          "histogram2dcontour": [
           {
            "colorbar": {
             "outlinewidth": 0,
             "ticks": ""
            },
            "colorscale": [
             [
              0,
              "#0d0887"
             ],
             [
              0.1111111111111111,
              "#46039f"
             ],
             [
              0.2222222222222222,
              "#7201a8"
             ],
             [
              0.3333333333333333,
              "#9c179e"
             ],
             [
              0.4444444444444444,
              "#bd3786"
             ],
             [
              0.5555555555555556,
              "#d8576b"
             ],
             [
              0.6666666666666666,
              "#ed7953"
             ],
             [
              0.7777777777777778,
              "#fb9f3a"
             ],
             [
              0.8888888888888888,
              "#fdca26"
             ],
             [
              1,
              "#f0f921"
             ]
            ],
            "type": "histogram2dcontour"
           }
          ],
          "mesh3d": [
           {
            "colorbar": {
             "outlinewidth": 0,
             "ticks": ""
            },
            "type": "mesh3d"
           }
          ],
          "parcoords": [
           {
            "line": {
             "colorbar": {
              "outlinewidth": 0,
              "ticks": ""
             }
            },
            "type": "parcoords"
           }
          ],
          "pie": [
           {
            "automargin": true,
            "type": "pie"
           }
          ],
          "scatter": [
           {
            "fillpattern": {
             "fillmode": "overlay",
             "size": 10,
             "solidity": 0.2
            },
            "type": "scatter"
           }
          ],
          "scatter3d": [
           {
            "line": {
             "colorbar": {
              "outlinewidth": 0,
              "ticks": ""
             }
            },
            "marker": {
             "colorbar": {
              "outlinewidth": 0,
              "ticks": ""
             }
            },
            "type": "scatter3d"
           }
          ],
          "scattercarpet": [
           {
            "marker": {
             "colorbar": {
              "outlinewidth": 0,
              "ticks": ""
             }
            },
            "type": "scattercarpet"
           }
          ],
          "scattergeo": [
           {
            "marker": {
             "colorbar": {
              "outlinewidth": 0,
              "ticks": ""
             }
            },
            "type": "scattergeo"
           }
          ],
          "scattergl": [
           {
            "marker": {
             "colorbar": {
              "outlinewidth": 0,
              "ticks": ""
             }
            },
            "type": "scattergl"
           }
          ],
          "scattermapbox": [
           {
            "marker": {
             "colorbar": {
              "outlinewidth": 0,
              "ticks": ""
             }
            },
            "type": "scattermapbox"
           }
          ],
          "scatterpolar": [
           {
            "marker": {
             "colorbar": {
              "outlinewidth": 0,
              "ticks": ""
             }
            },
            "type": "scatterpolar"
           }
          ],
          "scatterpolargl": [
           {
            "marker": {
             "colorbar": {
              "outlinewidth": 0,
              "ticks": ""
             }
            },
            "type": "scatterpolargl"
           }
          ],
          "scatterternary": [
           {
            "marker": {
             "colorbar": {
              "outlinewidth": 0,
              "ticks": ""
             }
            },
            "type": "scatterternary"
           }
          ],
          "surface": [
           {
            "colorbar": {
             "outlinewidth": 0,
             "ticks": ""
            },
            "colorscale": [
             [
              0,
              "#0d0887"
             ],
             [
              0.1111111111111111,
              "#46039f"
             ],
             [
              0.2222222222222222,
              "#7201a8"
             ],
             [
              0.3333333333333333,
              "#9c179e"
             ],
             [
              0.4444444444444444,
              "#bd3786"
             ],
             [
              0.5555555555555556,
              "#d8576b"
             ],
             [
              0.6666666666666666,
              "#ed7953"
             ],
             [
              0.7777777777777778,
              "#fb9f3a"
             ],
             [
              0.8888888888888888,
              "#fdca26"
             ],
             [
              1,
              "#f0f921"
             ]
            ],
            "type": "surface"
           }
          ],
          "table": [
           {
            "cells": {
             "fill": {
              "color": "#EBF0F8"
             },
             "line": {
              "color": "white"
             }
            },
            "header": {
             "fill": {
              "color": "#C8D4E3"
             },
             "line": {
              "color": "white"
             }
            },
            "type": "table"
           }
          ]
         },
         "layout": {
          "annotationdefaults": {
           "arrowcolor": "#2a3f5f",
           "arrowhead": 0,
           "arrowwidth": 1
          },
          "autotypenumbers": "strict",
          "coloraxis": {
           "colorbar": {
            "outlinewidth": 0,
            "ticks": ""
           }
          },
          "colorscale": {
           "diverging": [
            [
             0,
             "#8e0152"
            ],
            [
             0.1,
             "#c51b7d"
            ],
            [
             0.2,
             "#de77ae"
            ],
            [
             0.3,
             "#f1b6da"
            ],
            [
             0.4,
             "#fde0ef"
            ],
            [
             0.5,
             "#f7f7f7"
            ],
            [
             0.6,
             "#e6f5d0"
            ],
            [
             0.7,
             "#b8e186"
            ],
            [
             0.8,
             "#7fbc41"
            ],
            [
             0.9,
             "#4d9221"
            ],
            [
             1,
             "#276419"
            ]
           ],
           "sequential": [
            [
             0,
             "#0d0887"
            ],
            [
             0.1111111111111111,
             "#46039f"
            ],
            [
             0.2222222222222222,
             "#7201a8"
            ],
            [
             0.3333333333333333,
             "#9c179e"
            ],
            [
             0.4444444444444444,
             "#bd3786"
            ],
            [
             0.5555555555555556,
             "#d8576b"
            ],
            [
             0.6666666666666666,
             "#ed7953"
            ],
            [
             0.7777777777777778,
             "#fb9f3a"
            ],
            [
             0.8888888888888888,
             "#fdca26"
            ],
            [
             1,
             "#f0f921"
            ]
           ],
           "sequentialminus": [
            [
             0,
             "#0d0887"
            ],
            [
             0.1111111111111111,
             "#46039f"
            ],
            [
             0.2222222222222222,
             "#7201a8"
            ],
            [
             0.3333333333333333,
             "#9c179e"
            ],
            [
             0.4444444444444444,
             "#bd3786"
            ],
            [
             0.5555555555555556,
             "#d8576b"
            ],
            [
             0.6666666666666666,
             "#ed7953"
            ],
            [
             0.7777777777777778,
             "#fb9f3a"
            ],
            [
             0.8888888888888888,
             "#fdca26"
            ],
            [
             1,
             "#f0f921"
            ]
           ]
          },
          "colorway": [
           "#636efa",
           "#EF553B",
           "#00cc96",
           "#ab63fa",
           "#FFA15A",
           "#19d3f3",
           "#FF6692",
           "#B6E880",
           "#FF97FF",
           "#FECB52"
          ],
          "font": {
           "color": "#2a3f5f"
          },
          "geo": {
           "bgcolor": "white",
           "lakecolor": "white",
           "landcolor": "#E5ECF6",
           "showlakes": true,
           "showland": true,
           "subunitcolor": "white"
          },
          "hoverlabel": {
           "align": "left"
          },
          "hovermode": "closest",
          "mapbox": {
           "style": "light"
          },
          "paper_bgcolor": "white",
          "plot_bgcolor": "#E5ECF6",
          "polar": {
           "angularaxis": {
            "gridcolor": "white",
            "linecolor": "white",
            "ticks": ""
           },
           "bgcolor": "#E5ECF6",
           "radialaxis": {
            "gridcolor": "white",
            "linecolor": "white",
            "ticks": ""
           }
          },
          "scene": {
           "xaxis": {
            "backgroundcolor": "#E5ECF6",
            "gridcolor": "white",
            "gridwidth": 2,
            "linecolor": "white",
            "showbackground": true,
            "ticks": "",
            "zerolinecolor": "white"
           },
           "yaxis": {
            "backgroundcolor": "#E5ECF6",
            "gridcolor": "white",
            "gridwidth": 2,
            "linecolor": "white",
            "showbackground": true,
            "ticks": "",
            "zerolinecolor": "white"
           },
           "zaxis": {
            "backgroundcolor": "#E5ECF6",
            "gridcolor": "white",
            "gridwidth": 2,
            "linecolor": "white",
            "showbackground": true,
            "ticks": "",
            "zerolinecolor": "white"
           }
          },
          "shapedefaults": {
           "line": {
            "color": "#2a3f5f"
           }
          },
          "ternary": {
           "aaxis": {
            "gridcolor": "white",
            "linecolor": "white",
            "ticks": ""
           },
           "baxis": {
            "gridcolor": "white",
            "linecolor": "white",
            "ticks": ""
           },
           "bgcolor": "#E5ECF6",
           "caxis": {
            "gridcolor": "white",
            "linecolor": "white",
            "ticks": ""
           }
          },
          "title": {
           "x": 0.05
          },
          "xaxis": {
           "automargin": true,
           "gridcolor": "white",
           "linecolor": "white",
           "ticks": "",
           "title": {
            "standoff": 15
           },
           "zerolinecolor": "white",
           "zerolinewidth": 2
          },
          "yaxis": {
           "automargin": true,
           "gridcolor": "white",
           "linecolor": "white",
           "ticks": "",
           "title": {
            "standoff": 15
           },
           "zerolinecolor": "white",
           "zerolinewidth": 2
          }
         }
        },
        "width": 1066.6666666666667
       }
      }
     },
     "metadata": {},
     "output_type": "display_data"
    }
   ],
   "source": [
    "\n",
    "fig = px.scatter_mapbox(top5_cities,\n",
    "                        lat='lat',\n",
    "                        lon='lon',\n",
    "                        color='score',\n",
    "                        size='score',\n",
    "                        center=dict(lat=top5_cities['lat'].mean(), lon=top5_cities['lon'].mean()),\n",
    "                        zoom=6,\n",
    "                        range_color=(0, 10),\n",
    "                        color_continuous_scale=['white', 'yellow','orange', 'red','purple'],\n",
    "                        mapbox_style='carto-positron',\n",
    "                        text='city',\n",
    "                        hover_name='city',\n",
    "                        hover_data=['main.feels_like', \"pop\", \"wind.speed\", \"score\"],\n",
    "                        height=600,\n",
    "                        width=600*16/9)\n",
    "\n",
    "\n",
    "fig.show()"
   ]
  },
  {
   "cell_type": "code",
   "execution_count": 18,
   "metadata": {},
   "outputs": [],
   "source": [
    "weather_day_mean.rename(columns={\n",
    "    'city': 'city_target',\n",
    "    'pop': 'city_target_precipitation',\n",
    "    'dt_txt': 'date_time',\n",
    "    'main.feels_like': 'city_target_temp_feels_like',\n",
    "    'wind.speed': 'city_target_wind_speed',\n",
    "    'lat': 'lat_target',\n",
    "    'lon': 'lon_target',\n",
    "    'score': 'city_target_weather_score',\n",
    "}, inplace=True)"
   ]
  },
  {
   "cell_type": "code",
   "execution_count": 23,
   "metadata": {},
   "outputs": [
    {
     "data": {
      "text/html": [
       "<div>\n",
       "<style scoped>\n",
       "    .dataframe tbody tr th:only-of-type {\n",
       "        vertical-align: middle;\n",
       "    }\n",
       "\n",
       "    .dataframe tbody tr th {\n",
       "        vertical-align: top;\n",
       "    }\n",
       "\n",
       "    .dataframe thead th {\n",
       "        text-align: right;\n",
       "    }\n",
       "</style>\n",
       "<table border=\"1\" class=\"dataframe\">\n",
       "  <thead>\n",
       "    <tr style=\"text-align: right;\">\n",
       "      <th></th>\n",
       "      <th>city_target</th>\n",
       "      <th>city_target_precipitation</th>\n",
       "      <th>date_time</th>\n",
       "      <th>city_target_temp_feels_like</th>\n",
       "      <th>city_target_wind_speed</th>\n",
       "      <th>lat_target</th>\n",
       "      <th>lon_target</th>\n",
       "      <th>city_target_weather_score</th>\n",
       "    </tr>\n",
       "  </thead>\n",
       "  <tbody>\n",
       "    <tr>\n",
       "      <th>4</th>\n",
       "      <td>Ariege</td>\n",
       "      <td>0.0160</td>\n",
       "      <td>2024-04-05 12:00:00</td>\n",
       "      <td>18.1080</td>\n",
       "      <td>2.4212</td>\n",
       "      <td>42.8458</td>\n",
       "      <td>1.6068</td>\n",
       "      <td>10.000000</td>\n",
       "    </tr>\n",
       "    <tr>\n",
       "      <th>19</th>\n",
       "      <td>Grenoble</td>\n",
       "      <td>0.1260</td>\n",
       "      <td>2024-04-05 12:00:00</td>\n",
       "      <td>17.0840</td>\n",
       "      <td>2.0332</td>\n",
       "      <td>45.1876</td>\n",
       "      <td>5.7358</td>\n",
       "      <td>8.548545</td>\n",
       "    </tr>\n",
       "    <tr>\n",
       "      <th>1</th>\n",
       "      <td>Aix-en-Provence</td>\n",
       "      <td>0.0000</td>\n",
       "      <td>2024-04-05 12:00:00</td>\n",
       "      <td>17.0644</td>\n",
       "      <td>2.8984</td>\n",
       "      <td>43.5298</td>\n",
       "      <td>5.4475</td>\n",
       "      <td>8.419676</td>\n",
       "    </tr>\n",
       "    <tr>\n",
       "      <th>7</th>\n",
       "      <td>Bayonne</td>\n",
       "      <td>0.0800</td>\n",
       "      <td>2024-04-05 12:00:00</td>\n",
       "      <td>17.1804</td>\n",
       "      <td>3.2704</td>\n",
       "      <td>43.4945</td>\n",
       "      <td>-1.4737</td>\n",
       "      <td>8.388245</td>\n",
       "    </tr>\n",
       "    <tr>\n",
       "      <th>14</th>\n",
       "      <td>Collioure</td>\n",
       "      <td>0.0000</td>\n",
       "      <td>2024-04-05 12:00:00</td>\n",
       "      <td>16.8684</td>\n",
       "      <td>3.3384</td>\n",
       "      <td>42.5251</td>\n",
       "      <td>3.0832</td>\n",
       "      <td>8.021171</td>\n",
       "    </tr>\n",
       "    <tr>\n",
       "      <th>5</th>\n",
       "      <td>Avignon</td>\n",
       "      <td>0.0208</td>\n",
       "      <td>2024-04-05 12:00:00</td>\n",
       "      <td>16.4620</td>\n",
       "      <td>3.0988</td>\n",
       "      <td>43.9492</td>\n",
       "      <td>4.8059</td>\n",
       "      <td>7.494808</td>\n",
       "    </tr>\n",
       "    <tr>\n",
       "      <th>9</th>\n",
       "      <td>Biarritz</td>\n",
       "      <td>0.0800</td>\n",
       "      <td>2024-04-05 12:00:00</td>\n",
       "      <td>16.5572</td>\n",
       "      <td>3.4708</td>\n",
       "      <td>43.4833</td>\n",
       "      <td>-1.5593</td>\n",
       "      <td>7.457540</td>\n",
       "    </tr>\n",
       "    <tr>\n",
       "      <th>26</th>\n",
       "      <td>Montauban</td>\n",
       "      <td>0.0844</td>\n",
       "      <td>2024-04-05 12:00:00</td>\n",
       "      <td>16.2712</td>\n",
       "      <td>5.0772</td>\n",
       "      <td>44.0176</td>\n",
       "      <td>1.3550</td>\n",
       "      <td>6.600474</td>\n",
       "    </tr>\n",
       "    <tr>\n",
       "      <th>24</th>\n",
       "      <td>Marseille</td>\n",
       "      <td>0.0000</td>\n",
       "      <td>2024-04-05 12:00:00</td>\n",
       "      <td>16.0360</td>\n",
       "      <td>4.7672</td>\n",
       "      <td>43.2962</td>\n",
       "      <td>5.3700</td>\n",
       "      <td>6.452185</td>\n",
       "    </tr>\n",
       "    <tr>\n",
       "      <th>27</th>\n",
       "      <td>Nimes</td>\n",
       "      <td>0.0000</td>\n",
       "      <td>2024-04-05 12:00:00</td>\n",
       "      <td>15.7792</td>\n",
       "      <td>3.6264</td>\n",
       "      <td>43.8374</td>\n",
       "      <td>4.3601</td>\n",
       "      <td>6.411998</td>\n",
       "    </tr>\n",
       "    <tr>\n",
       "      <th>23</th>\n",
       "      <td>Lyon</td>\n",
       "      <td>0.2048</td>\n",
       "      <td>2024-04-05 12:00:00</td>\n",
       "      <td>15.7520</td>\n",
       "      <td>4.6260</td>\n",
       "      <td>45.7578</td>\n",
       "      <td>4.8320</td>\n",
       "      <td>5.863408</td>\n",
       "    </tr>\n",
       "    <tr>\n",
       "      <th>34</th>\n",
       "      <td>Uzes</td>\n",
       "      <td>0.0160</td>\n",
       "      <td>2024-04-05 12:00:00</td>\n",
       "      <td>15.2812</td>\n",
       "      <td>3.1564</td>\n",
       "      <td>44.0121</td>\n",
       "      <td>4.4197</td>\n",
       "      <td>5.827150</td>\n",
       "    </tr>\n",
       "    <tr>\n",
       "      <th>33</th>\n",
       "      <td>Toulouse</td>\n",
       "      <td>0.0644</td>\n",
       "      <td>2024-04-05 12:00:00</td>\n",
       "      <td>15.9720</td>\n",
       "      <td>6.5052</td>\n",
       "      <td>43.6045</td>\n",
       "      <td>1.4442</td>\n",
       "      <td>5.802342</td>\n",
       "    </tr>\n",
       "    <tr>\n",
       "      <th>12</th>\n",
       "      <td>Cassis</td>\n",
       "      <td>0.0000</td>\n",
       "      <td>2024-04-05 12:00:00</td>\n",
       "      <td>15.3296</td>\n",
       "      <td>4.7160</td>\n",
       "      <td>43.2140</td>\n",
       "      <td>5.5396</td>\n",
       "      <td>5.475343</td>\n",
       "    </tr>\n",
       "    <tr>\n",
       "      <th>11</th>\n",
       "      <td>Carcassonne</td>\n",
       "      <td>0.0180</td>\n",
       "      <td>2024-04-05 12:00:00</td>\n",
       "      <td>15.6568</td>\n",
       "      <td>6.4508</td>\n",
       "      <td>43.2130</td>\n",
       "      <td>2.3491</td>\n",
       "      <td>5.427410</td>\n",
       "    </tr>\n",
       "    <tr>\n",
       "      <th>3</th>\n",
       "      <td>Annecy</td>\n",
       "      <td>0.1300</td>\n",
       "      <td>2024-04-05 12:00:00</td>\n",
       "      <td>14.3144</td>\n",
       "      <td>1.9740</td>\n",
       "      <td>45.8992</td>\n",
       "      <td>6.1289</td>\n",
       "      <td>4.674405</td>\n",
       "    </tr>\n",
       "    <tr>\n",
       "      <th>28</th>\n",
       "      <td>Paris</td>\n",
       "      <td>0.3976</td>\n",
       "      <td>2024-04-05 12:00:00</td>\n",
       "      <td>15.1016</td>\n",
       "      <td>4.8564</td>\n",
       "      <td>48.8535</td>\n",
       "      <td>2.3484</td>\n",
       "      <td>4.669690</td>\n",
       "    </tr>\n",
       "    <tr>\n",
       "      <th>15</th>\n",
       "      <td>Colmar</td>\n",
       "      <td>0.2560</td>\n",
       "      <td>2024-04-05 12:00:00</td>\n",
       "      <td>14.5992</td>\n",
       "      <td>3.3532</td>\n",
       "      <td>48.0778</td>\n",
       "      <td>7.3580</td>\n",
       "      <td>4.545536</td>\n",
       "    </tr>\n",
       "    <tr>\n",
       "      <th>0</th>\n",
       "      <td>Aigues-Mortes</td>\n",
       "      <td>0.0000</td>\n",
       "      <td>2024-04-05 12:00:00</td>\n",
       "      <td>14.6444</td>\n",
       "      <td>5.0004</td>\n",
       "      <td>43.5662</td>\n",
       "      <td>4.1915</td>\n",
       "      <td>4.434067</td>\n",
       "    </tr>\n",
       "    <tr>\n",
       "      <th>30</th>\n",
       "      <td>Saintes-Maries-de-la-mer</td>\n",
       "      <td>0.0080</td>\n",
       "      <td>2024-04-05 12:00:00</td>\n",
       "      <td>14.7496</td>\n",
       "      <td>5.7160</td>\n",
       "      <td>43.4516</td>\n",
       "      <td>4.4277</td>\n",
       "      <td>4.371878</td>\n",
       "    </tr>\n",
       "    <tr>\n",
       "      <th>10</th>\n",
       "      <td>Bormes-les-Mimosas</td>\n",
       "      <td>0.0000</td>\n",
       "      <td>2024-04-05 12:00:00</td>\n",
       "      <td>14.2828</td>\n",
       "      <td>4.0572</td>\n",
       "      <td>43.1507</td>\n",
       "      <td>6.3419</td>\n",
       "      <td>4.191372</td>\n",
       "    </tr>\n",
       "    <tr>\n",
       "      <th>8</th>\n",
       "      <td>Besancon</td>\n",
       "      <td>0.2172</td>\n",
       "      <td>2024-04-05 12:00:00</td>\n",
       "      <td>14.3244</td>\n",
       "      <td>3.9024</td>\n",
       "      <td>47.2380</td>\n",
       "      <td>6.0244</td>\n",
       "      <td>4.049370</td>\n",
       "    </tr>\n",
       "    <tr>\n",
       "      <th>17</th>\n",
       "      <td>Eguisheim</td>\n",
       "      <td>0.2704</td>\n",
       "      <td>2024-04-05 12:00:00</td>\n",
       "      <td>14.2284</td>\n",
       "      <td>3.2644</td>\n",
       "      <td>48.0448</td>\n",
       "      <td>7.3080</td>\n",
       "      <td>4.033991</td>\n",
       "    </tr>\n",
       "    <tr>\n",
       "      <th>32</th>\n",
       "      <td>Strasbourg</td>\n",
       "      <td>0.2908</td>\n",
       "      <td>2024-04-05 12:00:00</td>\n",
       "      <td>13.5600</td>\n",
       "      <td>4.4164</td>\n",
       "      <td>48.5846</td>\n",
       "      <td>7.7507</td>\n",
       "      <td>2.749907</td>\n",
       "    </tr>\n",
       "    <tr>\n",
       "      <th>22</th>\n",
       "      <td>Lille</td>\n",
       "      <td>0.3232</td>\n",
       "      <td>2024-04-05 12:00:00</td>\n",
       "      <td>13.7636</td>\n",
       "      <td>6.5660</td>\n",
       "      <td>50.6366</td>\n",
       "      <td>3.0635</td>\n",
       "      <td>2.395968</td>\n",
       "    </tr>\n",
       "    <tr>\n",
       "      <th>2</th>\n",
       "      <td>Amiens</td>\n",
       "      <td>0.2968</td>\n",
       "      <td>2024-04-05 12:00:00</td>\n",
       "      <td>13.7184</td>\n",
       "      <td>6.7684</td>\n",
       "      <td>49.8942</td>\n",
       "      <td>2.2957</td>\n",
       "      <td>2.305378</td>\n",
       "    </tr>\n",
       "    <tr>\n",
       "      <th>29</th>\n",
       "      <td>Rouen</td>\n",
       "      <td>0.2660</td>\n",
       "      <td>2024-04-05 12:00:00</td>\n",
       "      <td>13.5032</td>\n",
       "      <td>6.1992</td>\n",
       "      <td>49.4405</td>\n",
       "      <td>1.0940</td>\n",
       "      <td>2.197726</td>\n",
       "    </tr>\n",
       "    <tr>\n",
       "      <th>20</th>\n",
       "      <td>La-Rochelle</td>\n",
       "      <td>0.3072</td>\n",
       "      <td>2024-04-05 12:00:00</td>\n",
       "      <td>13.6444</td>\n",
       "      <td>6.8660</td>\n",
       "      <td>46.1591</td>\n",
       "      <td>-1.1520</td>\n",
       "      <td>2.162478</td>\n",
       "    </tr>\n",
       "    <tr>\n",
       "      <th>25</th>\n",
       "      <td>Mont-Saint-Michel</td>\n",
       "      <td>0.4028</td>\n",
       "      <td>2024-04-05 12:00:00</td>\n",
       "      <td>12.9712</td>\n",
       "      <td>7.1332</td>\n",
       "      <td>48.6360</td>\n",
       "      <td>-1.5115</td>\n",
       "      <td>1.035551</td>\n",
       "    </tr>\n",
       "    <tr>\n",
       "      <th>16</th>\n",
       "      <td>Dijon</td>\n",
       "      <td>0.3260</td>\n",
       "      <td>2024-04-05 12:00:00</td>\n",
       "      <td>12.5952</td>\n",
       "      <td>6.0300</td>\n",
       "      <td>47.3216</td>\n",
       "      <td>5.0415</td>\n",
       "      <td>0.903764</td>\n",
       "    </tr>\n",
       "    <tr>\n",
       "      <th>6</th>\n",
       "      <td>Bayeux</td>\n",
       "      <td>0.2400</td>\n",
       "      <td>2024-04-05 12:00:00</td>\n",
       "      <td>12.8052</td>\n",
       "      <td>7.4548</td>\n",
       "      <td>49.2765</td>\n",
       "      <td>-0.7025</td>\n",
       "      <td>0.895120</td>\n",
       "    </tr>\n",
       "    <tr>\n",
       "      <th>18</th>\n",
       "      <td>Gorges-du-Verdon</td>\n",
       "      <td>0.0160</td>\n",
       "      <td>2024-04-05 12:00:00</td>\n",
       "      <td>11.3068</td>\n",
       "      <td>2.5856</td>\n",
       "      <td>43.7497</td>\n",
       "      <td>6.3286</td>\n",
       "      <td>0.410516</td>\n",
       "    </tr>\n",
       "    <tr>\n",
       "      <th>31</th>\n",
       "      <td>St-Malo</td>\n",
       "      <td>0.2968</td>\n",
       "      <td>2024-04-05 12:00:00</td>\n",
       "      <td>12.4616</td>\n",
       "      <td>7.8588</td>\n",
       "      <td>48.6495</td>\n",
       "      <td>-2.0260</td>\n",
       "      <td>0.235847</td>\n",
       "    </tr>\n",
       "    <tr>\n",
       "      <th>13</th>\n",
       "      <td>Chateau-du-Haut-Koenigsbourg</td>\n",
       "      <td>0.2688</td>\n",
       "      <td>2024-04-05 12:00:00</td>\n",
       "      <td>11.4516</td>\n",
       "      <td>2.9208</td>\n",
       "      <td>48.2495</td>\n",
       "      <td>7.3455</td>\n",
       "      <td>0.235847</td>\n",
       "    </tr>\n",
       "    <tr>\n",
       "      <th>21</th>\n",
       "      <td>Le-Havre</td>\n",
       "      <td>0.2976</td>\n",
       "      <td>2024-04-05 12:00:00</td>\n",
       "      <td>12.2024</td>\n",
       "      <td>7.4000</td>\n",
       "      <td>49.4939</td>\n",
       "      <td>0.1080</td>\n",
       "      <td>0.000000</td>\n",
       "    </tr>\n",
       "  </tbody>\n",
       "</table>\n",
       "</div>"
      ],
      "text/plain": [
       "                     city_target  city_target_precipitation  \\\n",
       "4                         Ariege                     0.0160   \n",
       "19                      Grenoble                     0.1260   \n",
       "1                Aix-en-Provence                     0.0000   \n",
       "7                        Bayonne                     0.0800   \n",
       "14                     Collioure                     0.0000   \n",
       "5                        Avignon                     0.0208   \n",
       "9                       Biarritz                     0.0800   \n",
       "26                     Montauban                     0.0844   \n",
       "24                     Marseille                     0.0000   \n",
       "27                         Nimes                     0.0000   \n",
       "23                          Lyon                     0.2048   \n",
       "34                          Uzes                     0.0160   \n",
       "33                      Toulouse                     0.0644   \n",
       "12                        Cassis                     0.0000   \n",
       "11                   Carcassonne                     0.0180   \n",
       "3                         Annecy                     0.1300   \n",
       "28                         Paris                     0.3976   \n",
       "15                        Colmar                     0.2560   \n",
       "0                  Aigues-Mortes                     0.0000   \n",
       "30      Saintes-Maries-de-la-mer                     0.0080   \n",
       "10            Bormes-les-Mimosas                     0.0000   \n",
       "8                       Besancon                     0.2172   \n",
       "17                     Eguisheim                     0.2704   \n",
       "32                    Strasbourg                     0.2908   \n",
       "22                         Lille                     0.3232   \n",
       "2                         Amiens                     0.2968   \n",
       "29                         Rouen                     0.2660   \n",
       "20                   La-Rochelle                     0.3072   \n",
       "25             Mont-Saint-Michel                     0.4028   \n",
       "16                         Dijon                     0.3260   \n",
       "6                         Bayeux                     0.2400   \n",
       "18              Gorges-du-Verdon                     0.0160   \n",
       "31                       St-Malo                     0.2968   \n",
       "13  Chateau-du-Haut-Koenigsbourg                     0.2688   \n",
       "21                      Le-Havre                     0.2976   \n",
       "\n",
       "             date_time  city_target_temp_feels_like  city_target_wind_speed  \\\n",
       "4  2024-04-05 12:00:00                      18.1080                  2.4212   \n",
       "19 2024-04-05 12:00:00                      17.0840                  2.0332   \n",
       "1  2024-04-05 12:00:00                      17.0644                  2.8984   \n",
       "7  2024-04-05 12:00:00                      17.1804                  3.2704   \n",
       "14 2024-04-05 12:00:00                      16.8684                  3.3384   \n",
       "5  2024-04-05 12:00:00                      16.4620                  3.0988   \n",
       "9  2024-04-05 12:00:00                      16.5572                  3.4708   \n",
       "26 2024-04-05 12:00:00                      16.2712                  5.0772   \n",
       "24 2024-04-05 12:00:00                      16.0360                  4.7672   \n",
       "27 2024-04-05 12:00:00                      15.7792                  3.6264   \n",
       "23 2024-04-05 12:00:00                      15.7520                  4.6260   \n",
       "34 2024-04-05 12:00:00                      15.2812                  3.1564   \n",
       "33 2024-04-05 12:00:00                      15.9720                  6.5052   \n",
       "12 2024-04-05 12:00:00                      15.3296                  4.7160   \n",
       "11 2024-04-05 12:00:00                      15.6568                  6.4508   \n",
       "3  2024-04-05 12:00:00                      14.3144                  1.9740   \n",
       "28 2024-04-05 12:00:00                      15.1016                  4.8564   \n",
       "15 2024-04-05 12:00:00                      14.5992                  3.3532   \n",
       "0  2024-04-05 12:00:00                      14.6444                  5.0004   \n",
       "30 2024-04-05 12:00:00                      14.7496                  5.7160   \n",
       "10 2024-04-05 12:00:00                      14.2828                  4.0572   \n",
       "8  2024-04-05 12:00:00                      14.3244                  3.9024   \n",
       "17 2024-04-05 12:00:00                      14.2284                  3.2644   \n",
       "32 2024-04-05 12:00:00                      13.5600                  4.4164   \n",
       "22 2024-04-05 12:00:00                      13.7636                  6.5660   \n",
       "2  2024-04-05 12:00:00                      13.7184                  6.7684   \n",
       "29 2024-04-05 12:00:00                      13.5032                  6.1992   \n",
       "20 2024-04-05 12:00:00                      13.6444                  6.8660   \n",
       "25 2024-04-05 12:00:00                      12.9712                  7.1332   \n",
       "16 2024-04-05 12:00:00                      12.5952                  6.0300   \n",
       "6  2024-04-05 12:00:00                      12.8052                  7.4548   \n",
       "18 2024-04-05 12:00:00                      11.3068                  2.5856   \n",
       "31 2024-04-05 12:00:00                      12.4616                  7.8588   \n",
       "13 2024-04-05 12:00:00                      11.4516                  2.9208   \n",
       "21 2024-04-05 12:00:00                      12.2024                  7.4000   \n",
       "\n",
       "    lat_target  lon_target  city_target_weather_score  \n",
       "4      42.8458      1.6068                  10.000000  \n",
       "19     45.1876      5.7358                   8.548545  \n",
       "1      43.5298      5.4475                   8.419676  \n",
       "7      43.4945     -1.4737                   8.388245  \n",
       "14     42.5251      3.0832                   8.021171  \n",
       "5      43.9492      4.8059                   7.494808  \n",
       "9      43.4833     -1.5593                   7.457540  \n",
       "26     44.0176      1.3550                   6.600474  \n",
       "24     43.2962      5.3700                   6.452185  \n",
       "27     43.8374      4.3601                   6.411998  \n",
       "23     45.7578      4.8320                   5.863408  \n",
       "34     44.0121      4.4197                   5.827150  \n",
       "33     43.6045      1.4442                   5.802342  \n",
       "12     43.2140      5.5396                   5.475343  \n",
       "11     43.2130      2.3491                   5.427410  \n",
       "3      45.8992      6.1289                   4.674405  \n",
       "28     48.8535      2.3484                   4.669690  \n",
       "15     48.0778      7.3580                   4.545536  \n",
       "0      43.5662      4.1915                   4.434067  \n",
       "30     43.4516      4.4277                   4.371878  \n",
       "10     43.1507      6.3419                   4.191372  \n",
       "8      47.2380      6.0244                   4.049370  \n",
       "17     48.0448      7.3080                   4.033991  \n",
       "32     48.5846      7.7507                   2.749907  \n",
       "22     50.6366      3.0635                   2.395968  \n",
       "2      49.8942      2.2957                   2.305378  \n",
       "29     49.4405      1.0940                   2.197726  \n",
       "20     46.1591     -1.1520                   2.162478  \n",
       "25     48.6360     -1.5115                   1.035551  \n",
       "16     47.3216      5.0415                   0.903764  \n",
       "6      49.2765     -0.7025                   0.895120  \n",
       "18     43.7497      6.3286                   0.410516  \n",
       "31     48.6495     -2.0260                   0.235847  \n",
       "13     48.2495      7.3455                   0.235847  \n",
       "21     49.4939      0.1080                   0.000000  "
      ]
     },
     "execution_count": 23,
     "metadata": {},
     "output_type": "execute_result"
    }
   ],
   "source": [
    "weather_day_mean.sort_values('city_target_weather_score',ascending=False)"
   ]
  },
  {
   "cell_type": "code",
   "execution_count": 20,
   "metadata": {},
   "outputs": [],
   "source": [
    "path=local_project_path+'datas'\n",
    "weather_day_mean.to_csv('cities_weather_datas.csv',index=False)"
   ]
  }
 ],
 "metadata": {
  "kernelspec": {
   "display_name": "env",
   "language": "python",
   "name": "python3"
  },
  "language_info": {
   "codemirror_mode": {
    "name": "ipython",
    "version": 3
   },
   "file_extension": ".py",
   "mimetype": "text/x-python",
   "name": "python",
   "nbconvert_exporter": "python",
   "pygments_lexer": "ipython3",
   "version": "3.8.10"
  }
 },
 "nbformat": 4,
 "nbformat_minor": 2
}
