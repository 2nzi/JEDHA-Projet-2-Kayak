{
 "cells": [
  {
   "cell_type": "markdown",
   "metadata": {},
   "source": [
    "# Create Datalake to S3 with enriched datas"
   ]
  },
  {
   "cell_type": "code",
   "execution_count": 2,
   "metadata": {},
   "outputs": [],
   "source": [
    "# !pip install Boto3\n",
    "# !pip install psycopg2-binary \n",
    "# !pip install sqlalchemy==2.0.0\n",
    "import boto3\n",
    "import pandas as pd\n"
   ]
  },
  {
   "cell_type": "code",
   "execution_count": null,
   "metadata": {},
   "outputs": [],
   "source": [
    "key=pd.read_csv(''+'key.csv')\n",
    "ACCESS_SECRET_KEY=key.iloc[0]\n",
    "ACCESS_KEY=key.iloc[1]\n",
    "\n",
    "session = boto3.Session(aws_access_key_id=ACCESS_KEY, \n",
    "                        aws_secret_access_key=ACCESS_SECRET_KEY)"
   ]
  },
  {
   "cell_type": "code",
   "execution_count": null,
   "metadata": {},
   "outputs": [],
   "source": [
    "s3 = session.resource(\"s3\")"
   ]
  },
  {
   "cell_type": "code",
   "execution_count": null,
   "metadata": {},
   "outputs": [],
   "source": [
    "bucket = s3.Bucket('my-bucket-booking-project')"
   ]
  },
  {
   "cell_type": "code",
   "execution_count": null,
   "metadata": {},
   "outputs": [],
   "source": [
    "local_project_path = r'C:\\Users\\antoi\\\\Documents\\\\Work&Learn\\\\JEDHA\\\\M03-DataCollection_Managment\\\\JEDHA-Projet-2-Kayak\\\\'\n",
    "path = local_project_path+'Data_Enriched_Weather_Hotel_French_Cities.csv'\n",
    "data_enriched = pd.read_csv(path)\n"
   ]
  },
  {
   "cell_type": "code",
   "execution_count": null,
   "metadata": {},
   "outputs": [],
   "source": [
    "put_object = bucket.put_object(Key=\"Data_Enriched_Weather_Hotel_French_Cities.csv\", Body=data_enriched.to_csv(index=False))"
   ]
  },
  {
   "cell_type": "markdown",
   "metadata": {},
   "source": [
    "# SQL Database AWS RDS (Extracted from S3)"
   ]
  },
  {
   "cell_type": "code",
   "execution_count": 5,
   "metadata": {},
   "outputs": [],
   "source": [
    "df = pd.read_csv('https://my-bucket-booking-project.s3.eu-west-3.amazonaws.com/Data_Enriched_Weather_Hotel_French_Cities.csv')"
   ]
  },
  {
   "cell_type": "code",
   "execution_count": 7,
   "metadata": {},
   "outputs": [],
   "source": [
    "from sqlalchemy import create_engine, text\n",
    "HOSTNAME,USERNAME,PASSWORD,DBNAME=key=pd.read_csv('')\n",
    "\n",
    "engine = create_engine(f\"postgresql+psycopg2://{USERNAME}:{PASSWORD}@{HOSTNAME}/{DBNAME}\", echo=True)"
   ]
  },
  {
   "cell_type": "code",
   "execution_count": 9,
   "metadata": {},
   "outputs": [
    {
     "name": "stdout",
     "output_type": "stream",
     "text": [
      "2024-04-02 16:45:24,060 INFO sqlalchemy.engine.Engine BEGIN (implicit)\n",
      "2024-04-02 16:45:24,062 INFO sqlalchemy.engine.Engine SELECT pg_catalog.pg_class.relname \n",
      "FROM pg_catalog.pg_class JOIN pg_catalog.pg_namespace ON pg_catalog.pg_namespace.oid = pg_catalog.pg_class.relnamespace \n",
      "WHERE pg_catalog.pg_class.relname = %(table_name)s AND pg_catalog.pg_class.relkind = ANY (ARRAY[%(param_1)s, %(param_2)s, %(param_3)s, %(param_4)s, %(param_5)s]) AND pg_catalog.pg_table_is_visible(pg_catalog.pg_class.oid) AND pg_catalog.pg_namespace.nspname != %(nspname_1)s\n",
      "2024-04-02 16:45:24,063 INFO sqlalchemy.engine.Engine [cached since 107.8s ago] {'table_name': 'Data_Enriched_Weather_Hotel_French_Cities', 'param_1': 'r', 'param_2': 'p', 'param_3': 'f', 'param_4': 'v', 'param_5': 'm', 'nspname_1': 'pg_catalog'}\n",
      "2024-04-02 16:45:24,260 INFO sqlalchemy.engine.Engine \n",
      "CREATE TABLE \"Data_Enriched_Weather_Hotel_French_Cities\" (\n",
      "\tindex BIGINT, \n",
      "\tcity TEXT, \n",
      "\tlat FLOAT(53), \n",
      "\tlon FLOAT(53), \n",
      "\tname TEXT, \n",
      "\treview_score FLOAT(53), \n",
      "\turl TEXT, \n",
      "\tdescription TEXT, \n",
      "\tcity_target TEXT, \n",
      "\tcity_target_precipitation FLOAT(53), \n",
      "\tdate_time TEXT, \n",
      "\tcity_target_temp_feels_like FLOAT(53), \n",
      "\tcity_target_wind_speed FLOAT(53), \n",
      "\tlat_target FLOAT(53), \n",
      "\tlon_target FLOAT(53), \n",
      "\tcity_target_weather_score FLOAT(53), \n",
      "\tdistance FLOAT(53)\n",
      ")\n",
      "\n",
      "\n",
      "2024-04-02 16:45:24,260 INFO sqlalchemy.engine.Engine [no key 0.00058s] {}\n",
      "2024-04-02 16:45:24,364 INFO sqlalchemy.engine.Engine CREATE INDEX \"ix_Data_Enriched_Weather_Hotel_French_Cities_index\" ON \"Data_Enriched_Weather_Hotel_French_Cities\" (index)\n",
      "2024-04-02 16:45:24,364 INFO sqlalchemy.engine.Engine [no key 0.00062s] {}\n",
      "2024-04-02 16:45:24,478 INFO sqlalchemy.engine.Engine INSERT INTO \"Data_Enriched_Weather_Hotel_French_Cities\" (index, city, lat, lon, name, review_score, url, description, city_target, city_target_precipitation, date_time, city_target_temp_feels_like, city_target_wind_speed, lat_target, lon_target, city ... 331443 characters truncated ... )s, %(lat_target__874)s, %(lon_target__874)s, %(city_target_weather_score__874)s, %(distance__874)s)\n",
      "2024-04-02 16:45:24,479 INFO sqlalchemy.engine.Engine [generated in 0.00383s (insertmanyvalues)] {'review_score__0': 7.9, 'city_target_temp_feels_like__0': 12.9548, 'name__0': 'Brueghel', 'city_target_wind_speed__0': 6.568, 'lon__0': 3.06693703, 'city_target__0': 'Lille', 'city__0': 'Lille', 'lat__0': 50.63603842, 'date_time__0': '2024-04-04 21:36:00', 'city_target_weather_score__0': 2.252226138577126, 'lat_target__0': 50.6366, 'distance__0': 0.25, 'city_target_precipitation__0': 0.4784, 'url__0': 'https://www.booking.com/hotel/fr/brueghel.en-gb.html', 'lon_target__0': 3.0634999999999994, 'index__0': 0, 'description__0': \"This hotel is located in the heart of Lille. It is 300 metres from Gare Lille Flandres, 750 metres from Gare de Lille Europe and 10 minutes from Nouv ... (515 characters truncated) ... <br>Nouveau Siecle Convention Centre is a 20-minute walk from Brueghel. Euralille and Les Tanneurs shopping centres are only 120 and 450 metres away.\", 'review_score__1': 8.4, 'city_target_temp_feels_like__1': 12.9548, 'name__1': 'Grand Hotel Bellevue - Grand Place', 'city_target_wind_speed__1': 6.568, 'lon__1': 3.06234241, 'city_target__1': 'Lille', 'city__1': 'Lille', 'lat__1': 50.63654707, 'date_time__1': '2024-04-04 21:36:00', 'city_target_weather_score__1': 2.252226138577126, 'lat_target__1': 50.6366, 'distance__1': 0.08, 'city_target_precipitation__1': 0.4784, 'url__1': 'https://www.booking.com/hotel/fr/grandhotelbellevue.en-gb.html', 'lon_target__1': 3.0634999999999994, 'index__1': 1, 'description__1': 'On the Grand Place in Old Lille, Grand Hotel Bellevue - Grand Place is set in a building of Flemish architecture and the rooms offer a marble bathroo ... (759 characters truncated) ... and the Citadelle are 1.5 km away and Lesquin Airport is 11 km away. Meeting rooms are available on site. There is a public car park 100 metres away.', 'review_score__2': 8.0, 'city_target_temp_feels_like__2': 12.9548, 'name__2': 'Hotel Lille Europe', 'city_target_wind_speed__2': 6.568, 'lon__2': 3.072685, 'city_target__2': 'Lille', 'city__2': 'Lille', 'lat__2': 50.63788756, 'date_time__2': '2024-04-04 21:36:00', 'city_target_weather_score__2': 2.252226138577126, 'lat_target__2': 50.6366, 'distance__2': 0.66, 'city_target_precipitation__2': 0.4784, 'url__2': 'https://www.booking.com/hotel/fr/lille-europe.en-gb.html', 'lon_target__2': 3.0634999999999994, 'index__2': 2 ... 14775 parameters truncated ... 'city_target_temp_feels_like__872': 13.5944, 'name__872': 'B&B HOTEL La Rochelle Centre', 'city_target_wind_speed__872': 7.466799999999999, 'lon__872': -1.14467164, 'city_target__872': 'La-Rochelle', 'city__872': 'La-Rochelle', 'lat__872': 46.15450177, 'date_time__872': '2024-04-04 21:36:00', 'city_target_weather_score__872': 3.270220758742232, 'lat_target__872': 46.1591, 'distance__872': 0.76, 'city_target_precipitation__872': 0.1752, 'url__872': 'https://www.booking.com/hotel/fr/b-amp-b-la-rochelle-centre.en-gb.html', 'lon_target__872': -1.152, 'index__872': 872, 'description__872': \"Set in the La Rochelle City Centre district in La Rochelle, 500 metres from Parc Expo de La Rochelle, B&B HOTEL La Rochelle Centre boasts air-conditi ... (329 characters truncated) ... tre, while La Rochelle Grosse Cloche is 800 metres from the property. The nearest airport is La Rochelle - Ile de Re Airport, 4 km from the property.\", 'review_score__873': 7.9, 'city_target_temp_feels_like__873': 13.5944, 'name__873': 'B&B HOTEL La Rochelle Centre Les Minimes', 'city_target_wind_speed__873': 7.466799999999999, 'lon__873': -1.15272224, 'city_target__873': 'La-Rochelle', 'city__873': 'La-Rochelle', 'lat__873': 46.14717566, 'date_time__873': '2024-04-04 21:36:00', 'city_target_weather_score__873': 3.270220758742232, 'lat_target__873': 46.1591, 'distance__873': 1.33, 'city_target_precipitation__873': 0.1752, 'url__873': 'https://www.booking.com/hotel/fr/altica-la-rochelle.en-gb.html', 'lon_target__873': -1.152, 'index__873': 873, 'description__873': '\"NEW ROOMS!!!\"<br><br>The team of the B&B HOTEL La Rochelle Centre Les Minimes welcomes you 24/7 in our hotel with secure pay parking, a 10-minute wa ... (99 characters truncated) ... ur establishment, including the Aquarium de la Rochelle (800m away), where more than 12,000 marine animals live, and the Maritime Museum (400m away).', 'review_score__874': 8.2, 'city_target_temp_feels_like__874': 13.5944, 'name__874': 'ibis Budget La Rochelle Centre', 'city_target_wind_speed__874': 7.466799999999999, 'lon__874': -1.14038639, 'city_target__874': 'La-Rochelle', 'city__874': 'La-Rochelle', 'lat__874': 46.15761235, 'date_time__874': '2024-04-04 21:36:00', 'city_target_weather_score__874': 3.270220758742232, 'lat_target__874': 46.1591, 'distance__874': 0.91, 'city_target_precipitation__874': 0.1752, 'url__874': 'https://www.booking.com/hotel/fr/ibis-budget-la-rochelle-centre-la-rochelle.en-gb.html', 'lon_target__874': -1.152, 'index__874': 874, 'description__874': \"Ibis Budget La Rochelle Centre features a seasonal outdoor swimming pool, shared lounge, a terrace and bar in La Rochelle. The property is close to s ... (605 characters truncated) ... elle Train Station, L'Espace Encan and Parc Expo de La Rochelle. The nearest airport is La Rochelle - Ile de Re Airport, 6 km from the accommodation.\"}\n",
      "2024-04-02 16:45:31,329 INFO sqlalchemy.engine.Engine SELECT pg_catalog.pg_class.relname \n",
      "FROM pg_catalog.pg_class JOIN pg_catalog.pg_namespace ON pg_catalog.pg_namespace.oid = pg_catalog.pg_class.relnamespace \n",
      "WHERE pg_catalog.pg_class.relkind = ANY (ARRAY[%(param_1)s, %(param_2)s]) AND pg_catalog.pg_class.relpersistence != %(relpersistence_1)s AND pg_catalog.pg_table_is_visible(pg_catalog.pg_class.oid) AND pg_catalog.pg_namespace.nspname != %(nspname_1)s\n",
      "2024-04-02 16:45:31,331 INFO sqlalchemy.engine.Engine [generated in 0.00124s] {'param_1': 'r', 'param_2': 'p', 'relpersistence_1': 't', 'nspname_1': 'pg_catalog'}\n",
      "2024-04-02 16:45:31,436 INFO sqlalchemy.engine.Engine COMMIT\n"
     ]
    },
    {
     "data": {
      "text/plain": [
       "875"
      ]
     },
     "execution_count": 9,
     "metadata": {},
     "output_type": "execute_result"
    }
   ],
   "source": [
    "\n",
    "df.to_sql(\n",
    "    \"Data_Enriched_Weather_Hotel_French_Cities\",\n",
    "    engine\n",
    ")"
   ]
  }
 ],
 "metadata": {
  "kernelspec": {
   "display_name": ".venv",
   "language": "python",
   "name": "python3"
  },
  "language_info": {
   "codemirror_mode": {
    "name": "ipython",
    "version": 3
   },
   "file_extension": ".py",
   "mimetype": "text/x-python",
   "name": "python",
   "nbconvert_exporter": "python",
   "pygments_lexer": "ipython3",
   "version": "3.11.8"
  }
 },
 "nbformat": 4,
 "nbformat_minor": 2
}
