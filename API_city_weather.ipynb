{
 "cells": [
  {
   "cell_type": "markdown",
   "metadata": {},
   "source": [
    "# City and Weather API's"
   ]
  },
  {
   "cell_type": "markdown",
   "metadata": {},
   "source": [
    "## City API"
   ]
  },
  {
   "cell_type": "code",
   "execution_count": 35,
   "metadata": {},
   "outputs": [
    {
     "name": "stdout",
     "output_type": "stream",
     "text": [
      "C:\\Users\\antoi\\\\Documents\\\\Work&Learn\\\\JEDHA\\\\M03-DataCollection_Managment\\\\JEDHA-Projet-2-Kayak\\my_booking\\my_booking\n"
     ]
    }
   ],
   "source": [
    "import pandas as pd\n",
    "import os\n",
    "local_project_path = r'C:\\Users\\antoi\\\\Documents\\\\Work&Learn\\\\JEDHA\\\\M03-DataCollection_Managment\\\\JEDHA-Projet-2-Kayak'\n",
    "path = local_project_path+'\\\\my_booking\\\\my_booking'\n",
    "print(path)\n",
    "os.chdir(path)\n",
    "chemin_fichier_csv = \"./city.csv\"\n",
    "df = pd.read_csv(chemin_fichier_csv, header=None, names=['city','nan'])\n",
    "cities = df['city'].str.replace(' ', '-').tolist()\n",
    "\n",
    "# list(cities)"
   ]
  },
  {
   "cell_type": "code",
   "execution_count": 36,
   "metadata": {},
   "outputs": [],
   "source": [
    "import requests\n",
    "\n",
    "api_url = 'https://nominatim.openstreetmap.org/search'\n",
    "\n",
    "enriched_cities = []\n",
    "\n",
    "for city in cities:\n",
    "\n",
    "    payload = {\n",
    "        'city' : city,\n",
    "        'limit' : 1,\n",
    "        'country' : 'france',\n",
    "        'country-code' : 'fr',\n",
    "        'format' : 'json'\n",
    "        }\n",
    "    \n",
    "    r_city = requests.get(api_url, \n",
    "                          params=payload)\n",
    "\n",
    "    enriched_cities.append({'city': city,\n",
    "                            'lat' : float(r_city.json()[0]['lat']),\n",
    "                            'lon' : float(r_city.json()[0]['lon'])})\n",
    "    \n",
    "# display(enriched_cities)\n"
   ]
  },
  {
   "cell_type": "code",
   "execution_count": 37,
   "metadata": {},
   "outputs": [],
   "source": [
    "df = pd.DataFrame.from_dict(enriched_cities)"
   ]
  },
  {
   "cell_type": "code",
   "execution_count": 38,
   "metadata": {},
   "outputs": [
    {
     "data": {
      "application/vnd.plotly.v1+json": {
       "config": {
        "plotlyServerURL": "https://plot.ly"
       },
       "data": [
        {
         "hovertemplate": "<b>%{hovertext}</b><br><br>lat=%{lat}<br>lon=%{lon}<extra></extra>",
         "hovertext": [
          "Mont-Saint-Michel",
          "St-Malo",
          "Bayeux",
          "Le-Havre",
          "Rouen",
          "Paris",
          "Amiens",
          "Lille",
          "Strasbourg",
          "Chateau-du-Haut-Koenigsbourg",
          "Colmar",
          "Eguisheim",
          "Besancon",
          "Dijon",
          "Annecy",
          "Grenoble",
          "Lyon",
          "Gorges-du-Verdon",
          "Bormes-les-Mimosas",
          "Cassis",
          "Marseille",
          "Aix-en-Provence",
          "Avignon",
          "Uzes",
          "Nimes",
          "Aigues-Mortes",
          "Saintes-Maries-de-la-mer",
          "Collioure",
          "Carcassonne",
          "Ariege",
          "Toulouse",
          "Montauban",
          "Biarritz",
          "Bayonne",
          "La-Rochelle"
         ],
         "lat": [
          48.6359541,
          48.649518,
          49.2764624,
          49.4938975,
          49.4404591,
          48.8534951,
          49.8941708,
          50.6365654,
          48.584614,
          48.2495226,
          48.0777517,
          48.0447968,
          47.2380222,
          47.3215806,
          45.8992348,
          45.1875602,
          45.7578137,
          43.7496562,
          43.1506968,
          43.2140359,
          43.2961743,
          43.5298424,
          43.9492493,
          44.0121279,
          43.8374249,
          43.5661521,
          43.4515922,
          42.52505,
          43.2130358,
          42.8458016,
          43.6044622,
          44.0175835,
          43.4832523,
          43.4945144,
          46.1591126
         ],
         "legendgroup": "",
         "lon": [
          -1.511459954959514,
          -2.0260409,
          -0.7024738,
          0.1079732,
          1.0939658,
          2.3483915,
          2.2956951,
          3.0635282,
          7.7507127,
          7.3454923,
          7.3579641,
          7.3079618,
          6.0243622,
          5.0414701,
          6.1288847,
          5.7357819,
          4.8320114,
          6.3285616,
          6.3419285,
          5.5396318,
          5.3699525,
          5.4474738,
          4.8059012,
          4.4196718,
          4.3600687,
          4.19154,
          4.4277202,
          3.0831554,
          2.3491069,
          1.6067586,
          1.4442469,
          1.3549991,
          -1.5592776,
          -1.4736657,
          -1.1520434
         ],
         "marker": {
          "color": "#636efa"
         },
         "mode": "markers",
         "name": "",
         "showlegend": false,
         "subplot": "mapbox",
         "type": "scattermapbox"
        }
       ],
       "layout": {
        "height": 600,
        "legend": {
         "tracegroupgap": 0
        },
        "mapbox": {
         "center": {
          "lat": 46.2,
          "lon": 2.2
         },
         "domain": {
          "x": [
           0,
           1
          ],
          "y": [
           0,
           1
          ]
         },
         "style": "carto-positron",
         "zoom": 4
        },
        "margin": {
         "t": 60
        },
        "template": {
         "data": {
          "bar": [
           {
            "error_x": {
             "color": "#2a3f5f"
            },
            "error_y": {
             "color": "#2a3f5f"
            },
            "marker": {
             "line": {
              "color": "#E5ECF6",
              "width": 0.5
             },
             "pattern": {
              "fillmode": "overlay",
              "size": 10,
              "solidity": 0.2
             }
            },
            "type": "bar"
           }
          ],
          "barpolar": [
           {
            "marker": {
             "line": {
              "color": "#E5ECF6",
              "width": 0.5
             },
             "pattern": {
              "fillmode": "overlay",
              "size": 10,
              "solidity": 0.2
             }
            },
            "type": "barpolar"
           }
          ],
          "carpet": [
           {
            "aaxis": {
             "endlinecolor": "#2a3f5f",
             "gridcolor": "white",
             "linecolor": "white",
             "minorgridcolor": "white",
             "startlinecolor": "#2a3f5f"
            },
            "baxis": {
             "endlinecolor": "#2a3f5f",
             "gridcolor": "white",
             "linecolor": "white",
             "minorgridcolor": "white",
             "startlinecolor": "#2a3f5f"
            },
            "type": "carpet"
           }
          ],
          "choropleth": [
           {
            "colorbar": {
             "outlinewidth": 0,
             "ticks": ""
            },
            "type": "choropleth"
           }
          ],
          "contour": [
           {
            "colorbar": {
             "outlinewidth": 0,
             "ticks": ""
            },
            "colorscale": [
             [
              0,
              "#0d0887"
             ],
             [
              0.1111111111111111,
              "#46039f"
             ],
             [
              0.2222222222222222,
              "#7201a8"
             ],
             [
              0.3333333333333333,
              "#9c179e"
             ],
             [
              0.4444444444444444,
              "#bd3786"
             ],
             [
              0.5555555555555556,
              "#d8576b"
             ],
             [
              0.6666666666666666,
              "#ed7953"
             ],
             [
              0.7777777777777778,
              "#fb9f3a"
             ],
             [
              0.8888888888888888,
              "#fdca26"
             ],
             [
              1,
              "#f0f921"
             ]
            ],
            "type": "contour"
           }
          ],
          "contourcarpet": [
           {
            "colorbar": {
             "outlinewidth": 0,
             "ticks": ""
            },
            "type": "contourcarpet"
           }
          ],
          "heatmap": [
           {
            "colorbar": {
             "outlinewidth": 0,
             "ticks": ""
            },
            "colorscale": [
             [
              0,
              "#0d0887"
             ],
             [
              0.1111111111111111,
              "#46039f"
             ],
             [
              0.2222222222222222,
              "#7201a8"
             ],
             [
              0.3333333333333333,
              "#9c179e"
             ],
             [
              0.4444444444444444,
              "#bd3786"
             ],
             [
              0.5555555555555556,
              "#d8576b"
             ],
             [
              0.6666666666666666,
              "#ed7953"
             ],
             [
              0.7777777777777778,
              "#fb9f3a"
             ],
             [
              0.8888888888888888,
              "#fdca26"
             ],
             [
              1,
              "#f0f921"
             ]
            ],
            "type": "heatmap"
           }
          ],
          "heatmapgl": [
           {
            "colorbar": {
             "outlinewidth": 0,
             "ticks": ""
            },
            "colorscale": [
             [
              0,
              "#0d0887"
             ],
             [
              0.1111111111111111,
              "#46039f"
             ],
             [
              0.2222222222222222,
              "#7201a8"
             ],
             [
              0.3333333333333333,
              "#9c179e"
             ],
             [
              0.4444444444444444,
              "#bd3786"
             ],
             [
              0.5555555555555556,
              "#d8576b"
             ],
             [
              0.6666666666666666,
              "#ed7953"
             ],
             [
              0.7777777777777778,
              "#fb9f3a"
             ],
             [
              0.8888888888888888,
              "#fdca26"
             ],
             [
              1,
              "#f0f921"
             ]
            ],
            "type": "heatmapgl"
           }
          ],
          "histogram": [
           {
            "marker": {
             "pattern": {
              "fillmode": "overlay",
              "size": 10,
              "solidity": 0.2
             }
            },
            "type": "histogram"
           }
          ],
          "histogram2d": [
           {
            "colorbar": {
             "outlinewidth": 0,
             "ticks": ""
            },
            "colorscale": [
             [
              0,
              "#0d0887"
             ],
             [
              0.1111111111111111,
              "#46039f"
             ],
             [
              0.2222222222222222,
              "#7201a8"
             ],
             [
              0.3333333333333333,
              "#9c179e"
             ],
             [
              0.4444444444444444,
              "#bd3786"
             ],
             [
              0.5555555555555556,
              "#d8576b"
             ],
             [
              0.6666666666666666,
              "#ed7953"
             ],
             [
              0.7777777777777778,
              "#fb9f3a"
             ],
             [
              0.8888888888888888,
              "#fdca26"
             ],
             [
              1,
              "#f0f921"
             ]
            ],
            "type": "histogram2d"
           }
          ],
          "histogram2dcontour": [
           {
            "colorbar": {
             "outlinewidth": 0,
             "ticks": ""
            },
            "colorscale": [
             [
              0,
              "#0d0887"
             ],
             [
              0.1111111111111111,
              "#46039f"
             ],
             [
              0.2222222222222222,
              "#7201a8"
             ],
             [
              0.3333333333333333,
              "#9c179e"
             ],
             [
              0.4444444444444444,
              "#bd3786"
             ],
             [
              0.5555555555555556,
              "#d8576b"
             ],
             [
              0.6666666666666666,
              "#ed7953"
             ],
             [
              0.7777777777777778,
              "#fb9f3a"
             ],
             [
              0.8888888888888888,
              "#fdca26"
             ],
             [
              1,
              "#f0f921"
             ]
            ],
            "type": "histogram2dcontour"
           }
          ],
          "mesh3d": [
           {
            "colorbar": {
             "outlinewidth": 0,
             "ticks": ""
            },
            "type": "mesh3d"
           }
          ],
          "parcoords": [
           {
            "line": {
             "colorbar": {
              "outlinewidth": 0,
              "ticks": ""
             }
            },
            "type": "parcoords"
           }
          ],
          "pie": [
           {
            "automargin": true,
            "type": "pie"
           }
          ],
          "scatter": [
           {
            "fillpattern": {
             "fillmode": "overlay",
             "size": 10,
             "solidity": 0.2
            },
            "type": "scatter"
           }
          ],
          "scatter3d": [
           {
            "line": {
             "colorbar": {
              "outlinewidth": 0,
              "ticks": ""
             }
            },
            "marker": {
             "colorbar": {
              "outlinewidth": 0,
              "ticks": ""
             }
            },
            "type": "scatter3d"
           }
          ],
          "scattercarpet": [
           {
            "marker": {
             "colorbar": {
              "outlinewidth": 0,
              "ticks": ""
             }
            },
            "type": "scattercarpet"
           }
          ],
          "scattergeo": [
           {
            "marker": {
             "colorbar": {
              "outlinewidth": 0,
              "ticks": ""
             }
            },
            "type": "scattergeo"
           }
          ],
          "scattergl": [
           {
            "marker": {
             "colorbar": {
              "outlinewidth": 0,
              "ticks": ""
             }
            },
            "type": "scattergl"
           }
          ],
          "scattermapbox": [
           {
            "marker": {
             "colorbar": {
              "outlinewidth": 0,
              "ticks": ""
             }
            },
            "type": "scattermapbox"
           }
          ],
          "scatterpolar": [
           {
            "marker": {
             "colorbar": {
              "outlinewidth": 0,
              "ticks": ""
             }
            },
            "type": "scatterpolar"
           }
          ],
          "scatterpolargl": [
           {
            "marker": {
             "colorbar": {
              "outlinewidth": 0,
              "ticks": ""
             }
            },
            "type": "scatterpolargl"
           }
          ],
          "scatterternary": [
           {
            "marker": {
             "colorbar": {
              "outlinewidth": 0,
              "ticks": ""
             }
            },
            "type": "scatterternary"
           }
          ],
          "surface": [
           {
            "colorbar": {
             "outlinewidth": 0,
             "ticks": ""
            },
            "colorscale": [
             [
              0,
              "#0d0887"
             ],
             [
              0.1111111111111111,
              "#46039f"
             ],
             [
              0.2222222222222222,
              "#7201a8"
             ],
             [
              0.3333333333333333,
              "#9c179e"
             ],
             [
              0.4444444444444444,
              "#bd3786"
             ],
             [
              0.5555555555555556,
              "#d8576b"
             ],
             [
              0.6666666666666666,
              "#ed7953"
             ],
             [
              0.7777777777777778,
              "#fb9f3a"
             ],
             [
              0.8888888888888888,
              "#fdca26"
             ],
             [
              1,
              "#f0f921"
             ]
            ],
            "type": "surface"
           }
          ],
          "table": [
           {
            "cells": {
             "fill": {
              "color": "#EBF0F8"
             },
             "line": {
              "color": "white"
             }
            },
            "header": {
             "fill": {
              "color": "#C8D4E3"
             },
             "line": {
              "color": "white"
             }
            },
            "type": "table"
           }
          ]
         },
         "layout": {
          "annotationdefaults": {
           "arrowcolor": "#2a3f5f",
           "arrowhead": 0,
           "arrowwidth": 1
          },
          "autotypenumbers": "strict",
          "coloraxis": {
           "colorbar": {
            "outlinewidth": 0,
            "ticks": ""
           }
          },
          "colorscale": {
           "diverging": [
            [
             0,
             "#8e0152"
            ],
            [
             0.1,
             "#c51b7d"
            ],
            [
             0.2,
             "#de77ae"
            ],
            [
             0.3,
             "#f1b6da"
            ],
            [
             0.4,
             "#fde0ef"
            ],
            [
             0.5,
             "#f7f7f7"
            ],
            [
             0.6,
             "#e6f5d0"
            ],
            [
             0.7,
             "#b8e186"
            ],
            [
             0.8,
             "#7fbc41"
            ],
            [
             0.9,
             "#4d9221"
            ],
            [
             1,
             "#276419"
            ]
           ],
           "sequential": [
            [
             0,
             "#0d0887"
            ],
            [
             0.1111111111111111,
             "#46039f"
            ],
            [
             0.2222222222222222,
             "#7201a8"
            ],
            [
             0.3333333333333333,
             "#9c179e"
            ],
            [
             0.4444444444444444,
             "#bd3786"
            ],
            [
             0.5555555555555556,
             "#d8576b"
            ],
            [
             0.6666666666666666,
             "#ed7953"
            ],
            [
             0.7777777777777778,
             "#fb9f3a"
            ],
            [
             0.8888888888888888,
             "#fdca26"
            ],
            [
             1,
             "#f0f921"
            ]
           ],
           "sequentialminus": [
            [
             0,
             "#0d0887"
            ],
            [
             0.1111111111111111,
             "#46039f"
            ],
            [
             0.2222222222222222,
             "#7201a8"
            ],
            [
             0.3333333333333333,
             "#9c179e"
            ],
            [
             0.4444444444444444,
             "#bd3786"
            ],
            [
             0.5555555555555556,
             "#d8576b"
            ],
            [
             0.6666666666666666,
             "#ed7953"
            ],
            [
             0.7777777777777778,
             "#fb9f3a"
            ],
            [
             0.8888888888888888,
             "#fdca26"
            ],
            [
             1,
             "#f0f921"
            ]
           ]
          },
          "colorway": [
           "#636efa",
           "#EF553B",
           "#00cc96",
           "#ab63fa",
           "#FFA15A",
           "#19d3f3",
           "#FF6692",
           "#B6E880",
           "#FF97FF",
           "#FECB52"
          ],
          "font": {
           "color": "#2a3f5f"
          },
          "geo": {
           "bgcolor": "white",
           "lakecolor": "white",
           "landcolor": "#E5ECF6",
           "showlakes": true,
           "showland": true,
           "subunitcolor": "white"
          },
          "hoverlabel": {
           "align": "left"
          },
          "hovermode": "closest",
          "mapbox": {
           "style": "light"
          },
          "paper_bgcolor": "white",
          "plot_bgcolor": "#E5ECF6",
          "polar": {
           "angularaxis": {
            "gridcolor": "white",
            "linecolor": "white",
            "ticks": ""
           },
           "bgcolor": "#E5ECF6",
           "radialaxis": {
            "gridcolor": "white",
            "linecolor": "white",
            "ticks": ""
           }
          },
          "scene": {
           "xaxis": {
            "backgroundcolor": "#E5ECF6",
            "gridcolor": "white",
            "gridwidth": 2,
            "linecolor": "white",
            "showbackground": true,
            "ticks": "",
            "zerolinecolor": "white"
           },
           "yaxis": {
            "backgroundcolor": "#E5ECF6",
            "gridcolor": "white",
            "gridwidth": 2,
            "linecolor": "white",
            "showbackground": true,
            "ticks": "",
            "zerolinecolor": "white"
           },
           "zaxis": {
            "backgroundcolor": "#E5ECF6",
            "gridcolor": "white",
            "gridwidth": 2,
            "linecolor": "white",
            "showbackground": true,
            "ticks": "",
            "zerolinecolor": "white"
           }
          },
          "shapedefaults": {
           "line": {
            "color": "#2a3f5f"
           }
          },
          "ternary": {
           "aaxis": {
            "gridcolor": "white",
            "linecolor": "white",
            "ticks": ""
           },
           "baxis": {
            "gridcolor": "white",
            "linecolor": "white",
            "ticks": ""
           },
           "bgcolor": "#E5ECF6",
           "caxis": {
            "gridcolor": "white",
            "linecolor": "white",
            "ticks": ""
           }
          },
          "title": {
           "x": 0.05
          },
          "xaxis": {
           "automargin": true,
           "gridcolor": "white",
           "linecolor": "white",
           "ticks": "",
           "title": {
            "standoff": 15
           },
           "zerolinecolor": "white",
           "zerolinewidth": 2
          },
          "yaxis": {
           "automargin": true,
           "gridcolor": "white",
           "linecolor": "white",
           "ticks": "",
           "title": {
            "standoff": 15
           },
           "zerolinecolor": "white",
           "zerolinewidth": 2
          }
         }
        }
       }
      }
     },
     "metadata": {},
     "output_type": "display_data"
    }
   ],
   "source": [
    "import pandas as pd\n",
    "import plotly.express as px\n",
    "fig = px.scatter_mapbox(df,\n",
    "                        lat='lat',\n",
    "                        lon='lon',\n",
    "                        center=dict(lat=46.2, lon=2.2),\n",
    "                        zoom=4,\n",
    "                        mapbox_style='carto-positron',\n",
    "                        hover_name='city',\n",
    "                        height=600)\n",
    "\n",
    "fig.show()"
   ]
  },
  {
   "cell_type": "markdown",
   "metadata": {},
   "source": [
    "## Weather API"
   ]
  },
  {
   "cell_type": "code",
   "execution_count": 39,
   "metadata": {},
   "outputs": [],
   "source": [
    "os.chdir('../../')"
   ]
  },
  {
   "cell_type": "code",
   "execution_count": 41,
   "metadata": {},
   "outputs": [],
   "source": [
    "\n",
    "with open(\"API_key.txt\", \"r\") as file:\n",
    "    API_key = str(file.readline())\n",
    "\n",
    "exclude = 'current,minutely,hourly,alerts'\n",
    "weather_cities = []\n",
    "\n",
    "for city in enriched_cities:\n",
    "    lat = city['lat']\n",
    "    lon = city['lon']\n",
    "    url = f'https://api.openweathermap.org/data/2.5/forecast?lat={lat}&lon={lon}&exclude={exclude}&appid={API_key}&units=metric'\n",
    "    weather_raw = requests.get(url).json()\n",
    "    weather_raw['city']['name'] = city['city']\n",
    "    weather_cities.append(weather_raw)\n",
    "\n",
    "# display(weather_cities)"
   ]
  },
  {
   "cell_type": "code",
   "execution_count": 42,
   "metadata": {},
   "outputs": [
    {
     "data": {
      "text/html": [
       "<div>\n",
       "<style scoped>\n",
       "    .dataframe tbody tr th:only-of-type {\n",
       "        vertical-align: middle;\n",
       "    }\n",
       "\n",
       "    .dataframe tbody tr th {\n",
       "        vertical-align: top;\n",
       "    }\n",
       "\n",
       "    .dataframe thead th {\n",
       "        text-align: right;\n",
       "    }\n",
       "</style>\n",
       "<table border=\"1\" class=\"dataframe\">\n",
       "  <thead>\n",
       "    <tr style=\"text-align: right;\">\n",
       "      <th></th>\n",
       "      <th>cod</th>\n",
       "      <th>message</th>\n",
       "      <th>cnt</th>\n",
       "      <th>list</th>\n",
       "      <th>city.id</th>\n",
       "      <th>city.name</th>\n",
       "      <th>city.coord.lat</th>\n",
       "      <th>city.coord.lon</th>\n",
       "      <th>city.country</th>\n",
       "      <th>city.population</th>\n",
       "      <th>city.timezone</th>\n",
       "      <th>city.sunrise</th>\n",
       "      <th>city.sunset</th>\n",
       "    </tr>\n",
       "  </thead>\n",
       "  <tbody>\n",
       "    <tr>\n",
       "      <th>0</th>\n",
       "      <td>200</td>\n",
       "      <td>0</td>\n",
       "      <td>40</td>\n",
       "      <td>[{'dt': 1712059200, 'main': {'temp': 11.84, 'f...</td>\n",
       "      <td>6435453</td>\n",
       "      <td>Mont-Saint-Michel</td>\n",
       "      <td>48.6360</td>\n",
       "      <td>-1.5115</td>\n",
       "      <td>FR</td>\n",
       "      <td>0</td>\n",
       "      <td>7200</td>\n",
       "      <td>1712036461</td>\n",
       "      <td>1712083060</td>\n",
       "    </tr>\n",
       "    <tr>\n",
       "      <th>1</th>\n",
       "      <td>200</td>\n",
       "      <td>0</td>\n",
       "      <td>40</td>\n",
       "      <td>[{'dt': 1712059200, 'main': {'temp': 12.1, 'fe...</td>\n",
       "      <td>2978640</td>\n",
       "      <td>St-Malo</td>\n",
       "      <td>48.6495</td>\n",
       "      <td>-2.0260</td>\n",
       "      <td>FR</td>\n",
       "      <td>50676</td>\n",
       "      <td>7200</td>\n",
       "      <td>1712036583</td>\n",
       "      <td>1712083184</td>\n",
       "    </tr>\n",
       "    <tr>\n",
       "      <th>2</th>\n",
       "      <td>200</td>\n",
       "      <td>0</td>\n",
       "      <td>40</td>\n",
       "      <td>[{'dt': 1712059200, 'main': {'temp': 13.14, 'f...</td>\n",
       "      <td>3034483</td>\n",
       "      <td>Bayeux</td>\n",
       "      <td>49.2765</td>\n",
       "      <td>-0.7025</td>\n",
       "      <td>FR</td>\n",
       "      <td>15963</td>\n",
       "      <td>7200</td>\n",
       "      <td>1712036231</td>\n",
       "      <td>1712082902</td>\n",
       "    </tr>\n",
       "    <tr>\n",
       "      <th>3</th>\n",
       "      <td>200</td>\n",
       "      <td>0</td>\n",
       "      <td>40</td>\n",
       "      <td>[{'dt': 1712059200, 'main': {'temp': 13.51, 'f...</td>\n",
       "      <td>3003796</td>\n",
       "      <td>Le-Havre</td>\n",
       "      <td>49.4939</td>\n",
       "      <td>0.1080</td>\n",
       "      <td>FR</td>\n",
       "      <td>185972</td>\n",
       "      <td>7200</td>\n",
       "      <td>1712036024</td>\n",
       "      <td>1712082719</td>\n",
       "    </tr>\n",
       "    <tr>\n",
       "      <th>4</th>\n",
       "      <td>200</td>\n",
       "      <td>0</td>\n",
       "      <td>40</td>\n",
       "      <td>[{'dt': 1712059200, 'main': {'temp': 14.41, 'f...</td>\n",
       "      <td>6454707</td>\n",
       "      <td>Rouen</td>\n",
       "      <td>49.4405</td>\n",
       "      <td>1.0940</td>\n",
       "      <td>FR</td>\n",
       "      <td>108569</td>\n",
       "      <td>7200</td>\n",
       "      <td>1712035791</td>\n",
       "      <td>1712082479</td>\n",
       "    </tr>\n",
       "  </tbody>\n",
       "</table>\n",
       "</div>"
      ],
      "text/plain": [
       "   cod  message  cnt                                               list  \\\n",
       "0  200        0   40  [{'dt': 1712059200, 'main': {'temp': 11.84, 'f...   \n",
       "1  200        0   40  [{'dt': 1712059200, 'main': {'temp': 12.1, 'fe...   \n",
       "2  200        0   40  [{'dt': 1712059200, 'main': {'temp': 13.14, 'f...   \n",
       "3  200        0   40  [{'dt': 1712059200, 'main': {'temp': 13.51, 'f...   \n",
       "4  200        0   40  [{'dt': 1712059200, 'main': {'temp': 14.41, 'f...   \n",
       "\n",
       "   city.id          city.name  city.coord.lat  city.coord.lon city.country  \\\n",
       "0  6435453  Mont-Saint-Michel         48.6360         -1.5115           FR   \n",
       "1  2978640            St-Malo         48.6495         -2.0260           FR   \n",
       "2  3034483             Bayeux         49.2765         -0.7025           FR   \n",
       "3  3003796           Le-Havre         49.4939          0.1080           FR   \n",
       "4  6454707              Rouen         49.4405          1.0940           FR   \n",
       "\n",
       "   city.population  city.timezone  city.sunrise  city.sunset  \n",
       "0                0           7200    1712036461   1712083060  \n",
       "1            50676           7200    1712036583   1712083184  \n",
       "2            15963           7200    1712036231   1712082902  \n",
       "3           185972           7200    1712036024   1712082719  \n",
       "4           108569           7200    1712035791   1712082479  "
      ]
     },
     "execution_count": 42,
     "metadata": {},
     "output_type": "execute_result"
    }
   ],
   "source": [
    "pd.json_normalize(weather_cities).head()"
   ]
  },
  {
   "cell_type": "code",
   "execution_count": 43,
   "metadata": {},
   "outputs": [
    {
     "data": {
      "text/plain": [
       "0                Mont-Saint-Michel\n",
       "1                          St-Malo\n",
       "2                           Bayeux\n",
       "3                         Le-Havre\n",
       "4                            Rouen\n",
       "5                            Paris\n",
       "6                           Amiens\n",
       "7                            Lille\n",
       "8                       Strasbourg\n",
       "9     Chateau-du-Haut-Koenigsbourg\n",
       "10                          Colmar\n",
       "11                       Eguisheim\n",
       "12                        Besancon\n",
       "13                           Dijon\n",
       "14                          Annecy\n",
       "15                        Grenoble\n",
       "16                            Lyon\n",
       "17                Gorges-du-Verdon\n",
       "18              Bormes-les-Mimosas\n",
       "19                          Cassis\n",
       "20                       Marseille\n",
       "21                 Aix-en-Provence\n",
       "22                         Avignon\n",
       "23                            Uzes\n",
       "24                           Nimes\n",
       "25                   Aigues-Mortes\n",
       "26        Saintes-Maries-de-la-mer\n",
       "27                       Collioure\n",
       "28                     Carcassonne\n",
       "29                          Ariege\n",
       "30                        Toulouse\n",
       "31                       Montauban\n",
       "32                        Biarritz\n",
       "33                         Bayonne\n",
       "34                     La-Rochelle\n",
       "Name: city.name, dtype: object"
      ]
     },
     "execution_count": 43,
     "metadata": {},
     "output_type": "execute_result"
    }
   ],
   "source": [
    "pd.json_normalize(weather_cities)['city.name']\n",
    "# pd.json_normalize(weather_cities)['list']\n",
    "# pd.json_normalize(pd.json_normalize(weather_cities)['list'][34])\n",
    "# pd.json_normalize(pd.json_normalize(weather_cities)['list'][34])['weather'][0]"
   ]
  },
  {
   "cell_type": "code",
   "execution_count": 44,
   "metadata": {},
   "outputs": [
    {
     "data": {
      "text/html": [
       "<div>\n",
       "<style scoped>\n",
       "    .dataframe tbody tr th:only-of-type {\n",
       "        vertical-align: middle;\n",
       "    }\n",
       "\n",
       "    .dataframe tbody tr th {\n",
       "        vertical-align: top;\n",
       "    }\n",
       "\n",
       "    .dataframe thead th {\n",
       "        text-align: right;\n",
       "    }\n",
       "</style>\n",
       "<table border=\"1\" class=\"dataframe\">\n",
       "  <thead>\n",
       "    <tr style=\"text-align: right;\">\n",
       "      <th></th>\n",
       "      <th>dt</th>\n",
       "      <th>weather</th>\n",
       "      <th>visibility</th>\n",
       "      <th>pop</th>\n",
       "      <th>dt_txt</th>\n",
       "      <th>main.temp</th>\n",
       "      <th>main.feels_like</th>\n",
       "      <th>main.temp_min</th>\n",
       "      <th>main.temp_max</th>\n",
       "      <th>main.pressure</th>\n",
       "      <th>...</th>\n",
       "      <th>main.temp_kf</th>\n",
       "      <th>clouds.all</th>\n",
       "      <th>wind.speed</th>\n",
       "      <th>wind.deg</th>\n",
       "      <th>wind.gust</th>\n",
       "      <th>rain.3h</th>\n",
       "      <th>sys.pod</th>\n",
       "      <th>city</th>\n",
       "      <th>lat</th>\n",
       "      <th>lon</th>\n",
       "    </tr>\n",
       "  </thead>\n",
       "  <tbody>\n",
       "    <tr>\n",
       "      <th>0</th>\n",
       "      <td>1712059200</td>\n",
       "      <td>[{'id': 500, 'main': 'Rain', 'description': 'l...</td>\n",
       "      <td>10000.0</td>\n",
       "      <td>1.0</td>\n",
       "      <td>2024-04-02 12:00:00</td>\n",
       "      <td>11.84</td>\n",
       "      <td>11.51</td>\n",
       "      <td>10.63</td>\n",
       "      <td>11.84</td>\n",
       "      <td>1006</td>\n",
       "      <td>...</td>\n",
       "      <td>1.21</td>\n",
       "      <td>83</td>\n",
       "      <td>6.61</td>\n",
       "      <td>195</td>\n",
       "      <td>12.40</td>\n",
       "      <td>1.64</td>\n",
       "      <td>d</td>\n",
       "      <td>Mont-Saint-Michel</td>\n",
       "      <td>48.636</td>\n",
       "      <td>-1.5115</td>\n",
       "    </tr>\n",
       "    <tr>\n",
       "      <th>1</th>\n",
       "      <td>1712070000</td>\n",
       "      <td>[{'id': 500, 'main': 'Rain', 'description': 'l...</td>\n",
       "      <td>10000.0</td>\n",
       "      <td>1.0</td>\n",
       "      <td>2024-04-02 15:00:00</td>\n",
       "      <td>11.28</td>\n",
       "      <td>10.84</td>\n",
       "      <td>10.17</td>\n",
       "      <td>11.28</td>\n",
       "      <td>1006</td>\n",
       "      <td>...</td>\n",
       "      <td>1.11</td>\n",
       "      <td>89</td>\n",
       "      <td>9.21</td>\n",
       "      <td>181</td>\n",
       "      <td>16.81</td>\n",
       "      <td>2.15</td>\n",
       "      <td>d</td>\n",
       "      <td>Mont-Saint-Michel</td>\n",
       "      <td>48.636</td>\n",
       "      <td>-1.5115</td>\n",
       "    </tr>\n",
       "    <tr>\n",
       "      <th>2</th>\n",
       "      <td>1712080800</td>\n",
       "      <td>[{'id': 500, 'main': 'Rain', 'description': 'l...</td>\n",
       "      <td>9925.0</td>\n",
       "      <td>1.0</td>\n",
       "      <td>2024-04-02 18:00:00</td>\n",
       "      <td>10.36</td>\n",
       "      <td>9.85</td>\n",
       "      <td>9.62</td>\n",
       "      <td>10.36</td>\n",
       "      <td>1006</td>\n",
       "      <td>...</td>\n",
       "      <td>0.74</td>\n",
       "      <td>94</td>\n",
       "      <td>9.31</td>\n",
       "      <td>181</td>\n",
       "      <td>17.48</td>\n",
       "      <td>2.00</td>\n",
       "      <td>d</td>\n",
       "      <td>Mont-Saint-Michel</td>\n",
       "      <td>48.636</td>\n",
       "      <td>-1.5115</td>\n",
       "    </tr>\n",
       "  </tbody>\n",
       "</table>\n",
       "<p>3 rows × 23 columns</p>\n",
       "</div>"
      ],
      "text/plain": [
       "           dt                                            weather  visibility  \\\n",
       "0  1712059200  [{'id': 500, 'main': 'Rain', 'description': 'l...     10000.0   \n",
       "1  1712070000  [{'id': 500, 'main': 'Rain', 'description': 'l...     10000.0   \n",
       "2  1712080800  [{'id': 500, 'main': 'Rain', 'description': 'l...      9925.0   \n",
       "\n",
       "   pop              dt_txt  main.temp  main.feels_like  main.temp_min  \\\n",
       "0  1.0 2024-04-02 12:00:00      11.84            11.51          10.63   \n",
       "1  1.0 2024-04-02 15:00:00      11.28            10.84          10.17   \n",
       "2  1.0 2024-04-02 18:00:00      10.36             9.85           9.62   \n",
       "\n",
       "   main.temp_max  main.pressure  ...  main.temp_kf  clouds.all  wind.speed  \\\n",
       "0          11.84           1006  ...          1.21          83        6.61   \n",
       "1          11.28           1006  ...          1.11          89        9.21   \n",
       "2          10.36           1006  ...          0.74          94        9.31   \n",
       "\n",
       "   wind.deg  wind.gust  rain.3h  sys.pod               city     lat     lon  \n",
       "0       195      12.40     1.64        d  Mont-Saint-Michel  48.636 -1.5115  \n",
       "1       181      16.81     2.15        d  Mont-Saint-Michel  48.636 -1.5115  \n",
       "2       181      17.48     2.00        d  Mont-Saint-Michel  48.636 -1.5115  \n",
       "\n",
       "[3 rows x 23 columns]"
      ]
     },
     "metadata": {},
     "output_type": "display_data"
    }
   ],
   "source": [
    "weather_datas = pd.DataFrame()\n",
    "\n",
    "for id, city in enumerate(pd.json_normalize(weather_cities)['city.name']):\n",
    "\n",
    "    df3 = pd.json_normalize(pd.json_normalize(weather_cities)['list'][id])\n",
    "    df3['city'] = city\n",
    "    df3['lat'] = pd.json_normalize(weather_cities)[\"city.coord.lat\"][id]\n",
    "    df3['lon'] = pd.json_normalize(weather_cities)[\"city.coord.lon\"][id]\n",
    "    \n",
    "    weather_datas = pd.concat([weather_datas, df3])\n",
    "\n",
    "weather_datas['dt_txt'] = pd.to_datetime(weather_datas['dt_txt']) \n",
    "display(weather_datas.head(3))"
   ]
  },
  {
   "cell_type": "code",
   "execution_count": 45,
   "metadata": {},
   "outputs": [],
   "source": [
    "col_drop = ['dt', 'weather', 'visibility', 'main.temp', 'main.temp_min', 'main.temp_max', 'main.pressure','main.sea_level',\n",
    "            'main.grnd_level', 'main.humidity', 'main.temp_kf', 'clouds.all', 'wind.deg', 'wind.gust', 'rain.3h']\n",
    "\n",
    "weather_datas.drop(columns=col_drop, inplace=True)\n"
   ]
  },
  {
   "cell_type": "code",
   "execution_count": 46,
   "metadata": {},
   "outputs": [],
   "source": [
    "weather_during_day = weather_datas[weather_datas['sys.pod']=='d'].drop(columns='sys.pod')"
   ]
  },
  {
   "cell_type": "code",
   "execution_count": 47,
   "metadata": {},
   "outputs": [],
   "source": [
    "weather_day_mean = weather_during_day.groupby('city').mean().reset_index()"
   ]
  },
  {
   "cell_type": "code",
   "execution_count": 48,
   "metadata": {},
   "outputs": [
    {
     "data": {
      "text/html": [
       "<div>\n",
       "<style scoped>\n",
       "    .dataframe tbody tr th:only-of-type {\n",
       "        vertical-align: middle;\n",
       "    }\n",
       "\n",
       "    .dataframe tbody tr th {\n",
       "        vertical-align: top;\n",
       "    }\n",
       "\n",
       "    .dataframe thead th {\n",
       "        text-align: right;\n",
       "    }\n",
       "</style>\n",
       "<table border=\"1\" class=\"dataframe\">\n",
       "  <thead>\n",
       "    <tr style=\"text-align: right;\">\n",
       "      <th></th>\n",
       "      <th>city</th>\n",
       "      <th>pop</th>\n",
       "    </tr>\n",
       "  </thead>\n",
       "  <tbody>\n",
       "    <tr>\n",
       "      <th>1</th>\n",
       "      <td>Aix-en-Provence</td>\n",
       "      <td>0.0</td>\n",
       "    </tr>\n",
       "    <tr>\n",
       "      <th>30</th>\n",
       "      <td>Saintes-Maries-de-la-mer</td>\n",
       "      <td>0.0</td>\n",
       "    </tr>\n",
       "    <tr>\n",
       "      <th>24</th>\n",
       "      <td>Marseille</td>\n",
       "      <td>0.0</td>\n",
       "    </tr>\n",
       "    <tr>\n",
       "      <th>14</th>\n",
       "      <td>Collioure</td>\n",
       "      <td>0.0</td>\n",
       "    </tr>\n",
       "    <tr>\n",
       "      <th>11</th>\n",
       "      <td>Carcassonne</td>\n",
       "      <td>0.0</td>\n",
       "    </tr>\n",
       "  </tbody>\n",
       "</table>\n",
       "</div>"
      ],
      "text/plain": [
       "                        city  pop\n",
       "1            Aix-en-Provence  0.0\n",
       "30  Saintes-Maries-de-la-mer  0.0\n",
       "24                 Marseille  0.0\n",
       "14                 Collioure  0.0\n",
       "11               Carcassonne  0.0"
      ]
     },
     "metadata": {},
     "output_type": "display_data"
    },
    {
     "data": {
      "text/html": [
       "<div>\n",
       "<style scoped>\n",
       "    .dataframe tbody tr th:only-of-type {\n",
       "        vertical-align: middle;\n",
       "    }\n",
       "\n",
       "    .dataframe tbody tr th {\n",
       "        vertical-align: top;\n",
       "    }\n",
       "\n",
       "    .dataframe thead th {\n",
       "        text-align: right;\n",
       "    }\n",
       "</style>\n",
       "<table border=\"1\" class=\"dataframe\">\n",
       "  <thead>\n",
       "    <tr style=\"text-align: right;\">\n",
       "      <th></th>\n",
       "      <th>city</th>\n",
       "      <th>main.feels_like</th>\n",
       "    </tr>\n",
       "  </thead>\n",
       "  <tbody>\n",
       "    <tr>\n",
       "      <th>7</th>\n",
       "      <td>Bayonne</td>\n",
       "      <td>17.1988</td>\n",
       "    </tr>\n",
       "    <tr>\n",
       "      <th>4</th>\n",
       "      <td>Ariege</td>\n",
       "      <td>17.0876</td>\n",
       "    </tr>\n",
       "    <tr>\n",
       "      <th>14</th>\n",
       "      <td>Collioure</td>\n",
       "      <td>16.5784</td>\n",
       "    </tr>\n",
       "    <tr>\n",
       "      <th>9</th>\n",
       "      <td>Biarritz</td>\n",
       "      <td>16.5216</td>\n",
       "    </tr>\n",
       "    <tr>\n",
       "      <th>1</th>\n",
       "      <td>Aix-en-Provence</td>\n",
       "      <td>15.9540</td>\n",
       "    </tr>\n",
       "  </tbody>\n",
       "</table>\n",
       "</div>"
      ],
      "text/plain": [
       "               city  main.feels_like\n",
       "7           Bayonne          17.1988\n",
       "4            Ariege          17.0876\n",
       "14        Collioure          16.5784\n",
       "9          Biarritz          16.5216\n",
       "1   Aix-en-Provence          15.9540"
      ]
     },
     "metadata": {},
     "output_type": "display_data"
    },
    {
     "data": {
      "text/html": [
       "<div>\n",
       "<style scoped>\n",
       "    .dataframe tbody tr th:only-of-type {\n",
       "        vertical-align: middle;\n",
       "    }\n",
       "\n",
       "    .dataframe tbody tr th {\n",
       "        vertical-align: top;\n",
       "    }\n",
       "\n",
       "    .dataframe thead th {\n",
       "        text-align: right;\n",
       "    }\n",
       "</style>\n",
       "<table border=\"1\" class=\"dataframe\">\n",
       "  <thead>\n",
       "    <tr style=\"text-align: right;\">\n",
       "      <th></th>\n",
       "      <th>city</th>\n",
       "      <th>wind.speed</th>\n",
       "    </tr>\n",
       "  </thead>\n",
       "  <tbody>\n",
       "    <tr>\n",
       "      <th>3</th>\n",
       "      <td>Annecy</td>\n",
       "      <td>2.0792</td>\n",
       "    </tr>\n",
       "    <tr>\n",
       "      <th>19</th>\n",
       "      <td>Grenoble</td>\n",
       "      <td>2.2256</td>\n",
       "    </tr>\n",
       "    <tr>\n",
       "      <th>4</th>\n",
       "      <td>Ariege</td>\n",
       "      <td>2.3264</td>\n",
       "    </tr>\n",
       "    <tr>\n",
       "      <th>7</th>\n",
       "      <td>Bayonne</td>\n",
       "      <td>2.5740</td>\n",
       "    </tr>\n",
       "    <tr>\n",
       "      <th>9</th>\n",
       "      <td>Biarritz</td>\n",
       "      <td>2.8328</td>\n",
       "    </tr>\n",
       "  </tbody>\n",
       "</table>\n",
       "</div>"
      ],
      "text/plain": [
       "        city  wind.speed\n",
       "3     Annecy      2.0792\n",
       "19  Grenoble      2.2256\n",
       "4     Ariege      2.3264\n",
       "7    Bayonne      2.5740\n",
       "9   Biarritz      2.8328"
      ]
     },
     "metadata": {},
     "output_type": "display_data"
    }
   ],
   "source": [
    "display(weather_day_mean[['city','pop']].sort_values('pop').head())\n",
    "display(weather_day_mean[['city','main.feels_like']].sort_values('main.feels_like',ascending=False).head())\n",
    "display(weather_day_mean[['city','wind.speed']].sort_values('wind.speed').head())"
   ]
  },
  {
   "cell_type": "markdown",
   "metadata": {},
   "source": [
    "Create a SCORE to select the city"
   ]
  },
  {
   "cell_type": "code",
   "execution_count": 49,
   "metadata": {},
   "outputs": [
    {
     "data": {
      "text/html": [
       "<div>\n",
       "<style scoped>\n",
       "    .dataframe tbody tr th:only-of-type {\n",
       "        vertical-align: middle;\n",
       "    }\n",
       "\n",
       "    .dataframe tbody tr th {\n",
       "        vertical-align: top;\n",
       "    }\n",
       "\n",
       "    .dataframe thead th {\n",
       "        text-align: right;\n",
       "    }\n",
       "</style>\n",
       "<table border=\"1\" class=\"dataframe\">\n",
       "  <thead>\n",
       "    <tr style=\"text-align: right;\">\n",
       "      <th></th>\n",
       "      <th>city</th>\n",
       "      <th>pop</th>\n",
       "      <th>dt_txt</th>\n",
       "      <th>main.feels_like</th>\n",
       "      <th>wind.speed</th>\n",
       "      <th>lat</th>\n",
       "      <th>lon</th>\n",
       "      <th>score</th>\n",
       "    </tr>\n",
       "  </thead>\n",
       "  <tbody>\n",
       "    <tr>\n",
       "      <th>7</th>\n",
       "      <td>Bayonne</td>\n",
       "      <td>0.0996</td>\n",
       "      <td>2024-04-04 21:36:00</td>\n",
       "      <td>17.1988</td>\n",
       "      <td>2.5740</td>\n",
       "      <td>43.4945</td>\n",
       "      <td>-1.4737</td>\n",
       "      <td>10.000000</td>\n",
       "    </tr>\n",
       "    <tr>\n",
       "      <th>4</th>\n",
       "      <td>Ariege</td>\n",
       "      <td>0.0440</td>\n",
       "      <td>2024-04-04 21:36:00</td>\n",
       "      <td>17.0876</td>\n",
       "      <td>2.3264</td>\n",
       "      <td>42.8458</td>\n",
       "      <td>1.6068</td>\n",
       "      <td>9.975072</td>\n",
       "    </tr>\n",
       "    <tr>\n",
       "      <th>9</th>\n",
       "      <td>Biarritz</td>\n",
       "      <td>0.0972</td>\n",
       "      <td>2024-04-04 21:36:00</td>\n",
       "      <td>16.5216</td>\n",
       "      <td>2.8328</td>\n",
       "      <td>43.4833</td>\n",
       "      <td>-1.5593</td>\n",
       "      <td>8.946294</td>\n",
       "    </tr>\n",
       "    <tr>\n",
       "      <th>14</th>\n",
       "      <td>Collioure</td>\n",
       "      <td>0.0000</td>\n",
       "      <td>2024-04-04 21:36:00</td>\n",
       "      <td>16.5784</td>\n",
       "      <td>3.9156</td>\n",
       "      <td>42.5251</td>\n",
       "      <td>3.0832</td>\n",
       "      <td>8.827451</td>\n",
       "    </tr>\n",
       "    <tr>\n",
       "      <th>5</th>\n",
       "      <td>Avignon</td>\n",
       "      <td>0.0136</td>\n",
       "      <td>2024-04-04 21:36:00</td>\n",
       "      <td>15.9116</td>\n",
       "      <td>3.0124</td>\n",
       "      <td>43.9492</td>\n",
       "      <td>4.8059</td>\n",
       "      <td>8.107087</td>\n",
       "    </tr>\n",
       "  </tbody>\n",
       "</table>\n",
       "</div>"
      ],
      "text/plain": [
       "         city     pop              dt_txt  main.feels_like  wind.speed  \\\n",
       "7     Bayonne  0.0996 2024-04-04 21:36:00          17.1988      2.5740   \n",
       "4      Ariege  0.0440 2024-04-04 21:36:00          17.0876      2.3264   \n",
       "9    Biarritz  0.0972 2024-04-04 21:36:00          16.5216      2.8328   \n",
       "14  Collioure  0.0000 2024-04-04 21:36:00          16.5784      3.9156   \n",
       "5     Avignon  0.0136 2024-04-04 21:36:00          15.9116      3.0124   \n",
       "\n",
       "        lat     lon      score  \n",
       "7   43.4945 -1.4737  10.000000  \n",
       "4   42.8458  1.6068   9.975072  \n",
       "9   43.4833 -1.5593   8.946294  \n",
       "14  42.5251  3.0832   8.827451  \n",
       "5   43.9492  4.8059   8.107087  "
      ]
     },
     "metadata": {},
     "output_type": "display_data"
    }
   ],
   "source": [
    "weights = {'pop': -0.4, 'main.feels_like': 0.5, 'wind.speed': -0.1}\n",
    "\n",
    "weather_day_mean['score'] = (weather_day_mean['pop'] * weights['pop'] +\n",
    "                             weather_day_mean['main.feels_like'] * weights['main.feels_like'] +\n",
    "                             weather_day_mean['wind.speed'] * weights['wind.speed'])\n",
    "\n",
    "min_score = weather_day_mean['score'].min()\n",
    "max_score = weather_day_mean['score'].max()\n",
    "weather_day_mean['score'] = 10 * (weather_day_mean['score'] - min_score) / (max_score - min_score)\n",
    "\n",
    "display(weather_day_mean.sort_values('score',ascending=False).head())"
   ]
  },
  {
   "cell_type": "code",
   "execution_count": 50,
   "metadata": {},
   "outputs": [
    {
     "data": {
      "application/vnd.plotly.v1+json": {
       "config": {
        "plotlyServerURL": "https://plot.ly"
       },
       "data": [
        {
         "customdata": [
          [
           14.3072,
           0.0096,
           4.908399999999999,
           5.236875057972359
          ],
          [
           15.954,
           0,
           3.3804,
           8.077636582877282
          ],
          [
           13.463199999999999,
           0.4524,
           6.731599999999999,
           2.9717790557462194
          ],
          [
           12.7176,
           0.2232,
           2.0792,
           3.505472590668771
          ],
          [
           17.0876,
           0.044000000000000004,
           2.3264,
           9.975071885724883
          ],
          [
           15.9116,
           0.013600000000000001,
           3.0124,
           8.107086541137186
          ],
          [
           12.0492,
           0.348,
           7.4788,
           0.8269177256284231
          ],
          [
           17.198800000000002,
           0.09960000000000001,
           2.574,
           10
          ],
          [
           13.42,
           0.28800000000000003,
           4.1732,
           3.8413644374362312
          ],
          [
           16.5216,
           0.09720000000000001,
           2.8327999999999998,
           8.946294406826823
          ],
          [
           13.96,
           0.008,
           4.806,
           4.7652119469437
          ],
          [
           15.6356,
           0,
           6.266800000000001,
           6.779519525090435
          ],
          [
           14.798399999999999,
           0,
           4.9696,
           5.942166774881736
          ],
          [
           10.6148,
           0.2892,
           3.0383999999999998,
           0.10330674334477544
          ],
          [
           16.5784,
           0,
           3.9156,
           8.827451071329186
          ],
          [
           13.624400000000001,
           0.2548,
           3.7576,
           4.296563398571565
          ],
          [
           12.4288,
           0.3576,
           6.518400000000001,
           1.6443279844170324
          ],
          [
           13.371199999999998,
           0.2504,
           3.7251999999999996,
           3.9440914571932097
          ],
          [
           10.3112,
           0.013999999999999999,
           2.9776,
           0
          ],
          [
           15.612,
           0.1852,
           2.2256,
           7.701975697987199
          ],
          [
           13.5944,
           0.1752,
           7.466799999999999,
           3.270220758742232
          ],
          [
           11.900799999999998,
           0.2872,
           7.4484,
           0.6911464613672191
          ],
          [
           12.9548,
           0.47840000000000005,
           6.568,
           2.252226138577126
          ],
          [
           14.8048,
           0.2532,
           4.7288,
           5.727669047398201
          ],
          [
           15.5908,
           0,
           4.9012,
           7.110425749002874
          ],
          [
           12.2468,
           0.48560000000000003,
           7.219600000000001,
           1.0288934236156226
          ],
          [
           15.802,
           0.1264,
           5.0044,
           7.240051943233464
          ],
          [
           15.2008,
           0.054400000000000004,
           3.5060000000000002,
           6.886536499397088
          ],
          [
           15.0576,
           0.4276,
           4.9508,
           5.827497449216217
          ],
          [
           13.4424,
           0.5384,
           6.124,
           3.018040998052127
          ],
          [
           14.3472,
           0,
           5.6568,
           5.089045543085057
          ],
          [
           11.9376,
           0.4292,
           7.611999999999999,
           0.5324181430294055
          ],
          [
           12.6304,
           0.348,
           4.6056,
           2.5020870049160573
          ],
          [
           15.675999999999998,
           0.008,
           6.3948,
           6.791693720434096
          ],
          [
           14.672,
           0.08120000000000001,
           2.946,
           6.2513913366107055
          ]
         ],
         "hovertemplate": "<b>%{hovertext}</b><br><br>score=%{marker.color}<br>lat=%{lat}<br>lon=%{lon}<br>main.feels_like=%{customdata[0]}<br>pop=%{customdata[1]}<br>wind.speed=%{customdata[2]}<extra></extra>",
         "hovertext": [
          "Aigues-Mortes",
          "Aix-en-Provence",
          "Amiens",
          "Annecy",
          "Ariege",
          "Avignon",
          "Bayeux",
          "Bayonne",
          "Besancon",
          "Biarritz",
          "Bormes-les-Mimosas",
          "Carcassonne",
          "Cassis",
          "Chateau-du-Haut-Koenigsbourg",
          "Collioure",
          "Colmar",
          "Dijon",
          "Eguisheim",
          "Gorges-du-Verdon",
          "Grenoble",
          "La-Rochelle",
          "Le-Havre",
          "Lille",
          "Lyon",
          "Marseille",
          "Mont-Saint-Michel",
          "Montauban",
          "Nimes",
          "Paris",
          "Rouen",
          "Saintes-Maries-de-la-mer",
          "St-Malo",
          "Strasbourg",
          "Toulouse",
          "Uzes"
         ],
         "lat": [
          43.5662,
          43.5298,
          49.8942,
          45.8992,
          42.8458,
          43.9492,
          49.2765,
          43.494499999999995,
          47.238,
          43.4833,
          43.1507,
          43.213,
          43.214,
          48.2495,
          42.5251,
          48.0778,
          47.3216,
          48.0448,
          43.74969999999999,
          45.1876,
          46.159099999999995,
          49.4939,
          50.6366,
          45.7578,
          43.2962,
          48.636,
          44.0176,
          43.837399999999995,
          48.8535,
          49.4405,
          43.4516,
          48.64950000000001,
          48.5846,
          43.6045,
          44.012100000000004
         ],
         "legendgroup": "",
         "lon": [
          4.1915,
          5.4475,
          2.2957,
          6.1289,
          1.6068,
          4.8059,
          -0.7025,
          -1.4737,
          6.024400000000001,
          -1.5592999999999997,
          6.341899999999999,
          2.3491,
          5.5396,
          7.3455,
          3.0831999999999997,
          7.358,
          5.0415,
          7.308,
          6.3286,
          5.7358,
          -1.152,
          0.10800000000000001,
          3.0634999999999994,
          4.832,
          5.37,
          -1.5115,
          1.355,
          4.3601,
          2.3484,
          1.094,
          4.4277,
          -2.026,
          7.7507,
          1.4442,
          4.4197
         ],
         "marker": {
          "color": [
           5.236875057972359,
           8.077636582877282,
           2.9717790557462194,
           3.505472590668771,
           9.975071885724883,
           8.107086541137186,
           0.8269177256284231,
           10,
           3.8413644374362312,
           8.946294406826823,
           4.7652119469437,
           6.779519525090435,
           5.942166774881736,
           0.10330674334477544,
           8.827451071329186,
           4.296563398571565,
           1.6443279844170324,
           3.9440914571932097,
           0,
           7.701975697987199,
           3.270220758742232,
           0.6911464613672191,
           2.252226138577126,
           5.727669047398201,
           7.110425749002874,
           1.0288934236156226,
           7.240051943233464,
           6.886536499397088,
           5.827497449216217,
           3.018040998052127,
           5.089045543085057,
           0.5324181430294055,
           2.5020870049160573,
           6.791693720434096,
           6.2513913366107055
          ],
          "coloraxis": "coloraxis",
          "size": [
           5.236875057972359,
           8.077636582877282,
           2.9717790557462194,
           3.505472590668771,
           9.975071885724883,
           8.107086541137186,
           0.8269177256284231,
           10,
           3.8413644374362312,
           8.946294406826823,
           4.7652119469437,
           6.779519525090435,
           5.942166774881736,
           0.10330674334477544,
           8.827451071329186,
           4.296563398571565,
           1.6443279844170324,
           3.9440914571932097,
           0,
           7.701975697987199,
           3.270220758742232,
           0.6911464613672191,
           2.252226138577126,
           5.727669047398201,
           7.110425749002874,
           1.0288934236156226,
           7.240051943233464,
           6.886536499397088,
           5.827497449216217,
           3.018040998052127,
           5.089045543085057,
           0.5324181430294055,
           2.5020870049160573,
           6.791693720434096,
           6.2513913366107055
          ],
          "sizemode": "area",
          "sizeref": 0.025
         },
         "mode": "markers",
         "name": "",
         "showlegend": false,
         "subplot": "mapbox",
         "type": "scattermapbox"
        }
       ],
       "layout": {
        "coloraxis": {
         "colorbar": {
          "title": {
           "text": "score"
          }
         },
         "colorscale": [
          [
           0,
           "white"
          ],
          [
           0.25,
           "yellow"
          ],
          [
           0.5,
           "orange"
          ],
          [
           0.75,
           "red"
          ],
          [
           1,
           "purple"
          ]
         ]
        },
        "height": 600,
        "legend": {
         "itemsizing": "constant",
         "tracegroupgap": 0
        },
        "mapbox": {
         "center": {
          "lat": 47,
          "lon": 2.2
         },
         "domain": {
          "x": [
           0,
           1
          ],
          "y": [
           0,
           1
          ]
         },
         "style": "carto-positron",
         "zoom": 4.5
        },
        "margin": {
         "t": 60
        },
        "template": {
         "data": {
          "bar": [
           {
            "error_x": {
             "color": "#2a3f5f"
            },
            "error_y": {
             "color": "#2a3f5f"
            },
            "marker": {
             "line": {
              "color": "#E5ECF6",
              "width": 0.5
             },
             "pattern": {
              "fillmode": "overlay",
              "size": 10,
              "solidity": 0.2
             }
            },
            "type": "bar"
           }
          ],
          "barpolar": [
           {
            "marker": {
             "line": {
              "color": "#E5ECF6",
              "width": 0.5
             },
             "pattern": {
              "fillmode": "overlay",
              "size": 10,
              "solidity": 0.2
             }
            },
            "type": "barpolar"
           }
          ],
          "carpet": [
           {
            "aaxis": {
             "endlinecolor": "#2a3f5f",
             "gridcolor": "white",
             "linecolor": "white",
             "minorgridcolor": "white",
             "startlinecolor": "#2a3f5f"
            },
            "baxis": {
             "endlinecolor": "#2a3f5f",
             "gridcolor": "white",
             "linecolor": "white",
             "minorgridcolor": "white",
             "startlinecolor": "#2a3f5f"
            },
            "type": "carpet"
           }
          ],
          "choropleth": [
           {
            "colorbar": {
             "outlinewidth": 0,
             "ticks": ""
            },
            "type": "choropleth"
           }
          ],
          "contour": [
           {
            "colorbar": {
             "outlinewidth": 0,
             "ticks": ""
            },
            "colorscale": [
             [
              0,
              "#0d0887"
             ],
             [
              0.1111111111111111,
              "#46039f"
             ],
             [
              0.2222222222222222,
              "#7201a8"
             ],
             [
              0.3333333333333333,
              "#9c179e"
             ],
             [
              0.4444444444444444,
              "#bd3786"
             ],
             [
              0.5555555555555556,
              "#d8576b"
             ],
             [
              0.6666666666666666,
              "#ed7953"
             ],
             [
              0.7777777777777778,
              "#fb9f3a"
             ],
             [
              0.8888888888888888,
              "#fdca26"
             ],
             [
              1,
              "#f0f921"
             ]
            ],
            "type": "contour"
           }
          ],
          "contourcarpet": [
           {
            "colorbar": {
             "outlinewidth": 0,
             "ticks": ""
            },
            "type": "contourcarpet"
           }
          ],
          "heatmap": [
           {
            "colorbar": {
             "outlinewidth": 0,
             "ticks": ""
            },
            "colorscale": [
             [
              0,
              "#0d0887"
             ],
             [
              0.1111111111111111,
              "#46039f"
             ],
             [
              0.2222222222222222,
              "#7201a8"
             ],
             [
              0.3333333333333333,
              "#9c179e"
             ],
             [
              0.4444444444444444,
              "#bd3786"
             ],
             [
              0.5555555555555556,
              "#d8576b"
             ],
             [
              0.6666666666666666,
              "#ed7953"
             ],
             [
              0.7777777777777778,
              "#fb9f3a"
             ],
             [
              0.8888888888888888,
              "#fdca26"
             ],
             [
              1,
              "#f0f921"
             ]
            ],
            "type": "heatmap"
           }
          ],
          "heatmapgl": [
           {
            "colorbar": {
             "outlinewidth": 0,
             "ticks": ""
            },
            "colorscale": [
             [
              0,
              "#0d0887"
             ],
             [
              0.1111111111111111,
              "#46039f"
             ],
             [
              0.2222222222222222,
              "#7201a8"
             ],
             [
              0.3333333333333333,
              "#9c179e"
             ],
             [
              0.4444444444444444,
              "#bd3786"
             ],
             [
              0.5555555555555556,
              "#d8576b"
             ],
             [
              0.6666666666666666,
              "#ed7953"
             ],
             [
              0.7777777777777778,
              "#fb9f3a"
             ],
             [
              0.8888888888888888,
              "#fdca26"
             ],
             [
              1,
              "#f0f921"
             ]
            ],
            "type": "heatmapgl"
           }
          ],
          "histogram": [
           {
            "marker": {
             "pattern": {
              "fillmode": "overlay",
              "size": 10,
              "solidity": 0.2
             }
            },
            "type": "histogram"
           }
          ],
          "histogram2d": [
           {
            "colorbar": {
             "outlinewidth": 0,
             "ticks": ""
            },
            "colorscale": [
             [
              0,
              "#0d0887"
             ],
             [
              0.1111111111111111,
              "#46039f"
             ],
             [
              0.2222222222222222,
              "#7201a8"
             ],
             [
              0.3333333333333333,
              "#9c179e"
             ],
             [
              0.4444444444444444,
              "#bd3786"
             ],
             [
              0.5555555555555556,
              "#d8576b"
             ],
             [
              0.6666666666666666,
              "#ed7953"
             ],
             [
              0.7777777777777778,
              "#fb9f3a"
             ],
             [
              0.8888888888888888,
              "#fdca26"
             ],
             [
              1,
              "#f0f921"
             ]
            ],
            "type": "histogram2d"
           }
          ],
          "histogram2dcontour": [
           {
            "colorbar": {
             "outlinewidth": 0,
             "ticks": ""
            },
            "colorscale": [
             [
              0,
              "#0d0887"
             ],
             [
              0.1111111111111111,
              "#46039f"
             ],
             [
              0.2222222222222222,
              "#7201a8"
             ],
             [
              0.3333333333333333,
              "#9c179e"
             ],
             [
              0.4444444444444444,
              "#bd3786"
             ],
             [
              0.5555555555555556,
              "#d8576b"
             ],
             [
              0.6666666666666666,
              "#ed7953"
             ],
             [
              0.7777777777777778,
              "#fb9f3a"
             ],
             [
              0.8888888888888888,
              "#fdca26"
             ],
             [
              1,
              "#f0f921"
             ]
            ],
            "type": "histogram2dcontour"
           }
          ],
          "mesh3d": [
           {
            "colorbar": {
             "outlinewidth": 0,
             "ticks": ""
            },
            "type": "mesh3d"
           }
          ],
          "parcoords": [
           {
            "line": {
             "colorbar": {
              "outlinewidth": 0,
              "ticks": ""
             }
            },
            "type": "parcoords"
           }
          ],
          "pie": [
           {
            "automargin": true,
            "type": "pie"
           }
          ],
          "scatter": [
           {
            "fillpattern": {
             "fillmode": "overlay",
             "size": 10,
             "solidity": 0.2
            },
            "type": "scatter"
           }
          ],
          "scatter3d": [
           {
            "line": {
             "colorbar": {
              "outlinewidth": 0,
              "ticks": ""
             }
            },
            "marker": {
             "colorbar": {
              "outlinewidth": 0,
              "ticks": ""
             }
            },
            "type": "scatter3d"
           }
          ],
          "scattercarpet": [
           {
            "marker": {
             "colorbar": {
              "outlinewidth": 0,
              "ticks": ""
             }
            },
            "type": "scattercarpet"
           }
          ],
          "scattergeo": [
           {
            "marker": {
             "colorbar": {
              "outlinewidth": 0,
              "ticks": ""
             }
            },
            "type": "scattergeo"
           }
          ],
          "scattergl": [
           {
            "marker": {
             "colorbar": {
              "outlinewidth": 0,
              "ticks": ""
             }
            },
            "type": "scattergl"
           }
          ],
          "scattermapbox": [
           {
            "marker": {
             "colorbar": {
              "outlinewidth": 0,
              "ticks": ""
             }
            },
            "type": "scattermapbox"
           }
          ],
          "scatterpolar": [
           {
            "marker": {
             "colorbar": {
              "outlinewidth": 0,
              "ticks": ""
             }
            },
            "type": "scatterpolar"
           }
          ],
          "scatterpolargl": [
           {
            "marker": {
             "colorbar": {
              "outlinewidth": 0,
              "ticks": ""
             }
            },
            "type": "scatterpolargl"
           }
          ],
          "scatterternary": [
           {
            "marker": {
             "colorbar": {
              "outlinewidth": 0,
              "ticks": ""
             }
            },
            "type": "scatterternary"
           }
          ],
          "surface": [
           {
            "colorbar": {
             "outlinewidth": 0,
             "ticks": ""
            },
            "colorscale": [
             [
              0,
              "#0d0887"
             ],
             [
              0.1111111111111111,
              "#46039f"
             ],
             [
              0.2222222222222222,
              "#7201a8"
             ],
             [
              0.3333333333333333,
              "#9c179e"
             ],
             [
              0.4444444444444444,
              "#bd3786"
             ],
             [
              0.5555555555555556,
              "#d8576b"
             ],
             [
              0.6666666666666666,
              "#ed7953"
             ],
             [
              0.7777777777777778,
              "#fb9f3a"
             ],
             [
              0.8888888888888888,
              "#fdca26"
             ],
             [
              1,
              "#f0f921"
             ]
            ],
            "type": "surface"
           }
          ],
          "table": [
           {
            "cells": {
             "fill": {
              "color": "#EBF0F8"
             },
             "line": {
              "color": "white"
             }
            },
            "header": {
             "fill": {
              "color": "#C8D4E3"
             },
             "line": {
              "color": "white"
             }
            },
            "type": "table"
           }
          ]
         },
         "layout": {
          "annotationdefaults": {
           "arrowcolor": "#2a3f5f",
           "arrowhead": 0,
           "arrowwidth": 1
          },
          "autotypenumbers": "strict",
          "coloraxis": {
           "colorbar": {
            "outlinewidth": 0,
            "ticks": ""
           }
          },
          "colorscale": {
           "diverging": [
            [
             0,
             "#8e0152"
            ],
            [
             0.1,
             "#c51b7d"
            ],
            [
             0.2,
             "#de77ae"
            ],
            [
             0.3,
             "#f1b6da"
            ],
            [
             0.4,
             "#fde0ef"
            ],
            [
             0.5,
             "#f7f7f7"
            ],
            [
             0.6,
             "#e6f5d0"
            ],
            [
             0.7,
             "#b8e186"
            ],
            [
             0.8,
             "#7fbc41"
            ],
            [
             0.9,
             "#4d9221"
            ],
            [
             1,
             "#276419"
            ]
           ],
           "sequential": [
            [
             0,
             "#0d0887"
            ],
            [
             0.1111111111111111,
             "#46039f"
            ],
            [
             0.2222222222222222,
             "#7201a8"
            ],
            [
             0.3333333333333333,
             "#9c179e"
            ],
            [
             0.4444444444444444,
             "#bd3786"
            ],
            [
             0.5555555555555556,
             "#d8576b"
            ],
            [
             0.6666666666666666,
             "#ed7953"
            ],
            [
             0.7777777777777778,
             "#fb9f3a"
            ],
            [
             0.8888888888888888,
             "#fdca26"
            ],
            [
             1,
             "#f0f921"
            ]
           ],
           "sequentialminus": [
            [
             0,
             "#0d0887"
            ],
            [
             0.1111111111111111,
             "#46039f"
            ],
            [
             0.2222222222222222,
             "#7201a8"
            ],
            [
             0.3333333333333333,
             "#9c179e"
            ],
            [
             0.4444444444444444,
             "#bd3786"
            ],
            [
             0.5555555555555556,
             "#d8576b"
            ],
            [
             0.6666666666666666,
             "#ed7953"
            ],
            [
             0.7777777777777778,
             "#fb9f3a"
            ],
            [
             0.8888888888888888,
             "#fdca26"
            ],
            [
             1,
             "#f0f921"
            ]
           ]
          },
          "colorway": [
           "#636efa",
           "#EF553B",
           "#00cc96",
           "#ab63fa",
           "#FFA15A",
           "#19d3f3",
           "#FF6692",
           "#B6E880",
           "#FF97FF",
           "#FECB52"
          ],
          "font": {
           "color": "#2a3f5f"
          },
          "geo": {
           "bgcolor": "white",
           "lakecolor": "white",
           "landcolor": "#E5ECF6",
           "showlakes": true,
           "showland": true,
           "subunitcolor": "white"
          },
          "hoverlabel": {
           "align": "left"
          },
          "hovermode": "closest",
          "mapbox": {
           "style": "light"
          },
          "paper_bgcolor": "white",
          "plot_bgcolor": "#E5ECF6",
          "polar": {
           "angularaxis": {
            "gridcolor": "white",
            "linecolor": "white",
            "ticks": ""
           },
           "bgcolor": "#E5ECF6",
           "radialaxis": {
            "gridcolor": "white",
            "linecolor": "white",
            "ticks": ""
           }
          },
          "scene": {
           "xaxis": {
            "backgroundcolor": "#E5ECF6",
            "gridcolor": "white",
            "gridwidth": 2,
            "linecolor": "white",
            "showbackground": true,
            "ticks": "",
            "zerolinecolor": "white"
           },
           "yaxis": {
            "backgroundcolor": "#E5ECF6",
            "gridcolor": "white",
            "gridwidth": 2,
            "linecolor": "white",
            "showbackground": true,
            "ticks": "",
            "zerolinecolor": "white"
           },
           "zaxis": {
            "backgroundcolor": "#E5ECF6",
            "gridcolor": "white",
            "gridwidth": 2,
            "linecolor": "white",
            "showbackground": true,
            "ticks": "",
            "zerolinecolor": "white"
           }
          },
          "shapedefaults": {
           "line": {
            "color": "#2a3f5f"
           }
          },
          "ternary": {
           "aaxis": {
            "gridcolor": "white",
            "linecolor": "white",
            "ticks": ""
           },
           "baxis": {
            "gridcolor": "white",
            "linecolor": "white",
            "ticks": ""
           },
           "bgcolor": "#E5ECF6",
           "caxis": {
            "gridcolor": "white",
            "linecolor": "white",
            "ticks": ""
           }
          },
          "title": {
           "x": 0.05
          },
          "xaxis": {
           "automargin": true,
           "gridcolor": "white",
           "linecolor": "white",
           "ticks": "",
           "title": {
            "standoff": 15
           },
           "zerolinecolor": "white",
           "zerolinewidth": 2
          },
          "yaxis": {
           "automargin": true,
           "gridcolor": "white",
           "linecolor": "white",
           "ticks": "",
           "title": {
            "standoff": 15
           },
           "zerolinecolor": "white",
           "zerolinewidth": 2
          }
         }
        },
        "width": 1066.6666666666667
       }
      }
     },
     "metadata": {},
     "output_type": "display_data"
    }
   ],
   "source": [
    "fig = px.scatter_mapbox(weather_day_mean,\n",
    "                        lat='lat',\n",
    "                        lon='lon',\n",
    "                        color='score',\n",
    "                        size='score',\n",
    "                        center=dict(lat=47, lon=2.2),\n",
    "                        zoom=4.5,\n",
    "                        color_continuous_scale=['white', 'yellow','orange', 'red','purple'],\n",
    "                        mapbox_style='carto-positron',\n",
    "                        hover_name='city',\n",
    "                        hover_data=['main.feels_like', \"pop\", \"wind.speed\", \"score\"],\n",
    "                        height=600,\n",
    "                        width=600*16/9)\n",
    "\n",
    "fig.show()"
   ]
  },
  {
   "cell_type": "code",
   "execution_count": 51,
   "metadata": {},
   "outputs": [
    {
     "data": {
      "text/plain": [
       "7       Bayonne\n",
       "4        Ariege\n",
       "9      Biarritz\n",
       "14    Collioure\n",
       "5       Avignon\n",
       "Name: city, dtype: object"
      ]
     },
     "execution_count": 51,
     "metadata": {},
     "output_type": "execute_result"
    }
   ],
   "source": [
    "top5_cities = weather_day_mean.sort_values('score',ascending=False).head()\n",
    "top5_cities['city']"
   ]
  },
  {
   "cell_type": "code",
   "execution_count": 52,
   "metadata": {},
   "outputs": [
    {
     "data": {
      "application/vnd.plotly.v1+json": {
       "config": {
        "plotlyServerURL": "https://plot.ly"
       },
       "data": [
        {
         "customdata": [
          [
           17.198800000000002,
           0.09960000000000001,
           2.574,
           10
          ],
          [
           17.0876,
           0.044000000000000004,
           2.3264,
           9.975071885724883
          ],
          [
           16.5216,
           0.09720000000000001,
           2.8327999999999998,
           8.946294406826823
          ],
          [
           16.5784,
           0,
           3.9156,
           8.827451071329186
          ],
          [
           15.9116,
           0.013600000000000001,
           3.0124,
           8.107086541137186
          ]
         ],
         "hovertemplate": "<b>%{hovertext}</b><br><br>score=%{marker.color}<br>city=%{text}<br>lat=%{lat}<br>lon=%{lon}<br>main.feels_like=%{customdata[0]}<br>pop=%{customdata[1]}<br>wind.speed=%{customdata[2]}<extra></extra>",
         "hovertext": [
          "Bayonne",
          "Ariege",
          "Biarritz",
          "Collioure",
          "Avignon"
         ],
         "lat": [
          43.494499999999995,
          42.8458,
          43.4833,
          42.5251,
          43.9492
         ],
         "legendgroup": "",
         "lon": [
          -1.4737,
          1.6068,
          -1.5592999999999997,
          3.0831999999999997,
          4.8059
         ],
         "marker": {
          "color": [
           10,
           9.975071885724883,
           8.946294406826823,
           8.827451071329186,
           8.107086541137186
          ],
          "coloraxis": "coloraxis",
          "size": [
           10,
           9.975071885724883,
           8.946294406826823,
           8.827451071329186,
           8.107086541137186
          ],
          "sizemode": "area",
          "sizeref": 0.025
         },
         "mode": "markers+text",
         "name": "",
         "showlegend": false,
         "subplot": "mapbox",
         "text": [
          "Bayonne",
          "Ariege",
          "Biarritz",
          "Collioure",
          "Avignon"
         ],
         "type": "scattermapbox"
        }
       ],
       "layout": {
        "coloraxis": {
         "colorbar": {
          "title": {
           "text": "score"
          }
         },
         "colorscale": [
          [
           0,
           "white"
          ],
          [
           0.25,
           "yellow"
          ],
          [
           0.5,
           "orange"
          ],
          [
           0.75,
           "red"
          ],
          [
           1,
           "purple"
          ]
         ]
        },
        "height": 600,
        "legend": {
         "itemsizing": "constant",
         "tracegroupgap": 0
        },
        "mapbox": {
         "center": {
          "lat": 43.25958,
          "lon": 1.29258
         },
         "domain": {
          "x": [
           0,
           1
          ],
          "y": [
           0,
           1
          ]
         },
         "style": "carto-positron",
         "zoom": 6
        },
        "margin": {
         "t": 60
        },
        "template": {
         "data": {
          "bar": [
           {
            "error_x": {
             "color": "#2a3f5f"
            },
            "error_y": {
             "color": "#2a3f5f"
            },
            "marker": {
             "line": {
              "color": "#E5ECF6",
              "width": 0.5
             },
             "pattern": {
              "fillmode": "overlay",
              "size": 10,
              "solidity": 0.2
             }
            },
            "type": "bar"
           }
          ],
          "barpolar": [
           {
            "marker": {
             "line": {
              "color": "#E5ECF6",
              "width": 0.5
             },
             "pattern": {
              "fillmode": "overlay",
              "size": 10,
              "solidity": 0.2
             }
            },
            "type": "barpolar"
           }
          ],
          "carpet": [
           {
            "aaxis": {
             "endlinecolor": "#2a3f5f",
             "gridcolor": "white",
             "linecolor": "white",
             "minorgridcolor": "white",
             "startlinecolor": "#2a3f5f"
            },
            "baxis": {
             "endlinecolor": "#2a3f5f",
             "gridcolor": "white",
             "linecolor": "white",
             "minorgridcolor": "white",
             "startlinecolor": "#2a3f5f"
            },
            "type": "carpet"
           }
          ],
          "choropleth": [
           {
            "colorbar": {
             "outlinewidth": 0,
             "ticks": ""
            },
            "type": "choropleth"
           }
          ],
          "contour": [
           {
            "colorbar": {
             "outlinewidth": 0,
             "ticks": ""
            },
            "colorscale": [
             [
              0,
              "#0d0887"
             ],
             [
              0.1111111111111111,
              "#46039f"
             ],
             [
              0.2222222222222222,
              "#7201a8"
             ],
             [
              0.3333333333333333,
              "#9c179e"
             ],
             [
              0.4444444444444444,
              "#bd3786"
             ],
             [
              0.5555555555555556,
              "#d8576b"
             ],
             [
              0.6666666666666666,
              "#ed7953"
             ],
             [
              0.7777777777777778,
              "#fb9f3a"
             ],
             [
              0.8888888888888888,
              "#fdca26"
             ],
             [
              1,
              "#f0f921"
             ]
            ],
            "type": "contour"
           }
          ],
          "contourcarpet": [
           {
            "colorbar": {
             "outlinewidth": 0,
             "ticks": ""
            },
            "type": "contourcarpet"
           }
          ],
          "heatmap": [
           {
            "colorbar": {
             "outlinewidth": 0,
             "ticks": ""
            },
            "colorscale": [
             [
              0,
              "#0d0887"
             ],
             [
              0.1111111111111111,
              "#46039f"
             ],
             [
              0.2222222222222222,
              "#7201a8"
             ],
             [
              0.3333333333333333,
              "#9c179e"
             ],
             [
              0.4444444444444444,
              "#bd3786"
             ],
             [
              0.5555555555555556,
              "#d8576b"
             ],
             [
              0.6666666666666666,
              "#ed7953"
             ],
             [
              0.7777777777777778,
              "#fb9f3a"
             ],
             [
              0.8888888888888888,
              "#fdca26"
             ],
             [
              1,
              "#f0f921"
             ]
            ],
            "type": "heatmap"
           }
          ],
          "heatmapgl": [
           {
            "colorbar": {
             "outlinewidth": 0,
             "ticks": ""
            },
            "colorscale": [
             [
              0,
              "#0d0887"
             ],
             [
              0.1111111111111111,
              "#46039f"
             ],
             [
              0.2222222222222222,
              "#7201a8"
             ],
             [
              0.3333333333333333,
              "#9c179e"
             ],
             [
              0.4444444444444444,
              "#bd3786"
             ],
             [
              0.5555555555555556,
              "#d8576b"
             ],
             [
              0.6666666666666666,
              "#ed7953"
             ],
             [
              0.7777777777777778,
              "#fb9f3a"
             ],
             [
              0.8888888888888888,
              "#fdca26"
             ],
             [
              1,
              "#f0f921"
             ]
            ],
            "type": "heatmapgl"
           }
          ],
          "histogram": [
           {
            "marker": {
             "pattern": {
              "fillmode": "overlay",
              "size": 10,
              "solidity": 0.2
             }
            },
            "type": "histogram"
           }
          ],
          "histogram2d": [
           {
            "colorbar": {
             "outlinewidth": 0,
             "ticks": ""
            },
            "colorscale": [
             [
              0,
              "#0d0887"
             ],
             [
              0.1111111111111111,
              "#46039f"
             ],
             [
              0.2222222222222222,
              "#7201a8"
             ],
             [
              0.3333333333333333,
              "#9c179e"
             ],
             [
              0.4444444444444444,
              "#bd3786"
             ],
             [
              0.5555555555555556,
              "#d8576b"
             ],
             [
              0.6666666666666666,
              "#ed7953"
             ],
             [
              0.7777777777777778,
              "#fb9f3a"
             ],
             [
              0.8888888888888888,
              "#fdca26"
             ],
             [
              1,
              "#f0f921"
             ]
            ],
            "type": "histogram2d"
           }
          ],
          "histogram2dcontour": [
           {
            "colorbar": {
             "outlinewidth": 0,
             "ticks": ""
            },
            "colorscale": [
             [
              0,
              "#0d0887"
             ],
             [
              0.1111111111111111,
              "#46039f"
             ],
             [
              0.2222222222222222,
              "#7201a8"
             ],
             [
              0.3333333333333333,
              "#9c179e"
             ],
             [
              0.4444444444444444,
              "#bd3786"
             ],
             [
              0.5555555555555556,
              "#d8576b"
             ],
             [
              0.6666666666666666,
              "#ed7953"
             ],
             [
              0.7777777777777778,
              "#fb9f3a"
             ],
             [
              0.8888888888888888,
              "#fdca26"
             ],
             [
              1,
              "#f0f921"
             ]
            ],
            "type": "histogram2dcontour"
           }
          ],
          "mesh3d": [
           {
            "colorbar": {
             "outlinewidth": 0,
             "ticks": ""
            },
            "type": "mesh3d"
           }
          ],
          "parcoords": [
           {
            "line": {
             "colorbar": {
              "outlinewidth": 0,
              "ticks": ""
             }
            },
            "type": "parcoords"
           }
          ],
          "pie": [
           {
            "automargin": true,
            "type": "pie"
           }
          ],
          "scatter": [
           {
            "fillpattern": {
             "fillmode": "overlay",
             "size": 10,
             "solidity": 0.2
            },
            "type": "scatter"
           }
          ],
          "scatter3d": [
           {
            "line": {
             "colorbar": {
              "outlinewidth": 0,
              "ticks": ""
             }
            },
            "marker": {
             "colorbar": {
              "outlinewidth": 0,
              "ticks": ""
             }
            },
            "type": "scatter3d"
           }
          ],
          "scattercarpet": [
           {
            "marker": {
             "colorbar": {
              "outlinewidth": 0,
              "ticks": ""
             }
            },
            "type": "scattercarpet"
           }
          ],
          "scattergeo": [
           {
            "marker": {
             "colorbar": {
              "outlinewidth": 0,
              "ticks": ""
             }
            },
            "type": "scattergeo"
           }
          ],
          "scattergl": [
           {
            "marker": {
             "colorbar": {
              "outlinewidth": 0,
              "ticks": ""
             }
            },
            "type": "scattergl"
           }
          ],
          "scattermapbox": [
           {
            "marker": {
             "colorbar": {
              "outlinewidth": 0,
              "ticks": ""
             }
            },
            "type": "scattermapbox"
           }
          ],
          "scatterpolar": [
           {
            "marker": {
             "colorbar": {
              "outlinewidth": 0,
              "ticks": ""
             }
            },
            "type": "scatterpolar"
           }
          ],
          "scatterpolargl": [
           {
            "marker": {
             "colorbar": {
              "outlinewidth": 0,
              "ticks": ""
             }
            },
            "type": "scatterpolargl"
           }
          ],
          "scatterternary": [
           {
            "marker": {
             "colorbar": {
              "outlinewidth": 0,
              "ticks": ""
             }
            },
            "type": "scatterternary"
           }
          ],
          "surface": [
           {
            "colorbar": {
             "outlinewidth": 0,
             "ticks": ""
            },
            "colorscale": [
             [
              0,
              "#0d0887"
             ],
             [
              0.1111111111111111,
              "#46039f"
             ],
             [
              0.2222222222222222,
              "#7201a8"
             ],
             [
              0.3333333333333333,
              "#9c179e"
             ],
             [
              0.4444444444444444,
              "#bd3786"
             ],
             [
              0.5555555555555556,
              "#d8576b"
             ],
             [
              0.6666666666666666,
              "#ed7953"
             ],
             [
              0.7777777777777778,
              "#fb9f3a"
             ],
             [
              0.8888888888888888,
              "#fdca26"
             ],
             [
              1,
              "#f0f921"
             ]
            ],
            "type": "surface"
           }
          ],
          "table": [
           {
            "cells": {
             "fill": {
              "color": "#EBF0F8"
             },
             "line": {
              "color": "white"
             }
            },
            "header": {
             "fill": {
              "color": "#C8D4E3"
             },
             "line": {
              "color": "white"
             }
            },
            "type": "table"
           }
          ]
         },
         "layout": {
          "annotationdefaults": {
           "arrowcolor": "#2a3f5f",
           "arrowhead": 0,
           "arrowwidth": 1
          },
          "autotypenumbers": "strict",
          "coloraxis": {
           "colorbar": {
            "outlinewidth": 0,
            "ticks": ""
           }
          },
          "colorscale": {
           "diverging": [
            [
             0,
             "#8e0152"
            ],
            [
             0.1,
             "#c51b7d"
            ],
            [
             0.2,
             "#de77ae"
            ],
            [
             0.3,
             "#f1b6da"
            ],
            [
             0.4,
             "#fde0ef"
            ],
            [
             0.5,
             "#f7f7f7"
            ],
            [
             0.6,
             "#e6f5d0"
            ],
            [
             0.7,
             "#b8e186"
            ],
            [
             0.8,
             "#7fbc41"
            ],
            [
             0.9,
             "#4d9221"
            ],
            [
             1,
             "#276419"
            ]
           ],
           "sequential": [
            [
             0,
             "#0d0887"
            ],
            [
             0.1111111111111111,
             "#46039f"
            ],
            [
             0.2222222222222222,
             "#7201a8"
            ],
            [
             0.3333333333333333,
             "#9c179e"
            ],
            [
             0.4444444444444444,
             "#bd3786"
            ],
            [
             0.5555555555555556,
             "#d8576b"
            ],
            [
             0.6666666666666666,
             "#ed7953"
            ],
            [
             0.7777777777777778,
             "#fb9f3a"
            ],
            [
             0.8888888888888888,
             "#fdca26"
            ],
            [
             1,
             "#f0f921"
            ]
           ],
           "sequentialminus": [
            [
             0,
             "#0d0887"
            ],
            [
             0.1111111111111111,
             "#46039f"
            ],
            [
             0.2222222222222222,
             "#7201a8"
            ],
            [
             0.3333333333333333,
             "#9c179e"
            ],
            [
             0.4444444444444444,
             "#bd3786"
            ],
            [
             0.5555555555555556,
             "#d8576b"
            ],
            [
             0.6666666666666666,
             "#ed7953"
            ],
            [
             0.7777777777777778,
             "#fb9f3a"
            ],
            [
             0.8888888888888888,
             "#fdca26"
            ],
            [
             1,
             "#f0f921"
            ]
           ]
          },
          "colorway": [
           "#636efa",
           "#EF553B",
           "#00cc96",
           "#ab63fa",
           "#FFA15A",
           "#19d3f3",
           "#FF6692",
           "#B6E880",
           "#FF97FF",
           "#FECB52"
          ],
          "font": {
           "color": "#2a3f5f"
          },
          "geo": {
           "bgcolor": "white",
           "lakecolor": "white",
           "landcolor": "#E5ECF6",
           "showlakes": true,
           "showland": true,
           "subunitcolor": "white"
          },
          "hoverlabel": {
           "align": "left"
          },
          "hovermode": "closest",
          "mapbox": {
           "style": "light"
          },
          "paper_bgcolor": "white",
          "plot_bgcolor": "#E5ECF6",
          "polar": {
           "angularaxis": {
            "gridcolor": "white",
            "linecolor": "white",
            "ticks": ""
           },
           "bgcolor": "#E5ECF6",
           "radialaxis": {
            "gridcolor": "white",
            "linecolor": "white",
            "ticks": ""
           }
          },
          "scene": {
           "xaxis": {
            "backgroundcolor": "#E5ECF6",
            "gridcolor": "white",
            "gridwidth": 2,
            "linecolor": "white",
            "showbackground": true,
            "ticks": "",
            "zerolinecolor": "white"
           },
           "yaxis": {
            "backgroundcolor": "#E5ECF6",
            "gridcolor": "white",
            "gridwidth": 2,
            "linecolor": "white",
            "showbackground": true,
            "ticks": "",
            "zerolinecolor": "white"
           },
           "zaxis": {
            "backgroundcolor": "#E5ECF6",
            "gridcolor": "white",
            "gridwidth": 2,
            "linecolor": "white",
            "showbackground": true,
            "ticks": "",
            "zerolinecolor": "white"
           }
          },
          "shapedefaults": {
           "line": {
            "color": "#2a3f5f"
           }
          },
          "ternary": {
           "aaxis": {
            "gridcolor": "white",
            "linecolor": "white",
            "ticks": ""
           },
           "baxis": {
            "gridcolor": "white",
            "linecolor": "white",
            "ticks": ""
           },
           "bgcolor": "#E5ECF6",
           "caxis": {
            "gridcolor": "white",
            "linecolor": "white",
            "ticks": ""
           }
          },
          "title": {
           "x": 0.05
          },
          "xaxis": {
           "automargin": true,
           "gridcolor": "white",
           "linecolor": "white",
           "ticks": "",
           "title": {
            "standoff": 15
           },
           "zerolinecolor": "white",
           "zerolinewidth": 2
          },
          "yaxis": {
           "automargin": true,
           "gridcolor": "white",
           "linecolor": "white",
           "ticks": "",
           "title": {
            "standoff": 15
           },
           "zerolinecolor": "white",
           "zerolinewidth": 2
          }
         }
        },
        "width": 1066.6666666666667
       }
      }
     },
     "metadata": {},
     "output_type": "display_data"
    }
   ],
   "source": [
    "\n",
    "fig = px.scatter_mapbox(top5_cities,\n",
    "                        lat='lat',\n",
    "                        lon='lon',\n",
    "                        color='score',\n",
    "                        size='score',\n",
    "                        center=dict(lat=top5_cities['lat'].mean(), lon=top5_cities['lon'].mean()),\n",
    "                        zoom=6,\n",
    "                        color_continuous_scale=['white', 'yellow','orange', 'red','purple'],\n",
    "                        mapbox_style='carto-positron',\n",
    "                        text='city',\n",
    "                        hover_name='city',\n",
    "                        hover_data=['main.feels_like', \"pop\", \"wind.speed\", \"score\"],\n",
    "                        height=600,\n",
    "                        width=600*16/9)\n",
    "\n",
    "\n",
    "fig.show()"
   ]
  },
  {
   "cell_type": "code",
   "execution_count": 53,
   "metadata": {},
   "outputs": [],
   "source": [
    "weather_day_mean.rename(columns={\n",
    "    'city': 'city_target',\n",
    "    'pop': 'city_target_precipitation',\n",
    "    'dt_txt': 'date_time',\n",
    "    'main.feels_like': 'city_target_temp_feels_like',\n",
    "    'wind.speed': 'city_target_wind_speed',\n",
    "    'lat': 'lat_target',\n",
    "    'lon': 'lon_target',\n",
    "    'score': 'city_target_weather_score',\n",
    "}, inplace=True)"
   ]
  },
  {
   "cell_type": "code",
   "execution_count": 54,
   "metadata": {},
   "outputs": [
    {
     "data": {
      "text/html": [
       "<div>\n",
       "<style scoped>\n",
       "    .dataframe tbody tr th:only-of-type {\n",
       "        vertical-align: middle;\n",
       "    }\n",
       "\n",
       "    .dataframe tbody tr th {\n",
       "        vertical-align: top;\n",
       "    }\n",
       "\n",
       "    .dataframe thead th {\n",
       "        text-align: right;\n",
       "    }\n",
       "</style>\n",
       "<table border=\"1\" class=\"dataframe\">\n",
       "  <thead>\n",
       "    <tr style=\"text-align: right;\">\n",
       "      <th></th>\n",
       "      <th>city_target</th>\n",
       "      <th>city_target_precipitation</th>\n",
       "      <th>date_time</th>\n",
       "      <th>city_target_temp_feels_like</th>\n",
       "      <th>city_target_wind_speed</th>\n",
       "      <th>lat_target</th>\n",
       "      <th>lon_target</th>\n",
       "      <th>city_target_weather_score</th>\n",
       "    </tr>\n",
       "  </thead>\n",
       "  <tbody>\n",
       "    <tr>\n",
       "      <th>0</th>\n",
       "      <td>Aigues-Mortes</td>\n",
       "      <td>0.0096</td>\n",
       "      <td>2024-04-04 21:36:00</td>\n",
       "      <td>14.3072</td>\n",
       "      <td>4.9084</td>\n",
       "      <td>43.5662</td>\n",
       "      <td>4.1915</td>\n",
       "      <td>5.236875</td>\n",
       "    </tr>\n",
       "    <tr>\n",
       "      <th>1</th>\n",
       "      <td>Aix-en-Provence</td>\n",
       "      <td>0.0000</td>\n",
       "      <td>2024-04-04 21:36:00</td>\n",
       "      <td>15.9540</td>\n",
       "      <td>3.3804</td>\n",
       "      <td>43.5298</td>\n",
       "      <td>5.4475</td>\n",
       "      <td>8.077637</td>\n",
       "    </tr>\n",
       "    <tr>\n",
       "      <th>2</th>\n",
       "      <td>Amiens</td>\n",
       "      <td>0.4524</td>\n",
       "      <td>2024-04-04 21:36:00</td>\n",
       "      <td>13.4632</td>\n",
       "      <td>6.7316</td>\n",
       "      <td>49.8942</td>\n",
       "      <td>2.2957</td>\n",
       "      <td>2.971779</td>\n",
       "    </tr>\n",
       "    <tr>\n",
       "      <th>3</th>\n",
       "      <td>Annecy</td>\n",
       "      <td>0.2232</td>\n",
       "      <td>2024-04-04 21:36:00</td>\n",
       "      <td>12.7176</td>\n",
       "      <td>2.0792</td>\n",
       "      <td>45.8992</td>\n",
       "      <td>6.1289</td>\n",
       "      <td>3.505473</td>\n",
       "    </tr>\n",
       "    <tr>\n",
       "      <th>4</th>\n",
       "      <td>Ariege</td>\n",
       "      <td>0.0440</td>\n",
       "      <td>2024-04-04 21:36:00</td>\n",
       "      <td>17.0876</td>\n",
       "      <td>2.3264</td>\n",
       "      <td>42.8458</td>\n",
       "      <td>1.6068</td>\n",
       "      <td>9.975072</td>\n",
       "    </tr>\n",
       "    <tr>\n",
       "      <th>5</th>\n",
       "      <td>Avignon</td>\n",
       "      <td>0.0136</td>\n",
       "      <td>2024-04-04 21:36:00</td>\n",
       "      <td>15.9116</td>\n",
       "      <td>3.0124</td>\n",
       "      <td>43.9492</td>\n",
       "      <td>4.8059</td>\n",
       "      <td>8.107087</td>\n",
       "    </tr>\n",
       "    <tr>\n",
       "      <th>6</th>\n",
       "      <td>Bayeux</td>\n",
       "      <td>0.3480</td>\n",
       "      <td>2024-04-04 21:36:00</td>\n",
       "      <td>12.0492</td>\n",
       "      <td>7.4788</td>\n",
       "      <td>49.2765</td>\n",
       "      <td>-0.7025</td>\n",
       "      <td>0.826918</td>\n",
       "    </tr>\n",
       "    <tr>\n",
       "      <th>7</th>\n",
       "      <td>Bayonne</td>\n",
       "      <td>0.0996</td>\n",
       "      <td>2024-04-04 21:36:00</td>\n",
       "      <td>17.1988</td>\n",
       "      <td>2.5740</td>\n",
       "      <td>43.4945</td>\n",
       "      <td>-1.4737</td>\n",
       "      <td>10.000000</td>\n",
       "    </tr>\n",
       "    <tr>\n",
       "      <th>8</th>\n",
       "      <td>Besancon</td>\n",
       "      <td>0.2880</td>\n",
       "      <td>2024-04-04 21:36:00</td>\n",
       "      <td>13.4200</td>\n",
       "      <td>4.1732</td>\n",
       "      <td>47.2380</td>\n",
       "      <td>6.0244</td>\n",
       "      <td>3.841364</td>\n",
       "    </tr>\n",
       "    <tr>\n",
       "      <th>9</th>\n",
       "      <td>Biarritz</td>\n",
       "      <td>0.0972</td>\n",
       "      <td>2024-04-04 21:36:00</td>\n",
       "      <td>16.5216</td>\n",
       "      <td>2.8328</td>\n",
       "      <td>43.4833</td>\n",
       "      <td>-1.5593</td>\n",
       "      <td>8.946294</td>\n",
       "    </tr>\n",
       "    <tr>\n",
       "      <th>10</th>\n",
       "      <td>Bormes-les-Mimosas</td>\n",
       "      <td>0.0080</td>\n",
       "      <td>2024-04-04 21:36:00</td>\n",
       "      <td>13.9600</td>\n",
       "      <td>4.8060</td>\n",
       "      <td>43.1507</td>\n",
       "      <td>6.3419</td>\n",
       "      <td>4.765212</td>\n",
       "    </tr>\n",
       "    <tr>\n",
       "      <th>11</th>\n",
       "      <td>Carcassonne</td>\n",
       "      <td>0.0000</td>\n",
       "      <td>2024-04-04 21:36:00</td>\n",
       "      <td>15.6356</td>\n",
       "      <td>6.2668</td>\n",
       "      <td>43.2130</td>\n",
       "      <td>2.3491</td>\n",
       "      <td>6.779520</td>\n",
       "    </tr>\n",
       "    <tr>\n",
       "      <th>12</th>\n",
       "      <td>Cassis</td>\n",
       "      <td>0.0000</td>\n",
       "      <td>2024-04-04 21:36:00</td>\n",
       "      <td>14.7984</td>\n",
       "      <td>4.9696</td>\n",
       "      <td>43.2140</td>\n",
       "      <td>5.5396</td>\n",
       "      <td>5.942167</td>\n",
       "    </tr>\n",
       "    <tr>\n",
       "      <th>13</th>\n",
       "      <td>Chateau-du-Haut-Koenigsbourg</td>\n",
       "      <td>0.2892</td>\n",
       "      <td>2024-04-04 21:36:00</td>\n",
       "      <td>10.6148</td>\n",
       "      <td>3.0384</td>\n",
       "      <td>48.2495</td>\n",
       "      <td>7.3455</td>\n",
       "      <td>0.103307</td>\n",
       "    </tr>\n",
       "    <tr>\n",
       "      <th>14</th>\n",
       "      <td>Collioure</td>\n",
       "      <td>0.0000</td>\n",
       "      <td>2024-04-04 21:36:00</td>\n",
       "      <td>16.5784</td>\n",
       "      <td>3.9156</td>\n",
       "      <td>42.5251</td>\n",
       "      <td>3.0832</td>\n",
       "      <td>8.827451</td>\n",
       "    </tr>\n",
       "    <tr>\n",
       "      <th>15</th>\n",
       "      <td>Colmar</td>\n",
       "      <td>0.2548</td>\n",
       "      <td>2024-04-04 21:36:00</td>\n",
       "      <td>13.6244</td>\n",
       "      <td>3.7576</td>\n",
       "      <td>48.0778</td>\n",
       "      <td>7.3580</td>\n",
       "      <td>4.296563</td>\n",
       "    </tr>\n",
       "    <tr>\n",
       "      <th>16</th>\n",
       "      <td>Dijon</td>\n",
       "      <td>0.3576</td>\n",
       "      <td>2024-04-04 21:36:00</td>\n",
       "      <td>12.4288</td>\n",
       "      <td>6.5184</td>\n",
       "      <td>47.3216</td>\n",
       "      <td>5.0415</td>\n",
       "      <td>1.644328</td>\n",
       "    </tr>\n",
       "    <tr>\n",
       "      <th>17</th>\n",
       "      <td>Eguisheim</td>\n",
       "      <td>0.2504</td>\n",
       "      <td>2024-04-04 21:36:00</td>\n",
       "      <td>13.3712</td>\n",
       "      <td>3.7252</td>\n",
       "      <td>48.0448</td>\n",
       "      <td>7.3080</td>\n",
       "      <td>3.944091</td>\n",
       "    </tr>\n",
       "    <tr>\n",
       "      <th>18</th>\n",
       "      <td>Gorges-du-Verdon</td>\n",
       "      <td>0.0140</td>\n",
       "      <td>2024-04-04 21:36:00</td>\n",
       "      <td>10.3112</td>\n",
       "      <td>2.9776</td>\n",
       "      <td>43.7497</td>\n",
       "      <td>6.3286</td>\n",
       "      <td>0.000000</td>\n",
       "    </tr>\n",
       "    <tr>\n",
       "      <th>19</th>\n",
       "      <td>Grenoble</td>\n",
       "      <td>0.1852</td>\n",
       "      <td>2024-04-04 21:36:00</td>\n",
       "      <td>15.6120</td>\n",
       "      <td>2.2256</td>\n",
       "      <td>45.1876</td>\n",
       "      <td>5.7358</td>\n",
       "      <td>7.701976</td>\n",
       "    </tr>\n",
       "    <tr>\n",
       "      <th>20</th>\n",
       "      <td>La-Rochelle</td>\n",
       "      <td>0.1752</td>\n",
       "      <td>2024-04-04 21:36:00</td>\n",
       "      <td>13.5944</td>\n",
       "      <td>7.4668</td>\n",
       "      <td>46.1591</td>\n",
       "      <td>-1.1520</td>\n",
       "      <td>3.270221</td>\n",
       "    </tr>\n",
       "    <tr>\n",
       "      <th>21</th>\n",
       "      <td>Le-Havre</td>\n",
       "      <td>0.2872</td>\n",
       "      <td>2024-04-04 21:36:00</td>\n",
       "      <td>11.9008</td>\n",
       "      <td>7.4484</td>\n",
       "      <td>49.4939</td>\n",
       "      <td>0.1080</td>\n",
       "      <td>0.691146</td>\n",
       "    </tr>\n",
       "    <tr>\n",
       "      <th>22</th>\n",
       "      <td>Lille</td>\n",
       "      <td>0.4784</td>\n",
       "      <td>2024-04-04 21:36:00</td>\n",
       "      <td>12.9548</td>\n",
       "      <td>6.5680</td>\n",
       "      <td>50.6366</td>\n",
       "      <td>3.0635</td>\n",
       "      <td>2.252226</td>\n",
       "    </tr>\n",
       "    <tr>\n",
       "      <th>23</th>\n",
       "      <td>Lyon</td>\n",
       "      <td>0.2532</td>\n",
       "      <td>2024-04-04 21:36:00</td>\n",
       "      <td>14.8048</td>\n",
       "      <td>4.7288</td>\n",
       "      <td>45.7578</td>\n",
       "      <td>4.8320</td>\n",
       "      <td>5.727669</td>\n",
       "    </tr>\n",
       "    <tr>\n",
       "      <th>24</th>\n",
       "      <td>Marseille</td>\n",
       "      <td>0.0000</td>\n",
       "      <td>2024-04-04 21:36:00</td>\n",
       "      <td>15.5908</td>\n",
       "      <td>4.9012</td>\n",
       "      <td>43.2962</td>\n",
       "      <td>5.3700</td>\n",
       "      <td>7.110426</td>\n",
       "    </tr>\n",
       "    <tr>\n",
       "      <th>25</th>\n",
       "      <td>Mont-Saint-Michel</td>\n",
       "      <td>0.4856</td>\n",
       "      <td>2024-04-04 21:36:00</td>\n",
       "      <td>12.2468</td>\n",
       "      <td>7.2196</td>\n",
       "      <td>48.6360</td>\n",
       "      <td>-1.5115</td>\n",
       "      <td>1.028893</td>\n",
       "    </tr>\n",
       "    <tr>\n",
       "      <th>26</th>\n",
       "      <td>Montauban</td>\n",
       "      <td>0.1264</td>\n",
       "      <td>2024-04-04 21:36:00</td>\n",
       "      <td>15.8020</td>\n",
       "      <td>5.0044</td>\n",
       "      <td>44.0176</td>\n",
       "      <td>1.3550</td>\n",
       "      <td>7.240052</td>\n",
       "    </tr>\n",
       "    <tr>\n",
       "      <th>27</th>\n",
       "      <td>Nimes</td>\n",
       "      <td>0.0544</td>\n",
       "      <td>2024-04-04 21:36:00</td>\n",
       "      <td>15.2008</td>\n",
       "      <td>3.5060</td>\n",
       "      <td>43.8374</td>\n",
       "      <td>4.3601</td>\n",
       "      <td>6.886536</td>\n",
       "    </tr>\n",
       "    <tr>\n",
       "      <th>28</th>\n",
       "      <td>Paris</td>\n",
       "      <td>0.4276</td>\n",
       "      <td>2024-04-04 21:36:00</td>\n",
       "      <td>15.0576</td>\n",
       "      <td>4.9508</td>\n",
       "      <td>48.8535</td>\n",
       "      <td>2.3484</td>\n",
       "      <td>5.827497</td>\n",
       "    </tr>\n",
       "    <tr>\n",
       "      <th>29</th>\n",
       "      <td>Rouen</td>\n",
       "      <td>0.5384</td>\n",
       "      <td>2024-04-04 21:36:00</td>\n",
       "      <td>13.4424</td>\n",
       "      <td>6.1240</td>\n",
       "      <td>49.4405</td>\n",
       "      <td>1.0940</td>\n",
       "      <td>3.018041</td>\n",
       "    </tr>\n",
       "    <tr>\n",
       "      <th>30</th>\n",
       "      <td>Saintes-Maries-de-la-mer</td>\n",
       "      <td>0.0000</td>\n",
       "      <td>2024-04-04 21:36:00</td>\n",
       "      <td>14.3472</td>\n",
       "      <td>5.6568</td>\n",
       "      <td>43.4516</td>\n",
       "      <td>4.4277</td>\n",
       "      <td>5.089046</td>\n",
       "    </tr>\n",
       "    <tr>\n",
       "      <th>31</th>\n",
       "      <td>St-Malo</td>\n",
       "      <td>0.4292</td>\n",
       "      <td>2024-04-04 21:36:00</td>\n",
       "      <td>11.9376</td>\n",
       "      <td>7.6120</td>\n",
       "      <td>48.6495</td>\n",
       "      <td>-2.0260</td>\n",
       "      <td>0.532418</td>\n",
       "    </tr>\n",
       "    <tr>\n",
       "      <th>32</th>\n",
       "      <td>Strasbourg</td>\n",
       "      <td>0.3480</td>\n",
       "      <td>2024-04-04 21:36:00</td>\n",
       "      <td>12.6304</td>\n",
       "      <td>4.6056</td>\n",
       "      <td>48.5846</td>\n",
       "      <td>7.7507</td>\n",
       "      <td>2.502087</td>\n",
       "    </tr>\n",
       "    <tr>\n",
       "      <th>33</th>\n",
       "      <td>Toulouse</td>\n",
       "      <td>0.0080</td>\n",
       "      <td>2024-04-04 21:36:00</td>\n",
       "      <td>15.6760</td>\n",
       "      <td>6.3948</td>\n",
       "      <td>43.6045</td>\n",
       "      <td>1.4442</td>\n",
       "      <td>6.791694</td>\n",
       "    </tr>\n",
       "    <tr>\n",
       "      <th>34</th>\n",
       "      <td>Uzes</td>\n",
       "      <td>0.0812</td>\n",
       "      <td>2024-04-04 21:36:00</td>\n",
       "      <td>14.6720</td>\n",
       "      <td>2.9460</td>\n",
       "      <td>44.0121</td>\n",
       "      <td>4.4197</td>\n",
       "      <td>6.251391</td>\n",
       "    </tr>\n",
       "  </tbody>\n",
       "</table>\n",
       "</div>"
      ],
      "text/plain": [
       "                     city_target  city_target_precipitation  \\\n",
       "0                  Aigues-Mortes                     0.0096   \n",
       "1                Aix-en-Provence                     0.0000   \n",
       "2                         Amiens                     0.4524   \n",
       "3                         Annecy                     0.2232   \n",
       "4                         Ariege                     0.0440   \n",
       "5                        Avignon                     0.0136   \n",
       "6                         Bayeux                     0.3480   \n",
       "7                        Bayonne                     0.0996   \n",
       "8                       Besancon                     0.2880   \n",
       "9                       Biarritz                     0.0972   \n",
       "10            Bormes-les-Mimosas                     0.0080   \n",
       "11                   Carcassonne                     0.0000   \n",
       "12                        Cassis                     0.0000   \n",
       "13  Chateau-du-Haut-Koenigsbourg                     0.2892   \n",
       "14                     Collioure                     0.0000   \n",
       "15                        Colmar                     0.2548   \n",
       "16                         Dijon                     0.3576   \n",
       "17                     Eguisheim                     0.2504   \n",
       "18              Gorges-du-Verdon                     0.0140   \n",
       "19                      Grenoble                     0.1852   \n",
       "20                   La-Rochelle                     0.1752   \n",
       "21                      Le-Havre                     0.2872   \n",
       "22                         Lille                     0.4784   \n",
       "23                          Lyon                     0.2532   \n",
       "24                     Marseille                     0.0000   \n",
       "25             Mont-Saint-Michel                     0.4856   \n",
       "26                     Montauban                     0.1264   \n",
       "27                         Nimes                     0.0544   \n",
       "28                         Paris                     0.4276   \n",
       "29                         Rouen                     0.5384   \n",
       "30      Saintes-Maries-de-la-mer                     0.0000   \n",
       "31                       St-Malo                     0.4292   \n",
       "32                    Strasbourg                     0.3480   \n",
       "33                      Toulouse                     0.0080   \n",
       "34                          Uzes                     0.0812   \n",
       "\n",
       "             date_time  city_target_temp_feels_like  city_target_wind_speed  \\\n",
       "0  2024-04-04 21:36:00                      14.3072                  4.9084   \n",
       "1  2024-04-04 21:36:00                      15.9540                  3.3804   \n",
       "2  2024-04-04 21:36:00                      13.4632                  6.7316   \n",
       "3  2024-04-04 21:36:00                      12.7176                  2.0792   \n",
       "4  2024-04-04 21:36:00                      17.0876                  2.3264   \n",
       "5  2024-04-04 21:36:00                      15.9116                  3.0124   \n",
       "6  2024-04-04 21:36:00                      12.0492                  7.4788   \n",
       "7  2024-04-04 21:36:00                      17.1988                  2.5740   \n",
       "8  2024-04-04 21:36:00                      13.4200                  4.1732   \n",
       "9  2024-04-04 21:36:00                      16.5216                  2.8328   \n",
       "10 2024-04-04 21:36:00                      13.9600                  4.8060   \n",
       "11 2024-04-04 21:36:00                      15.6356                  6.2668   \n",
       "12 2024-04-04 21:36:00                      14.7984                  4.9696   \n",
       "13 2024-04-04 21:36:00                      10.6148                  3.0384   \n",
       "14 2024-04-04 21:36:00                      16.5784                  3.9156   \n",
       "15 2024-04-04 21:36:00                      13.6244                  3.7576   \n",
       "16 2024-04-04 21:36:00                      12.4288                  6.5184   \n",
       "17 2024-04-04 21:36:00                      13.3712                  3.7252   \n",
       "18 2024-04-04 21:36:00                      10.3112                  2.9776   \n",
       "19 2024-04-04 21:36:00                      15.6120                  2.2256   \n",
       "20 2024-04-04 21:36:00                      13.5944                  7.4668   \n",
       "21 2024-04-04 21:36:00                      11.9008                  7.4484   \n",
       "22 2024-04-04 21:36:00                      12.9548                  6.5680   \n",
       "23 2024-04-04 21:36:00                      14.8048                  4.7288   \n",
       "24 2024-04-04 21:36:00                      15.5908                  4.9012   \n",
       "25 2024-04-04 21:36:00                      12.2468                  7.2196   \n",
       "26 2024-04-04 21:36:00                      15.8020                  5.0044   \n",
       "27 2024-04-04 21:36:00                      15.2008                  3.5060   \n",
       "28 2024-04-04 21:36:00                      15.0576                  4.9508   \n",
       "29 2024-04-04 21:36:00                      13.4424                  6.1240   \n",
       "30 2024-04-04 21:36:00                      14.3472                  5.6568   \n",
       "31 2024-04-04 21:36:00                      11.9376                  7.6120   \n",
       "32 2024-04-04 21:36:00                      12.6304                  4.6056   \n",
       "33 2024-04-04 21:36:00                      15.6760                  6.3948   \n",
       "34 2024-04-04 21:36:00                      14.6720                  2.9460   \n",
       "\n",
       "    lat_target  lon_target  city_target_weather_score  \n",
       "0      43.5662      4.1915                   5.236875  \n",
       "1      43.5298      5.4475                   8.077637  \n",
       "2      49.8942      2.2957                   2.971779  \n",
       "3      45.8992      6.1289                   3.505473  \n",
       "4      42.8458      1.6068                   9.975072  \n",
       "5      43.9492      4.8059                   8.107087  \n",
       "6      49.2765     -0.7025                   0.826918  \n",
       "7      43.4945     -1.4737                  10.000000  \n",
       "8      47.2380      6.0244                   3.841364  \n",
       "9      43.4833     -1.5593                   8.946294  \n",
       "10     43.1507      6.3419                   4.765212  \n",
       "11     43.2130      2.3491                   6.779520  \n",
       "12     43.2140      5.5396                   5.942167  \n",
       "13     48.2495      7.3455                   0.103307  \n",
       "14     42.5251      3.0832                   8.827451  \n",
       "15     48.0778      7.3580                   4.296563  \n",
       "16     47.3216      5.0415                   1.644328  \n",
       "17     48.0448      7.3080                   3.944091  \n",
       "18     43.7497      6.3286                   0.000000  \n",
       "19     45.1876      5.7358                   7.701976  \n",
       "20     46.1591     -1.1520                   3.270221  \n",
       "21     49.4939      0.1080                   0.691146  \n",
       "22     50.6366      3.0635                   2.252226  \n",
       "23     45.7578      4.8320                   5.727669  \n",
       "24     43.2962      5.3700                   7.110426  \n",
       "25     48.6360     -1.5115                   1.028893  \n",
       "26     44.0176      1.3550                   7.240052  \n",
       "27     43.8374      4.3601                   6.886536  \n",
       "28     48.8535      2.3484                   5.827497  \n",
       "29     49.4405      1.0940                   3.018041  \n",
       "30     43.4516      4.4277                   5.089046  \n",
       "31     48.6495     -2.0260                   0.532418  \n",
       "32     48.5846      7.7507                   2.502087  \n",
       "33     43.6045      1.4442                   6.791694  \n",
       "34     44.0121      4.4197                   6.251391  "
      ]
     },
     "execution_count": 54,
     "metadata": {},
     "output_type": "execute_result"
    }
   ],
   "source": [
    "weather_day_mean"
   ]
  },
  {
   "cell_type": "code",
   "execution_count": 55,
   "metadata": {},
   "outputs": [],
   "source": [
    "# weather_datas.to_csv('cities_weather_datas.csv',index=False)\n",
    "weather_day_mean.to_csv('cities_weather_datas.csv',index=False)"
   ]
  }
 ],
 "metadata": {
  "kernelspec": {
   "display_name": "env",
   "language": "python",
   "name": "python3"
  },
  "language_info": {
   "codemirror_mode": {
    "name": "ipython",
    "version": 3
   },
   "file_extension": ".py",
   "mimetype": "text/x-python",
   "name": "python",
   "nbconvert_exporter": "python",
   "pygments_lexer": "ipython3",
   "version": "3.8.10"
  }
 },
 "nbformat": 4,
 "nbformat_minor": 2
}
