{
 "cells": [
  {
   "cell_type": "markdown",
   "metadata": {},
   "source": [
    "# Scraping Yelp\n",
    "\n",
    "The aim of this exercise is to allow a user to make an automatic search on <a href=\"https://www.yelp.fr/\" target=\"_blank\">Yelp</a> and store the results in a `.json` file. You will be guided through the different steps: making a form request with search keywords, parsing the search results, crawling all the result pages and storing the results into a file.\n",
    "\n",
    "⚠ **As scrapy is not made to launch several crawler processes in the same script, you will have to restart your notebook's kernel before completing each question!**"
   ]
  },
  {
   "cell_type": "code",
   "execution_count": 1,
   "metadata": {},
   "outputs": [
    {
     "name": "stdout",
     "output_type": "stream",
     "text": [
      "Requirement already satisfied: scrapy in c:\\users\\antoi\\documents\\work&learn\\jedha\\db_sql\\env\\lib\\site-packages (2.11.1)\n",
      "Requirement already satisfied: itemloaders>=1.0.1 in c:\\users\\antoi\\documents\\work&learn\\jedha\\db_sql\\env\\lib\\site-packages (from scrapy) (1.1.0)\n",
      "Requirement already satisfied: pyOpenSSL>=21.0.0 in c:\\users\\antoi\\documents\\work&learn\\jedha\\db_sql\\env\\lib\\site-packages (from scrapy) (24.1.0)\n",
      "Requirement already satisfied: tldextract in c:\\users\\antoi\\documents\\work&learn\\jedha\\db_sql\\env\\lib\\site-packages (from scrapy) (5.1.2)\n",
      "Requirement already satisfied: setuptools in c:\\users\\antoi\\documents\\work&learn\\jedha\\db_sql\\env\\lib\\site-packages (from scrapy) (56.0.0)\n",
      "Requirement already satisfied: cssselect>=0.9.1 in c:\\users\\antoi\\documents\\work&learn\\jedha\\db_sql\\env\\lib\\site-packages (from scrapy) (1.2.0)\n",
      "Requirement already satisfied: zope.interface>=5.1.0 in c:\\users\\antoi\\documents\\work&learn\\jedha\\db_sql\\env\\lib\\site-packages (from scrapy) (6.2)\n",
      "Requirement already satisfied: Twisted>=18.9.0 in c:\\users\\antoi\\documents\\work&learn\\jedha\\db_sql\\env\\lib\\site-packages (from scrapy) (24.3.0)\n",
      "Requirement already satisfied: service-identity>=18.1.0 in c:\\users\\antoi\\documents\\work&learn\\jedha\\db_sql\\env\\lib\\site-packages (from scrapy) (24.1.0)\n",
      "Requirement already satisfied: packaging in c:\\users\\antoi\\documents\\work&learn\\jedha\\db_sql\\env\\lib\\site-packages (from scrapy) (24.0)\n",
      "Requirement already satisfied: PyDispatcher>=2.0.5 in c:\\users\\antoi\\documents\\work&learn\\jedha\\db_sql\\env\\lib\\site-packages (from scrapy) (2.0.7)\n",
      "Requirement already satisfied: cryptography>=36.0.0 in c:\\users\\antoi\\documents\\work&learn\\jedha\\db_sql\\env\\lib\\site-packages (from scrapy) (42.0.5)\n",
      "Requirement already satisfied: parsel>=1.5.0 in c:\\users\\antoi\\documents\\work&learn\\jedha\\db_sql\\env\\lib\\site-packages (from scrapy) (1.9.0)\n",
      "Requirement already satisfied: protego>=0.1.15 in c:\\users\\antoi\\documents\\work&learn\\jedha\\db_sql\\env\\lib\\site-packages (from scrapy) (0.3.0)\n",
      "Requirement already satisfied: lxml>=4.4.1 in c:\\users\\antoi\\documents\\work&learn\\jedha\\db_sql\\env\\lib\\site-packages (from scrapy) (5.1.0)\n",
      "Requirement already satisfied: queuelib>=1.4.2 in c:\\users\\antoi\\documents\\work&learn\\jedha\\db_sql\\env\\lib\\site-packages (from scrapy) (1.6.2)\n",
      "Requirement already satisfied: w3lib>=1.17.0 in c:\\users\\antoi\\documents\\work&learn\\jedha\\db_sql\\env\\lib\\site-packages (from scrapy) (2.1.2)\n",
      "Requirement already satisfied: itemadapter>=0.1.0 in c:\\users\\antoi\\documents\\work&learn\\jedha\\db_sql\\env\\lib\\site-packages (from scrapy) (0.8.0)\n",
      "Requirement already satisfied: cffi>=1.12 in c:\\users\\antoi\\documents\\work&learn\\jedha\\db_sql\\env\\lib\\site-packages (from cryptography>=36.0.0->scrapy) (1.16.0)\n",
      "Requirement already satisfied: pycparser in c:\\users\\antoi\\documents\\work&learn\\jedha\\db_sql\\env\\lib\\site-packages (from cffi>=1.12->cryptography>=36.0.0->scrapy) (2.21)\n",
      "Requirement already satisfied: jmespath>=0.9.5 in c:\\users\\antoi\\documents\\work&learn\\jedha\\db_sql\\env\\lib\\site-packages (from itemloaders>=1.0.1->scrapy) (1.0.1)\n",
      "Requirement already satisfied: attrs>=19.1.0 in c:\\users\\antoi\\documents\\work&learn\\jedha\\db_sql\\env\\lib\\site-packages (from service-identity>=18.1.0->scrapy) (23.2.0)\n",
      "Requirement already satisfied: pyasn1 in c:\\users\\antoi\\documents\\work&learn\\jedha\\db_sql\\env\\lib\\site-packages (from service-identity>=18.1.0->scrapy) (0.6.0)\n",
      "Requirement already satisfied: pyasn1-modules in c:\\users\\antoi\\documents\\work&learn\\jedha\\db_sql\\env\\lib\\site-packages (from service-identity>=18.1.0->scrapy) (0.4.0)\n",
      "Requirement already satisfied: constantly>=15.1 in c:\\users\\antoi\\documents\\work&learn\\jedha\\db_sql\\env\\lib\\site-packages (from Twisted>=18.9.0->scrapy) (23.10.4)\n",
      "Requirement already satisfied: twisted-iocpsupport<2,>=1.0.2 in c:\\users\\antoi\\documents\\work&learn\\jedha\\db_sql\\env\\lib\\site-packages (from Twisted>=18.9.0->scrapy) (1.0.4)\n",
      "Requirement already satisfied: hyperlink>=17.1.1 in c:\\users\\antoi\\documents\\work&learn\\jedha\\db_sql\\env\\lib\\site-packages (from Twisted>=18.9.0->scrapy) (21.0.0)\n",
      "Requirement already satisfied: typing-extensions>=4.2.0 in c:\\users\\antoi\\documents\\work&learn\\jedha\\db_sql\\env\\lib\\site-packages (from Twisted>=18.9.0->scrapy) (4.10.0)\n",
      "Requirement already satisfied: automat>=0.8.0 in c:\\users\\antoi\\documents\\work&learn\\jedha\\db_sql\\env\\lib\\site-packages (from Twisted>=18.9.0->scrapy) (22.10.0)\n",
      "Requirement already satisfied: incremental>=22.10.0 in c:\\users\\antoi\\documents\\work&learn\\jedha\\db_sql\\env\\lib\\site-packages (from Twisted>=18.9.0->scrapy) (22.10.0)\n",
      "Requirement already satisfied: six in c:\\users\\antoi\\documents\\work&learn\\jedha\\db_sql\\env\\lib\\site-packages (from automat>=0.8.0->Twisted>=18.9.0->scrapy) (1.16.0)\n",
      "Requirement already satisfied: idna>=2.5 in c:\\users\\antoi\\documents\\work&learn\\jedha\\db_sql\\env\\lib\\site-packages (from hyperlink>=17.1.1->Twisted>=18.9.0->scrapy) (3.6)\n",
      "Requirement already satisfied: requests-file>=1.4 in c:\\users\\antoi\\documents\\work&learn\\jedha\\db_sql\\env\\lib\\site-packages (from tldextract->scrapy) (2.0.0)\n",
      "Requirement already satisfied: filelock>=3.0.8 in c:\\users\\antoi\\documents\\work&learn\\jedha\\db_sql\\env\\lib\\site-packages (from tldextract->scrapy) (3.13.3)\n",
      "Requirement already satisfied: requests>=2.1.0 in c:\\users\\antoi\\documents\\work&learn\\jedha\\db_sql\\env\\lib\\site-packages (from tldextract->scrapy) (2.31.0)\n",
      "Requirement already satisfied: certifi>=2017.4.17 in c:\\users\\antoi\\documents\\work&learn\\jedha\\db_sql\\env\\lib\\site-packages (from requests>=2.1.0->tldextract->scrapy) (2024.2.2)\n",
      "Requirement already satisfied: urllib3<3,>=1.21.1 in c:\\users\\antoi\\documents\\work&learn\\jedha\\db_sql\\env\\lib\\site-packages (from requests>=2.1.0->tldextract->scrapy) (2.2.1)\n",
      "Requirement already satisfied: charset-normalizer<4,>=2 in c:\\users\\antoi\\documents\\work&learn\\jedha\\db_sql\\env\\lib\\site-packages (from requests>=2.1.0->tldextract->scrapy) (3.3.2)\n"
     ]
    },
    {
     "name": "stderr",
     "output_type": "stream",
     "text": [
      "WARNING: You are using pip version 21.1.1; however, version 24.0 is available.\n",
      "You should consider upgrading via the 'c:\\users\\antoi\\documents\\work&learn\\jedha\\db_sql\\env\\scripts\\python.exe -m pip install --upgrade pip' command.\n"
     ]
    },
    {
     "name": "stdout",
     "output_type": "stream",
     "text": [
      "Requirement already satisfied: scrapy-user-agents in c:\\users\\antoi\\documents\\work&learn\\jedha\\db_sql\\env\\lib\\site-packages (0.1.1)\n",
      "Requirement already satisfied: user-agents in c:\\users\\antoi\\documents\\work&learn\\jedha\\db_sql\\env\\lib\\site-packages (from scrapy-user-agents) (2.2.0)\n",
      "Requirement already satisfied: ua-parser>=0.10.0 in c:\\users\\antoi\\documents\\work&learn\\jedha\\db_sql\\env\\lib\\site-packages (from user-agents->scrapy-user-agents) (0.18.0)\n"
     ]
    },
    {
     "name": "stderr",
     "output_type": "stream",
     "text": [
      "WARNING: You are using pip version 21.1.1; however, version 24.0 is available.\n",
      "You should consider upgrading via the 'c:\\users\\antoi\\documents\\work&learn\\jedha\\db_sql\\env\\scripts\\python.exe -m pip install --upgrade pip' command.\n"
     ]
    }
   ],
   "source": [
    "!pip install scrapy\n",
    "!pip install scrapy-user-agents"
   ]
  },
  {
   "cell_type": "code",
   "execution_count": 4,
   "metadata": {},
   "outputs": [
    {
     "data": {
      "text/plain": [
       "'c:\\\\Users\\\\antoi\\\\Documents\\\\Work&Learn\\\\JEDHA\\\\M03-DataCollection_Managment\\\\JEDHA-Projet-2-Kayak\\\\rotate_user_agent'"
      ]
     },
     "execution_count": 4,
     "metadata": {},
     "output_type": "execute_result"
    }
   ],
   "source": [
    "# import os\n",
    "# os.chdir(\"rotate_user_agent\")\n",
    "# os.getcwd()"
   ]
  },
  {
   "cell_type": "code",
   "execution_count": 3,
   "metadata": {},
   "outputs": [
    {
     "name": "stderr",
     "output_type": "stream",
     "text": [
      "2024-03-29 11:03:46 [scrapy.utils.log] INFO: Scrapy 2.11.1 started (bot: scrapybot)\n",
      "2024-03-29 11:03:46 [scrapy.utils.log] INFO: Versions: lxml 4.9.3.0, libxml2 2.10.3, cssselect 1.2.0, parsel 1.9.0, w3lib 2.1.2, Twisted 24.3.0, Python 3.8.10 (tags/v3.8.10:3d8993a, May  3 2021, 11:48:03) [MSC v.1928 64 bit (AMD64)], pyOpenSSL 24.1.0 (OpenSSL 3.2.1 30 Jan 2024), cryptography 42.0.5, Platform Windows-10-10.0.22631-SP0\n",
      "2024-03-29 11:03:46 [scrapy.addons] INFO: Enabled addons:\n",
      "[]\n",
      "2024-03-29 11:03:46 [py.warnings] WARNING: c:\\Users\\antoi\\AppData\\Local\\Programs\\Python\\Python38\\lib\\site-packages\\scrapy\\utils\\request.py:254: ScrapyDeprecationWarning: '2.6' is a deprecated value for the 'REQUEST_FINGERPRINTER_IMPLEMENTATION' setting.\n",
      "\n",
      "It is also the default value. In other words, it is normal to get this warning if you have not defined a value for the 'REQUEST_FINGERPRINTER_IMPLEMENTATION' setting. This is so for backward compatibility reasons, but it will change in a future version of Scrapy.\n",
      "\n",
      "See the documentation of the 'REQUEST_FINGERPRINTER_IMPLEMENTATION' setting for information on how to handle this deprecation.\n",
      "  return cls(crawler)\n",
      "\n",
      "2024-03-29 11:03:46 [scrapy.extensions.telnet] INFO: Telnet Password: b9087ba911cfbd5a\n",
      "2024-03-29 11:03:46 [scrapy.middleware] INFO: Enabled extensions:\n",
      "['scrapy.extensions.corestats.CoreStats',\n",
      " 'scrapy.extensions.telnet.TelnetConsole',\n",
      " 'scrapy.extensions.feedexport.FeedExporter',\n",
      " 'scrapy.extensions.logstats.LogStats']\n",
      "2024-03-29 11:03:46 [scrapy.crawler] INFO: Overridden settings:\n",
      "{'LOG_LEVEL': 20, 'USER_AGENT': 'Chrome/97.0'}\n",
      "2024-03-29 11:03:47 [scrapy.middleware] INFO: Enabled downloader middlewares:\n",
      "['scrapy.downloadermiddlewares.httpauth.HttpAuthMiddleware',\n",
      " 'scrapy.downloadermiddlewares.downloadtimeout.DownloadTimeoutMiddleware',\n",
      " 'scrapy.downloadermiddlewares.defaultheaders.DefaultHeadersMiddleware',\n",
      " 'scrapy.downloadermiddlewares.useragent.UserAgentMiddleware',\n",
      " 'scrapy.downloadermiddlewares.retry.RetryMiddleware',\n",
      " 'scrapy.downloadermiddlewares.redirect.MetaRefreshMiddleware',\n",
      " 'scrapy.downloadermiddlewares.httpcompression.HttpCompressionMiddleware',\n",
      " 'scrapy.downloadermiddlewares.redirect.RedirectMiddleware',\n",
      " 'scrapy.downloadermiddlewares.cookies.CookiesMiddleware',\n",
      " 'scrapy.downloadermiddlewares.httpproxy.HttpProxyMiddleware',\n",
      " 'scrapy.downloadermiddlewares.stats.DownloaderStats']\n",
      "2024-03-29 11:03:47 [scrapy.middleware] INFO: Enabled spider middlewares:\n",
      "['scrapy.spidermiddlewares.httperror.HttpErrorMiddleware',\n",
      " 'scrapy.spidermiddlewares.offsite.OffsiteMiddleware',\n",
      " 'scrapy.spidermiddlewares.referer.RefererMiddleware',\n",
      " 'scrapy.spidermiddlewares.urllength.UrlLengthMiddleware',\n",
      " 'scrapy.spidermiddlewares.depth.DepthMiddleware']\n",
      "2024-03-29 11:03:47 [scrapy.middleware] INFO: Enabled item pipelines:\n",
      "[]\n",
      "2024-03-29 11:03:47 [scrapy.core.engine] INFO: Spider opened\n",
      "2024-03-29 11:03:47 [scrapy.extensions.logstats] INFO: Crawled 0 pages (at 0 pages/min), scraped 0 items (at 0 items/min)\n",
      "2024-03-29 11:03:47 [scrapy.extensions.telnet] INFO: Telnet console listening on 127.0.0.1:6023\n",
      "2024-03-29 11:04:01 [scrapy.core.engine] INFO: Closing spider (finished)\n",
      "2024-03-29 11:04:01 [scrapy.extensions.feedexport] INFO: Stored json feed (8 items) in: booking/booking.json\n",
      "2024-03-29 11:04:01 [scrapy.statscollectors] INFO: Dumping Scrapy stats:\n",
      "{'downloader/request_bytes': 2492,\n",
      " 'downloader/request_count': 3,\n",
      " 'downloader/request_method_count/GET': 3,\n",
      " 'downloader/response_bytes': 404239,\n",
      " 'downloader/response_count': 3,\n",
      " 'downloader/response_status_count/200': 2,\n",
      " 'downloader/response_status_count/302': 1,\n",
      " 'elapsed_time_seconds': 14.479274,\n",
      " 'feedexport/success_count/FileFeedStorage': 1,\n",
      " 'finish_reason': 'finished',\n",
      " 'finish_time': datetime.datetime(2024, 3, 29, 10, 4, 1, 611896, tzinfo=datetime.timezone.utc),\n",
      " 'httpcompression/response_bytes': 1814789,\n",
      " 'httpcompression/response_count': 2,\n",
      " 'item_scraped_count': 8,\n",
      " 'log_count/INFO': 11,\n",
      " 'log_count/WARNING': 1,\n",
      " 'request_depth_max': 1,\n",
      " 'response_received_count': 2,\n",
      " 'scheduler/dequeued': 3,\n",
      " 'scheduler/dequeued/memory': 3,\n",
      " 'scheduler/enqueued': 3,\n",
      " 'scheduler/enqueued/memory': 3,\n",
      " 'start_time': datetime.datetime(2024, 3, 29, 10, 3, 47, 132622, tzinfo=datetime.timezone.utc)}\n",
      "2024-03-29 11:04:01 [scrapy.core.engine] INFO: Spider closed (finished)\n"
     ]
    }
   ],
   "source": [
    "!python booking/booking_exploratory.py"
   ]
  }
 ],
 "metadata": {
  "kernelspec": {
   "display_name": "Python 3.9.12 ('tf': conda)",
   "language": "python",
   "name": "python3"
  },
  "language_info": {
   "codemirror_mode": {
    "name": "ipython",
    "version": 3
   },
   "file_extension": ".py",
   "mimetype": "text/x-python",
   "name": "python",
   "nbconvert_exporter": "python",
   "pygments_lexer": "ipython3",
   "version": "3.8.10"
  },
  "vscode": {
   "interpreter": {
    "hash": "fbc4d3870518eee81184ced0d2279c769a0eca59aab465c4e7ec13e5e6c47a3e"
   }
  }
 },
 "nbformat": 4,
 "nbformat_minor": 4
}
