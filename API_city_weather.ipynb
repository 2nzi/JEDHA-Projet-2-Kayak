{
 "cells": [
  {
   "cell_type": "markdown",
   "metadata": {},
   "source": [
    "# City and Weather API's"
   ]
  },
  {
   "cell_type": "markdown",
   "metadata": {},
   "source": [
    "## City API"
   ]
  },
  {
   "cell_type": "code",
   "execution_count": 21,
   "metadata": {},
   "outputs": [],
   "source": [
    "import pandas as pd\n",
    "import os\n",
    "import plotly.express as px\n",
    "import requests\n",
    "from config import AllPath\n",
    "\n",
    "all_paths = AllPath()\n",
    "\n",
    "local_project_path = all_paths.project_path\n",
    "path = local_project_path+'datas'\n",
    "\n",
    "chemin_fichier_csv = path+\"./city.csv\"\n",
    "df = pd.read_csv(chemin_fichier_csv, header=None, names=['city','nan'])\n",
    "cities = df['city'].str.replace(' ', '-').tolist()\n",
    "\n",
    "# list(cities)"
   ]
  },
  {
   "cell_type": "code",
   "execution_count": 22,
   "metadata": {},
   "outputs": [],
   "source": [
    "api_url = 'https://nominatim.openstreetmap.org/search'\n",
    "\n",
    "enriched_cities = []\n",
    "\n",
    "for city in cities:\n",
    "\n",
    "    payload = {\n",
    "        'city' : city,\n",
    "        'limit' : 1,\n",
    "        'country' : 'france',\n",
    "        'country-code' : 'fr',\n",
    "        'format' : 'json'\n",
    "        }\n",
    "    \n",
    "    r_city = requests.get(api_url, \n",
    "                          params=payload)\n",
    "\n",
    "    enriched_cities.append({'city': city,\n",
    "                            'lat' : float(r_city.json()[0]['lat']),\n",
    "                            'lon' : float(r_city.json()[0]['lon'])})\n",
    "    \n",
    "# display(enriched_cities)\n"
   ]
  },
  {
   "cell_type": "code",
   "execution_count": 23,
   "metadata": {},
   "outputs": [],
   "source": [
    "df = pd.DataFrame.from_dict(enriched_cities)"
   ]
  },
  {
   "cell_type": "code",
   "execution_count": 24,
   "metadata": {},
   "outputs": [
    {
     "data": {
      "application/vnd.plotly.v1+json": {
       "config": {
        "plotlyServerURL": "https://plot.ly"
       },
       "data": [
        {
         "hovertemplate": "<b>%{hovertext}</b><br><br>lat=%{lat}<br>lon=%{lon}<extra></extra>",
         "hovertext": [
          "Mont-Saint-Michel",
          "St-Malo",
          "Bayeux",
          "Le-Havre",
          "Rouen",
          "Paris",
          "Amiens",
          "Lille",
          "Strasbourg",
          "Chateau-du-Haut-Koenigsbourg",
          "Colmar",
          "Eguisheim",
          "Besancon",
          "Dijon",
          "Annecy",
          "Grenoble",
          "Lyon",
          "Gorges-du-Verdon",
          "Bormes-les-Mimosas",
          "Cassis",
          "Marseille",
          "Aix-en-Provence",
          "Avignon",
          "Uzes",
          "Nimes",
          "Aigues-Mortes",
          "Saintes-Maries-de-la-mer",
          "Collioure",
          "Carcassonne",
          "Ariege",
          "Toulouse",
          "Montauban",
          "Biarritz",
          "Bayonne",
          "La-Rochelle"
         ],
         "lat": [
          48.6359541,
          48.649518,
          49.2764624,
          49.4938975,
          49.4404591,
          48.8534951,
          49.8941708,
          50.6365654,
          48.584614,
          48.2495226,
          48.0777517,
          48.0447968,
          47.2380222,
          47.3215806,
          45.8992348,
          45.1875602,
          45.7578137,
          43.7496562,
          43.1506968,
          43.2140359,
          43.2961743,
          43.5298424,
          43.9492493,
          44.0121279,
          43.8374249,
          43.5661521,
          43.4515922,
          42.52505,
          43.2130358,
          42.8458016,
          43.6044622,
          44.0175835,
          43.4832523,
          43.4945144,
          46.1591126
         ],
         "legendgroup": "",
         "lon": [
          -1.511459954959514,
          -2.0260409,
          -0.7024738,
          0.1079732,
          1.0939658,
          2.3483915,
          2.2956951,
          3.0635282,
          7.7507127,
          7.3454923,
          7.3579641,
          7.3079618,
          6.0243622,
          5.0414701,
          6.1288847,
          5.7357819,
          4.8320114,
          6.3285616,
          6.3419285,
          5.5396318,
          5.3699525,
          5.4474738,
          4.8059012,
          4.4196718,
          4.3600687,
          4.19154,
          4.4277202,
          3.0831554,
          2.3491069,
          1.6067586,
          1.4442469,
          1.3549991,
          -1.5592776,
          -1.4736657,
          -1.1520434
         ],
         "marker": {
          "color": "#636efa"
         },
         "mode": "markers",
         "name": "",
         "showlegend": false,
         "subplot": "mapbox",
         "type": "scattermapbox"
        }
       ],
       "layout": {
        "height": 600,
        "legend": {
         "tracegroupgap": 0
        },
        "mapbox": {
         "center": {
          "lat": 46.2,
          "lon": 2.2
         },
         "domain": {
          "x": [
           0,
           1
          ],
          "y": [
           0,
           1
          ]
         },
         "style": "carto-positron",
         "zoom": 4
        },
        "margin": {
         "t": 60
        },
        "template": {
         "data": {
          "bar": [
           {
            "error_x": {
             "color": "#2a3f5f"
            },
            "error_y": {
             "color": "#2a3f5f"
            },
            "marker": {
             "line": {
              "color": "#E5ECF6",
              "width": 0.5
             },
             "pattern": {
              "fillmode": "overlay",
              "size": 10,
              "solidity": 0.2
             }
            },
            "type": "bar"
           }
          ],
          "barpolar": [
           {
            "marker": {
             "line": {
              "color": "#E5ECF6",
              "width": 0.5
             },
             "pattern": {
              "fillmode": "overlay",
              "size": 10,
              "solidity": 0.2
             }
            },
            "type": "barpolar"
           }
          ],
          "carpet": [
           {
            "aaxis": {
             "endlinecolor": "#2a3f5f",
             "gridcolor": "white",
             "linecolor": "white",
             "minorgridcolor": "white",
             "startlinecolor": "#2a3f5f"
            },
            "baxis": {
             "endlinecolor": "#2a3f5f",
             "gridcolor": "white",
             "linecolor": "white",
             "minorgridcolor": "white",
             "startlinecolor": "#2a3f5f"
            },
            "type": "carpet"
           }
          ],
          "choropleth": [
           {
            "colorbar": {
             "outlinewidth": 0,
             "ticks": ""
            },
            "type": "choropleth"
           }
          ],
          "contour": [
           {
            "colorbar": {
             "outlinewidth": 0,
             "ticks": ""
            },
            "colorscale": [
             [
              0,
              "#0d0887"
             ],
             [
              0.1111111111111111,
              "#46039f"
             ],
             [
              0.2222222222222222,
              "#7201a8"
             ],
             [
              0.3333333333333333,
              "#9c179e"
             ],
             [
              0.4444444444444444,
              "#bd3786"
             ],
             [
              0.5555555555555556,
              "#d8576b"
             ],
             [
              0.6666666666666666,
              "#ed7953"
             ],
             [
              0.7777777777777778,
              "#fb9f3a"
             ],
             [
              0.8888888888888888,
              "#fdca26"
             ],
             [
              1,
              "#f0f921"
             ]
            ],
            "type": "contour"
           }
          ],
          "contourcarpet": [
           {
            "colorbar": {
             "outlinewidth": 0,
             "ticks": ""
            },
            "type": "contourcarpet"
           }
          ],
          "heatmap": [
           {
            "colorbar": {
             "outlinewidth": 0,
             "ticks": ""
            },
            "colorscale": [
             [
              0,
              "#0d0887"
             ],
             [
              0.1111111111111111,
              "#46039f"
             ],
             [
              0.2222222222222222,
              "#7201a8"
             ],
             [
              0.3333333333333333,
              "#9c179e"
             ],
             [
              0.4444444444444444,
              "#bd3786"
             ],
             [
              0.5555555555555556,
              "#d8576b"
             ],
             [
              0.6666666666666666,
              "#ed7953"
             ],
             [
              0.7777777777777778,
              "#fb9f3a"
             ],
             [
              0.8888888888888888,
              "#fdca26"
             ],
             [
              1,
              "#f0f921"
             ]
            ],
            "type": "heatmap"
           }
          ],
          "heatmapgl": [
           {
            "colorbar": {
             "outlinewidth": 0,
             "ticks": ""
            },
            "colorscale": [
             [
              0,
              "#0d0887"
             ],
             [
              0.1111111111111111,
              "#46039f"
             ],
             [
              0.2222222222222222,
              "#7201a8"
             ],
             [
              0.3333333333333333,
              "#9c179e"
             ],
             [
              0.4444444444444444,
              "#bd3786"
             ],
             [
              0.5555555555555556,
              "#d8576b"
             ],
             [
              0.6666666666666666,
              "#ed7953"
             ],
             [
              0.7777777777777778,
              "#fb9f3a"
             ],
             [
              0.8888888888888888,
              "#fdca26"
             ],
             [
              1,
              "#f0f921"
             ]
            ],
            "type": "heatmapgl"
           }
          ],
          "histogram": [
           {
            "marker": {
             "pattern": {
              "fillmode": "overlay",
              "size": 10,
              "solidity": 0.2
             }
            },
            "type": "histogram"
           }
          ],
          "histogram2d": [
           {
            "colorbar": {
             "outlinewidth": 0,
             "ticks": ""
            },
            "colorscale": [
             [
              0,
              "#0d0887"
             ],
             [
              0.1111111111111111,
              "#46039f"
             ],
             [
              0.2222222222222222,
              "#7201a8"
             ],
             [
              0.3333333333333333,
              "#9c179e"
             ],
             [
              0.4444444444444444,
              "#bd3786"
             ],
             [
              0.5555555555555556,
              "#d8576b"
             ],
             [
              0.6666666666666666,
              "#ed7953"
             ],
             [
              0.7777777777777778,
              "#fb9f3a"
             ],
             [
              0.8888888888888888,
              "#fdca26"
             ],
             [
              1,
              "#f0f921"
             ]
            ],
            "type": "histogram2d"
           }
          ],
          "histogram2dcontour": [
           {
            "colorbar": {
             "outlinewidth": 0,
             "ticks": ""
            },
            "colorscale": [
             [
              0,
              "#0d0887"
             ],
             [
              0.1111111111111111,
              "#46039f"
             ],
             [
              0.2222222222222222,
              "#7201a8"
             ],
             [
              0.3333333333333333,
              "#9c179e"
             ],
             [
              0.4444444444444444,
              "#bd3786"
             ],
             [
              0.5555555555555556,
              "#d8576b"
             ],
             [
              0.6666666666666666,
              "#ed7953"
             ],
             [
              0.7777777777777778,
              "#fb9f3a"
             ],
             [
              0.8888888888888888,
              "#fdca26"
             ],
             [
              1,
              "#f0f921"
             ]
            ],
            "type": "histogram2dcontour"
           }
          ],
          "mesh3d": [
           {
            "colorbar": {
             "outlinewidth": 0,
             "ticks": ""
            },
            "type": "mesh3d"
           }
          ],
          "parcoords": [
           {
            "line": {
             "colorbar": {
              "outlinewidth": 0,
              "ticks": ""
             }
            },
            "type": "parcoords"
           }
          ],
          "pie": [
           {
            "automargin": true,
            "type": "pie"
           }
          ],
          "scatter": [
           {
            "fillpattern": {
             "fillmode": "overlay",
             "size": 10,
             "solidity": 0.2
            },
            "type": "scatter"
           }
          ],
          "scatter3d": [
           {
            "line": {
             "colorbar": {
              "outlinewidth": 0,
              "ticks": ""
             }
            },
            "marker": {
             "colorbar": {
              "outlinewidth": 0,
              "ticks": ""
             }
            },
            "type": "scatter3d"
           }
          ],
          "scattercarpet": [
           {
            "marker": {
             "colorbar": {
              "outlinewidth": 0,
              "ticks": ""
             }
            },
            "type": "scattercarpet"
           }
          ],
          "scattergeo": [
           {
            "marker": {
             "colorbar": {
              "outlinewidth": 0,
              "ticks": ""
             }
            },
            "type": "scattergeo"
           }
          ],
          "scattergl": [
           {
            "marker": {
             "colorbar": {
              "outlinewidth": 0,
              "ticks": ""
             }
            },
            "type": "scattergl"
           }
          ],
          "scattermapbox": [
           {
            "marker": {
             "colorbar": {
              "outlinewidth": 0,
              "ticks": ""
             }
            },
            "type": "scattermapbox"
           }
          ],
          "scatterpolar": [
           {
            "marker": {
             "colorbar": {
              "outlinewidth": 0,
              "ticks": ""
             }
            },
            "type": "scatterpolar"
           }
          ],
          "scatterpolargl": [
           {
            "marker": {
             "colorbar": {
              "outlinewidth": 0,
              "ticks": ""
             }
            },
            "type": "scatterpolargl"
           }
          ],
          "scatterternary": [
           {
            "marker": {
             "colorbar": {
              "outlinewidth": 0,
              "ticks": ""
             }
            },
            "type": "scatterternary"
           }
          ],
          "surface": [
           {
            "colorbar": {
             "outlinewidth": 0,
             "ticks": ""
            },
            "colorscale": [
             [
              0,
              "#0d0887"
             ],
             [
              0.1111111111111111,
              "#46039f"
             ],
             [
              0.2222222222222222,
              "#7201a8"
             ],
             [
              0.3333333333333333,
              "#9c179e"
             ],
             [
              0.4444444444444444,
              "#bd3786"
             ],
             [
              0.5555555555555556,
              "#d8576b"
             ],
             [
              0.6666666666666666,
              "#ed7953"
             ],
             [
              0.7777777777777778,
              "#fb9f3a"
             ],
             [
              0.8888888888888888,
              "#fdca26"
             ],
             [
              1,
              "#f0f921"
             ]
            ],
            "type": "surface"
           }
          ],
          "table": [
           {
            "cells": {
             "fill": {
              "color": "#EBF0F8"
             },
             "line": {
              "color": "white"
             }
            },
            "header": {
             "fill": {
              "color": "#C8D4E3"
             },
             "line": {
              "color": "white"
             }
            },
            "type": "table"
           }
          ]
         },
         "layout": {
          "annotationdefaults": {
           "arrowcolor": "#2a3f5f",
           "arrowhead": 0,
           "arrowwidth": 1
          },
          "autotypenumbers": "strict",
          "coloraxis": {
           "colorbar": {
            "outlinewidth": 0,
            "ticks": ""
           }
          },
          "colorscale": {
           "diverging": [
            [
             0,
             "#8e0152"
            ],
            [
             0.1,
             "#c51b7d"
            ],
            [
             0.2,
             "#de77ae"
            ],
            [
             0.3,
             "#f1b6da"
            ],
            [
             0.4,
             "#fde0ef"
            ],
            [
             0.5,
             "#f7f7f7"
            ],
            [
             0.6,
             "#e6f5d0"
            ],
            [
             0.7,
             "#b8e186"
            ],
            [
             0.8,
             "#7fbc41"
            ],
            [
             0.9,
             "#4d9221"
            ],
            [
             1,
             "#276419"
            ]
           ],
           "sequential": [
            [
             0,
             "#0d0887"
            ],
            [
             0.1111111111111111,
             "#46039f"
            ],
            [
             0.2222222222222222,
             "#7201a8"
            ],
            [
             0.3333333333333333,
             "#9c179e"
            ],
            [
             0.4444444444444444,
             "#bd3786"
            ],
            [
             0.5555555555555556,
             "#d8576b"
            ],
            [
             0.6666666666666666,
             "#ed7953"
            ],
            [
             0.7777777777777778,
             "#fb9f3a"
            ],
            [
             0.8888888888888888,
             "#fdca26"
            ],
            [
             1,
             "#f0f921"
            ]
           ],
           "sequentialminus": [
            [
             0,
             "#0d0887"
            ],
            [
             0.1111111111111111,
             "#46039f"
            ],
            [
             0.2222222222222222,
             "#7201a8"
            ],
            [
             0.3333333333333333,
             "#9c179e"
            ],
            [
             0.4444444444444444,
             "#bd3786"
            ],
            [
             0.5555555555555556,
             "#d8576b"
            ],
            [
             0.6666666666666666,
             "#ed7953"
            ],
            [
             0.7777777777777778,
             "#fb9f3a"
            ],
            [
             0.8888888888888888,
             "#fdca26"
            ],
            [
             1,
             "#f0f921"
            ]
           ]
          },
          "colorway": [
           "#636efa",
           "#EF553B",
           "#00cc96",
           "#ab63fa",
           "#FFA15A",
           "#19d3f3",
           "#FF6692",
           "#B6E880",
           "#FF97FF",
           "#FECB52"
          ],
          "font": {
           "color": "#2a3f5f"
          },
          "geo": {
           "bgcolor": "white",
           "lakecolor": "white",
           "landcolor": "#E5ECF6",
           "showlakes": true,
           "showland": true,
           "subunitcolor": "white"
          },
          "hoverlabel": {
           "align": "left"
          },
          "hovermode": "closest",
          "mapbox": {
           "style": "light"
          },
          "paper_bgcolor": "white",
          "plot_bgcolor": "#E5ECF6",
          "polar": {
           "angularaxis": {
            "gridcolor": "white",
            "linecolor": "white",
            "ticks": ""
           },
           "bgcolor": "#E5ECF6",
           "radialaxis": {
            "gridcolor": "white",
            "linecolor": "white",
            "ticks": ""
           }
          },
          "scene": {
           "xaxis": {
            "backgroundcolor": "#E5ECF6",
            "gridcolor": "white",
            "gridwidth": 2,
            "linecolor": "white",
            "showbackground": true,
            "ticks": "",
            "zerolinecolor": "white"
           },
           "yaxis": {
            "backgroundcolor": "#E5ECF6",
            "gridcolor": "white",
            "gridwidth": 2,
            "linecolor": "white",
            "showbackground": true,
            "ticks": "",
            "zerolinecolor": "white"
           },
           "zaxis": {
            "backgroundcolor": "#E5ECF6",
            "gridcolor": "white",
            "gridwidth": 2,
            "linecolor": "white",
            "showbackground": true,
            "ticks": "",
            "zerolinecolor": "white"
           }
          },
          "shapedefaults": {
           "line": {
            "color": "#2a3f5f"
           }
          },
          "ternary": {
           "aaxis": {
            "gridcolor": "white",
            "linecolor": "white",
            "ticks": ""
           },
           "baxis": {
            "gridcolor": "white",
            "linecolor": "white",
            "ticks": ""
           },
           "bgcolor": "#E5ECF6",
           "caxis": {
            "gridcolor": "white",
            "linecolor": "white",
            "ticks": ""
           }
          },
          "title": {
           "x": 0.05
          },
          "xaxis": {
           "automargin": true,
           "gridcolor": "white",
           "linecolor": "white",
           "ticks": "",
           "title": {
            "standoff": 15
           },
           "zerolinecolor": "white",
           "zerolinewidth": 2
          },
          "yaxis": {
           "automargin": true,
           "gridcolor": "white",
           "linecolor": "white",
           "ticks": "",
           "title": {
            "standoff": 15
           },
           "zerolinecolor": "white",
           "zerolinewidth": 2
          }
         }
        }
       }
      }
     },
     "metadata": {},
     "output_type": "display_data"
    }
   ],
   "source": [
    "\n",
    "fig = px.scatter_mapbox(df,\n",
    "                        lat='lat',\n",
    "                        lon='lon',\n",
    "                        center=dict(lat=46.2, lon=2.2),\n",
    "                        zoom=4,\n",
    "                        mapbox_style='carto-positron',\n",
    "                        hover_name='city',\n",
    "                        height=600)\n",
    "\n",
    "fig.show()"
   ]
  },
  {
   "cell_type": "markdown",
   "metadata": {},
   "source": [
    "## Weather API"
   ]
  },
  {
   "cell_type": "code",
   "execution_count": 25,
   "metadata": {},
   "outputs": [
    {
     "name": "stdout",
     "output_type": "stream",
     "text": [
      "c:\\Users\\antoi\\Documents\\Work&Learn\\JEDHA\\M03-DataCollection_Managment\\JEDHA-Projet-2-Kayak\n"
     ]
    }
   ],
   "source": [
    "print(os.getcwd())\n"
   ]
  },
  {
   "cell_type": "code",
   "execution_count": 26,
   "metadata": {},
   "outputs": [],
   "source": [
    "\n",
    "with open(\"API_key.txt\", \"r\") as file:\n",
    "    API_key = str(file.readline())\n",
    "\n",
    "exclude = 'current,minutely,hourly,alerts'\n",
    "weather_cities = []\n",
    "\n",
    "for city in enriched_cities:\n",
    "    lat = city['lat']\n",
    "    lon = city['lon']\n",
    "    url = f'https://api.openweathermap.org/data/2.5/forecast?lat={lat}&lon={lon}&exclude={exclude}&appid={API_key}&units=metric'\n",
    "    weather_raw = requests.get(url).json()\n",
    "    weather_raw['city']['name'] = city['city']\n",
    "    weather_cities.append(weather_raw)\n",
    "\n",
    "# display(weather_cities)"
   ]
  },
  {
   "cell_type": "code",
   "execution_count": 27,
   "metadata": {},
   "outputs": [
    {
     "data": {
      "text/html": [
       "<div>\n",
       "<style scoped>\n",
       "    .dataframe tbody tr th:only-of-type {\n",
       "        vertical-align: middle;\n",
       "    }\n",
       "\n",
       "    .dataframe tbody tr th {\n",
       "        vertical-align: top;\n",
       "    }\n",
       "\n",
       "    .dataframe thead th {\n",
       "        text-align: right;\n",
       "    }\n",
       "</style>\n",
       "<table border=\"1\" class=\"dataframe\">\n",
       "  <thead>\n",
       "    <tr style=\"text-align: right;\">\n",
       "      <th></th>\n",
       "      <th>cod</th>\n",
       "      <th>message</th>\n",
       "      <th>cnt</th>\n",
       "      <th>list</th>\n",
       "      <th>city.id</th>\n",
       "      <th>city.name</th>\n",
       "      <th>city.coord.lat</th>\n",
       "      <th>city.coord.lon</th>\n",
       "      <th>city.country</th>\n",
       "      <th>city.population</th>\n",
       "      <th>city.timezone</th>\n",
       "      <th>city.sunrise</th>\n",
       "      <th>city.sunset</th>\n",
       "    </tr>\n",
       "  </thead>\n",
       "  <tbody>\n",
       "    <tr>\n",
       "      <th>0</th>\n",
       "      <td>200</td>\n",
       "      <td>0</td>\n",
       "      <td>40</td>\n",
       "      <td>[{'dt': 1712221200, 'main': {'temp': 12.94, 'f...</td>\n",
       "      <td>6435453</td>\n",
       "      <td>Mont-Saint-Michel</td>\n",
       "      <td>48.6360</td>\n",
       "      <td>-1.5115</td>\n",
       "      <td>FR</td>\n",
       "      <td>0</td>\n",
       "      <td>7200</td>\n",
       "      <td>1712209012</td>\n",
       "      <td>1712256037</td>\n",
       "    </tr>\n",
       "    <tr>\n",
       "      <th>1</th>\n",
       "      <td>200</td>\n",
       "      <td>0</td>\n",
       "      <td>40</td>\n",
       "      <td>[{'dt': 1712221200, 'main': {'temp': 12.44, 'f...</td>\n",
       "      <td>2978640</td>\n",
       "      <td>St-Malo</td>\n",
       "      <td>48.6495</td>\n",
       "      <td>-2.0260</td>\n",
       "      <td>FR</td>\n",
       "      <td>50676</td>\n",
       "      <td>7200</td>\n",
       "      <td>1712209135</td>\n",
       "      <td>1712256161</td>\n",
       "    </tr>\n",
       "    <tr>\n",
       "      <th>2</th>\n",
       "      <td>200</td>\n",
       "      <td>0</td>\n",
       "      <td>40</td>\n",
       "      <td>[{'dt': 1712221200, 'main': {'temp': 13, 'feel...</td>\n",
       "      <td>3034483</td>\n",
       "      <td>Bayeux</td>\n",
       "      <td>49.2765</td>\n",
       "      <td>-0.7025</td>\n",
       "      <td>FR</td>\n",
       "      <td>15963</td>\n",
       "      <td>7200</td>\n",
       "      <td>1712208777</td>\n",
       "      <td>1712255883</td>\n",
       "    </tr>\n",
       "    <tr>\n",
       "      <th>3</th>\n",
       "      <td>200</td>\n",
       "      <td>0</td>\n",
       "      <td>40</td>\n",
       "      <td>[{'dt': 1712221200, 'main': {'temp': 12.36, 'f...</td>\n",
       "      <td>3003796</td>\n",
       "      <td>Le-Havre</td>\n",
       "      <td>49.4939</td>\n",
       "      <td>0.1080</td>\n",
       "      <td>FR</td>\n",
       "      <td>185972</td>\n",
       "      <td>7200</td>\n",
       "      <td>1712208569</td>\n",
       "      <td>1712255703</td>\n",
       "    </tr>\n",
       "    <tr>\n",
       "      <th>4</th>\n",
       "      <td>200</td>\n",
       "      <td>0</td>\n",
       "      <td>40</td>\n",
       "      <td>[{'dt': 1712221200, 'main': {'temp': 12.69, 'f...</td>\n",
       "      <td>2982652</td>\n",
       "      <td>Rouen</td>\n",
       "      <td>49.4405</td>\n",
       "      <td>1.0940</td>\n",
       "      <td>FR</td>\n",
       "      <td>112787</td>\n",
       "      <td>7200</td>\n",
       "      <td>1712208336</td>\n",
       "      <td>1712255462</td>\n",
       "    </tr>\n",
       "  </tbody>\n",
       "</table>\n",
       "</div>"
      ],
      "text/plain": [
       "   cod  message  cnt                                               list  \\\n",
       "0  200        0   40  [{'dt': 1712221200, 'main': {'temp': 12.94, 'f...   \n",
       "1  200        0   40  [{'dt': 1712221200, 'main': {'temp': 12.44, 'f...   \n",
       "2  200        0   40  [{'dt': 1712221200, 'main': {'temp': 13, 'feel...   \n",
       "3  200        0   40  [{'dt': 1712221200, 'main': {'temp': 12.36, 'f...   \n",
       "4  200        0   40  [{'dt': 1712221200, 'main': {'temp': 12.69, 'f...   \n",
       "\n",
       "   city.id          city.name  city.coord.lat  city.coord.lon city.country  \\\n",
       "0  6435453  Mont-Saint-Michel         48.6360         -1.5115           FR   \n",
       "1  2978640            St-Malo         48.6495         -2.0260           FR   \n",
       "2  3034483             Bayeux         49.2765         -0.7025           FR   \n",
       "3  3003796           Le-Havre         49.4939          0.1080           FR   \n",
       "4  2982652              Rouen         49.4405          1.0940           FR   \n",
       "\n",
       "   city.population  city.timezone  city.sunrise  city.sunset  \n",
       "0                0           7200    1712209012   1712256037  \n",
       "1            50676           7200    1712209135   1712256161  \n",
       "2            15963           7200    1712208777   1712255883  \n",
       "3           185972           7200    1712208569   1712255703  \n",
       "4           112787           7200    1712208336   1712255462  "
      ]
     },
     "execution_count": 27,
     "metadata": {},
     "output_type": "execute_result"
    }
   ],
   "source": [
    "pd.json_normalize(weather_cities).head()"
   ]
  },
  {
   "cell_type": "code",
   "execution_count": 28,
   "metadata": {},
   "outputs": [
    {
     "data": {
      "text/plain": [
       "0                Mont-Saint-Michel\n",
       "1                          St-Malo\n",
       "2                           Bayeux\n",
       "3                         Le-Havre\n",
       "4                            Rouen\n",
       "5                            Paris\n",
       "6                           Amiens\n",
       "7                            Lille\n",
       "8                       Strasbourg\n",
       "9     Chateau-du-Haut-Koenigsbourg\n",
       "10                          Colmar\n",
       "11                       Eguisheim\n",
       "12                        Besancon\n",
       "13                           Dijon\n",
       "14                          Annecy\n",
       "15                        Grenoble\n",
       "16                            Lyon\n",
       "17                Gorges-du-Verdon\n",
       "18              Bormes-les-Mimosas\n",
       "19                          Cassis\n",
       "20                       Marseille\n",
       "21                 Aix-en-Provence\n",
       "22                         Avignon\n",
       "23                            Uzes\n",
       "24                           Nimes\n",
       "25                   Aigues-Mortes\n",
       "26        Saintes-Maries-de-la-mer\n",
       "27                       Collioure\n",
       "28                     Carcassonne\n",
       "29                          Ariege\n",
       "30                        Toulouse\n",
       "31                       Montauban\n",
       "32                        Biarritz\n",
       "33                         Bayonne\n",
       "34                     La-Rochelle\n",
       "Name: city.name, dtype: object"
      ]
     },
     "execution_count": 28,
     "metadata": {},
     "output_type": "execute_result"
    }
   ],
   "source": [
    "pd.json_normalize(weather_cities)['city.name']\n",
    "# pd.json_normalize(weather_cities)['list']\n",
    "# pd.json_normalize(pd.json_normalize(weather_cities)['list'][34])\n",
    "# pd.json_normalize(pd.json_normalize(weather_cities)['list'][34])['weather'][0]"
   ]
  },
  {
   "cell_type": "code",
   "execution_count": 29,
   "metadata": {},
   "outputs": [
    {
     "data": {
      "text/html": [
       "<div>\n",
       "<style scoped>\n",
       "    .dataframe tbody tr th:only-of-type {\n",
       "        vertical-align: middle;\n",
       "    }\n",
       "\n",
       "    .dataframe tbody tr th {\n",
       "        vertical-align: top;\n",
       "    }\n",
       "\n",
       "    .dataframe thead th {\n",
       "        text-align: right;\n",
       "    }\n",
       "</style>\n",
       "<table border=\"1\" class=\"dataframe\">\n",
       "  <thead>\n",
       "    <tr style=\"text-align: right;\">\n",
       "      <th></th>\n",
       "      <th>dt</th>\n",
       "      <th>weather</th>\n",
       "      <th>visibility</th>\n",
       "      <th>pop</th>\n",
       "      <th>dt_txt</th>\n",
       "      <th>main.temp</th>\n",
       "      <th>main.feels_like</th>\n",
       "      <th>main.temp_min</th>\n",
       "      <th>main.temp_max</th>\n",
       "      <th>main.pressure</th>\n",
       "      <th>...</th>\n",
       "      <th>main.temp_kf</th>\n",
       "      <th>clouds.all</th>\n",
       "      <th>wind.speed</th>\n",
       "      <th>wind.deg</th>\n",
       "      <th>wind.gust</th>\n",
       "      <th>rain.3h</th>\n",
       "      <th>sys.pod</th>\n",
       "      <th>city</th>\n",
       "      <th>lat</th>\n",
       "      <th>lon</th>\n",
       "    </tr>\n",
       "  </thead>\n",
       "  <tbody>\n",
       "    <tr>\n",
       "      <th>0</th>\n",
       "      <td>1712221200</td>\n",
       "      <td>[{'id': 500, 'main': 'Rain', 'description': 'l...</td>\n",
       "      <td>10000</td>\n",
       "      <td>0.34</td>\n",
       "      <td>2024-04-04 09:00:00</td>\n",
       "      <td>12.94</td>\n",
       "      <td>12.59</td>\n",
       "      <td>12.94</td>\n",
       "      <td>12.95</td>\n",
       "      <td>1007</td>\n",
       "      <td>...</td>\n",
       "      <td>-0.01</td>\n",
       "      <td>83</td>\n",
       "      <td>7.61</td>\n",
       "      <td>233</td>\n",
       "      <td>12.85</td>\n",
       "      <td>0.20</td>\n",
       "      <td>d</td>\n",
       "      <td>Mont-Saint-Michel</td>\n",
       "      <td>48.636</td>\n",
       "      <td>-1.5115</td>\n",
       "    </tr>\n",
       "    <tr>\n",
       "      <th>1</th>\n",
       "      <td>1712232000</td>\n",
       "      <td>[{'id': 500, 'main': 'Rain', 'description': 'l...</td>\n",
       "      <td>10000</td>\n",
       "      <td>0.20</td>\n",
       "      <td>2024-04-04 12:00:00</td>\n",
       "      <td>14.72</td>\n",
       "      <td>14.31</td>\n",
       "      <td>14.72</td>\n",
       "      <td>15.61</td>\n",
       "      <td>1009</td>\n",
       "      <td>...</td>\n",
       "      <td>-0.89</td>\n",
       "      <td>81</td>\n",
       "      <td>8.41</td>\n",
       "      <td>241</td>\n",
       "      <td>13.06</td>\n",
       "      <td>0.20</td>\n",
       "      <td>d</td>\n",
       "      <td>Mont-Saint-Michel</td>\n",
       "      <td>48.636</td>\n",
       "      <td>-1.5115</td>\n",
       "    </tr>\n",
       "    <tr>\n",
       "      <th>2</th>\n",
       "      <td>1712242800</td>\n",
       "      <td>[{'id': 500, 'main': 'Rain', 'description': 'l...</td>\n",
       "      <td>10000</td>\n",
       "      <td>1.00</td>\n",
       "      <td>2024-04-04 15:00:00</td>\n",
       "      <td>13.27</td>\n",
       "      <td>13.03</td>\n",
       "      <td>13.27</td>\n",
       "      <td>13.27</td>\n",
       "      <td>1011</td>\n",
       "      <td>...</td>\n",
       "      <td>0.00</td>\n",
       "      <td>100</td>\n",
       "      <td>5.47</td>\n",
       "      <td>224</td>\n",
       "      <td>10.83</td>\n",
       "      <td>0.62</td>\n",
       "      <td>d</td>\n",
       "      <td>Mont-Saint-Michel</td>\n",
       "      <td>48.636</td>\n",
       "      <td>-1.5115</td>\n",
       "    </tr>\n",
       "  </tbody>\n",
       "</table>\n",
       "<p>3 rows × 23 columns</p>\n",
       "</div>"
      ],
      "text/plain": [
       "           dt                                            weather  visibility  \\\n",
       "0  1712221200  [{'id': 500, 'main': 'Rain', 'description': 'l...       10000   \n",
       "1  1712232000  [{'id': 500, 'main': 'Rain', 'description': 'l...       10000   \n",
       "2  1712242800  [{'id': 500, 'main': 'Rain', 'description': 'l...       10000   \n",
       "\n",
       "    pop              dt_txt  main.temp  main.feels_like  main.temp_min  \\\n",
       "0  0.34 2024-04-04 09:00:00      12.94            12.59          12.94   \n",
       "1  0.20 2024-04-04 12:00:00      14.72            14.31          14.72   \n",
       "2  1.00 2024-04-04 15:00:00      13.27            13.03          13.27   \n",
       "\n",
       "   main.temp_max  main.pressure  ...  main.temp_kf  clouds.all  wind.speed  \\\n",
       "0          12.95           1007  ...         -0.01          83        7.61   \n",
       "1          15.61           1009  ...         -0.89          81        8.41   \n",
       "2          13.27           1011  ...          0.00         100        5.47   \n",
       "\n",
       "   wind.deg  wind.gust  rain.3h  sys.pod               city     lat     lon  \n",
       "0       233      12.85     0.20        d  Mont-Saint-Michel  48.636 -1.5115  \n",
       "1       241      13.06     0.20        d  Mont-Saint-Michel  48.636 -1.5115  \n",
       "2       224      10.83     0.62        d  Mont-Saint-Michel  48.636 -1.5115  \n",
       "\n",
       "[3 rows x 23 columns]"
      ]
     },
     "metadata": {},
     "output_type": "display_data"
    }
   ],
   "source": [
    "weather_datas = pd.DataFrame()\n",
    "\n",
    "for id, city in enumerate(pd.json_normalize(weather_cities)['city.name']):\n",
    "\n",
    "    df3 = pd.json_normalize(pd.json_normalize(weather_cities)['list'][id])\n",
    "    df3['city'] = city\n",
    "    df3['lat'] = pd.json_normalize(weather_cities)[\"city.coord.lat\"][id]\n",
    "    df3['lon'] = pd.json_normalize(weather_cities)[\"city.coord.lon\"][id]\n",
    "    \n",
    "    weather_datas = pd.concat([weather_datas, df3])\n",
    "\n",
    "weather_datas['dt_txt'] = pd.to_datetime(weather_datas['dt_txt']) \n",
    "display(weather_datas.head(3))"
   ]
  },
  {
   "cell_type": "code",
   "execution_count": 30,
   "metadata": {},
   "outputs": [],
   "source": [
    "col_drop = ['dt', 'weather', 'visibility', 'main.temp', 'main.temp_min', 'main.temp_max', 'main.pressure','main.sea_level',\n",
    "            'main.grnd_level', 'main.humidity', 'main.temp_kf', 'clouds.all', 'wind.deg', 'wind.gust', 'rain.3h']\n",
    "\n",
    "weather_datas.drop(columns=col_drop, inplace=True)\n"
   ]
  },
  {
   "cell_type": "code",
   "execution_count": 31,
   "metadata": {},
   "outputs": [],
   "source": [
    "weather_during_day = weather_datas[weather_datas['sys.pod']=='d'].drop(columns='sys.pod')"
   ]
  },
  {
   "cell_type": "code",
   "execution_count": 32,
   "metadata": {},
   "outputs": [],
   "source": [
    "weather_day_mean = weather_during_day.groupby('city').mean().reset_index()"
   ]
  },
  {
   "cell_type": "code",
   "execution_count": 33,
   "metadata": {},
   "outputs": [
    {
     "data": {
      "text/html": [
       "<div>\n",
       "<style scoped>\n",
       "    .dataframe tbody tr th:only-of-type {\n",
       "        vertical-align: middle;\n",
       "    }\n",
       "\n",
       "    .dataframe tbody tr th {\n",
       "        vertical-align: top;\n",
       "    }\n",
       "\n",
       "    .dataframe thead th {\n",
       "        text-align: right;\n",
       "    }\n",
       "</style>\n",
       "<table border=\"1\" class=\"dataframe\">\n",
       "  <thead>\n",
       "    <tr style=\"text-align: right;\">\n",
       "      <th></th>\n",
       "      <th>city</th>\n",
       "      <th>pop</th>\n",
       "    </tr>\n",
       "  </thead>\n",
       "  <tbody>\n",
       "    <tr>\n",
       "      <th>24</th>\n",
       "      <td>Marseille</td>\n",
       "      <td>0.0000</td>\n",
       "    </tr>\n",
       "    <tr>\n",
       "      <th>10</th>\n",
       "      <td>Bormes-les-Mimosas</td>\n",
       "      <td>0.0000</td>\n",
       "    </tr>\n",
       "    <tr>\n",
       "      <th>14</th>\n",
       "      <td>Collioure</td>\n",
       "      <td>0.0000</td>\n",
       "    </tr>\n",
       "    <tr>\n",
       "      <th>30</th>\n",
       "      <td>Saintes-Maries-de-la-mer</td>\n",
       "      <td>0.0084</td>\n",
       "    </tr>\n",
       "    <tr>\n",
       "      <th>12</th>\n",
       "      <td>Cassis</td>\n",
       "      <td>0.0124</td>\n",
       "    </tr>\n",
       "  </tbody>\n",
       "</table>\n",
       "</div>"
      ],
      "text/plain": [
       "                        city     pop\n",
       "24                 Marseille  0.0000\n",
       "10        Bormes-les-Mimosas  0.0000\n",
       "14                 Collioure  0.0000\n",
       "30  Saintes-Maries-de-la-mer  0.0084\n",
       "12                    Cassis  0.0124"
      ]
     },
     "metadata": {},
     "output_type": "display_data"
    },
    {
     "data": {
      "text/html": [
       "<div>\n",
       "<style scoped>\n",
       "    .dataframe tbody tr th:only-of-type {\n",
       "        vertical-align: middle;\n",
       "    }\n",
       "\n",
       "    .dataframe tbody tr th {\n",
       "        vertical-align: top;\n",
       "    }\n",
       "\n",
       "    .dataframe thead th {\n",
       "        text-align: right;\n",
       "    }\n",
       "</style>\n",
       "<table border=\"1\" class=\"dataframe\">\n",
       "  <thead>\n",
       "    <tr style=\"text-align: right;\">\n",
       "      <th></th>\n",
       "      <th>city</th>\n",
       "      <th>main.feels_like</th>\n",
       "    </tr>\n",
       "  </thead>\n",
       "  <tbody>\n",
       "    <tr>\n",
       "      <th>4</th>\n",
       "      <td>Ariege</td>\n",
       "      <td>20.1508</td>\n",
       "    </tr>\n",
       "    <tr>\n",
       "      <th>19</th>\n",
       "      <td>Grenoble</td>\n",
       "      <td>19.8328</td>\n",
       "    </tr>\n",
       "    <tr>\n",
       "      <th>1</th>\n",
       "      <td>Aix-en-Provence</td>\n",
       "      <td>18.3572</td>\n",
       "    </tr>\n",
       "    <tr>\n",
       "      <th>5</th>\n",
       "      <td>Avignon</td>\n",
       "      <td>18.0036</td>\n",
       "    </tr>\n",
       "    <tr>\n",
       "      <th>23</th>\n",
       "      <td>Lyon</td>\n",
       "      <td>17.9784</td>\n",
       "    </tr>\n",
       "  </tbody>\n",
       "</table>\n",
       "</div>"
      ],
      "text/plain": [
       "               city  main.feels_like\n",
       "4            Ariege          20.1508\n",
       "19         Grenoble          19.8328\n",
       "1   Aix-en-Provence          18.3572\n",
       "5           Avignon          18.0036\n",
       "23             Lyon          17.9784"
      ]
     },
     "metadata": {},
     "output_type": "display_data"
    },
    {
     "data": {
      "text/html": [
       "<div>\n",
       "<style scoped>\n",
       "    .dataframe tbody tr th:only-of-type {\n",
       "        vertical-align: middle;\n",
       "    }\n",
       "\n",
       "    .dataframe tbody tr th {\n",
       "        vertical-align: top;\n",
       "    }\n",
       "\n",
       "    .dataframe thead th {\n",
       "        text-align: right;\n",
       "    }\n",
       "</style>\n",
       "<table border=\"1\" class=\"dataframe\">\n",
       "  <thead>\n",
       "    <tr style=\"text-align: right;\">\n",
       "      <th></th>\n",
       "      <th>city</th>\n",
       "      <th>wind.speed</th>\n",
       "    </tr>\n",
       "  </thead>\n",
       "  <tbody>\n",
       "    <tr>\n",
       "      <th>3</th>\n",
       "      <td>Annecy</td>\n",
       "      <td>1.8172</td>\n",
       "    </tr>\n",
       "    <tr>\n",
       "      <th>18</th>\n",
       "      <td>Gorges-du-Verdon</td>\n",
       "      <td>2.1900</td>\n",
       "    </tr>\n",
       "    <tr>\n",
       "      <th>13</th>\n",
       "      <td>Chateau-du-Haut-Koenigsbourg</td>\n",
       "      <td>2.3576</td>\n",
       "    </tr>\n",
       "    <tr>\n",
       "      <th>14</th>\n",
       "      <td>Collioure</td>\n",
       "      <td>2.6972</td>\n",
       "    </tr>\n",
       "    <tr>\n",
       "      <th>4</th>\n",
       "      <td>Ariege</td>\n",
       "      <td>2.7008</td>\n",
       "    </tr>\n",
       "  </tbody>\n",
       "</table>\n",
       "</div>"
      ],
      "text/plain": [
       "                            city  wind.speed\n",
       "3                         Annecy      1.8172\n",
       "18              Gorges-du-Verdon      2.1900\n",
       "13  Chateau-du-Haut-Koenigsbourg      2.3576\n",
       "14                     Collioure      2.6972\n",
       "4                         Ariege      2.7008"
      ]
     },
     "metadata": {},
     "output_type": "display_data"
    }
   ],
   "source": [
    "display(weather_day_mean[['city','pop']].sort_values('pop').head())\n",
    "display(weather_day_mean[['city','main.feels_like']].sort_values('main.feels_like',ascending=False).head())\n",
    "display(weather_day_mean[['city','wind.speed']].sort_values('wind.speed').head())"
   ]
  },
  {
   "cell_type": "markdown",
   "metadata": {},
   "source": [
    "Create a SCORE to select the city"
   ]
  },
  {
   "cell_type": "code",
   "execution_count": 34,
   "metadata": {},
   "outputs": [
    {
     "data": {
      "text/html": [
       "<div>\n",
       "<style scoped>\n",
       "    .dataframe tbody tr th:only-of-type {\n",
       "        vertical-align: middle;\n",
       "    }\n",
       "\n",
       "    .dataframe tbody tr th {\n",
       "        vertical-align: top;\n",
       "    }\n",
       "\n",
       "    .dataframe thead th {\n",
       "        text-align: right;\n",
       "    }\n",
       "</style>\n",
       "<table border=\"1\" class=\"dataframe\">\n",
       "  <thead>\n",
       "    <tr style=\"text-align: right;\">\n",
       "      <th></th>\n",
       "      <th>city</th>\n",
       "      <th>pop</th>\n",
       "      <th>dt_txt</th>\n",
       "      <th>main.feels_like</th>\n",
       "      <th>wind.speed</th>\n",
       "      <th>lat</th>\n",
       "      <th>lon</th>\n",
       "      <th>score</th>\n",
       "    </tr>\n",
       "  </thead>\n",
       "  <tbody>\n",
       "    <tr>\n",
       "      <th>4</th>\n",
       "      <td>Ariege</td>\n",
       "      <td>0.0408</td>\n",
       "      <td>2024-04-06 16:48:00</td>\n",
       "      <td>20.1508</td>\n",
       "      <td>2.7008</td>\n",
       "      <td>42.8458</td>\n",
       "      <td>1.6068</td>\n",
       "      <td>10.000000</td>\n",
       "    </tr>\n",
       "    <tr>\n",
       "      <th>19</th>\n",
       "      <td>Grenoble</td>\n",
       "      <td>0.0400</td>\n",
       "      <td>2024-04-06 16:48:00</td>\n",
       "      <td>19.8328</td>\n",
       "      <td>2.8200</td>\n",
       "      <td>45.1876</td>\n",
       "      <td>5.7358</td>\n",
       "      <td>9.608137</td>\n",
       "    </tr>\n",
       "    <tr>\n",
       "      <th>1</th>\n",
       "      <td>Aix-en-Provence</td>\n",
       "      <td>0.0144</td>\n",
       "      <td>2024-04-06 16:48:00</td>\n",
       "      <td>18.3572</td>\n",
       "      <td>3.2436</td>\n",
       "      <td>43.5298</td>\n",
       "      <td>5.4475</td>\n",
       "      <td>7.839653</td>\n",
       "    </tr>\n",
       "    <tr>\n",
       "      <th>15</th>\n",
       "      <td>Colmar</td>\n",
       "      <td>0.1304</td>\n",
       "      <td>2024-04-06 16:48:00</td>\n",
       "      <td>17.9720</td>\n",
       "      <td>2.8680</td>\n",
       "      <td>48.0778</td>\n",
       "      <td>7.3580</td>\n",
       "      <td>7.376951</td>\n",
       "    </tr>\n",
       "    <tr>\n",
       "      <th>5</th>\n",
       "      <td>Avignon</td>\n",
       "      <td>0.0400</td>\n",
       "      <td>2024-04-06 16:48:00</td>\n",
       "      <td>18.0036</td>\n",
       "      <td>3.6424</td>\n",
       "      <td>43.9492</td>\n",
       "      <td>4.8059</td>\n",
       "      <td>7.318424</td>\n",
       "    </tr>\n",
       "  </tbody>\n",
       "</table>\n",
       "</div>"
      ],
      "text/plain": [
       "               city     pop              dt_txt  main.feels_like  wind.speed  \\\n",
       "4            Ariege  0.0408 2024-04-06 16:48:00          20.1508      2.7008   \n",
       "19         Grenoble  0.0400 2024-04-06 16:48:00          19.8328      2.8200   \n",
       "1   Aix-en-Provence  0.0144 2024-04-06 16:48:00          18.3572      3.2436   \n",
       "15           Colmar  0.1304 2024-04-06 16:48:00          17.9720      2.8680   \n",
       "5           Avignon  0.0400 2024-04-06 16:48:00          18.0036      3.6424   \n",
       "\n",
       "        lat     lon      score  \n",
       "4   42.8458  1.6068  10.000000  \n",
       "19  45.1876  5.7358   9.608137  \n",
       "1   43.5298  5.4475   7.839653  \n",
       "15  48.0778  7.3580   7.376951  \n",
       "5   43.9492  4.8059   7.318424  "
      ]
     },
     "metadata": {},
     "output_type": "display_data"
    }
   ],
   "source": [
    "weights = {'pop': -0.4, 'main.feels_like': 0.5, 'wind.speed': -0.1}\n",
    "\n",
    "weather_day_mean['score'] = (weather_day_mean['pop'] * weights['pop'] +\n",
    "                             weather_day_mean['main.feels_like'] * weights['main.feels_like'] +\n",
    "                             weather_day_mean['wind.speed'] * weights['wind.speed'])\n",
    "\n",
    "min_score = weather_day_mean['score'].min()\n",
    "max_score = weather_day_mean['score'].max()\n",
    "weather_day_mean['score'] = 10 * (weather_day_mean['score'] - min_score) / (max_score - min_score)\n",
    "\n",
    "display(weather_day_mean.sort_values('score',ascending=False).head())"
   ]
  },
  {
   "cell_type": "code",
   "execution_count": 35,
   "metadata": {},
   "outputs": [
    {
     "data": {
      "application/vnd.plotly.v1+json": {
       "config": {
        "plotlyServerURL": "https://plot.ly"
       },
       "data": [
        {
         "customdata": [
          [
           15.3848,
           0.015600000000000001,
           5.8756,
           3.8202298808331587
          ],
          [
           18.3572,
           0.0144,
           3.2436000000000003,
           7.839653065537167
          ],
          [
           13.5276,
           0.3764,
           5.9648,
           1.3352750392781996
          ],
          [
           17.331200000000003,
           0.0348,
           1.8172,
           6.9702036953665525
          ],
          [
           20.1508,
           0.0408,
           2.7007999999999996,
           10
          ],
          [
           18.0036,
           0.04,
           3.6424000000000003,
           7.31842446181975
          ],
          [
           12.771199999999999,
           0.198,
           6.704400000000001,
           0.4605885757862511
          ],
          [
           17.266,
           0.046,
           3.3132,
           6.541405194829059
          ],
          [
           17.0368,
           0.08800000000000001,
           2.9944,
           6.3128106652946085
          ],
          [
           16.6604,
           0.048,
           3.3988,
           5.82438280395814
          ],
          [
           15.054400000000001,
           0,
           4.0388,
           3.877010997895976
          ],
          [
           15.866800000000001,
           0.032,
           8.125599999999999,
           3.8419132847600608
          ],
          [
           16.2024,
           0.0124,
           5.8512,
           4.7677762566727
          ],
          [
           15.2524,
           0.1392,
           2.3575999999999997,
           4.362682494326482
          ],
          [
           17.418,
           0,
           2.6972000000000005,
           6.899732632604122
          ],
          [
           17.972,
           0.1304,
           2.8680000000000003,
           7.376951276656348
          ],
          [
           15.67,
           0.10280000000000002,
           5.1288,
           4.239197346539383
          ],
          [
           17.692,
           0.1404,
           2.8316000000000003,
           7.054548461488987
          ],
          [
           13.398399999999999,
           0.027999999999999997,
           2.19,
           2.3740570935050846
          ],
          [
           19.8328,
           0.04,
           2.82,
           9.6081367892024
          ],
          [
           14.026,
           0.1152,
           4.398,
           2.507557033783846
          ],
          [
           12.3672,
           0.25079999999999997,
           6.478400000000001,
           0
          ],
          [
           14.0372,
           0.5115999999999999,
           5.8968,
           1.8119424103492325
          ],
          [
           17.9784,
           0.08199999999999999,
           5.7356,
           6.770091603193708
          ],
          [
           16.8612,
           0,
           5.9876,
           5.504460717206149
          ],
          [
           12.738399999999999,
           0.22519999999999998,
           6.5696,
           0.42889037936768837
          ],
          [
           17.4028,
           0.04,
           4.908,
           6.337709828278466
          ],
          [
           16.961599999999997,
           0.0348,
           4.1728,
           6.004649068808052
          ],
          [
           15.496400000000001,
           0.2932,
           4.11,
           4.098898372825918
          ],
          [
           13.5648,
           0.332,
           5.694,
           1.4809948639733934
          ],
          [
           15.2996,
           0.0084,
           7.1888,
           3.427356002903371
          ],
          [
           12.486400000000001,
           0.10279999999999999,
           7.5120000000000005,
           0.0354652284567131
          ],
          [
           17.2548,
           0.174,
           3.022,
           6.477825044331539
          ],
          [
           16.5704,
           0.0336,
           7.5944,
           4.770532621578664
          ],
          [
           16.2816,
           0.04,
           3.8251999999999997,
           5.298744016391186
          ]
         ],
         "hovertemplate": "<b>%{hovertext}</b><br><br>score=%{marker.color}<br>lat=%{lat}<br>lon=%{lon}<br>main.feels_like=%{customdata[0]}<br>pop=%{customdata[1]}<br>wind.speed=%{customdata[2]}<extra></extra>",
         "hovertext": [
          "Aigues-Mortes",
          "Aix-en-Provence",
          "Amiens",
          "Annecy",
          "Ariege",
          "Avignon",
          "Bayeux",
          "Bayonne",
          "Besancon",
          "Biarritz",
          "Bormes-les-Mimosas",
          "Carcassonne",
          "Cassis",
          "Chateau-du-Haut-Koenigsbourg",
          "Collioure",
          "Colmar",
          "Dijon",
          "Eguisheim",
          "Gorges-du-Verdon",
          "Grenoble",
          "La-Rochelle",
          "Le-Havre",
          "Lille",
          "Lyon",
          "Marseille",
          "Mont-Saint-Michel",
          "Montauban",
          "Nimes",
          "Paris",
          "Rouen",
          "Saintes-Maries-de-la-mer",
          "St-Malo",
          "Strasbourg",
          "Toulouse",
          "Uzes"
         ],
         "lat": [
          43.5662,
          43.5298,
          49.8942,
          45.8992,
          42.8458,
          43.9492,
          49.2765,
          43.494499999999995,
          47.238,
          43.4833,
          43.1507,
          43.213,
          43.214,
          48.2495,
          42.5251,
          48.0778,
          47.3216,
          48.0448,
          43.74969999999999,
          45.1876,
          46.159099999999995,
          49.4939,
          50.6366,
          45.7578,
          43.2962,
          48.636,
          44.0176,
          43.837399999999995,
          48.8535,
          49.4405,
          43.4516,
          48.64950000000001,
          48.5846,
          43.6045,
          44.012100000000004
         ],
         "legendgroup": "",
         "lon": [
          4.1915,
          5.4475,
          2.2957,
          6.1289,
          1.6068,
          4.8059,
          -0.7025,
          -1.4737,
          6.024400000000001,
          -1.5592999999999997,
          6.341899999999999,
          2.3491,
          5.5396,
          7.3455,
          3.0831999999999997,
          7.358,
          5.0415,
          7.308,
          6.3286,
          5.7358,
          -1.152,
          0.10800000000000001,
          3.0634999999999994,
          4.832,
          5.37,
          -1.5115,
          1.355,
          4.3601,
          2.3484,
          1.094,
          4.4277,
          -2.026,
          7.7507,
          1.4442,
          4.4197
         ],
         "marker": {
          "color": [
           3.8202298808331587,
           7.839653065537167,
           1.3352750392781996,
           6.9702036953665525,
           10,
           7.31842446181975,
           0.4605885757862511,
           6.541405194829059,
           6.3128106652946085,
           5.82438280395814,
           3.877010997895976,
           3.8419132847600608,
           4.7677762566727,
           4.362682494326482,
           6.899732632604122,
           7.376951276656348,
           4.239197346539383,
           7.054548461488987,
           2.3740570935050846,
           9.6081367892024,
           2.507557033783846,
           0,
           1.8119424103492325,
           6.770091603193708,
           5.504460717206149,
           0.42889037936768837,
           6.337709828278466,
           6.004649068808052,
           4.098898372825918,
           1.4809948639733934,
           3.427356002903371,
           0.0354652284567131,
           6.477825044331539,
           4.770532621578664,
           5.298744016391186
          ],
          "coloraxis": "coloraxis",
          "size": [
           3.8202298808331587,
           7.839653065537167,
           1.3352750392781996,
           6.9702036953665525,
           10,
           7.31842446181975,
           0.4605885757862511,
           6.541405194829059,
           6.3128106652946085,
           5.82438280395814,
           3.877010997895976,
           3.8419132847600608,
           4.7677762566727,
           4.362682494326482,
           6.899732632604122,
           7.376951276656348,
           4.239197346539383,
           7.054548461488987,
           2.3740570935050846,
           9.6081367892024,
           2.507557033783846,
           0,
           1.8119424103492325,
           6.770091603193708,
           5.504460717206149,
           0.42889037936768837,
           6.337709828278466,
           6.004649068808052,
           4.098898372825918,
           1.4809948639733934,
           3.427356002903371,
           0.0354652284567131,
           6.477825044331539,
           4.770532621578664,
           5.298744016391186
          ],
          "sizemode": "area",
          "sizeref": 0.025
         },
         "mode": "markers",
         "name": "",
         "showlegend": false,
         "subplot": "mapbox",
         "type": "scattermapbox"
        }
       ],
       "layout": {
        "coloraxis": {
         "colorbar": {
          "title": {
           "text": "score"
          }
         },
         "colorscale": [
          [
           0,
           "white"
          ],
          [
           0.25,
           "yellow"
          ],
          [
           0.5,
           "orange"
          ],
          [
           0.75,
           "red"
          ],
          [
           1,
           "purple"
          ]
         ]
        },
        "height": 600,
        "legend": {
         "itemsizing": "constant",
         "tracegroupgap": 0
        },
        "mapbox": {
         "center": {
          "lat": 47,
          "lon": 2.2
         },
         "domain": {
          "x": [
           0,
           1
          ],
          "y": [
           0,
           1
          ]
         },
         "style": "carto-positron",
         "zoom": 4.5
        },
        "margin": {
         "t": 60
        },
        "template": {
         "data": {
          "bar": [
           {
            "error_x": {
             "color": "#2a3f5f"
            },
            "error_y": {
             "color": "#2a3f5f"
            },
            "marker": {
             "line": {
              "color": "#E5ECF6",
              "width": 0.5
             },
             "pattern": {
              "fillmode": "overlay",
              "size": 10,
              "solidity": 0.2
             }
            },
            "type": "bar"
           }
          ],
          "barpolar": [
           {
            "marker": {
             "line": {
              "color": "#E5ECF6",
              "width": 0.5
             },
             "pattern": {
              "fillmode": "overlay",
              "size": 10,
              "solidity": 0.2
             }
            },
            "type": "barpolar"
           }
          ],
          "carpet": [
           {
            "aaxis": {
             "endlinecolor": "#2a3f5f",
             "gridcolor": "white",
             "linecolor": "white",
             "minorgridcolor": "white",
             "startlinecolor": "#2a3f5f"
            },
            "baxis": {
             "endlinecolor": "#2a3f5f",
             "gridcolor": "white",
             "linecolor": "white",
             "minorgridcolor": "white",
             "startlinecolor": "#2a3f5f"
            },
            "type": "carpet"
           }
          ],
          "choropleth": [
           {
            "colorbar": {
             "outlinewidth": 0,
             "ticks": ""
            },
            "type": "choropleth"
           }
          ],
          "contour": [
           {
            "colorbar": {
             "outlinewidth": 0,
             "ticks": ""
            },
            "colorscale": [
             [
              0,
              "#0d0887"
             ],
             [
              0.1111111111111111,
              "#46039f"
             ],
             [
              0.2222222222222222,
              "#7201a8"
             ],
             [
              0.3333333333333333,
              "#9c179e"
             ],
             [
              0.4444444444444444,
              "#bd3786"
             ],
             [
              0.5555555555555556,
              "#d8576b"
             ],
             [
              0.6666666666666666,
              "#ed7953"
             ],
             [
              0.7777777777777778,
              "#fb9f3a"
             ],
             [
              0.8888888888888888,
              "#fdca26"
             ],
             [
              1,
              "#f0f921"
             ]
            ],
            "type": "contour"
           }
          ],
          "contourcarpet": [
           {
            "colorbar": {
             "outlinewidth": 0,
             "ticks": ""
            },
            "type": "contourcarpet"
           }
          ],
          "heatmap": [
           {
            "colorbar": {
             "outlinewidth": 0,
             "ticks": ""
            },
            "colorscale": [
             [
              0,
              "#0d0887"
             ],
             [
              0.1111111111111111,
              "#46039f"
             ],
             [
              0.2222222222222222,
              "#7201a8"
             ],
             [
              0.3333333333333333,
              "#9c179e"
             ],
             [
              0.4444444444444444,
              "#bd3786"
             ],
             [
              0.5555555555555556,
              "#d8576b"
             ],
             [
              0.6666666666666666,
              "#ed7953"
             ],
             [
              0.7777777777777778,
              "#fb9f3a"
             ],
             [
              0.8888888888888888,
              "#fdca26"
             ],
             [
              1,
              "#f0f921"
             ]
            ],
            "type": "heatmap"
           }
          ],
          "heatmapgl": [
           {
            "colorbar": {
             "outlinewidth": 0,
             "ticks": ""
            },
            "colorscale": [
             [
              0,
              "#0d0887"
             ],
             [
              0.1111111111111111,
              "#46039f"
             ],
             [
              0.2222222222222222,
              "#7201a8"
             ],
             [
              0.3333333333333333,
              "#9c179e"
             ],
             [
              0.4444444444444444,
              "#bd3786"
             ],
             [
              0.5555555555555556,
              "#d8576b"
             ],
             [
              0.6666666666666666,
              "#ed7953"
             ],
             [
              0.7777777777777778,
              "#fb9f3a"
             ],
             [
              0.8888888888888888,
              "#fdca26"
             ],
             [
              1,
              "#f0f921"
             ]
            ],
            "type": "heatmapgl"
           }
          ],
          "histogram": [
           {
            "marker": {
             "pattern": {
              "fillmode": "overlay",
              "size": 10,
              "solidity": 0.2
             }
            },
            "type": "histogram"
           }
          ],
          "histogram2d": [
           {
            "colorbar": {
             "outlinewidth": 0,
             "ticks": ""
            },
            "colorscale": [
             [
              0,
              "#0d0887"
             ],
             [
              0.1111111111111111,
              "#46039f"
             ],
             [
              0.2222222222222222,
              "#7201a8"
             ],
             [
              0.3333333333333333,
              "#9c179e"
             ],
             [
              0.4444444444444444,
              "#bd3786"
             ],
             [
              0.5555555555555556,
              "#d8576b"
             ],
             [
              0.6666666666666666,
              "#ed7953"
             ],
             [
              0.7777777777777778,
              "#fb9f3a"
             ],
             [
              0.8888888888888888,
              "#fdca26"
             ],
             [
              1,
              "#f0f921"
             ]
            ],
            "type": "histogram2d"
           }
          ],
          "histogram2dcontour": [
           {
            "colorbar": {
             "outlinewidth": 0,
             "ticks": ""
            },
            "colorscale": [
             [
              0,
              "#0d0887"
             ],
             [
              0.1111111111111111,
              "#46039f"
             ],
             [
              0.2222222222222222,
              "#7201a8"
             ],
             [
              0.3333333333333333,
              "#9c179e"
             ],
             [
              0.4444444444444444,
              "#bd3786"
             ],
             [
              0.5555555555555556,
              "#d8576b"
             ],
             [
              0.6666666666666666,
              "#ed7953"
             ],
             [
              0.7777777777777778,
              "#fb9f3a"
             ],
             [
              0.8888888888888888,
              "#fdca26"
             ],
             [
              1,
              "#f0f921"
             ]
            ],
            "type": "histogram2dcontour"
           }
          ],
          "mesh3d": [
           {
            "colorbar": {
             "outlinewidth": 0,
             "ticks": ""
            },
            "type": "mesh3d"
           }
          ],
          "parcoords": [
           {
            "line": {
             "colorbar": {
              "outlinewidth": 0,
              "ticks": ""
             }
            },
            "type": "parcoords"
           }
          ],
          "pie": [
           {
            "automargin": true,
            "type": "pie"
           }
          ],
          "scatter": [
           {
            "fillpattern": {
             "fillmode": "overlay",
             "size": 10,
             "solidity": 0.2
            },
            "type": "scatter"
           }
          ],
          "scatter3d": [
           {
            "line": {
             "colorbar": {
              "outlinewidth": 0,
              "ticks": ""
             }
            },
            "marker": {
             "colorbar": {
              "outlinewidth": 0,
              "ticks": ""
             }
            },
            "type": "scatter3d"
           }
          ],
          "scattercarpet": [
           {
            "marker": {
             "colorbar": {
              "outlinewidth": 0,
              "ticks": ""
             }
            },
            "type": "scattercarpet"
           }
          ],
          "scattergeo": [
           {
            "marker": {
             "colorbar": {
              "outlinewidth": 0,
              "ticks": ""
             }
            },
            "type": "scattergeo"
           }
          ],
          "scattergl": [
           {
            "marker": {
             "colorbar": {
              "outlinewidth": 0,
              "ticks": ""
             }
            },
            "type": "scattergl"
           }
          ],
          "scattermapbox": [
           {
            "marker": {
             "colorbar": {
              "outlinewidth": 0,
              "ticks": ""
             }
            },
            "type": "scattermapbox"
           }
          ],
          "scatterpolar": [
           {
            "marker": {
             "colorbar": {
              "outlinewidth": 0,
              "ticks": ""
             }
            },
            "type": "scatterpolar"
           }
          ],
          "scatterpolargl": [
           {
            "marker": {
             "colorbar": {
              "outlinewidth": 0,
              "ticks": ""
             }
            },
            "type": "scatterpolargl"
           }
          ],
          "scatterternary": [
           {
            "marker": {
             "colorbar": {
              "outlinewidth": 0,
              "ticks": ""
             }
            },
            "type": "scatterternary"
           }
          ],
          "surface": [
           {
            "colorbar": {
             "outlinewidth": 0,
             "ticks": ""
            },
            "colorscale": [
             [
              0,
              "#0d0887"
             ],
             [
              0.1111111111111111,
              "#46039f"
             ],
             [
              0.2222222222222222,
              "#7201a8"
             ],
             [
              0.3333333333333333,
              "#9c179e"
             ],
             [
              0.4444444444444444,
              "#bd3786"
             ],
             [
              0.5555555555555556,
              "#d8576b"
             ],
             [
              0.6666666666666666,
              "#ed7953"
             ],
             [
              0.7777777777777778,
              "#fb9f3a"
             ],
             [
              0.8888888888888888,
              "#fdca26"
             ],
             [
              1,
              "#f0f921"
             ]
            ],
            "type": "surface"
           }
          ],
          "table": [
           {
            "cells": {
             "fill": {
              "color": "#EBF0F8"
             },
             "line": {
              "color": "white"
             }
            },
            "header": {
             "fill": {
              "color": "#C8D4E3"
             },
             "line": {
              "color": "white"
             }
            },
            "type": "table"
           }
          ]
         },
         "layout": {
          "annotationdefaults": {
           "arrowcolor": "#2a3f5f",
           "arrowhead": 0,
           "arrowwidth": 1
          },
          "autotypenumbers": "strict",
          "coloraxis": {
           "colorbar": {
            "outlinewidth": 0,
            "ticks": ""
           }
          },
          "colorscale": {
           "diverging": [
            [
             0,
             "#8e0152"
            ],
            [
             0.1,
             "#c51b7d"
            ],
            [
             0.2,
             "#de77ae"
            ],
            [
             0.3,
             "#f1b6da"
            ],
            [
             0.4,
             "#fde0ef"
            ],
            [
             0.5,
             "#f7f7f7"
            ],
            [
             0.6,
             "#e6f5d0"
            ],
            [
             0.7,
             "#b8e186"
            ],
            [
             0.8,
             "#7fbc41"
            ],
            [
             0.9,
             "#4d9221"
            ],
            [
             1,
             "#276419"
            ]
           ],
           "sequential": [
            [
             0,
             "#0d0887"
            ],
            [
             0.1111111111111111,
             "#46039f"
            ],
            [
             0.2222222222222222,
             "#7201a8"
            ],
            [
             0.3333333333333333,
             "#9c179e"
            ],
            [
             0.4444444444444444,
             "#bd3786"
            ],
            [
             0.5555555555555556,
             "#d8576b"
            ],
            [
             0.6666666666666666,
             "#ed7953"
            ],
            [
             0.7777777777777778,
             "#fb9f3a"
            ],
            [
             0.8888888888888888,
             "#fdca26"
            ],
            [
             1,
             "#f0f921"
            ]
           ],
           "sequentialminus": [
            [
             0,
             "#0d0887"
            ],
            [
             0.1111111111111111,
             "#46039f"
            ],
            [
             0.2222222222222222,
             "#7201a8"
            ],
            [
             0.3333333333333333,
             "#9c179e"
            ],
            [
             0.4444444444444444,
             "#bd3786"
            ],
            [
             0.5555555555555556,
             "#d8576b"
            ],
            [
             0.6666666666666666,
             "#ed7953"
            ],
            [
             0.7777777777777778,
             "#fb9f3a"
            ],
            [
             0.8888888888888888,
             "#fdca26"
            ],
            [
             1,
             "#f0f921"
            ]
           ]
          },
          "colorway": [
           "#636efa",
           "#EF553B",
           "#00cc96",
           "#ab63fa",
           "#FFA15A",
           "#19d3f3",
           "#FF6692",
           "#B6E880",
           "#FF97FF",
           "#FECB52"
          ],
          "font": {
           "color": "#2a3f5f"
          },
          "geo": {
           "bgcolor": "white",
           "lakecolor": "white",
           "landcolor": "#E5ECF6",
           "showlakes": true,
           "showland": true,
           "subunitcolor": "white"
          },
          "hoverlabel": {
           "align": "left"
          },
          "hovermode": "closest",
          "mapbox": {
           "style": "light"
          },
          "paper_bgcolor": "white",
          "plot_bgcolor": "#E5ECF6",
          "polar": {
           "angularaxis": {
            "gridcolor": "white",
            "linecolor": "white",
            "ticks": ""
           },
           "bgcolor": "#E5ECF6",
           "radialaxis": {
            "gridcolor": "white",
            "linecolor": "white",
            "ticks": ""
           }
          },
          "scene": {
           "xaxis": {
            "backgroundcolor": "#E5ECF6",
            "gridcolor": "white",
            "gridwidth": 2,
            "linecolor": "white",
            "showbackground": true,
            "ticks": "",
            "zerolinecolor": "white"
           },
           "yaxis": {
            "backgroundcolor": "#E5ECF6",
            "gridcolor": "white",
            "gridwidth": 2,
            "linecolor": "white",
            "showbackground": true,
            "ticks": "",
            "zerolinecolor": "white"
           },
           "zaxis": {
            "backgroundcolor": "#E5ECF6",
            "gridcolor": "white",
            "gridwidth": 2,
            "linecolor": "white",
            "showbackground": true,
            "ticks": "",
            "zerolinecolor": "white"
           }
          },
          "shapedefaults": {
           "line": {
            "color": "#2a3f5f"
           }
          },
          "ternary": {
           "aaxis": {
            "gridcolor": "white",
            "linecolor": "white",
            "ticks": ""
           },
           "baxis": {
            "gridcolor": "white",
            "linecolor": "white",
            "ticks": ""
           },
           "bgcolor": "#E5ECF6",
           "caxis": {
            "gridcolor": "white",
            "linecolor": "white",
            "ticks": ""
           }
          },
          "title": {
           "x": 0.05
          },
          "xaxis": {
           "automargin": true,
           "gridcolor": "white",
           "linecolor": "white",
           "ticks": "",
           "title": {
            "standoff": 15
           },
           "zerolinecolor": "white",
           "zerolinewidth": 2
          },
          "yaxis": {
           "automargin": true,
           "gridcolor": "white",
           "linecolor": "white",
           "ticks": "",
           "title": {
            "standoff": 15
           },
           "zerolinecolor": "white",
           "zerolinewidth": 2
          }
         }
        },
        "width": 1066.6666666666667
       }
      }
     },
     "metadata": {},
     "output_type": "display_data"
    }
   ],
   "source": [
    "fig = px.scatter_mapbox(weather_day_mean,\n",
    "                        lat='lat',\n",
    "                        lon='lon',\n",
    "                        color='score',\n",
    "                        size='score',\n",
    "                        center=dict(lat=47, lon=2.2),\n",
    "                        zoom=4.5,\n",
    "                        color_continuous_scale=['white', 'yellow','orange', 'red','purple'],\n",
    "                        mapbox_style='carto-positron',\n",
    "                        hover_name='city',\n",
    "                        hover_data=['main.feels_like', \"pop\", \"wind.speed\", \"score\"],\n",
    "                        height=600,\n",
    "                        width=600*16/9)\n",
    "\n",
    "fig.show()"
   ]
  },
  {
   "cell_type": "code",
   "execution_count": 36,
   "metadata": {},
   "outputs": [
    {
     "data": {
      "text/html": [
       "<div>\n",
       "<style scoped>\n",
       "    .dataframe tbody tr th:only-of-type {\n",
       "        vertical-align: middle;\n",
       "    }\n",
       "\n",
       "    .dataframe tbody tr th {\n",
       "        vertical-align: top;\n",
       "    }\n",
       "\n",
       "    .dataframe thead th {\n",
       "        text-align: right;\n",
       "    }\n",
       "</style>\n",
       "<table border=\"1\" class=\"dataframe\">\n",
       "  <thead>\n",
       "    <tr style=\"text-align: right;\">\n",
       "      <th></th>\n",
       "      <th>city</th>\n",
       "      <th>pop</th>\n",
       "      <th>dt_txt</th>\n",
       "      <th>main.feels_like</th>\n",
       "      <th>wind.speed</th>\n",
       "      <th>lat</th>\n",
       "      <th>lon</th>\n",
       "      <th>score</th>\n",
       "    </tr>\n",
       "  </thead>\n",
       "  <tbody>\n",
       "    <tr>\n",
       "      <th>4</th>\n",
       "      <td>Ariege</td>\n",
       "      <td>0.0408</td>\n",
       "      <td>2024-04-06 16:48:00</td>\n",
       "      <td>20.1508</td>\n",
       "      <td>2.7008</td>\n",
       "      <td>42.8458</td>\n",
       "      <td>1.6068</td>\n",
       "      <td>10.000000</td>\n",
       "    </tr>\n",
       "    <tr>\n",
       "      <th>19</th>\n",
       "      <td>Grenoble</td>\n",
       "      <td>0.0400</td>\n",
       "      <td>2024-04-06 16:48:00</td>\n",
       "      <td>19.8328</td>\n",
       "      <td>2.8200</td>\n",
       "      <td>45.1876</td>\n",
       "      <td>5.7358</td>\n",
       "      <td>9.608137</td>\n",
       "    </tr>\n",
       "    <tr>\n",
       "      <th>1</th>\n",
       "      <td>Aix-en-Provence</td>\n",
       "      <td>0.0144</td>\n",
       "      <td>2024-04-06 16:48:00</td>\n",
       "      <td>18.3572</td>\n",
       "      <td>3.2436</td>\n",
       "      <td>43.5298</td>\n",
       "      <td>5.4475</td>\n",
       "      <td>7.839653</td>\n",
       "    </tr>\n",
       "    <tr>\n",
       "      <th>15</th>\n",
       "      <td>Colmar</td>\n",
       "      <td>0.1304</td>\n",
       "      <td>2024-04-06 16:48:00</td>\n",
       "      <td>17.9720</td>\n",
       "      <td>2.8680</td>\n",
       "      <td>48.0778</td>\n",
       "      <td>7.3580</td>\n",
       "      <td>7.376951</td>\n",
       "    </tr>\n",
       "    <tr>\n",
       "      <th>5</th>\n",
       "      <td>Avignon</td>\n",
       "      <td>0.0400</td>\n",
       "      <td>2024-04-06 16:48:00</td>\n",
       "      <td>18.0036</td>\n",
       "      <td>3.6424</td>\n",
       "      <td>43.9492</td>\n",
       "      <td>4.8059</td>\n",
       "      <td>7.318424</td>\n",
       "    </tr>\n",
       "  </tbody>\n",
       "</table>\n",
       "</div>"
      ],
      "text/plain": [
       "               city     pop              dt_txt  main.feels_like  wind.speed  \\\n",
       "4            Ariege  0.0408 2024-04-06 16:48:00          20.1508      2.7008   \n",
       "19         Grenoble  0.0400 2024-04-06 16:48:00          19.8328      2.8200   \n",
       "1   Aix-en-Provence  0.0144 2024-04-06 16:48:00          18.3572      3.2436   \n",
       "15           Colmar  0.1304 2024-04-06 16:48:00          17.9720      2.8680   \n",
       "5           Avignon  0.0400 2024-04-06 16:48:00          18.0036      3.6424   \n",
       "\n",
       "        lat     lon      score  \n",
       "4   42.8458  1.6068  10.000000  \n",
       "19  45.1876  5.7358   9.608137  \n",
       "1   43.5298  5.4475   7.839653  \n",
       "15  48.0778  7.3580   7.376951  \n",
       "5   43.9492  4.8059   7.318424  "
      ]
     },
     "execution_count": 36,
     "metadata": {},
     "output_type": "execute_result"
    }
   ],
   "source": [
    "top5_cities = weather_day_mean.sort_values('score',ascending=False).head()\n",
    "top5_cities"
   ]
  },
  {
   "cell_type": "code",
   "execution_count": 37,
   "metadata": {},
   "outputs": [
    {
     "data": {
      "application/vnd.plotly.v1+json": {
       "config": {
        "plotlyServerURL": "https://plot.ly"
       },
       "data": [
        {
         "customdata": [
          [
           20.1508,
           0.0408,
           2.7007999999999996,
           10
          ],
          [
           19.8328,
           0.04,
           2.82,
           9.6081367892024
          ],
          [
           18.3572,
           0.0144,
           3.2436000000000003,
           7.839653065537167
          ],
          [
           17.972,
           0.1304,
           2.8680000000000003,
           7.376951276656348
          ],
          [
           18.0036,
           0.04,
           3.6424000000000003,
           7.31842446181975
          ]
         ],
         "hovertemplate": "<b>%{hovertext}</b><br><br>score=%{marker.color}<br>city=%{text}<br>lat=%{lat}<br>lon=%{lon}<br>main.feels_like=%{customdata[0]}<br>pop=%{customdata[1]}<br>wind.speed=%{customdata[2]}<extra></extra>",
         "hovertext": [
          "Ariege",
          "Grenoble",
          "Aix-en-Provence",
          "Colmar",
          "Avignon"
         ],
         "lat": [
          42.8458,
          45.1876,
          43.5298,
          48.0778,
          43.9492
         ],
         "legendgroup": "",
         "lon": [
          1.6068,
          5.7358,
          5.4475,
          7.358,
          4.8059
         ],
         "marker": {
          "color": [
           10,
           9.6081367892024,
           7.839653065537167,
           7.376951276656348,
           7.31842446181975
          ],
          "coloraxis": "coloraxis",
          "size": [
           10,
           9.6081367892024,
           7.839653065537167,
           7.376951276656348,
           7.31842446181975
          ],
          "sizemode": "area",
          "sizeref": 0.025
         },
         "mode": "markers+text",
         "name": "",
         "showlegend": false,
         "subplot": "mapbox",
         "text": [
          "Ariege",
          "Grenoble",
          "Aix-en-Provence",
          "Colmar",
          "Avignon"
         ],
         "type": "scattermapbox"
        }
       ],
       "layout": {
        "coloraxis": {
         "cmax": 10,
         "cmin": 0,
         "colorbar": {
          "title": {
           "text": "score"
          }
         },
         "colorscale": [
          [
           0,
           "white"
          ],
          [
           0.25,
           "yellow"
          ],
          [
           0.5,
           "orange"
          ],
          [
           0.75,
           "red"
          ],
          [
           1,
           "purple"
          ]
         ]
        },
        "height": 600,
        "legend": {
         "itemsizing": "constant",
         "tracegroupgap": 0
        },
        "mapbox": {
         "center": {
          "lat": 44.718039999999995,
          "lon": 4.9908
         },
         "domain": {
          "x": [
           0,
           1
          ],
          "y": [
           0,
           1
          ]
         },
         "style": "carto-positron",
         "zoom": 6
        },
        "margin": {
         "t": 60
        },
        "template": {
         "data": {
          "bar": [
           {
            "error_x": {
             "color": "#2a3f5f"
            },
            "error_y": {
             "color": "#2a3f5f"
            },
            "marker": {
             "line": {
              "color": "#E5ECF6",
              "width": 0.5
             },
             "pattern": {
              "fillmode": "overlay",
              "size": 10,
              "solidity": 0.2
             }
            },
            "type": "bar"
           }
          ],
          "barpolar": [
           {
            "marker": {
             "line": {
              "color": "#E5ECF6",
              "width": 0.5
             },
             "pattern": {
              "fillmode": "overlay",
              "size": 10,
              "solidity": 0.2
             }
            },
            "type": "barpolar"
           }
          ],
          "carpet": [
           {
            "aaxis": {
             "endlinecolor": "#2a3f5f",
             "gridcolor": "white",
             "linecolor": "white",
             "minorgridcolor": "white",
             "startlinecolor": "#2a3f5f"
            },
            "baxis": {
             "endlinecolor": "#2a3f5f",
             "gridcolor": "white",
             "linecolor": "white",
             "minorgridcolor": "white",
             "startlinecolor": "#2a3f5f"
            },
            "type": "carpet"
           }
          ],
          "choropleth": [
           {
            "colorbar": {
             "outlinewidth": 0,
             "ticks": ""
            },
            "type": "choropleth"
           }
          ],
          "contour": [
           {
            "colorbar": {
             "outlinewidth": 0,
             "ticks": ""
            },
            "colorscale": [
             [
              0,
              "#0d0887"
             ],
             [
              0.1111111111111111,
              "#46039f"
             ],
             [
              0.2222222222222222,
              "#7201a8"
             ],
             [
              0.3333333333333333,
              "#9c179e"
             ],
             [
              0.4444444444444444,
              "#bd3786"
             ],
             [
              0.5555555555555556,
              "#d8576b"
             ],
             [
              0.6666666666666666,
              "#ed7953"
             ],
             [
              0.7777777777777778,
              "#fb9f3a"
             ],
             [
              0.8888888888888888,
              "#fdca26"
             ],
             [
              1,
              "#f0f921"
             ]
            ],
            "type": "contour"
           }
          ],
          "contourcarpet": [
           {
            "colorbar": {
             "outlinewidth": 0,
             "ticks": ""
            },
            "type": "contourcarpet"
           }
          ],
          "heatmap": [
           {
            "colorbar": {
             "outlinewidth": 0,
             "ticks": ""
            },
            "colorscale": [
             [
              0,
              "#0d0887"
             ],
             [
              0.1111111111111111,
              "#46039f"
             ],
             [
              0.2222222222222222,
              "#7201a8"
             ],
             [
              0.3333333333333333,
              "#9c179e"
             ],
             [
              0.4444444444444444,
              "#bd3786"
             ],
             [
              0.5555555555555556,
              "#d8576b"
             ],
             [
              0.6666666666666666,
              "#ed7953"
             ],
             [
              0.7777777777777778,
              "#fb9f3a"
             ],
             [
              0.8888888888888888,
              "#fdca26"
             ],
             [
              1,
              "#f0f921"
             ]
            ],
            "type": "heatmap"
           }
          ],
          "heatmapgl": [
           {
            "colorbar": {
             "outlinewidth": 0,
             "ticks": ""
            },
            "colorscale": [
             [
              0,
              "#0d0887"
             ],
             [
              0.1111111111111111,
              "#46039f"
             ],
             [
              0.2222222222222222,
              "#7201a8"
             ],
             [
              0.3333333333333333,
              "#9c179e"
             ],
             [
              0.4444444444444444,
              "#bd3786"
             ],
             [
              0.5555555555555556,
              "#d8576b"
             ],
             [
              0.6666666666666666,
              "#ed7953"
             ],
             [
              0.7777777777777778,
              "#fb9f3a"
             ],
             [
              0.8888888888888888,
              "#fdca26"
             ],
             [
              1,
              "#f0f921"
             ]
            ],
            "type": "heatmapgl"
           }
          ],
          "histogram": [
           {
            "marker": {
             "pattern": {
              "fillmode": "overlay",
              "size": 10,
              "solidity": 0.2
             }
            },
            "type": "histogram"
           }
          ],
          "histogram2d": [
           {
            "colorbar": {
             "outlinewidth": 0,
             "ticks": ""
            },
            "colorscale": [
             [
              0,
              "#0d0887"
             ],
             [
              0.1111111111111111,
              "#46039f"
             ],
             [
              0.2222222222222222,
              "#7201a8"
             ],
             [
              0.3333333333333333,
              "#9c179e"
             ],
             [
              0.4444444444444444,
              "#bd3786"
             ],
             [
              0.5555555555555556,
              "#d8576b"
             ],
             [
              0.6666666666666666,
              "#ed7953"
             ],
             [
              0.7777777777777778,
              "#fb9f3a"
             ],
             [
              0.8888888888888888,
              "#fdca26"
             ],
             [
              1,
              "#f0f921"
             ]
            ],
            "type": "histogram2d"
           }
          ],
          "histogram2dcontour": [
           {
            "colorbar": {
             "outlinewidth": 0,
             "ticks": ""
            },
            "colorscale": [
             [
              0,
              "#0d0887"
             ],
             [
              0.1111111111111111,
              "#46039f"
             ],
             [
              0.2222222222222222,
              "#7201a8"
             ],
             [
              0.3333333333333333,
              "#9c179e"
             ],
             [
              0.4444444444444444,
              "#bd3786"
             ],
             [
              0.5555555555555556,
              "#d8576b"
             ],
             [
              0.6666666666666666,
              "#ed7953"
             ],
             [
              0.7777777777777778,
              "#fb9f3a"
             ],
             [
              0.8888888888888888,
              "#fdca26"
             ],
             [
              1,
              "#f0f921"
             ]
            ],
            "type": "histogram2dcontour"
           }
          ],
          "mesh3d": [
           {
            "colorbar": {
             "outlinewidth": 0,
             "ticks": ""
            },
            "type": "mesh3d"
           }
          ],
          "parcoords": [
           {
            "line": {
             "colorbar": {
              "outlinewidth": 0,
              "ticks": ""
             }
            },
            "type": "parcoords"
           }
          ],
          "pie": [
           {
            "automargin": true,
            "type": "pie"
           }
          ],
          "scatter": [
           {
            "fillpattern": {
             "fillmode": "overlay",
             "size": 10,
             "solidity": 0.2
            },
            "type": "scatter"
           }
          ],
          "scatter3d": [
           {
            "line": {
             "colorbar": {
              "outlinewidth": 0,
              "ticks": ""
             }
            },
            "marker": {
             "colorbar": {
              "outlinewidth": 0,
              "ticks": ""
             }
            },
            "type": "scatter3d"
           }
          ],
          "scattercarpet": [
           {
            "marker": {
             "colorbar": {
              "outlinewidth": 0,
              "ticks": ""
             }
            },
            "type": "scattercarpet"
           }
          ],
          "scattergeo": [
           {
            "marker": {
             "colorbar": {
              "outlinewidth": 0,
              "ticks": ""
             }
            },
            "type": "scattergeo"
           }
          ],
          "scattergl": [
           {
            "marker": {
             "colorbar": {
              "outlinewidth": 0,
              "ticks": ""
             }
            },
            "type": "scattergl"
           }
          ],
          "scattermapbox": [
           {
            "marker": {
             "colorbar": {
              "outlinewidth": 0,
              "ticks": ""
             }
            },
            "type": "scattermapbox"
           }
          ],
          "scatterpolar": [
           {
            "marker": {
             "colorbar": {
              "outlinewidth": 0,
              "ticks": ""
             }
            },
            "type": "scatterpolar"
           }
          ],
          "scatterpolargl": [
           {
            "marker": {
             "colorbar": {
              "outlinewidth": 0,
              "ticks": ""
             }
            },
            "type": "scatterpolargl"
           }
          ],
          "scatterternary": [
           {
            "marker": {
             "colorbar": {
              "outlinewidth": 0,
              "ticks": ""
             }
            },
            "type": "scatterternary"
           }
          ],
          "surface": [
           {
            "colorbar": {
             "outlinewidth": 0,
             "ticks": ""
            },
            "colorscale": [
             [
              0,
              "#0d0887"
             ],
             [
              0.1111111111111111,
              "#46039f"
             ],
             [
              0.2222222222222222,
              "#7201a8"
             ],
             [
              0.3333333333333333,
              "#9c179e"
             ],
             [
              0.4444444444444444,
              "#bd3786"
             ],
             [
              0.5555555555555556,
              "#d8576b"
             ],
             [
              0.6666666666666666,
              "#ed7953"
             ],
             [
              0.7777777777777778,
              "#fb9f3a"
             ],
             [
              0.8888888888888888,
              "#fdca26"
             ],
             [
              1,
              "#f0f921"
             ]
            ],
            "type": "surface"
           }
          ],
          "table": [
           {
            "cells": {
             "fill": {
              "color": "#EBF0F8"
             },
             "line": {
              "color": "white"
             }
            },
            "header": {
             "fill": {
              "color": "#C8D4E3"
             },
             "line": {
              "color": "white"
             }
            },
            "type": "table"
           }
          ]
         },
         "layout": {
          "annotationdefaults": {
           "arrowcolor": "#2a3f5f",
           "arrowhead": 0,
           "arrowwidth": 1
          },
          "autotypenumbers": "strict",
          "coloraxis": {
           "colorbar": {
            "outlinewidth": 0,
            "ticks": ""
           }
          },
          "colorscale": {
           "diverging": [
            [
             0,
             "#8e0152"
            ],
            [
             0.1,
             "#c51b7d"
            ],
            [
             0.2,
             "#de77ae"
            ],
            [
             0.3,
             "#f1b6da"
            ],
            [
             0.4,
             "#fde0ef"
            ],
            [
             0.5,
             "#f7f7f7"
            ],
            [
             0.6,
             "#e6f5d0"
            ],
            [
             0.7,
             "#b8e186"
            ],
            [
             0.8,
             "#7fbc41"
            ],
            [
             0.9,
             "#4d9221"
            ],
            [
             1,
             "#276419"
            ]
           ],
           "sequential": [
            [
             0,
             "#0d0887"
            ],
            [
             0.1111111111111111,
             "#46039f"
            ],
            [
             0.2222222222222222,
             "#7201a8"
            ],
            [
             0.3333333333333333,
             "#9c179e"
            ],
            [
             0.4444444444444444,
             "#bd3786"
            ],
            [
             0.5555555555555556,
             "#d8576b"
            ],
            [
             0.6666666666666666,
             "#ed7953"
            ],
            [
             0.7777777777777778,
             "#fb9f3a"
            ],
            [
             0.8888888888888888,
             "#fdca26"
            ],
            [
             1,
             "#f0f921"
            ]
           ],
           "sequentialminus": [
            [
             0,
             "#0d0887"
            ],
            [
             0.1111111111111111,
             "#46039f"
            ],
            [
             0.2222222222222222,
             "#7201a8"
            ],
            [
             0.3333333333333333,
             "#9c179e"
            ],
            [
             0.4444444444444444,
             "#bd3786"
            ],
            [
             0.5555555555555556,
             "#d8576b"
            ],
            [
             0.6666666666666666,
             "#ed7953"
            ],
            [
             0.7777777777777778,
             "#fb9f3a"
            ],
            [
             0.8888888888888888,
             "#fdca26"
            ],
            [
             1,
             "#f0f921"
            ]
           ]
          },
          "colorway": [
           "#636efa",
           "#EF553B",
           "#00cc96",
           "#ab63fa",
           "#FFA15A",
           "#19d3f3",
           "#FF6692",
           "#B6E880",
           "#FF97FF",
           "#FECB52"
          ],
          "font": {
           "color": "#2a3f5f"
          },
          "geo": {
           "bgcolor": "white",
           "lakecolor": "white",
           "landcolor": "#E5ECF6",
           "showlakes": true,
           "showland": true,
           "subunitcolor": "white"
          },
          "hoverlabel": {
           "align": "left"
          },
          "hovermode": "closest",
          "mapbox": {
           "style": "light"
          },
          "paper_bgcolor": "white",
          "plot_bgcolor": "#E5ECF6",
          "polar": {
           "angularaxis": {
            "gridcolor": "white",
            "linecolor": "white",
            "ticks": ""
           },
           "bgcolor": "#E5ECF6",
           "radialaxis": {
            "gridcolor": "white",
            "linecolor": "white",
            "ticks": ""
           }
          },
          "scene": {
           "xaxis": {
            "backgroundcolor": "#E5ECF6",
            "gridcolor": "white",
            "gridwidth": 2,
            "linecolor": "white",
            "showbackground": true,
            "ticks": "",
            "zerolinecolor": "white"
           },
           "yaxis": {
            "backgroundcolor": "#E5ECF6",
            "gridcolor": "white",
            "gridwidth": 2,
            "linecolor": "white",
            "showbackground": true,
            "ticks": "",
            "zerolinecolor": "white"
           },
           "zaxis": {
            "backgroundcolor": "#E5ECF6",
            "gridcolor": "white",
            "gridwidth": 2,
            "linecolor": "white",
            "showbackground": true,
            "ticks": "",
            "zerolinecolor": "white"
           }
          },
          "shapedefaults": {
           "line": {
            "color": "#2a3f5f"
           }
          },
          "ternary": {
           "aaxis": {
            "gridcolor": "white",
            "linecolor": "white",
            "ticks": ""
           },
           "baxis": {
            "gridcolor": "white",
            "linecolor": "white",
            "ticks": ""
           },
           "bgcolor": "#E5ECF6",
           "caxis": {
            "gridcolor": "white",
            "linecolor": "white",
            "ticks": ""
           }
          },
          "title": {
           "x": 0.05
          },
          "xaxis": {
           "automargin": true,
           "gridcolor": "white",
           "linecolor": "white",
           "ticks": "",
           "title": {
            "standoff": 15
           },
           "zerolinecolor": "white",
           "zerolinewidth": 2
          },
          "yaxis": {
           "automargin": true,
           "gridcolor": "white",
           "linecolor": "white",
           "ticks": "",
           "title": {
            "standoff": 15
           },
           "zerolinecolor": "white",
           "zerolinewidth": 2
          }
         }
        },
        "width": 1066.6666666666667
       }
      }
     },
     "metadata": {},
     "output_type": "display_data"
    }
   ],
   "source": [
    "\n",
    "fig = px.scatter_mapbox(top5_cities,\n",
    "                        lat='lat',\n",
    "                        lon='lon',\n",
    "                        color='score',\n",
    "                        size='score',\n",
    "                        center=dict(lat=top5_cities['lat'].mean(), lon=top5_cities['lon'].mean()),\n",
    "                        zoom=6,\n",
    "                        range_color=(0, 10),\n",
    "                        color_continuous_scale=['white', 'yellow','orange', 'red','purple'],\n",
    "                        mapbox_style='carto-positron',\n",
    "                        text='city',\n",
    "                        hover_name='city',\n",
    "                        hover_data=['main.feels_like', \"pop\", \"wind.speed\", \"score\"],\n",
    "                        height=600,\n",
    "                        width=600*16/9)\n",
    "\n",
    "\n",
    "fig.show()"
   ]
  },
  {
   "cell_type": "code",
   "execution_count": 38,
   "metadata": {},
   "outputs": [],
   "source": [
    "weather_day_mean.rename(columns={\n",
    "    'city': 'city_target',\n",
    "    'pop': 'city_target_precipitation',\n",
    "    'dt_txt': 'date_time',\n",
    "    'main.feels_like': 'city_target_temp_feels_like',\n",
    "    'wind.speed': 'city_target_wind_speed',\n",
    "    'lat': 'lat_target',\n",
    "    'lon': 'lon_target',\n",
    "    'score': 'city_target_weather_score',\n",
    "}, inplace=True)"
   ]
  },
  {
   "cell_type": "code",
   "execution_count": 39,
   "metadata": {},
   "outputs": [
    {
     "data": {
      "text/html": [
       "<div>\n",
       "<style scoped>\n",
       "    .dataframe tbody tr th:only-of-type {\n",
       "        vertical-align: middle;\n",
       "    }\n",
       "\n",
       "    .dataframe tbody tr th {\n",
       "        vertical-align: top;\n",
       "    }\n",
       "\n",
       "    .dataframe thead th {\n",
       "        text-align: right;\n",
       "    }\n",
       "</style>\n",
       "<table border=\"1\" class=\"dataframe\">\n",
       "  <thead>\n",
       "    <tr style=\"text-align: right;\">\n",
       "      <th></th>\n",
       "      <th>city_target</th>\n",
       "      <th>city_target_precipitation</th>\n",
       "      <th>date_time</th>\n",
       "      <th>city_target_temp_feels_like</th>\n",
       "      <th>city_target_wind_speed</th>\n",
       "      <th>lat_target</th>\n",
       "      <th>lon_target</th>\n",
       "      <th>city_target_weather_score</th>\n",
       "    </tr>\n",
       "  </thead>\n",
       "  <tbody>\n",
       "    <tr>\n",
       "      <th>4</th>\n",
       "      <td>Ariege</td>\n",
       "      <td>0.0408</td>\n",
       "      <td>2024-04-06 16:48:00</td>\n",
       "      <td>20.1508</td>\n",
       "      <td>2.7008</td>\n",
       "      <td>42.8458</td>\n",
       "      <td>1.6068</td>\n",
       "      <td>10.000000</td>\n",
       "    </tr>\n",
       "    <tr>\n",
       "      <th>19</th>\n",
       "      <td>Grenoble</td>\n",
       "      <td>0.0400</td>\n",
       "      <td>2024-04-06 16:48:00</td>\n",
       "      <td>19.8328</td>\n",
       "      <td>2.8200</td>\n",
       "      <td>45.1876</td>\n",
       "      <td>5.7358</td>\n",
       "      <td>9.608137</td>\n",
       "    </tr>\n",
       "    <tr>\n",
       "      <th>1</th>\n",
       "      <td>Aix-en-Provence</td>\n",
       "      <td>0.0144</td>\n",
       "      <td>2024-04-06 16:48:00</td>\n",
       "      <td>18.3572</td>\n",
       "      <td>3.2436</td>\n",
       "      <td>43.5298</td>\n",
       "      <td>5.4475</td>\n",
       "      <td>7.839653</td>\n",
       "    </tr>\n",
       "    <tr>\n",
       "      <th>15</th>\n",
       "      <td>Colmar</td>\n",
       "      <td>0.1304</td>\n",
       "      <td>2024-04-06 16:48:00</td>\n",
       "      <td>17.9720</td>\n",
       "      <td>2.8680</td>\n",
       "      <td>48.0778</td>\n",
       "      <td>7.3580</td>\n",
       "      <td>7.376951</td>\n",
       "    </tr>\n",
       "    <tr>\n",
       "      <th>5</th>\n",
       "      <td>Avignon</td>\n",
       "      <td>0.0400</td>\n",
       "      <td>2024-04-06 16:48:00</td>\n",
       "      <td>18.0036</td>\n",
       "      <td>3.6424</td>\n",
       "      <td>43.9492</td>\n",
       "      <td>4.8059</td>\n",
       "      <td>7.318424</td>\n",
       "    </tr>\n",
       "    <tr>\n",
       "      <th>17</th>\n",
       "      <td>Eguisheim</td>\n",
       "      <td>0.1404</td>\n",
       "      <td>2024-04-06 16:48:00</td>\n",
       "      <td>17.6920</td>\n",
       "      <td>2.8316</td>\n",
       "      <td>48.0448</td>\n",
       "      <td>7.3080</td>\n",
       "      <td>7.054548</td>\n",
       "    </tr>\n",
       "    <tr>\n",
       "      <th>3</th>\n",
       "      <td>Annecy</td>\n",
       "      <td>0.0348</td>\n",
       "      <td>2024-04-06 16:48:00</td>\n",
       "      <td>17.3312</td>\n",
       "      <td>1.8172</td>\n",
       "      <td>45.8992</td>\n",
       "      <td>6.1289</td>\n",
       "      <td>6.970204</td>\n",
       "    </tr>\n",
       "    <tr>\n",
       "      <th>14</th>\n",
       "      <td>Collioure</td>\n",
       "      <td>0.0000</td>\n",
       "      <td>2024-04-06 16:48:00</td>\n",
       "      <td>17.4180</td>\n",
       "      <td>2.6972</td>\n",
       "      <td>42.5251</td>\n",
       "      <td>3.0832</td>\n",
       "      <td>6.899733</td>\n",
       "    </tr>\n",
       "    <tr>\n",
       "      <th>23</th>\n",
       "      <td>Lyon</td>\n",
       "      <td>0.0820</td>\n",
       "      <td>2024-04-06 16:48:00</td>\n",
       "      <td>17.9784</td>\n",
       "      <td>5.7356</td>\n",
       "      <td>45.7578</td>\n",
       "      <td>4.8320</td>\n",
       "      <td>6.770092</td>\n",
       "    </tr>\n",
       "    <tr>\n",
       "      <th>7</th>\n",
       "      <td>Bayonne</td>\n",
       "      <td>0.0460</td>\n",
       "      <td>2024-04-06 16:48:00</td>\n",
       "      <td>17.2660</td>\n",
       "      <td>3.3132</td>\n",
       "      <td>43.4945</td>\n",
       "      <td>-1.4737</td>\n",
       "      <td>6.541405</td>\n",
       "    </tr>\n",
       "    <tr>\n",
       "      <th>32</th>\n",
       "      <td>Strasbourg</td>\n",
       "      <td>0.1740</td>\n",
       "      <td>2024-04-06 16:48:00</td>\n",
       "      <td>17.2548</td>\n",
       "      <td>3.0220</td>\n",
       "      <td>48.5846</td>\n",
       "      <td>7.7507</td>\n",
       "      <td>6.477825</td>\n",
       "    </tr>\n",
       "    <tr>\n",
       "      <th>26</th>\n",
       "      <td>Montauban</td>\n",
       "      <td>0.0400</td>\n",
       "      <td>2024-04-06 16:48:00</td>\n",
       "      <td>17.4028</td>\n",
       "      <td>4.9080</td>\n",
       "      <td>44.0176</td>\n",
       "      <td>1.3550</td>\n",
       "      <td>6.337710</td>\n",
       "    </tr>\n",
       "    <tr>\n",
       "      <th>8</th>\n",
       "      <td>Besancon</td>\n",
       "      <td>0.0880</td>\n",
       "      <td>2024-04-06 16:48:00</td>\n",
       "      <td>17.0368</td>\n",
       "      <td>2.9944</td>\n",
       "      <td>47.2380</td>\n",
       "      <td>6.0244</td>\n",
       "      <td>6.312811</td>\n",
       "    </tr>\n",
       "    <tr>\n",
       "      <th>27</th>\n",
       "      <td>Nimes</td>\n",
       "      <td>0.0348</td>\n",
       "      <td>2024-04-06 16:48:00</td>\n",
       "      <td>16.9616</td>\n",
       "      <td>4.1728</td>\n",
       "      <td>43.8374</td>\n",
       "      <td>4.3601</td>\n",
       "      <td>6.004649</td>\n",
       "    </tr>\n",
       "    <tr>\n",
       "      <th>9</th>\n",
       "      <td>Biarritz</td>\n",
       "      <td>0.0480</td>\n",
       "      <td>2024-04-06 16:48:00</td>\n",
       "      <td>16.6604</td>\n",
       "      <td>3.3988</td>\n",
       "      <td>43.4833</td>\n",
       "      <td>-1.5593</td>\n",
       "      <td>5.824383</td>\n",
       "    </tr>\n",
       "    <tr>\n",
       "      <th>24</th>\n",
       "      <td>Marseille</td>\n",
       "      <td>0.0000</td>\n",
       "      <td>2024-04-06 16:48:00</td>\n",
       "      <td>16.8612</td>\n",
       "      <td>5.9876</td>\n",
       "      <td>43.2962</td>\n",
       "      <td>5.3700</td>\n",
       "      <td>5.504461</td>\n",
       "    </tr>\n",
       "    <tr>\n",
       "      <th>34</th>\n",
       "      <td>Uzes</td>\n",
       "      <td>0.0400</td>\n",
       "      <td>2024-04-06 16:48:00</td>\n",
       "      <td>16.2816</td>\n",
       "      <td>3.8252</td>\n",
       "      <td>44.0121</td>\n",
       "      <td>4.4197</td>\n",
       "      <td>5.298744</td>\n",
       "    </tr>\n",
       "    <tr>\n",
       "      <th>33</th>\n",
       "      <td>Toulouse</td>\n",
       "      <td>0.0336</td>\n",
       "      <td>2024-04-06 16:48:00</td>\n",
       "      <td>16.5704</td>\n",
       "      <td>7.5944</td>\n",
       "      <td>43.6045</td>\n",
       "      <td>1.4442</td>\n",
       "      <td>4.770533</td>\n",
       "    </tr>\n",
       "    <tr>\n",
       "      <th>12</th>\n",
       "      <td>Cassis</td>\n",
       "      <td>0.0124</td>\n",
       "      <td>2024-04-06 16:48:00</td>\n",
       "      <td>16.2024</td>\n",
       "      <td>5.8512</td>\n",
       "      <td>43.2140</td>\n",
       "      <td>5.5396</td>\n",
       "      <td>4.767776</td>\n",
       "    </tr>\n",
       "    <tr>\n",
       "      <th>13</th>\n",
       "      <td>Chateau-du-Haut-Koenigsbourg</td>\n",
       "      <td>0.1392</td>\n",
       "      <td>2024-04-06 16:48:00</td>\n",
       "      <td>15.2524</td>\n",
       "      <td>2.3576</td>\n",
       "      <td>48.2495</td>\n",
       "      <td>7.3455</td>\n",
       "      <td>4.362682</td>\n",
       "    </tr>\n",
       "    <tr>\n",
       "      <th>16</th>\n",
       "      <td>Dijon</td>\n",
       "      <td>0.1028</td>\n",
       "      <td>2024-04-06 16:48:00</td>\n",
       "      <td>15.6700</td>\n",
       "      <td>5.1288</td>\n",
       "      <td>47.3216</td>\n",
       "      <td>5.0415</td>\n",
       "      <td>4.239197</td>\n",
       "    </tr>\n",
       "    <tr>\n",
       "      <th>28</th>\n",
       "      <td>Paris</td>\n",
       "      <td>0.2932</td>\n",
       "      <td>2024-04-06 16:48:00</td>\n",
       "      <td>15.4964</td>\n",
       "      <td>4.1100</td>\n",
       "      <td>48.8535</td>\n",
       "      <td>2.3484</td>\n",
       "      <td>4.098898</td>\n",
       "    </tr>\n",
       "    <tr>\n",
       "      <th>10</th>\n",
       "      <td>Bormes-les-Mimosas</td>\n",
       "      <td>0.0000</td>\n",
       "      <td>2024-04-06 16:48:00</td>\n",
       "      <td>15.0544</td>\n",
       "      <td>4.0388</td>\n",
       "      <td>43.1507</td>\n",
       "      <td>6.3419</td>\n",
       "      <td>3.877011</td>\n",
       "    </tr>\n",
       "    <tr>\n",
       "      <th>11</th>\n",
       "      <td>Carcassonne</td>\n",
       "      <td>0.0320</td>\n",
       "      <td>2024-04-06 16:48:00</td>\n",
       "      <td>15.8668</td>\n",
       "      <td>8.1256</td>\n",
       "      <td>43.2130</td>\n",
       "      <td>2.3491</td>\n",
       "      <td>3.841913</td>\n",
       "    </tr>\n",
       "    <tr>\n",
       "      <th>0</th>\n",
       "      <td>Aigues-Mortes</td>\n",
       "      <td>0.0156</td>\n",
       "      <td>2024-04-06 16:48:00</td>\n",
       "      <td>15.3848</td>\n",
       "      <td>5.8756</td>\n",
       "      <td>43.5662</td>\n",
       "      <td>4.1915</td>\n",
       "      <td>3.820230</td>\n",
       "    </tr>\n",
       "    <tr>\n",
       "      <th>30</th>\n",
       "      <td>Saintes-Maries-de-la-mer</td>\n",
       "      <td>0.0084</td>\n",
       "      <td>2024-04-06 16:48:00</td>\n",
       "      <td>15.2996</td>\n",
       "      <td>7.1888</td>\n",
       "      <td>43.4516</td>\n",
       "      <td>4.4277</td>\n",
       "      <td>3.427356</td>\n",
       "    </tr>\n",
       "    <tr>\n",
       "      <th>20</th>\n",
       "      <td>La-Rochelle</td>\n",
       "      <td>0.1152</td>\n",
       "      <td>2024-04-06 16:48:00</td>\n",
       "      <td>14.0260</td>\n",
       "      <td>4.3980</td>\n",
       "      <td>46.1591</td>\n",
       "      <td>-1.1520</td>\n",
       "      <td>2.507557</td>\n",
       "    </tr>\n",
       "    <tr>\n",
       "      <th>18</th>\n",
       "      <td>Gorges-du-Verdon</td>\n",
       "      <td>0.0280</td>\n",
       "      <td>2024-04-06 16:48:00</td>\n",
       "      <td>13.3984</td>\n",
       "      <td>2.1900</td>\n",
       "      <td>43.7497</td>\n",
       "      <td>6.3286</td>\n",
       "      <td>2.374057</td>\n",
       "    </tr>\n",
       "    <tr>\n",
       "      <th>22</th>\n",
       "      <td>Lille</td>\n",
       "      <td>0.5116</td>\n",
       "      <td>2024-04-06 16:48:00</td>\n",
       "      <td>14.0372</td>\n",
       "      <td>5.8968</td>\n",
       "      <td>50.6366</td>\n",
       "      <td>3.0635</td>\n",
       "      <td>1.811942</td>\n",
       "    </tr>\n",
       "    <tr>\n",
       "      <th>29</th>\n",
       "      <td>Rouen</td>\n",
       "      <td>0.3320</td>\n",
       "      <td>2024-04-06 16:48:00</td>\n",
       "      <td>13.5648</td>\n",
       "      <td>5.6940</td>\n",
       "      <td>49.4405</td>\n",
       "      <td>1.0940</td>\n",
       "      <td>1.480995</td>\n",
       "    </tr>\n",
       "    <tr>\n",
       "      <th>2</th>\n",
       "      <td>Amiens</td>\n",
       "      <td>0.3764</td>\n",
       "      <td>2024-04-06 16:48:00</td>\n",
       "      <td>13.5276</td>\n",
       "      <td>5.9648</td>\n",
       "      <td>49.8942</td>\n",
       "      <td>2.2957</td>\n",
       "      <td>1.335275</td>\n",
       "    </tr>\n",
       "    <tr>\n",
       "      <th>6</th>\n",
       "      <td>Bayeux</td>\n",
       "      <td>0.1980</td>\n",
       "      <td>2024-04-06 16:48:00</td>\n",
       "      <td>12.7712</td>\n",
       "      <td>6.7044</td>\n",
       "      <td>49.2765</td>\n",
       "      <td>-0.7025</td>\n",
       "      <td>0.460589</td>\n",
       "    </tr>\n",
       "    <tr>\n",
       "      <th>25</th>\n",
       "      <td>Mont-Saint-Michel</td>\n",
       "      <td>0.2252</td>\n",
       "      <td>2024-04-06 16:48:00</td>\n",
       "      <td>12.7384</td>\n",
       "      <td>6.5696</td>\n",
       "      <td>48.6360</td>\n",
       "      <td>-1.5115</td>\n",
       "      <td>0.428890</td>\n",
       "    </tr>\n",
       "    <tr>\n",
       "      <th>31</th>\n",
       "      <td>St-Malo</td>\n",
       "      <td>0.1028</td>\n",
       "      <td>2024-04-06 16:48:00</td>\n",
       "      <td>12.4864</td>\n",
       "      <td>7.5120</td>\n",
       "      <td>48.6495</td>\n",
       "      <td>-2.0260</td>\n",
       "      <td>0.035465</td>\n",
       "    </tr>\n",
       "    <tr>\n",
       "      <th>21</th>\n",
       "      <td>Le-Havre</td>\n",
       "      <td>0.2508</td>\n",
       "      <td>2024-04-06 16:48:00</td>\n",
       "      <td>12.3672</td>\n",
       "      <td>6.4784</td>\n",
       "      <td>49.4939</td>\n",
       "      <td>0.1080</td>\n",
       "      <td>0.000000</td>\n",
       "    </tr>\n",
       "  </tbody>\n",
       "</table>\n",
       "</div>"
      ],
      "text/plain": [
       "                     city_target  city_target_precipitation  \\\n",
       "4                         Ariege                     0.0408   \n",
       "19                      Grenoble                     0.0400   \n",
       "1                Aix-en-Provence                     0.0144   \n",
       "15                        Colmar                     0.1304   \n",
       "5                        Avignon                     0.0400   \n",
       "17                     Eguisheim                     0.1404   \n",
       "3                         Annecy                     0.0348   \n",
       "14                     Collioure                     0.0000   \n",
       "23                          Lyon                     0.0820   \n",
       "7                        Bayonne                     0.0460   \n",
       "32                    Strasbourg                     0.1740   \n",
       "26                     Montauban                     0.0400   \n",
       "8                       Besancon                     0.0880   \n",
       "27                         Nimes                     0.0348   \n",
       "9                       Biarritz                     0.0480   \n",
       "24                     Marseille                     0.0000   \n",
       "34                          Uzes                     0.0400   \n",
       "33                      Toulouse                     0.0336   \n",
       "12                        Cassis                     0.0124   \n",
       "13  Chateau-du-Haut-Koenigsbourg                     0.1392   \n",
       "16                         Dijon                     0.1028   \n",
       "28                         Paris                     0.2932   \n",
       "10            Bormes-les-Mimosas                     0.0000   \n",
       "11                   Carcassonne                     0.0320   \n",
       "0                  Aigues-Mortes                     0.0156   \n",
       "30      Saintes-Maries-de-la-mer                     0.0084   \n",
       "20                   La-Rochelle                     0.1152   \n",
       "18              Gorges-du-Verdon                     0.0280   \n",
       "22                         Lille                     0.5116   \n",
       "29                         Rouen                     0.3320   \n",
       "2                         Amiens                     0.3764   \n",
       "6                         Bayeux                     0.1980   \n",
       "25             Mont-Saint-Michel                     0.2252   \n",
       "31                       St-Malo                     0.1028   \n",
       "21                      Le-Havre                     0.2508   \n",
       "\n",
       "             date_time  city_target_temp_feels_like  city_target_wind_speed  \\\n",
       "4  2024-04-06 16:48:00                      20.1508                  2.7008   \n",
       "19 2024-04-06 16:48:00                      19.8328                  2.8200   \n",
       "1  2024-04-06 16:48:00                      18.3572                  3.2436   \n",
       "15 2024-04-06 16:48:00                      17.9720                  2.8680   \n",
       "5  2024-04-06 16:48:00                      18.0036                  3.6424   \n",
       "17 2024-04-06 16:48:00                      17.6920                  2.8316   \n",
       "3  2024-04-06 16:48:00                      17.3312                  1.8172   \n",
       "14 2024-04-06 16:48:00                      17.4180                  2.6972   \n",
       "23 2024-04-06 16:48:00                      17.9784                  5.7356   \n",
       "7  2024-04-06 16:48:00                      17.2660                  3.3132   \n",
       "32 2024-04-06 16:48:00                      17.2548                  3.0220   \n",
       "26 2024-04-06 16:48:00                      17.4028                  4.9080   \n",
       "8  2024-04-06 16:48:00                      17.0368                  2.9944   \n",
       "27 2024-04-06 16:48:00                      16.9616                  4.1728   \n",
       "9  2024-04-06 16:48:00                      16.6604                  3.3988   \n",
       "24 2024-04-06 16:48:00                      16.8612                  5.9876   \n",
       "34 2024-04-06 16:48:00                      16.2816                  3.8252   \n",
       "33 2024-04-06 16:48:00                      16.5704                  7.5944   \n",
       "12 2024-04-06 16:48:00                      16.2024                  5.8512   \n",
       "13 2024-04-06 16:48:00                      15.2524                  2.3576   \n",
       "16 2024-04-06 16:48:00                      15.6700                  5.1288   \n",
       "28 2024-04-06 16:48:00                      15.4964                  4.1100   \n",
       "10 2024-04-06 16:48:00                      15.0544                  4.0388   \n",
       "11 2024-04-06 16:48:00                      15.8668                  8.1256   \n",
       "0  2024-04-06 16:48:00                      15.3848                  5.8756   \n",
       "30 2024-04-06 16:48:00                      15.2996                  7.1888   \n",
       "20 2024-04-06 16:48:00                      14.0260                  4.3980   \n",
       "18 2024-04-06 16:48:00                      13.3984                  2.1900   \n",
       "22 2024-04-06 16:48:00                      14.0372                  5.8968   \n",
       "29 2024-04-06 16:48:00                      13.5648                  5.6940   \n",
       "2  2024-04-06 16:48:00                      13.5276                  5.9648   \n",
       "6  2024-04-06 16:48:00                      12.7712                  6.7044   \n",
       "25 2024-04-06 16:48:00                      12.7384                  6.5696   \n",
       "31 2024-04-06 16:48:00                      12.4864                  7.5120   \n",
       "21 2024-04-06 16:48:00                      12.3672                  6.4784   \n",
       "\n",
       "    lat_target  lon_target  city_target_weather_score  \n",
       "4      42.8458      1.6068                  10.000000  \n",
       "19     45.1876      5.7358                   9.608137  \n",
       "1      43.5298      5.4475                   7.839653  \n",
       "15     48.0778      7.3580                   7.376951  \n",
       "5      43.9492      4.8059                   7.318424  \n",
       "17     48.0448      7.3080                   7.054548  \n",
       "3      45.8992      6.1289                   6.970204  \n",
       "14     42.5251      3.0832                   6.899733  \n",
       "23     45.7578      4.8320                   6.770092  \n",
       "7      43.4945     -1.4737                   6.541405  \n",
       "32     48.5846      7.7507                   6.477825  \n",
       "26     44.0176      1.3550                   6.337710  \n",
       "8      47.2380      6.0244                   6.312811  \n",
       "27     43.8374      4.3601                   6.004649  \n",
       "9      43.4833     -1.5593                   5.824383  \n",
       "24     43.2962      5.3700                   5.504461  \n",
       "34     44.0121      4.4197                   5.298744  \n",
       "33     43.6045      1.4442                   4.770533  \n",
       "12     43.2140      5.5396                   4.767776  \n",
       "13     48.2495      7.3455                   4.362682  \n",
       "16     47.3216      5.0415                   4.239197  \n",
       "28     48.8535      2.3484                   4.098898  \n",
       "10     43.1507      6.3419                   3.877011  \n",
       "11     43.2130      2.3491                   3.841913  \n",
       "0      43.5662      4.1915                   3.820230  \n",
       "30     43.4516      4.4277                   3.427356  \n",
       "20     46.1591     -1.1520                   2.507557  \n",
       "18     43.7497      6.3286                   2.374057  \n",
       "22     50.6366      3.0635                   1.811942  \n",
       "29     49.4405      1.0940                   1.480995  \n",
       "2      49.8942      2.2957                   1.335275  \n",
       "6      49.2765     -0.7025                   0.460589  \n",
       "25     48.6360     -1.5115                   0.428890  \n",
       "31     48.6495     -2.0260                   0.035465  \n",
       "21     49.4939      0.1080                   0.000000  "
      ]
     },
     "execution_count": 39,
     "metadata": {},
     "output_type": "execute_result"
    }
   ],
   "source": [
    "weather_day_mean.sort_values('city_target_weather_score',ascending=False)"
   ]
  },
  {
   "cell_type": "code",
   "execution_count": 41,
   "metadata": {},
   "outputs": [],
   "source": [
    "weather_day_mean.to_csv(all_paths.save_data_path+'cities_weather_datas.csv',index=False)"
   ]
  }
 ],
 "metadata": {
  "kernelspec": {
   "display_name": "env",
   "language": "python",
   "name": "python3"
  },
  "language_info": {
   "codemirror_mode": {
    "name": "ipython",
    "version": 3
   },
   "file_extension": ".py",
   "mimetype": "text/x-python",
   "name": "python",
   "nbconvert_exporter": "python",
   "pygments_lexer": "ipython3",
   "version": "3.11.8"
  }
 },
 "nbformat": 4,
 "nbformat_minor": 2
}
